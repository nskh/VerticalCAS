{
 "cells": [
  {
   "cell_type": "code",
   "execution_count": 1,
   "metadata": {},
   "outputs": [
    {
     "data": {
      "application/vnd.webio.node+json": {
       "children": [],
       "instanceArgs": {
        "namespace": "html",
        "tag": "div"
       },
       "nodeType": "DOM",
       "props": {},
       "type": "node"
      },
      "text/html": [
       "<div style=\"padding: 1em; background-color: #f8d6da; border: 1px solid #f5c6cb; font-weight: bold;\">\n",
       "<p>The WebIO Jupyter extension was not detected. See the\n",
       "<a href=\"https://juliagizmos.github.io/WebIO.jl/latest/providers/ijulia/\" target=\"_blank\">\n",
       "    WebIO Jupyter integration documentation\n",
       "</a>\n",
       "for more information.\n",
       "</div>\n"
      ],
      "text/plain": [
       "WebIO._IJuliaInit()"
      ]
     },
     "metadata": {
      "@webio": {
       "kernelId": "5a7e6f93-4cc7-410d-b1b8-8165fd7ddc17"
      }
     },
     "output_type": "display_data"
    }
   ],
   "source": [
    "# include necessary packages\n",
    "include(\"./PolicyViz.jl\")\n",
    "using .PolicyViz2\n",
    "using HDF5"
   ]
  },
  {
   "cell_type": "markdown",
   "metadata": {},
   "source": [
    "## Visualize Regressed VerticalCAS Policies\n",
    "#### Inputs: \n",
    "* **network_folder** - Optional, path to the folder containing the .nnet files you want to visualize.\n",
    "* **trainingData_folder** - Optional, path to training data folder, so you can visualize the original table policies too. At least one of network_folder or trainingData_folder should be defined\n",
    "* **vnum** - Optional, default is 4. Version number of neural networks\n",
    "* **hu** - Optional, default is 45. Number of hidden units in network\n",
    "* **epoch** - Optional, default is 200. Number of epochs used to train network\n",
    "\n",
    "#### Outputs: Interactive Plots\n",
    "\n",
    "##### Interactive Settings:\n",
    "* **nbin**: The number of bins being plotted. Higher nbin means better resolution, but that takes longer to compute\n",
    "* **savePlot**: This option and the remaining options are used to format and generate .tex files of the plots. Set to true if you want to save the plot, but as a result the plots shown here will no longer continue to update. The switch can be toggled to true whenever you have a plot you want to save.\n",
    "* **xmin**: Minimum of x-axis\n",
    "* **xmax**: Maximum of x-axis\n",
    "* **ymin**: Minimum of y-axis\n",
    "* **ymax**: Maximum of y-axis\n",
    "* **dh0**: Ownship vertical rate (ft/s)\n",
    "* **dh1**: Intruder vertical rate (ft/s)\n",
    "* **pra**: Previous RA"
   ]
  },
  {
   "cell_type": "code",
   "execution_count": 2,
   "metadata": {},
   "outputs": [
    {
     "data": {
      "application/vnd.webio.node+json": {
       "children": [
        {
         "children": [
          {
           "children": [
            {
             "children": [
              {
               "children": [
                {
                 "children": [
                  "nbin"
                 ],
                 "instanceArgs": {
                  "namespace": "html",
                  "tag": "label"
                 },
                 "nodeType": "DOM",
                 "props": {
                  "className": "interact ",
                  "style": {
                   "padding": "5px 10px 0px 10px"
                  }
                 },
                 "type": "node"
                }
               ],
               "instanceArgs": {
                "namespace": "html",
                "tag": "div"
               },
               "nodeType": "DOM",
               "props": {
                "className": "interact-flex-row-left"
               },
               "type": "node"
              },
              {
               "children": [
                {
                 "children": [],
                 "instanceArgs": {
                  "namespace": "html",
                  "tag": "input"
                 },
                 "nodeType": "DOM",
                 "props": {
                  "attributes": {
                   "data-bind": "numericValue: value, valueUpdate: 'input', event: {change: function (){this.changes(this.changes()+1)}}",
                   "type": "number"
                  },
                  "className": "input ",
                  "placeholder": "",
                  "style": {}
                 },
                 "type": "node"
                }
               ],
               "instanceArgs": {
                "namespace": "html",
                "tag": "div"
               },
               "nodeType": "DOM",
               "props": {
                "className": "interact-flex-row-center"
               },
               "type": "node"
              },
              {
               "children": [
                {
                 "children": [],
                 "instanceArgs": {
                  "namespace": "html",
                  "tag": "div"
                 },
                 "nodeType": "DOM",
                 "props": {},
                 "type": "node"
                }
               ],
               "instanceArgs": {
                "namespace": "html",
                "tag": "div"
               },
               "nodeType": "DOM",
               "props": {
                "className": "interact-flex-row-right"
               },
               "type": "node"
              }
             ],
             "instanceArgs": {
              "namespace": "html",
              "tag": "div"
             },
             "nodeType": "DOM",
             "props": {
              "className": "interact-flex-row interact-widget"
             },
             "type": "node"
            }
           ],
           "instanceArgs": {
            "handlers": {
             "changes": [
              "(function (val){return (val!=this.model[\"changes\"]()) ? (this.valueFromJulia[\"changes\"]=true, this.model[\"changes\"](val)) : undefined})"
             ],
             "value": [
              "(function (val){return (val!=this.model[\"value\"]()) ? (this.valueFromJulia[\"value\"]=true, this.model[\"value\"](val)) : undefined})"
             ]
            },
            "id": "5666874821630519945",
            "imports": {
             "data": [
              {
               "name": "knockout",
               "type": "js",
               "url": "/assetserver/56267940404f1bb9bd6b6043c448449c1dc073b1-knockout.js"
              },
              {
               "name": "knockout_punches",
               "type": "js",
               "url": "/assetserver/0a72c329e1483646114695526feb11064f269228-knockout_punches.js"
              },
              {
               "name": null,
               "type": "js",
               "url": "/assetserver/b8614d2e56e0d249eac1db3d82517b1e994c720e-all.js"
              },
              {
               "name": null,
               "type": "css",
               "url": "/assetserver/654fc3e0b4a02783a170cba06497138e3c4f9f43-style.css"
              },
              {
               "name": null,
               "type": "css",
               "url": "/assetserver/d3843517cd0512ad3bd6d620a3332ebc2f8686ce-bulma_confined.min.css"
              }
             ],
             "type": "async_block"
            },
            "mount_callbacks": [
             "function () {\n    var handler = (function (ko, koPunches) {\n    ko.punches.enableAll();\n    ko.bindingHandlers.numericValue = {\n        init: function(element, valueAccessor, allBindings, data, context) {\n            var stringified = ko.observable(ko.unwrap(valueAccessor()));\n            stringified.subscribe(function(value) {\n                var val = parseFloat(value);\n                if (!isNaN(val)) {\n                    valueAccessor()(val);\n                }\n            });\n            valueAccessor().subscribe(function(value) {\n                var str = JSON.stringify(value);\n                if ((str == \"0\") && ([\"-0\", \"-0.\"].indexOf(stringified()) >= 0))\n                     return;\n                 if ([\"null\", \"\"].indexOf(str) >= 0)\n                     return;\n                stringified(str);\n            });\n            ko.applyBindingsToNode(\n                element,\n                {\n                    value: stringified,\n                    valueUpdate: allBindings.get('valueUpdate'),\n                },\n                context,\n            );\n        }\n    };\n    var json_data = {\"changes\":WebIO.getval({\"name\":\"changes\",\"scope\":\"5666874821630519945\",\"id\":\"12029550491689288\",\"type\":\"observable\"}),\"value\":WebIO.getval({\"name\":\"value\",\"scope\":\"5666874821630519945\",\"id\":\"15070003196540663397\",\"type\":\"observable\"})};\n    var self = this;\n    function AppViewModel() {\n        for (var key in json_data) {\n            var el = json_data[key];\n            this[key] = Array.isArray(el) ? ko.observableArray(el) : ko.observable(el);\n        }\n        \n        \n        [this[\"changes\"].subscribe((function (val){!(this.valueFromJulia[\"changes\"]) ? (WebIO.setval({\"name\":\"changes\",\"scope\":\"5666874821630519945\",\"id\":\"12029550491689288\",\"type\":\"observable\"},val)) : undefined; return this.valueFromJulia[\"changes\"]=false}),self),this[\"value\"].subscribe((function (val){!(this.valueFromJulia[\"value\"]) ? (WebIO.setval({\"name\":\"value\",\"scope\":\"5666874821630519945\",\"id\":\"15070003196540663397\",\"type\":\"observable\"},val)) : undefined; return this.valueFromJulia[\"value\"]=false}),self)]\n        \n    }\n    self.model = new AppViewModel();\n    self.valueFromJulia = {};\n    for (var key in json_data) {\n        self.valueFromJulia[key] = false;\n    }\n    ko.applyBindings(self.model, self.dom);\n}\n);\n    (WebIO.importBlock({\"data\":[{\"name\":\"knockout\",\"type\":\"js\",\"url\":\"/assetserver/56267940404f1bb9bd6b6043c448449c1dc073b1-knockout.js\"},{\"name\":\"knockout_punches\",\"type\":\"js\",\"url\":\"/assetserver/0a72c329e1483646114695526feb11064f269228-knockout_punches.js\"}],\"type\":\"async_block\"})).then((imports) => handler.apply(this, imports));\n}\n"
            ],
            "observables": {
             "changes": {
              "id": "12029550491689288",
              "sync": false,
              "value": 0
             },
             "value": {
              "id": "15070003196540663397",
              "sync": true,
              "value": 100
             }
            },
            "systemjs_options": null
           },
           "nodeType": "Scope",
           "props": {},
           "type": "node"
          }
         ],
         "instanceArgs": {
          "namespace": "html",
          "tag": "div"
         },
         "nodeType": "DOM",
         "props": {
          "className": "field interact-widget"
         },
         "type": "node"
        },
        {
         "children": [
          {
           "children": [
            {
             "children": [
              {
               "children": [
                {
                 "children": [
                  "savePlot"
                 ],
                 "instanceArgs": {
                  "namespace": "html",
                  "tag": "label"
                 },
                 "nodeType": "DOM",
                 "props": {
                  "className": "interact ",
                  "style": {
                   "padding": "5px 10px 0px 10px"
                  }
                 },
                 "type": "node"
                }
               ],
               "instanceArgs": {
                "namespace": "html",
                "tag": "div"
               },
               "nodeType": "DOM",
               "props": {
                "className": "interact-flex-row-left"
               },
               "type": "node"
              },
              {
               "children": [
                {
                 "children": [
                  {
                   "children": [
                    {
                     "children": [],
                     "instanceArgs": {
                      "namespace": "html",
                      "tag": "label"
                     },
                     "nodeType": "DOM",
                     "props": {
                      "attributes": {
                       "data-bind": "text : key"
                      }
                     },
                     "type": "node"
                    }
                   ],
                   "instanceArgs": {
                    "namespace": "html",
                    "tag": "span"
                   },
                   "nodeType": "DOM",
                   "props": {
                    "attributes": {
                     "data-bind": "click: function (){$root.update(val)}, css: {'is-primary is-selected' : $root.index() == val, 'interact-widget is-medium button ' : true}"
                    }
                   },
                   "type": "node"
                  }
                 ],
                 "instanceArgs": {
                  "namespace": "html",
                  "tag": "div"
                 },
                 "nodeType": "DOM",
                 "props": {
                  "attributes": {
                   "data-bind": "foreach : options_js"
                  },
                  "className": "buttons has-addons is-centered"
                 },
                 "type": "node"
                }
               ],
               "instanceArgs": {
                "namespace": "html",
                "tag": "div"
               },
               "nodeType": "DOM",
               "props": {
                "className": "interact-flex-row-center"
               },
               "type": "node"
              },
              {
               "children": [
                {
                 "children": [],
                 "instanceArgs": {
                  "namespace": "html",
                  "tag": "div"
                 },
                 "nodeType": "DOM",
                 "props": {},
                 "type": "node"
                }
               ],
               "instanceArgs": {
                "namespace": "html",
                "tag": "div"
               },
               "nodeType": "DOM",
               "props": {
                "className": "interact-flex-row-right"
               },
               "type": "node"
              }
             ],
             "instanceArgs": {
              "namespace": "html",
              "tag": "div"
             },
             "nodeType": "DOM",
             "props": {
              "className": "interact-flex-row interact-widget"
             },
             "type": "node"
            }
           ],
           "instanceArgs": {
            "handlers": {
             "index": [
              "(function (val){return (val!=this.model[\"index\"]()) ? (this.valueFromJulia[\"index\"]=true, this.model[\"index\"](val)) : undefined})"
             ],
             "options_js": [
              "(function (val){return (val!=this.model[\"options_js\"]()) ? (this.valueFromJulia[\"options_js\"]=true, this.model[\"options_js\"](val)) : undefined})"
             ]
            },
            "id": "7620871937592655973",
            "imports": {
             "data": [
              {
               "name": "knockout",
               "type": "js",
               "url": "/assetserver/56267940404f1bb9bd6b6043c448449c1dc073b1-knockout.js"
              },
              {
               "name": "knockout_punches",
               "type": "js",
               "url": "/assetserver/0a72c329e1483646114695526feb11064f269228-knockout_punches.js"
              },
              {
               "name": null,
               "type": "js",
               "url": "/assetserver/b8614d2e56e0d249eac1db3d82517b1e994c720e-all.js"
              },
              {
               "name": null,
               "type": "css",
               "url": "/assetserver/654fc3e0b4a02783a170cba06497138e3c4f9f43-style.css"
              },
              {
               "name": null,
               "type": "css",
               "url": "/assetserver/d3843517cd0512ad3bd6d620a3332ebc2f8686ce-bulma_confined.min.css"
              }
             ],
             "type": "async_block"
            },
            "mount_callbacks": [
             "function () {\n    var handler = (function (ko, koPunches) {\n    ko.punches.enableAll();\n    ko.bindingHandlers.numericValue = {\n        init: function(element, valueAccessor, allBindings, data, context) {\n            var stringified = ko.observable(ko.unwrap(valueAccessor()));\n            stringified.subscribe(function(value) {\n                var val = parseFloat(value);\n                if (!isNaN(val)) {\n                    valueAccessor()(val);\n                }\n            });\n            valueAccessor().subscribe(function(value) {\n                var str = JSON.stringify(value);\n                if ((str == \"0\") && ([\"-0\", \"-0.\"].indexOf(stringified()) >= 0))\n                     return;\n                 if ([\"null\", \"\"].indexOf(str) >= 0)\n                     return;\n                stringified(str);\n            });\n            ko.applyBindingsToNode(\n                element,\n                {\n                    value: stringified,\n                    valueUpdate: allBindings.get('valueUpdate'),\n                },\n                context,\n            );\n        }\n    };\n    var json_data = {\"options_js\":WebIO.getval({\"name\":\"options_js\",\"scope\":\"7620871937592655973\",\"id\":\"10713939198513864913\",\"type\":\"observable\"}),\"index\":WebIO.getval({\"name\":\"index\",\"scope\":\"7620871937592655973\",\"id\":\"14139842927743006665\",\"type\":\"observable\"})};\n    var self = this;\n    function AppViewModel() {\n        for (var key in json_data) {\n            var el = json_data[key];\n            this[key] = Array.isArray(el) ? ko.observableArray(el) : ko.observable(el);\n        }\n        [this[\"update\"]=function (val) {this.index(val)}]\n        \n        [this[\"options_js\"].subscribe((function (val){!(this.valueFromJulia[\"options_js\"]) ? (WebIO.setval({\"name\":\"options_js\",\"scope\":\"7620871937592655973\",\"id\":\"10713939198513864913\",\"type\":\"observable\"},val)) : undefined; return this.valueFromJulia[\"options_js\"]=false}),self),this[\"index\"].subscribe((function (val){!(this.valueFromJulia[\"index\"]) ? (WebIO.setval({\"name\":\"index\",\"scope\":\"7620871937592655973\",\"id\":\"14139842927743006665\",\"type\":\"observable\"},val)) : undefined; return this.valueFromJulia[\"index\"]=false}),self)]\n        \n    }\n    self.model = new AppViewModel();\n    self.valueFromJulia = {};\n    for (var key in json_data) {\n        self.valueFromJulia[key] = false;\n    }\n    ko.applyBindings(self.model, self.dom);\n}\n);\n    (WebIO.importBlock({\"data\":[{\"name\":\"knockout\",\"type\":\"js\",\"url\":\"/assetserver/56267940404f1bb9bd6b6043c448449c1dc073b1-knockout.js\"},{\"name\":\"knockout_punches\",\"type\":\"js\",\"url\":\"/assetserver/0a72c329e1483646114695526feb11064f269228-knockout_punches.js\"}],\"type\":\"async_block\"})).then((imports) => handler.apply(this, imports));\n}\n"
            ],
            "observables": {
             "index": {
              "id": "14139842927743006665",
              "sync": true,
              "value": 1
             },
             "options_js": {
              "id": "10713939198513864913",
              "sync": false,
              "value": [
               {
                "id": "idD5d01RmP",
                "key": "false",
                "val": 1
               },
               {
                "id": "idaTjz7TFo",
                "key": "true",
                "val": 2
               }
              ]
             }
            },
            "systemjs_options": null
           },
           "nodeType": "Scope",
           "props": {},
           "type": "node"
          }
         ],
         "instanceArgs": {
          "namespace": "html",
          "tag": "div"
         },
         "nodeType": "DOM",
         "props": {
          "className": "interact-widget"
         },
         "type": "node"
        },
        {
         "children": [
          {
           "children": [
            {
             "children": [
              {
               "children": [
                {
                 "children": [
                  "xmin"
                 ],
                 "instanceArgs": {
                  "namespace": "html",
                  "tag": "label"
                 },
                 "nodeType": "DOM",
                 "props": {
                  "className": "interact ",
                  "style": {
                   "padding": "5px 10px 0px 10px"
                  }
                 },
                 "type": "node"
                }
               ],
               "instanceArgs": {
                "namespace": "html",
                "tag": "div"
               },
               "nodeType": "DOM",
               "props": {
                "className": "interact-flex-row-left"
               },
               "type": "node"
              },
              {
               "children": [
                {
                 "children": [],
                 "instanceArgs": {
                  "namespace": "html",
                  "tag": "input"
                 },
                 "nodeType": "DOM",
                 "props": {
                  "attributes": {
                   "data-bind": "numericValue: value, valueUpdate: 'input', event: {change: function (){this.changes(this.changes()+1)}}",
                   "type": "number"
                  },
                  "className": "input ",
                  "placeholder": "",
                  "style": {}
                 },
                 "type": "node"
                }
               ],
               "instanceArgs": {
                "namespace": "html",
                "tag": "div"
               },
               "nodeType": "DOM",
               "props": {
                "className": "interact-flex-row-center"
               },
               "type": "node"
              },
              {
               "children": [
                {
                 "children": [],
                 "instanceArgs": {
                  "namespace": "html",
                  "tag": "div"
                 },
                 "nodeType": "DOM",
                 "props": {},
                 "type": "node"
                }
               ],
               "instanceArgs": {
                "namespace": "html",
                "tag": "div"
               },
               "nodeType": "DOM",
               "props": {
                "className": "interact-flex-row-right"
               },
               "type": "node"
              }
             ],
             "instanceArgs": {
              "namespace": "html",
              "tag": "div"
             },
             "nodeType": "DOM",
             "props": {
              "className": "interact-flex-row interact-widget"
             },
             "type": "node"
            }
           ],
           "instanceArgs": {
            "handlers": {
             "changes": [
              "(function (val){return (val!=this.model[\"changes\"]()) ? (this.valueFromJulia[\"changes\"]=true, this.model[\"changes\"](val)) : undefined})"
             ],
             "value": [
              "(function (val){return (val!=this.model[\"value\"]()) ? (this.valueFromJulia[\"value\"]=true, this.model[\"value\"](val)) : undefined})"
             ]
            },
            "id": "6023539396506111250",
            "imports": {
             "data": [
              {
               "name": "knockout",
               "type": "js",
               "url": "/assetserver/56267940404f1bb9bd6b6043c448449c1dc073b1-knockout.js"
              },
              {
               "name": "knockout_punches",
               "type": "js",
               "url": "/assetserver/0a72c329e1483646114695526feb11064f269228-knockout_punches.js"
              },
              {
               "name": null,
               "type": "js",
               "url": "/assetserver/b8614d2e56e0d249eac1db3d82517b1e994c720e-all.js"
              },
              {
               "name": null,
               "type": "css",
               "url": "/assetserver/654fc3e0b4a02783a170cba06497138e3c4f9f43-style.css"
              },
              {
               "name": null,
               "type": "css",
               "url": "/assetserver/d3843517cd0512ad3bd6d620a3332ebc2f8686ce-bulma_confined.min.css"
              }
             ],
             "type": "async_block"
            },
            "mount_callbacks": [
             "function () {\n    var handler = (function (ko, koPunches) {\n    ko.punches.enableAll();\n    ko.bindingHandlers.numericValue = {\n        init: function(element, valueAccessor, allBindings, data, context) {\n            var stringified = ko.observable(ko.unwrap(valueAccessor()));\n            stringified.subscribe(function(value) {\n                var val = parseFloat(value);\n                if (!isNaN(val)) {\n                    valueAccessor()(val);\n                }\n            });\n            valueAccessor().subscribe(function(value) {\n                var str = JSON.stringify(value);\n                if ((str == \"0\") && ([\"-0\", \"-0.\"].indexOf(stringified()) >= 0))\n                     return;\n                 if ([\"null\", \"\"].indexOf(str) >= 0)\n                     return;\n                stringified(str);\n            });\n            ko.applyBindingsToNode(\n                element,\n                {\n                    value: stringified,\n                    valueUpdate: allBindings.get('valueUpdate'),\n                },\n                context,\n            );\n        }\n    };\n    var json_data = {\"changes\":WebIO.getval({\"name\":\"changes\",\"scope\":\"6023539396506111250\",\"id\":\"18331247103097620476\",\"type\":\"observable\"}),\"value\":WebIO.getval({\"name\":\"value\",\"scope\":\"6023539396506111250\",\"id\":\"710280487510622442\",\"type\":\"observable\"})};\n    var self = this;\n    function AppViewModel() {\n        for (var key in json_data) {\n            var el = json_data[key];\n            this[key] = Array.isArray(el) ? ko.observableArray(el) : ko.observable(el);\n        }\n        \n        \n        [this[\"changes\"].subscribe((function (val){!(this.valueFromJulia[\"changes\"]) ? (WebIO.setval({\"name\":\"changes\",\"scope\":\"6023539396506111250\",\"id\":\"18331247103097620476\",\"type\":\"observable\"},val)) : undefined; return this.valueFromJulia[\"changes\"]=false}),self),this[\"value\"].subscribe((function (val){!(this.valueFromJulia[\"value\"]) ? (WebIO.setval({\"name\":\"value\",\"scope\":\"6023539396506111250\",\"id\":\"710280487510622442\",\"type\":\"observable\"},val)) : undefined; return this.valueFromJulia[\"value\"]=false}),self)]\n        \n    }\n    self.model = new AppViewModel();\n    self.valueFromJulia = {};\n    for (var key in json_data) {\n        self.valueFromJulia[key] = false;\n    }\n    ko.applyBindings(self.model, self.dom);\n}\n);\n    (WebIO.importBlock({\"data\":[{\"name\":\"knockout\",\"type\":\"js\",\"url\":\"/assetserver/56267940404f1bb9bd6b6043c448449c1dc073b1-knockout.js\"},{\"name\":\"knockout_punches\",\"type\":\"js\",\"url\":\"/assetserver/0a72c329e1483646114695526feb11064f269228-knockout_punches.js\"}],\"type\":\"async_block\"})).then((imports) => handler.apply(this, imports));\n}\n"
            ],
            "observables": {
             "changes": {
              "id": "18331247103097620476",
              "sync": false,
              "value": 0
             },
             "value": {
              "id": "710280487510622442",
              "sync": true,
              "value": 0
             }
            },
            "systemjs_options": null
           },
           "nodeType": "Scope",
           "props": {},
           "type": "node"
          }
         ],
         "instanceArgs": {
          "namespace": "html",
          "tag": "div"
         },
         "nodeType": "DOM",
         "props": {
          "className": "field interact-widget"
         },
         "type": "node"
        },
        {
         "children": [
          {
           "children": [
            {
             "children": [
              {
               "children": [
                {
                 "children": [
                  "xmax"
                 ],
                 "instanceArgs": {
                  "namespace": "html",
                  "tag": "label"
                 },
                 "nodeType": "DOM",
                 "props": {
                  "className": "interact ",
                  "style": {
                   "padding": "5px 10px 0px 10px"
                  }
                 },
                 "type": "node"
                }
               ],
               "instanceArgs": {
                "namespace": "html",
                "tag": "div"
               },
               "nodeType": "DOM",
               "props": {
                "className": "interact-flex-row-left"
               },
               "type": "node"
              },
              {
               "children": [
                {
                 "children": [],
                 "instanceArgs": {
                  "namespace": "html",
                  "tag": "input"
                 },
                 "nodeType": "DOM",
                 "props": {
                  "attributes": {
                   "data-bind": "numericValue: value, valueUpdate: 'input', event: {change: function (){this.changes(this.changes()+1)}}",
                   "type": "number"
                  },
                  "className": "input ",
                  "placeholder": "",
                  "style": {}
                 },
                 "type": "node"
                }
               ],
               "instanceArgs": {
                "namespace": "html",
                "tag": "div"
               },
               "nodeType": "DOM",
               "props": {
                "className": "interact-flex-row-center"
               },
               "type": "node"
              },
              {
               "children": [
                {
                 "children": [],
                 "instanceArgs": {
                  "namespace": "html",
                  "tag": "div"
                 },
                 "nodeType": "DOM",
                 "props": {},
                 "type": "node"
                }
               ],
               "instanceArgs": {
                "namespace": "html",
                "tag": "div"
               },
               "nodeType": "DOM",
               "props": {
                "className": "interact-flex-row-right"
               },
               "type": "node"
              }
             ],
             "instanceArgs": {
              "namespace": "html",
              "tag": "div"
             },
             "nodeType": "DOM",
             "props": {
              "className": "interact-flex-row interact-widget"
             },
             "type": "node"
            }
           ],
           "instanceArgs": {
            "handlers": {
             "changes": [
              "(function (val){return (val!=this.model[\"changes\"]()) ? (this.valueFromJulia[\"changes\"]=true, this.model[\"changes\"](val)) : undefined})"
             ],
             "value": [
              "(function (val){return (val!=this.model[\"value\"]()) ? (this.valueFromJulia[\"value\"]=true, this.model[\"value\"](val)) : undefined})"
             ]
            },
            "id": "4813057942217081262",
            "imports": {
             "data": [
              {
               "name": "knockout",
               "type": "js",
               "url": "/assetserver/56267940404f1bb9bd6b6043c448449c1dc073b1-knockout.js"
              },
              {
               "name": "knockout_punches",
               "type": "js",
               "url": "/assetserver/0a72c329e1483646114695526feb11064f269228-knockout_punches.js"
              },
              {
               "name": null,
               "type": "js",
               "url": "/assetserver/b8614d2e56e0d249eac1db3d82517b1e994c720e-all.js"
              },
              {
               "name": null,
               "type": "css",
               "url": "/assetserver/654fc3e0b4a02783a170cba06497138e3c4f9f43-style.css"
              },
              {
               "name": null,
               "type": "css",
               "url": "/assetserver/d3843517cd0512ad3bd6d620a3332ebc2f8686ce-bulma_confined.min.css"
              }
             ],
             "type": "async_block"
            },
            "mount_callbacks": [
             "function () {\n    var handler = (function (ko, koPunches) {\n    ko.punches.enableAll();\n    ko.bindingHandlers.numericValue = {\n        init: function(element, valueAccessor, allBindings, data, context) {\n            var stringified = ko.observable(ko.unwrap(valueAccessor()));\n            stringified.subscribe(function(value) {\n                var val = parseFloat(value);\n                if (!isNaN(val)) {\n                    valueAccessor()(val);\n                }\n            });\n            valueAccessor().subscribe(function(value) {\n                var str = JSON.stringify(value);\n                if ((str == \"0\") && ([\"-0\", \"-0.\"].indexOf(stringified()) >= 0))\n                     return;\n                 if ([\"null\", \"\"].indexOf(str) >= 0)\n                     return;\n                stringified(str);\n            });\n            ko.applyBindingsToNode(\n                element,\n                {\n                    value: stringified,\n                    valueUpdate: allBindings.get('valueUpdate'),\n                },\n                context,\n            );\n        }\n    };\n    var json_data = {\"changes\":WebIO.getval({\"name\":\"changes\",\"scope\":\"4813057942217081262\",\"id\":\"17148596036159411266\",\"type\":\"observable\"}),\"value\":WebIO.getval({\"name\":\"value\",\"scope\":\"4813057942217081262\",\"id\":\"5393748715275092301\",\"type\":\"observable\"})};\n    var self = this;\n    function AppViewModel() {\n        for (var key in json_data) {\n            var el = json_data[key];\n            this[key] = Array.isArray(el) ? ko.observableArray(el) : ko.observable(el);\n        }\n        \n        \n        [this[\"changes\"].subscribe((function (val){!(this.valueFromJulia[\"changes\"]) ? (WebIO.setval({\"name\":\"changes\",\"scope\":\"4813057942217081262\",\"id\":\"17148596036159411266\",\"type\":\"observable\"},val)) : undefined; return this.valueFromJulia[\"changes\"]=false}),self),this[\"value\"].subscribe((function (val){!(this.valueFromJulia[\"value\"]) ? (WebIO.setval({\"name\":\"value\",\"scope\":\"4813057942217081262\",\"id\":\"5393748715275092301\",\"type\":\"observable\"},val)) : undefined; return this.valueFromJulia[\"value\"]=false}),self)]\n        \n    }\n    self.model = new AppViewModel();\n    self.valueFromJulia = {};\n    for (var key in json_data) {\n        self.valueFromJulia[key] = false;\n    }\n    ko.applyBindings(self.model, self.dom);\n}\n);\n    (WebIO.importBlock({\"data\":[{\"name\":\"knockout\",\"type\":\"js\",\"url\":\"/assetserver/56267940404f1bb9bd6b6043c448449c1dc073b1-knockout.js\"},{\"name\":\"knockout_punches\",\"type\":\"js\",\"url\":\"/assetserver/0a72c329e1483646114695526feb11064f269228-knockout_punches.js\"}],\"type\":\"async_block\"})).then((imports) => handler.apply(this, imports));\n}\n"
            ],
            "observables": {
             "changes": {
              "id": "17148596036159411266",
              "sync": false,
              "value": 0
             },
             "value": {
              "id": "5393748715275092301",
              "sync": true,
              "value": 40
             }
            },
            "systemjs_options": null
           },
           "nodeType": "Scope",
           "props": {},
           "type": "node"
          }
         ],
         "instanceArgs": {
          "namespace": "html",
          "tag": "div"
         },
         "nodeType": "DOM",
         "props": {
          "className": "field interact-widget"
         },
         "type": "node"
        },
        {
         "children": [
          {
           "children": [
            {
             "children": [
              {
               "children": [
                {
                 "children": [
                  "ymin"
                 ],
                 "instanceArgs": {
                  "namespace": "html",
                  "tag": "label"
                 },
                 "nodeType": "DOM",
                 "props": {
                  "className": "interact ",
                  "style": {
                   "padding": "5px 10px 0px 10px"
                  }
                 },
                 "type": "node"
                }
               ],
               "instanceArgs": {
                "namespace": "html",
                "tag": "div"
               },
               "nodeType": "DOM",
               "props": {
                "className": "interact-flex-row-left"
               },
               "type": "node"
              },
              {
               "children": [
                {
                 "children": [],
                 "instanceArgs": {
                  "namespace": "html",
                  "tag": "input"
                 },
                 "nodeType": "DOM",
                 "props": {
                  "attributes": {
                   "data-bind": "numericValue: value, valueUpdate: 'input', event: {change: function (){this.changes(this.changes()+1)}}",
                   "type": "number"
                  },
                  "className": "input ",
                  "placeholder": "",
                  "style": {}
                 },
                 "type": "node"
                }
               ],
               "instanceArgs": {
                "namespace": "html",
                "tag": "div"
               },
               "nodeType": "DOM",
               "props": {
                "className": "interact-flex-row-center"
               },
               "type": "node"
              },
              {
               "children": [
                {
                 "children": [],
                 "instanceArgs": {
                  "namespace": "html",
                  "tag": "div"
                 },
                 "nodeType": "DOM",
                 "props": {},
                 "type": "node"
                }
               ],
               "instanceArgs": {
                "namespace": "html",
                "tag": "div"
               },
               "nodeType": "DOM",
               "props": {
                "className": "interact-flex-row-right"
               },
               "type": "node"
              }
             ],
             "instanceArgs": {
              "namespace": "html",
              "tag": "div"
             },
             "nodeType": "DOM",
             "props": {
              "className": "interact-flex-row interact-widget"
             },
             "type": "node"
            }
           ],
           "instanceArgs": {
            "handlers": {
             "changes": [
              "(function (val){return (val!=this.model[\"changes\"]()) ? (this.valueFromJulia[\"changes\"]=true, this.model[\"changes\"](val)) : undefined})"
             ],
             "value": [
              "(function (val){return (val!=this.model[\"value\"]()) ? (this.valueFromJulia[\"value\"]=true, this.model[\"value\"](val)) : undefined})"
             ]
            },
            "id": "8401107104383973697",
            "imports": {
             "data": [
              {
               "name": "knockout",
               "type": "js",
               "url": "/assetserver/56267940404f1bb9bd6b6043c448449c1dc073b1-knockout.js"
              },
              {
               "name": "knockout_punches",
               "type": "js",
               "url": "/assetserver/0a72c329e1483646114695526feb11064f269228-knockout_punches.js"
              },
              {
               "name": null,
               "type": "js",
               "url": "/assetserver/b8614d2e56e0d249eac1db3d82517b1e994c720e-all.js"
              },
              {
               "name": null,
               "type": "css",
               "url": "/assetserver/654fc3e0b4a02783a170cba06497138e3c4f9f43-style.css"
              },
              {
               "name": null,
               "type": "css",
               "url": "/assetserver/d3843517cd0512ad3bd6d620a3332ebc2f8686ce-bulma_confined.min.css"
              }
             ],
             "type": "async_block"
            },
            "mount_callbacks": [
             "function () {\n    var handler = (function (ko, koPunches) {\n    ko.punches.enableAll();\n    ko.bindingHandlers.numericValue = {\n        init: function(element, valueAccessor, allBindings, data, context) {\n            var stringified = ko.observable(ko.unwrap(valueAccessor()));\n            stringified.subscribe(function(value) {\n                var val = parseFloat(value);\n                if (!isNaN(val)) {\n                    valueAccessor()(val);\n                }\n            });\n            valueAccessor().subscribe(function(value) {\n                var str = JSON.stringify(value);\n                if ((str == \"0\") && ([\"-0\", \"-0.\"].indexOf(stringified()) >= 0))\n                     return;\n                 if ([\"null\", \"\"].indexOf(str) >= 0)\n                     return;\n                stringified(str);\n            });\n            ko.applyBindingsToNode(\n                element,\n                {\n                    value: stringified,\n                    valueUpdate: allBindings.get('valueUpdate'),\n                },\n                context,\n            );\n        }\n    };\n    var json_data = {\"changes\":WebIO.getval({\"name\":\"changes\",\"scope\":\"8401107104383973697\",\"id\":\"15460326188968926072\",\"type\":\"observable\"}),\"value\":WebIO.getval({\"name\":\"value\",\"scope\":\"8401107104383973697\",\"id\":\"13756445961009959400\",\"type\":\"observable\"})};\n    var self = this;\n    function AppViewModel() {\n        for (var key in json_data) {\n            var el = json_data[key];\n            this[key] = Array.isArray(el) ? ko.observableArray(el) : ko.observable(el);\n        }\n        \n        \n        [this[\"changes\"].subscribe((function (val){!(this.valueFromJulia[\"changes\"]) ? (WebIO.setval({\"name\":\"changes\",\"scope\":\"8401107104383973697\",\"id\":\"15460326188968926072\",\"type\":\"observable\"},val)) : undefined; return this.valueFromJulia[\"changes\"]=false}),self),this[\"value\"].subscribe((function (val){!(this.valueFromJulia[\"value\"]) ? (WebIO.setval({\"name\":\"value\",\"scope\":\"8401107104383973697\",\"id\":\"13756445961009959400\",\"type\":\"observable\"},val)) : undefined; return this.valueFromJulia[\"value\"]=false}),self)]\n        \n    }\n    self.model = new AppViewModel();\n    self.valueFromJulia = {};\n    for (var key in json_data) {\n        self.valueFromJulia[key] = false;\n    }\n    ko.applyBindings(self.model, self.dom);\n}\n);\n    (WebIO.importBlock({\"data\":[{\"name\":\"knockout\",\"type\":\"js\",\"url\":\"/assetserver/56267940404f1bb9bd6b6043c448449c1dc073b1-knockout.js\"},{\"name\":\"knockout_punches\",\"type\":\"js\",\"url\":\"/assetserver/0a72c329e1483646114695526feb11064f269228-knockout_punches.js\"}],\"type\":\"async_block\"})).then((imports) => handler.apply(this, imports));\n}\n"
            ],
            "observables": {
             "changes": {
              "id": "15460326188968926072",
              "sync": false,
              "value": 0
             },
             "value": {
              "id": "13756445961009959400",
              "sync": true,
              "value": -1000
             }
            },
            "systemjs_options": null
           },
           "nodeType": "Scope",
           "props": {},
           "type": "node"
          }
         ],
         "instanceArgs": {
          "namespace": "html",
          "tag": "div"
         },
         "nodeType": "DOM",
         "props": {
          "className": "field interact-widget"
         },
         "type": "node"
        },
        {
         "children": [
          {
           "children": [
            {
             "children": [
              {
               "children": [
                {
                 "children": [
                  "ymax"
                 ],
                 "instanceArgs": {
                  "namespace": "html",
                  "tag": "label"
                 },
                 "nodeType": "DOM",
                 "props": {
                  "className": "interact ",
                  "style": {
                   "padding": "5px 10px 0px 10px"
                  }
                 },
                 "type": "node"
                }
               ],
               "instanceArgs": {
                "namespace": "html",
                "tag": "div"
               },
               "nodeType": "DOM",
               "props": {
                "className": "interact-flex-row-left"
               },
               "type": "node"
              },
              {
               "children": [
                {
                 "children": [],
                 "instanceArgs": {
                  "namespace": "html",
                  "tag": "input"
                 },
                 "nodeType": "DOM",
                 "props": {
                  "attributes": {
                   "data-bind": "numericValue: value, valueUpdate: 'input', event: {change: function (){this.changes(this.changes()+1)}}",
                   "type": "number"
                  },
                  "className": "input ",
                  "placeholder": "",
                  "style": {}
                 },
                 "type": "node"
                }
               ],
               "instanceArgs": {
                "namespace": "html",
                "tag": "div"
               },
               "nodeType": "DOM",
               "props": {
                "className": "interact-flex-row-center"
               },
               "type": "node"
              },
              {
               "children": [
                {
                 "children": [],
                 "instanceArgs": {
                  "namespace": "html",
                  "tag": "div"
                 },
                 "nodeType": "DOM",
                 "props": {},
                 "type": "node"
                }
               ],
               "instanceArgs": {
                "namespace": "html",
                "tag": "div"
               },
               "nodeType": "DOM",
               "props": {
                "className": "interact-flex-row-right"
               },
               "type": "node"
              }
             ],
             "instanceArgs": {
              "namespace": "html",
              "tag": "div"
             },
             "nodeType": "DOM",
             "props": {
              "className": "interact-flex-row interact-widget"
             },
             "type": "node"
            }
           ],
           "instanceArgs": {
            "handlers": {
             "changes": [
              "(function (val){return (val!=this.model[\"changes\"]()) ? (this.valueFromJulia[\"changes\"]=true, this.model[\"changes\"](val)) : undefined})"
             ],
             "value": [
              "(function (val){return (val!=this.model[\"value\"]()) ? (this.valueFromJulia[\"value\"]=true, this.model[\"value\"](val)) : undefined})"
             ]
            },
            "id": "2635931614337328366",
            "imports": {
             "data": [
              {
               "name": "knockout",
               "type": "js",
               "url": "/assetserver/56267940404f1bb9bd6b6043c448449c1dc073b1-knockout.js"
              },
              {
               "name": "knockout_punches",
               "type": "js",
               "url": "/assetserver/0a72c329e1483646114695526feb11064f269228-knockout_punches.js"
              },
              {
               "name": null,
               "type": "js",
               "url": "/assetserver/b8614d2e56e0d249eac1db3d82517b1e994c720e-all.js"
              },
              {
               "name": null,
               "type": "css",
               "url": "/assetserver/654fc3e0b4a02783a170cba06497138e3c4f9f43-style.css"
              },
              {
               "name": null,
               "type": "css",
               "url": "/assetserver/d3843517cd0512ad3bd6d620a3332ebc2f8686ce-bulma_confined.min.css"
              }
             ],
             "type": "async_block"
            },
            "mount_callbacks": [
             "function () {\n    var handler = (function (ko, koPunches) {\n    ko.punches.enableAll();\n    ko.bindingHandlers.numericValue = {\n        init: function(element, valueAccessor, allBindings, data, context) {\n            var stringified = ko.observable(ko.unwrap(valueAccessor()));\n            stringified.subscribe(function(value) {\n                var val = parseFloat(value);\n                if (!isNaN(val)) {\n                    valueAccessor()(val);\n                }\n            });\n            valueAccessor().subscribe(function(value) {\n                var str = JSON.stringify(value);\n                if ((str == \"0\") && ([\"-0\", \"-0.\"].indexOf(stringified()) >= 0))\n                     return;\n                 if ([\"null\", \"\"].indexOf(str) >= 0)\n                     return;\n                stringified(str);\n            });\n            ko.applyBindingsToNode(\n                element,\n                {\n                    value: stringified,\n                    valueUpdate: allBindings.get('valueUpdate'),\n                },\n                context,\n            );\n        }\n    };\n    var json_data = {\"changes\":WebIO.getval({\"name\":\"changes\",\"scope\":\"2635931614337328366\",\"id\":\"17739286764859911367\",\"type\":\"observable\"}),\"value\":WebIO.getval({\"name\":\"value\",\"scope\":\"2635931614337328366\",\"id\":\"12341229649776336883\",\"type\":\"observable\"})};\n    var self = this;\n    function AppViewModel() {\n        for (var key in json_data) {\n            var el = json_data[key];\n            this[key] = Array.isArray(el) ? ko.observableArray(el) : ko.observable(el);\n        }\n        \n        \n        [this[\"changes\"].subscribe((function (val){!(this.valueFromJulia[\"changes\"]) ? (WebIO.setval({\"name\":\"changes\",\"scope\":\"2635931614337328366\",\"id\":\"17739286764859911367\",\"type\":\"observable\"},val)) : undefined; return this.valueFromJulia[\"changes\"]=false}),self),this[\"value\"].subscribe((function (val){!(this.valueFromJulia[\"value\"]) ? (WebIO.setval({\"name\":\"value\",\"scope\":\"2635931614337328366\",\"id\":\"12341229649776336883\",\"type\":\"observable\"},val)) : undefined; return this.valueFromJulia[\"value\"]=false}),self)]\n        \n    }\n    self.model = new AppViewModel();\n    self.valueFromJulia = {};\n    for (var key in json_data) {\n        self.valueFromJulia[key] = false;\n    }\n    ko.applyBindings(self.model, self.dom);\n}\n);\n    (WebIO.importBlock({\"data\":[{\"name\":\"knockout\",\"type\":\"js\",\"url\":\"/assetserver/56267940404f1bb9bd6b6043c448449c1dc073b1-knockout.js\"},{\"name\":\"knockout_punches\",\"type\":\"js\",\"url\":\"/assetserver/0a72c329e1483646114695526feb11064f269228-knockout_punches.js\"}],\"type\":\"async_block\"})).then((imports) => handler.apply(this, imports));\n}\n"
            ],
            "observables": {
             "changes": {
              "id": "17739286764859911367",
              "sync": false,
              "value": 0
             },
             "value": {
              "id": "12341229649776336883",
              "sync": true,
              "value": 1000
             }
            },
            "systemjs_options": null
           },
           "nodeType": "Scope",
           "props": {},
           "type": "node"
          }
         ],
         "instanceArgs": {
          "namespace": "html",
          "tag": "div"
         },
         "nodeType": "DOM",
         "props": {
          "className": "field interact-widget"
         },
         "type": "node"
        },
        {
         "children": [
          {
           "children": [
            {
             "children": [
              {
               "children": [
                {
                 "children": [
                  "dh0"
                 ],
                 "instanceArgs": {
                  "namespace": "html",
                  "tag": "label"
                 },
                 "nodeType": "DOM",
                 "props": {
                  "className": "interact ",
                  "style": {
                   "padding": "5px 10px 0px 10px"
                  }
                 },
                 "type": "node"
                }
               ],
               "instanceArgs": {
                "namespace": "html",
                "tag": "div"
               },
               "nodeType": "DOM",
               "props": {
                "className": "interact-flex-row-left"
               },
               "type": "node"
              },
              {
               "children": [
                {
                 "children": [],
                 "instanceArgs": {
                  "namespace": "html",
                  "tag": "input"
                 },
                 "nodeType": "DOM",
                 "props": {
                  "attributes": {
                   "data-bind": "numericValue: value, valueUpdate: 'input', event: {change: function (){this.changes(this.changes()+1)}}",
                   "type": "number"
                  },
                  "className": "input ",
                  "placeholder": "",
                  "style": {}
                 },
                 "type": "node"
                }
               ],
               "instanceArgs": {
                "namespace": "html",
                "tag": "div"
               },
               "nodeType": "DOM",
               "props": {
                "className": "interact-flex-row-center"
               },
               "type": "node"
              },
              {
               "children": [
                {
                 "children": [],
                 "instanceArgs": {
                  "namespace": "html",
                  "tag": "div"
                 },
                 "nodeType": "DOM",
                 "props": {},
                 "type": "node"
                }
               ],
               "instanceArgs": {
                "namespace": "html",
                "tag": "div"
               },
               "nodeType": "DOM",
               "props": {
                "className": "interact-flex-row-right"
               },
               "type": "node"
              }
             ],
             "instanceArgs": {
              "namespace": "html",
              "tag": "div"
             },
             "nodeType": "DOM",
             "props": {
              "className": "interact-flex-row interact-widget"
             },
             "type": "node"
            }
           ],
           "instanceArgs": {
            "handlers": {
             "changes": [
              "(function (val){return (val!=this.model[\"changes\"]()) ? (this.valueFromJulia[\"changes\"]=true, this.model[\"changes\"](val)) : undefined})"
             ],
             "value": [
              "(function (val){return (val!=this.model[\"value\"]()) ? (this.valueFromJulia[\"value\"]=true, this.model[\"value\"](val)) : undefined})"
             ]
            },
            "id": "1981712881869858617",
            "imports": {
             "data": [
              {
               "name": "knockout",
               "type": "js",
               "url": "/assetserver/56267940404f1bb9bd6b6043c448449c1dc073b1-knockout.js"
              },
              {
               "name": "knockout_punches",
               "type": "js",
               "url": "/assetserver/0a72c329e1483646114695526feb11064f269228-knockout_punches.js"
              },
              {
               "name": null,
               "type": "js",
               "url": "/assetserver/b8614d2e56e0d249eac1db3d82517b1e994c720e-all.js"
              },
              {
               "name": null,
               "type": "css",
               "url": "/assetserver/654fc3e0b4a02783a170cba06497138e3c4f9f43-style.css"
              },
              {
               "name": null,
               "type": "css",
               "url": "/assetserver/d3843517cd0512ad3bd6d620a3332ebc2f8686ce-bulma_confined.min.css"
              }
             ],
             "type": "async_block"
            },
            "mount_callbacks": [
             "function () {\n    var handler = (function (ko, koPunches) {\n    ko.punches.enableAll();\n    ko.bindingHandlers.numericValue = {\n        init: function(element, valueAccessor, allBindings, data, context) {\n            var stringified = ko.observable(ko.unwrap(valueAccessor()));\n            stringified.subscribe(function(value) {\n                var val = parseFloat(value);\n                if (!isNaN(val)) {\n                    valueAccessor()(val);\n                }\n            });\n            valueAccessor().subscribe(function(value) {\n                var str = JSON.stringify(value);\n                if ((str == \"0\") && ([\"-0\", \"-0.\"].indexOf(stringified()) >= 0))\n                     return;\n                 if ([\"null\", \"\"].indexOf(str) >= 0)\n                     return;\n                stringified(str);\n            });\n            ko.applyBindingsToNode(\n                element,\n                {\n                    value: stringified,\n                    valueUpdate: allBindings.get('valueUpdate'),\n                },\n                context,\n            );\n        }\n    };\n    var json_data = {\"changes\":WebIO.getval({\"name\":\"changes\",\"scope\":\"1981712881869858617\",\"id\":\"11676623740762773728\",\"type\":\"observable\"}),\"value\":WebIO.getval({\"name\":\"value\",\"scope\":\"1981712881869858617\",\"id\":\"6109526567632388629\",\"type\":\"observable\"})};\n    var self = this;\n    function AppViewModel() {\n        for (var key in json_data) {\n            var el = json_data[key];\n            this[key] = Array.isArray(el) ? ko.observableArray(el) : ko.observable(el);\n        }\n        \n        \n        [this[\"changes\"].subscribe((function (val){!(this.valueFromJulia[\"changes\"]) ? (WebIO.setval({\"name\":\"changes\",\"scope\":\"1981712881869858617\",\"id\":\"11676623740762773728\",\"type\":\"observable\"},val)) : undefined; return this.valueFromJulia[\"changes\"]=false}),self),this[\"value\"].subscribe((function (val){!(this.valueFromJulia[\"value\"]) ? (WebIO.setval({\"name\":\"value\",\"scope\":\"1981712881869858617\",\"id\":\"6109526567632388629\",\"type\":\"observable\"},val)) : undefined; return this.valueFromJulia[\"value\"]=false}),self)]\n        \n    }\n    self.model = new AppViewModel();\n    self.valueFromJulia = {};\n    for (var key in json_data) {\n        self.valueFromJulia[key] = false;\n    }\n    ko.applyBindings(self.model, self.dom);\n}\n);\n    (WebIO.importBlock({\"data\":[{\"name\":\"knockout\",\"type\":\"js\",\"url\":\"/assetserver/56267940404f1bb9bd6b6043c448449c1dc073b1-knockout.js\"},{\"name\":\"knockout_punches\",\"type\":\"js\",\"url\":\"/assetserver/0a72c329e1483646114695526feb11064f269228-knockout_punches.js\"}],\"type\":\"async_block\"})).then((imports) => handler.apply(this, imports));\n}\n"
            ],
            "observables": {
             "changes": {
              "id": "11676623740762773728",
              "sync": false,
              "value": 0
             },
             "value": {
              "id": "6109526567632388629",
              "sync": true,
              "value": 0
             }
            },
            "systemjs_options": null
           },
           "nodeType": "Scope",
           "props": {},
           "type": "node"
          }
         ],
         "instanceArgs": {
          "namespace": "html",
          "tag": "div"
         },
         "nodeType": "DOM",
         "props": {
          "className": "field interact-widget"
         },
         "type": "node"
        },
        {
         "children": [
          {
           "children": [
            {
             "children": [
              {
               "children": [
                {
                 "children": [
                  "dh1"
                 ],
                 "instanceArgs": {
                  "namespace": "html",
                  "tag": "label"
                 },
                 "nodeType": "DOM",
                 "props": {
                  "className": "interact ",
                  "style": {
                   "padding": "5px 10px 0px 10px"
                  }
                 },
                 "type": "node"
                }
               ],
               "instanceArgs": {
                "namespace": "html",
                "tag": "div"
               },
               "nodeType": "DOM",
               "props": {
                "className": "interact-flex-row-left"
               },
               "type": "node"
              },
              {
               "children": [
                {
                 "children": [],
                 "instanceArgs": {
                  "namespace": "html",
                  "tag": "input"
                 },
                 "nodeType": "DOM",
                 "props": {
                  "attributes": {
                   "data-bind": "numericValue: value, valueUpdate: 'input', event: {change: function (){this.changes(this.changes()+1)}}",
                   "type": "number"
                  },
                  "className": "input ",
                  "placeholder": "",
                  "style": {}
                 },
                 "type": "node"
                }
               ],
               "instanceArgs": {
                "namespace": "html",
                "tag": "div"
               },
               "nodeType": "DOM",
               "props": {
                "className": "interact-flex-row-center"
               },
               "type": "node"
              },
              {
               "children": [
                {
                 "children": [],
                 "instanceArgs": {
                  "namespace": "html",
                  "tag": "div"
                 },
                 "nodeType": "DOM",
                 "props": {},
                 "type": "node"
                }
               ],
               "instanceArgs": {
                "namespace": "html",
                "tag": "div"
               },
               "nodeType": "DOM",
               "props": {
                "className": "interact-flex-row-right"
               },
               "type": "node"
              }
             ],
             "instanceArgs": {
              "namespace": "html",
              "tag": "div"
             },
             "nodeType": "DOM",
             "props": {
              "className": "interact-flex-row interact-widget"
             },
             "type": "node"
            }
           ],
           "instanceArgs": {
            "handlers": {
             "changes": [
              "(function (val){return (val!=this.model[\"changes\"]()) ? (this.valueFromJulia[\"changes\"]=true, this.model[\"changes\"](val)) : undefined})"
             ],
             "value": [
              "(function (val){return (val!=this.model[\"value\"]()) ? (this.valueFromJulia[\"value\"]=true, this.model[\"value\"](val)) : undefined})"
             ]
            },
            "id": "10980076276381645781",
            "imports": {
             "data": [
              {
               "name": "knockout",
               "type": "js",
               "url": "/assetserver/56267940404f1bb9bd6b6043c448449c1dc073b1-knockout.js"
              },
              {
               "name": "knockout_punches",
               "type": "js",
               "url": "/assetserver/0a72c329e1483646114695526feb11064f269228-knockout_punches.js"
              },
              {
               "name": null,
               "type": "js",
               "url": "/assetserver/b8614d2e56e0d249eac1db3d82517b1e994c720e-all.js"
              },
              {
               "name": null,
               "type": "css",
               "url": "/assetserver/654fc3e0b4a02783a170cba06497138e3c4f9f43-style.css"
              },
              {
               "name": null,
               "type": "css",
               "url": "/assetserver/d3843517cd0512ad3bd6d620a3332ebc2f8686ce-bulma_confined.min.css"
              }
             ],
             "type": "async_block"
            },
            "mount_callbacks": [
             "function () {\n    var handler = (function (ko, koPunches) {\n    ko.punches.enableAll();\n    ko.bindingHandlers.numericValue = {\n        init: function(element, valueAccessor, allBindings, data, context) {\n            var stringified = ko.observable(ko.unwrap(valueAccessor()));\n            stringified.subscribe(function(value) {\n                var val = parseFloat(value);\n                if (!isNaN(val)) {\n                    valueAccessor()(val);\n                }\n            });\n            valueAccessor().subscribe(function(value) {\n                var str = JSON.stringify(value);\n                if ((str == \"0\") && ([\"-0\", \"-0.\"].indexOf(stringified()) >= 0))\n                     return;\n                 if ([\"null\", \"\"].indexOf(str) >= 0)\n                     return;\n                stringified(str);\n            });\n            ko.applyBindingsToNode(\n                element,\n                {\n                    value: stringified,\n                    valueUpdate: allBindings.get('valueUpdate'),\n                },\n                context,\n            );\n        }\n    };\n    var json_data = {\"changes\":WebIO.getval({\"name\":\"changes\",\"scope\":\"10980076276381645781\",\"id\":\"4446414484945878832\",\"type\":\"observable\"}),\"value\":WebIO.getval({\"name\":\"value\",\"scope\":\"10980076276381645781\",\"id\":\"5247328824056903330\",\"type\":\"observable\"})};\n    var self = this;\n    function AppViewModel() {\n        for (var key in json_data) {\n            var el = json_data[key];\n            this[key] = Array.isArray(el) ? ko.observableArray(el) : ko.observable(el);\n        }\n        \n        \n        [this[\"changes\"].subscribe((function (val){!(this.valueFromJulia[\"changes\"]) ? (WebIO.setval({\"name\":\"changes\",\"scope\":\"10980076276381645781\",\"id\":\"4446414484945878832\",\"type\":\"observable\"},val)) : undefined; return this.valueFromJulia[\"changes\"]=false}),self),this[\"value\"].subscribe((function (val){!(this.valueFromJulia[\"value\"]) ? (WebIO.setval({\"name\":\"value\",\"scope\":\"10980076276381645781\",\"id\":\"5247328824056903330\",\"type\":\"observable\"},val)) : undefined; return this.valueFromJulia[\"value\"]=false}),self)]\n        \n    }\n    self.model = new AppViewModel();\n    self.valueFromJulia = {};\n    for (var key in json_data) {\n        self.valueFromJulia[key] = false;\n    }\n    ko.applyBindings(self.model, self.dom);\n}\n);\n    (WebIO.importBlock({\"data\":[{\"name\":\"knockout\",\"type\":\"js\",\"url\":\"/assetserver/56267940404f1bb9bd6b6043c448449c1dc073b1-knockout.js\"},{\"name\":\"knockout_punches\",\"type\":\"js\",\"url\":\"/assetserver/0a72c329e1483646114695526feb11064f269228-knockout_punches.js\"}],\"type\":\"async_block\"})).then((imports) => handler.apply(this, imports));\n}\n"
            ],
            "observables": {
             "changes": {
              "id": "4446414484945878832",
              "sync": false,
              "value": 0
             },
             "value": {
              "id": "5247328824056903330",
              "sync": true,
              "value": 0
             }
            },
            "systemjs_options": null
           },
           "nodeType": "Scope",
           "props": {},
           "type": "node"
          }
         ],
         "instanceArgs": {
          "namespace": "html",
          "tag": "div"
         },
         "nodeType": "DOM",
         "props": {
          "className": "field interact-widget"
         },
         "type": "node"
        },
        {
         "children": [
          {
           "children": [
            {
             "children": [
              {
               "children": [
                {
                 "children": [
                  "pra"
                 ],
                 "instanceArgs": {
                  "namespace": "html",
                  "tag": "label"
                 },
                 "nodeType": "DOM",
                 "props": {
                  "className": "interact ",
                  "style": {
                   "padding": "5px 10px 0px 10px"
                  }
                 },
                 "type": "node"
                }
               ],
               "instanceArgs": {
                "namespace": "html",
                "tag": "div"
               },
               "nodeType": "DOM",
               "props": {
                "className": "interact-flex-row-left"
               },
               "type": "node"
              },
              {
               "children": [
                {
                 "children": [
                  {
                   "children": [
                    {
                     "children": [],
                     "instanceArgs": {
                      "namespace": "html",
                      "tag": "label"
                     },
                     "nodeType": "DOM",
                     "props": {
                      "attributes": {
                       "data-bind": "text : key"
                      }
                     },
                     "type": "node"
                    }
                   ],
                   "instanceArgs": {
                    "namespace": "html",
                    "tag": "span"
                   },
                   "nodeType": "DOM",
                   "props": {
                    "attributes": {
                     "data-bind": "click: function (){$root.update(val)}, css: {'is-primary is-selected' : $root.index() == val, 'interact-widget is-medium button ' : true}"
                    }
                   },
                   "type": "node"
                  }
                 ],
                 "instanceArgs": {
                  "namespace": "html",
                  "tag": "div"
                 },
                 "nodeType": "DOM",
                 "props": {
                  "attributes": {
                   "data-bind": "foreach : options_js"
                  },
                  "className": "buttons has-addons is-centered"
                 },
                 "type": "node"
                }
               ],
               "instanceArgs": {
                "namespace": "html",
                "tag": "div"
               },
               "nodeType": "DOM",
               "props": {
                "className": "interact-flex-row-center"
               },
               "type": "node"
              },
              {
               "children": [
                {
                 "children": [],
                 "instanceArgs": {
                  "namespace": "html",
                  "tag": "div"
                 },
                 "nodeType": "DOM",
                 "props": {},
                 "type": "node"
                }
               ],
               "instanceArgs": {
                "namespace": "html",
                "tag": "div"
               },
               "nodeType": "DOM",
               "props": {
                "className": "interact-flex-row-right"
               },
               "type": "node"
              }
             ],
             "instanceArgs": {
              "namespace": "html",
              "tag": "div"
             },
             "nodeType": "DOM",
             "props": {
              "className": "interact-flex-row interact-widget"
             },
             "type": "node"
            }
           ],
           "instanceArgs": {
            "handlers": {
             "index": [
              "(function (val){return (val!=this.model[\"index\"]()) ? (this.valueFromJulia[\"index\"]=true, this.model[\"index\"](val)) : undefined})"
             ],
             "options_js": [
              "(function (val){return (val!=this.model[\"options_js\"]()) ? (this.valueFromJulia[\"options_js\"]=true, this.model[\"options_js\"](val)) : undefined})"
             ]
            },
            "id": "18331174340368262663",
            "imports": {
             "data": [
              {
               "name": "knockout",
               "type": "js",
               "url": "/assetserver/56267940404f1bb9bd6b6043c448449c1dc073b1-knockout.js"
              },
              {
               "name": "knockout_punches",
               "type": "js",
               "url": "/assetserver/0a72c329e1483646114695526feb11064f269228-knockout_punches.js"
              },
              {
               "name": null,
               "type": "js",
               "url": "/assetserver/b8614d2e56e0d249eac1db3d82517b1e994c720e-all.js"
              },
              {
               "name": null,
               "type": "css",
               "url": "/assetserver/654fc3e0b4a02783a170cba06497138e3c4f9f43-style.css"
              },
              {
               "name": null,
               "type": "css",
               "url": "/assetserver/d3843517cd0512ad3bd6d620a3332ebc2f8686ce-bulma_confined.min.css"
              }
             ],
             "type": "async_block"
            },
            "mount_callbacks": [
             "function () {\n    var handler = (function (ko, koPunches) {\n    ko.punches.enableAll();\n    ko.bindingHandlers.numericValue = {\n        init: function(element, valueAccessor, allBindings, data, context) {\n            var stringified = ko.observable(ko.unwrap(valueAccessor()));\n            stringified.subscribe(function(value) {\n                var val = parseFloat(value);\n                if (!isNaN(val)) {\n                    valueAccessor()(val);\n                }\n            });\n            valueAccessor().subscribe(function(value) {\n                var str = JSON.stringify(value);\n                if ((str == \"0\") && ([\"-0\", \"-0.\"].indexOf(stringified()) >= 0))\n                     return;\n                 if ([\"null\", \"\"].indexOf(str) >= 0)\n                     return;\n                stringified(str);\n            });\n            ko.applyBindingsToNode(\n                element,\n                {\n                    value: stringified,\n                    valueUpdate: allBindings.get('valueUpdate'),\n                },\n                context,\n            );\n        }\n    };\n    var json_data = {\"options_js\":WebIO.getval({\"name\":\"options_js\",\"scope\":\"18331174340368262663\",\"id\":\"7057672271981364194\",\"type\":\"observable\"}),\"index\":WebIO.getval({\"name\":\"index\",\"scope\":\"18331174340368262663\",\"id\":\"13507286666094509102\",\"type\":\"observable\"})};\n    var self = this;\n    function AppViewModel() {\n        for (var key in json_data) {\n            var el = json_data[key];\n            this[key] = Array.isArray(el) ? ko.observableArray(el) : ko.observable(el);\n        }\n        [this[\"update\"]=function (val) {this.index(val)}]\n        \n        [this[\"options_js\"].subscribe((function (val){!(this.valueFromJulia[\"options_js\"]) ? (WebIO.setval({\"name\":\"options_js\",\"scope\":\"18331174340368262663\",\"id\":\"7057672271981364194\",\"type\":\"observable\"},val)) : undefined; return this.valueFromJulia[\"options_js\"]=false}),self),this[\"index\"].subscribe((function (val){!(this.valueFromJulia[\"index\"]) ? (WebIO.setval({\"name\":\"index\",\"scope\":\"18331174340368262663\",\"id\":\"13507286666094509102\",\"type\":\"observable\"},val)) : undefined; return this.valueFromJulia[\"index\"]=false}),self)]\n        \n    }\n    self.model = new AppViewModel();\n    self.valueFromJulia = {};\n    for (var key in json_data) {\n        self.valueFromJulia[key] = false;\n    }\n    ko.applyBindings(self.model, self.dom);\n}\n);\n    (WebIO.importBlock({\"data\":[{\"name\":\"knockout\",\"type\":\"js\",\"url\":\"/assetserver/56267940404f1bb9bd6b6043c448449c1dc073b1-knockout.js\"},{\"name\":\"knockout_punches\",\"type\":\"js\",\"url\":\"/assetserver/0a72c329e1483646114695526feb11064f269228-knockout_punches.js\"}],\"type\":\"async_block\"})).then((imports) => handler.apply(this, imports));\n}\n"
            ],
            "observables": {
             "index": {
              "id": "13507286666094509102",
              "sync": true,
              "value": 1
             },
             "options_js": {
              "id": "7057672271981364194",
              "sync": false,
              "value": [
               {
                "id": "idVoShtLxK",
                "key": "COC",
                "val": 1
               },
               {
                "id": "id0pZlmy0p",
                "key": "DNC",
                "val": 2
               },
               {
                "id": "idzXiU4qJo",
                "key": "DND",
                "val": 3
               },
               {
                "id": "idtZ2iMKU3",
                "key": "DES1500",
                "val": 4
               },
               {
                "id": "idUHZM6BBk",
                "key": "CL1500",
                "val": 5
               },
               {
                "id": "idAvFAVrwo",
                "key": "SDES1500",
                "val": 6
               },
               {
                "id": "idSS5x6elp",
                "key": "SCL1500",
                "val": 7
               },
               {
                "id": "idn0sxdDKi",
                "key": "SDES2500",
                "val": 8
               },
               {
                "id": "idjLz9FF7U",
                "key": "SCL2500",
                "val": 9
               }
              ]
             }
            },
            "systemjs_options": null
           },
           "nodeType": "Scope",
           "props": {},
           "type": "node"
          }
         ],
         "instanceArgs": {
          "namespace": "html",
          "tag": "div"
         },
         "nodeType": "DOM",
         "props": {
          "className": "interact-widget"
         },
         "type": "node"
        },
        {
         "children": [
          {
           "children": [],
           "instanceArgs": {
            "id": "7339362624336779066",
            "name": "obs-node"
           },
           "nodeType": "ObservableNode",
           "props": {},
           "type": "node"
          }
         ],
         "instanceArgs": {
          "handlers": {},
          "id": "5471670952375758472",
          "imports": {
           "data": [],
           "type": "async_block"
          },
          "mount_callbacks": [],
          "observables": {
           "obs-node": {
            "id": "7339362624336779066",
            "sync": false,
            "value": {
             "children": [
              {
               "children": [],
               "instanceArgs": {
                "namespace": "html",
                "tag": "div"
               },
               "nodeType": "DOM",
               "props": {
                "setInnerHtml": ""
               },
               "type": "node"
              }
             ],
             "instanceArgs": {
              "namespace": "html",
              "tag": "div"
             },
             "nodeType": "DOM",
             "props": {
              "className": "interact-flex-row interact-widget"
             },
             "type": "node"
            }
           }
          },
          "systemjs_options": null
         },
         "nodeType": "Scope",
         "props": {},
         "type": "node"
        }
       ],
       "instanceArgs": {
        "namespace": "html",
        "tag": "div"
       },
       "nodeType": "DOM",
       "props": {},
       "type": "node"
      },
      "text/html": [
       "<div\n",
       "    class=\"webio-mountpoint\"\n",
       "    data-webio-mountpoint=\"9100944357656389617\"\n",
       ">\n",
       "    <script>\n",
       "    (function(){\n",
       "    // Some integrations (namely, IJulia/Jupyter) use an alternate render pathway than\n",
       "    // just putting the html on the page. If WebIO isn't defined, then it's pretty likely\n",
       "    // that we're in one of those situations and the integration just isn't installed\n",
       "    // correctly.\n",
       "    if (typeof window.WebIO === \"undefined\") {\n",
       "        document\n",
       "            .querySelector('[data-webio-mountpoint=\"9100944357656389617\"]')\n",
       "            .innerHTML = (\n",
       "                '<div style=\"padding: 1em; background-color: #f8d6da; border: 1px solid #f5c6cb; font-weight: bold;\">' +\n",
       "                '<p><strong>WebIO not detected.</strong></p>' +\n",
       "                '<p>Please read ' +\n",
       "                '<a href=\"https://juliagizmos.github.io/WebIO.jl/latest/troubleshooting/not-detected/\" target=\"_blank\">the troubleshooting guide</a> ' +\n",
       "                'for more information on how to resolve this issue.</p>' +\n",
       "                '<p><a href=\"https://juliagizmos.github.io/WebIO.jl/latest/troubleshooting/not-detected/\" target=\"_blank\">https://juliagizmos.github.io/WebIO.jl/latest/troubleshooting/not-detected/</a></p>' +\n",
       "                '</div>'\n",
       "            );\n",
       "        return;\n",
       "    }\n",
       "    WebIO.mount(\n",
       "        document.querySelector('[data-webio-mountpoint=\"9100944357656389617\"]'),\n",
       "        {\"props\":{},\"nodeType\":\"DOM\",\"type\":\"node\",\"instanceArgs\":{\"namespace\":\"html\",\"tag\":\"div\"},\"children\":[{\"props\":{\"className\":\"field interact-widget\"},\"nodeType\":\"DOM\",\"type\":\"node\",\"instanceArgs\":{\"namespace\":\"html\",\"tag\":\"div\"},\"children\":[{\"props\":{},\"nodeType\":\"Scope\",\"type\":\"node\",\"instanceArgs\":{\"imports\":{\"data\":[{\"name\":\"knockout\",\"type\":\"js\",\"url\":\"\\/assetserver\\/56267940404f1bb9bd6b6043c448449c1dc073b1-knockout.js\"},{\"name\":\"knockout_punches\",\"type\":\"js\",\"url\":\"\\/assetserver\\/0a72c329e1483646114695526feb11064f269228-knockout_punches.js\"},{\"name\":null,\"type\":\"js\",\"url\":\"\\/assetserver\\/b8614d2e56e0d249eac1db3d82517b1e994c720e-all.js\"},{\"name\":null,\"type\":\"css\",\"url\":\"\\/assetserver\\/654fc3e0b4a02783a170cba06497138e3c4f9f43-style.css\"},{\"name\":null,\"type\":\"css\",\"url\":\"\\/assetserver\\/d3843517cd0512ad3bd6d620a3332ebc2f8686ce-bulma_confined.min.css\"}],\"type\":\"async_block\"},\"id\":\"5666874821630519945\",\"handlers\":{\"changes\":[\"(function (val){return (val!=this.model[\\\"changes\\\"]()) ? (this.valueFromJulia[\\\"changes\\\"]=true, this.model[\\\"changes\\\"](val)) : undefined})\"],\"value\":[\"(function (val){return (val!=this.model[\\\"value\\\"]()) ? (this.valueFromJulia[\\\"value\\\"]=true, this.model[\\\"value\\\"](val)) : undefined})\"]},\"systemjs_options\":null,\"mount_callbacks\":[\"function () {\\n    var handler = (function (ko, koPunches) {\\n    ko.punches.enableAll();\\n    ko.bindingHandlers.numericValue = {\\n        init: function(element, valueAccessor, allBindings, data, context) {\\n            var stringified = ko.observable(ko.unwrap(valueAccessor()));\\n            stringified.subscribe(function(value) {\\n                var val = parseFloat(value);\\n                if (!isNaN(val)) {\\n                    valueAccessor()(val);\\n                }\\n            });\\n            valueAccessor().subscribe(function(value) {\\n                var str = JSON.stringify(value);\\n                if ((str == \\\"0\\\") && ([\\\"-0\\\", \\\"-0.\\\"].indexOf(stringified()) >= 0))\\n                     return;\\n                 if ([\\\"null\\\", \\\"\\\"].indexOf(str) >= 0)\\n                     return;\\n                stringified(str);\\n            });\\n            ko.applyBindingsToNode(\\n                element,\\n                {\\n                    value: stringified,\\n                    valueUpdate: allBindings.get('valueUpdate'),\\n                },\\n                context,\\n            );\\n        }\\n    };\\n    var json_data = {\\\"changes\\\":WebIO.getval({\\\"name\\\":\\\"changes\\\",\\\"scope\\\":\\\"5666874821630519945\\\",\\\"id\\\":\\\"12029550491689288\\\",\\\"type\\\":\\\"observable\\\"}),\\\"value\\\":WebIO.getval({\\\"name\\\":\\\"value\\\",\\\"scope\\\":\\\"5666874821630519945\\\",\\\"id\\\":\\\"15070003196540663397\\\",\\\"type\\\":\\\"observable\\\"})};\\n    var self = this;\\n    function AppViewModel() {\\n        for (var key in json_data) {\\n            var el = json_data[key];\\n            this[key] = Array.isArray(el) ? ko.observableArray(el) : ko.observable(el);\\n        }\\n        \\n        \\n        [this[\\\"changes\\\"].subscribe((function (val){!(this.valueFromJulia[\\\"changes\\\"]) ? (WebIO.setval({\\\"name\\\":\\\"changes\\\",\\\"scope\\\":\\\"5666874821630519945\\\",\\\"id\\\":\\\"12029550491689288\\\",\\\"type\\\":\\\"observable\\\"},val)) : undefined; return this.valueFromJulia[\\\"changes\\\"]=false}),self),this[\\\"value\\\"].subscribe((function (val){!(this.valueFromJulia[\\\"value\\\"]) ? (WebIO.setval({\\\"name\\\":\\\"value\\\",\\\"scope\\\":\\\"5666874821630519945\\\",\\\"id\\\":\\\"15070003196540663397\\\",\\\"type\\\":\\\"observable\\\"},val)) : undefined; return this.valueFromJulia[\\\"value\\\"]=false}),self)]\\n        \\n    }\\n    self.model = new AppViewModel();\\n    self.valueFromJulia = {};\\n    for (var key in json_data) {\\n        self.valueFromJulia[key] = false;\\n    }\\n    ko.applyBindings(self.model, self.dom);\\n}\\n);\\n    (WebIO.importBlock({\\\"data\\\":[{\\\"name\\\":\\\"knockout\\\",\\\"type\\\":\\\"js\\\",\\\"url\\\":\\\"\\/assetserver\\/56267940404f1bb9bd6b6043c448449c1dc073b1-knockout.js\\\"},{\\\"name\\\":\\\"knockout_punches\\\",\\\"type\\\":\\\"js\\\",\\\"url\\\":\\\"\\/assetserver\\/0a72c329e1483646114695526feb11064f269228-knockout_punches.js\\\"}],\\\"type\\\":\\\"async_block\\\"})).then((imports) => handler.apply(this, imports));\\n}\\n\"],\"observables\":{\"changes\":{\"sync\":false,\"id\":\"12029550491689288\",\"value\":0},\"value\":{\"sync\":true,\"id\":\"15070003196540663397\",\"value\":100}}},\"children\":[{\"props\":{\"className\":\"interact-flex-row interact-widget\"},\"nodeType\":\"DOM\",\"type\":\"node\",\"instanceArgs\":{\"namespace\":\"html\",\"tag\":\"div\"},\"children\":[{\"props\":{\"className\":\"interact-flex-row-left\"},\"nodeType\":\"DOM\",\"type\":\"node\",\"instanceArgs\":{\"namespace\":\"html\",\"tag\":\"div\"},\"children\":[{\"props\":{\"className\":\"interact \",\"style\":{\"padding\":\"5px 10px 0px 10px\"}},\"nodeType\":\"DOM\",\"type\":\"node\",\"instanceArgs\":{\"namespace\":\"html\",\"tag\":\"label\"},\"children\":[\"nbin\"]}]},{\"props\":{\"className\":\"interact-flex-row-center\"},\"nodeType\":\"DOM\",\"type\":\"node\",\"instanceArgs\":{\"namespace\":\"html\",\"tag\":\"div\"},\"children\":[{\"props\":{\"attributes\":{\"type\":\"number\",\"data-bind\":\"numericValue: value, valueUpdate: 'input', event: {change: function (){this.changes(this.changes()+1)}}\"},\"placeholder\":\"\",\"className\":\"input \",\"style\":{}},\"nodeType\":\"DOM\",\"type\":\"node\",\"instanceArgs\":{\"namespace\":\"html\",\"tag\":\"input\"},\"children\":[]}]},{\"props\":{\"className\":\"interact-flex-row-right\"},\"nodeType\":\"DOM\",\"type\":\"node\",\"instanceArgs\":{\"namespace\":\"html\",\"tag\":\"div\"},\"children\":[{\"props\":{},\"nodeType\":\"DOM\",\"type\":\"node\",\"instanceArgs\":{\"namespace\":\"html\",\"tag\":\"div\"},\"children\":[]}]}]}]}]},{\"props\":{\"className\":\"interact-widget\"},\"nodeType\":\"DOM\",\"type\":\"node\",\"instanceArgs\":{\"namespace\":\"html\",\"tag\":\"div\"},\"children\":[{\"props\":{},\"nodeType\":\"Scope\",\"type\":\"node\",\"instanceArgs\":{\"imports\":{\"data\":[{\"name\":\"knockout\",\"type\":\"js\",\"url\":\"\\/assetserver\\/56267940404f1bb9bd6b6043c448449c1dc073b1-knockout.js\"},{\"name\":\"knockout_punches\",\"type\":\"js\",\"url\":\"\\/assetserver\\/0a72c329e1483646114695526feb11064f269228-knockout_punches.js\"},{\"name\":null,\"type\":\"js\",\"url\":\"\\/assetserver\\/b8614d2e56e0d249eac1db3d82517b1e994c720e-all.js\"},{\"name\":null,\"type\":\"css\",\"url\":\"\\/assetserver\\/654fc3e0b4a02783a170cba06497138e3c4f9f43-style.css\"},{\"name\":null,\"type\":\"css\",\"url\":\"\\/assetserver\\/d3843517cd0512ad3bd6d620a3332ebc2f8686ce-bulma_confined.min.css\"}],\"type\":\"async_block\"},\"id\":\"7620871937592655973\",\"handlers\":{\"options_js\":[\"(function (val){return (val!=this.model[\\\"options_js\\\"]()) ? (this.valueFromJulia[\\\"options_js\\\"]=true, this.model[\\\"options_js\\\"](val)) : undefined})\"],\"index\":[\"(function (val){return (val!=this.model[\\\"index\\\"]()) ? (this.valueFromJulia[\\\"index\\\"]=true, this.model[\\\"index\\\"](val)) : undefined})\"]},\"systemjs_options\":null,\"mount_callbacks\":[\"function () {\\n    var handler = (function (ko, koPunches) {\\n    ko.punches.enableAll();\\n    ko.bindingHandlers.numericValue = {\\n        init: function(element, valueAccessor, allBindings, data, context) {\\n            var stringified = ko.observable(ko.unwrap(valueAccessor()));\\n            stringified.subscribe(function(value) {\\n                var val = parseFloat(value);\\n                if (!isNaN(val)) {\\n                    valueAccessor()(val);\\n                }\\n            });\\n            valueAccessor().subscribe(function(value) {\\n                var str = JSON.stringify(value);\\n                if ((str == \\\"0\\\") && ([\\\"-0\\\", \\\"-0.\\\"].indexOf(stringified()) >= 0))\\n                     return;\\n                 if ([\\\"null\\\", \\\"\\\"].indexOf(str) >= 0)\\n                     return;\\n                stringified(str);\\n            });\\n            ko.applyBindingsToNode(\\n                element,\\n                {\\n                    value: stringified,\\n                    valueUpdate: allBindings.get('valueUpdate'),\\n                },\\n                context,\\n            );\\n        }\\n    };\\n    var json_data = {\\\"options_js\\\":WebIO.getval({\\\"name\\\":\\\"options_js\\\",\\\"scope\\\":\\\"7620871937592655973\\\",\\\"id\\\":\\\"10713939198513864913\\\",\\\"type\\\":\\\"observable\\\"}),\\\"index\\\":WebIO.getval({\\\"name\\\":\\\"index\\\",\\\"scope\\\":\\\"7620871937592655973\\\",\\\"id\\\":\\\"14139842927743006665\\\",\\\"type\\\":\\\"observable\\\"})};\\n    var self = this;\\n    function AppViewModel() {\\n        for (var key in json_data) {\\n            var el = json_data[key];\\n            this[key] = Array.isArray(el) ? ko.observableArray(el) : ko.observable(el);\\n        }\\n        [this[\\\"update\\\"]=function (val) {this.index(val)}]\\n        \\n        [this[\\\"options_js\\\"].subscribe((function (val){!(this.valueFromJulia[\\\"options_js\\\"]) ? (WebIO.setval({\\\"name\\\":\\\"options_js\\\",\\\"scope\\\":\\\"7620871937592655973\\\",\\\"id\\\":\\\"10713939198513864913\\\",\\\"type\\\":\\\"observable\\\"},val)) : undefined; return this.valueFromJulia[\\\"options_js\\\"]=false}),self),this[\\\"index\\\"].subscribe((function (val){!(this.valueFromJulia[\\\"index\\\"]) ? (WebIO.setval({\\\"name\\\":\\\"index\\\",\\\"scope\\\":\\\"7620871937592655973\\\",\\\"id\\\":\\\"14139842927743006665\\\",\\\"type\\\":\\\"observable\\\"},val)) : undefined; return this.valueFromJulia[\\\"index\\\"]=false}),self)]\\n        \\n    }\\n    self.model = new AppViewModel();\\n    self.valueFromJulia = {};\\n    for (var key in json_data) {\\n        self.valueFromJulia[key] = false;\\n    }\\n    ko.applyBindings(self.model, self.dom);\\n}\\n);\\n    (WebIO.importBlock({\\\"data\\\":[{\\\"name\\\":\\\"knockout\\\",\\\"type\\\":\\\"js\\\",\\\"url\\\":\\\"\\/assetserver\\/56267940404f1bb9bd6b6043c448449c1dc073b1-knockout.js\\\"},{\\\"name\\\":\\\"knockout_punches\\\",\\\"type\\\":\\\"js\\\",\\\"url\\\":\\\"\\/assetserver\\/0a72c329e1483646114695526feb11064f269228-knockout_punches.js\\\"}],\\\"type\\\":\\\"async_block\\\"})).then((imports) => handler.apply(this, imports));\\n}\\n\"],\"observables\":{\"options_js\":{\"sync\":false,\"id\":\"10713939198513864913\",\"value\":[{\"key\":\"false\",\"val\":1,\"id\":\"idD5d01RmP\"},{\"key\":\"true\",\"val\":2,\"id\":\"idaTjz7TFo\"}]},\"index\":{\"sync\":true,\"id\":\"14139842927743006665\",\"value\":1}}},\"children\":[{\"props\":{\"className\":\"interact-flex-row interact-widget\"},\"nodeType\":\"DOM\",\"type\":\"node\",\"instanceArgs\":{\"namespace\":\"html\",\"tag\":\"div\"},\"children\":[{\"props\":{\"className\":\"interact-flex-row-left\"},\"nodeType\":\"DOM\",\"type\":\"node\",\"instanceArgs\":{\"namespace\":\"html\",\"tag\":\"div\"},\"children\":[{\"props\":{\"className\":\"interact \",\"style\":{\"padding\":\"5px 10px 0px 10px\"}},\"nodeType\":\"DOM\",\"type\":\"node\",\"instanceArgs\":{\"namespace\":\"html\",\"tag\":\"label\"},\"children\":[\"savePlot\"]}]},{\"props\":{\"className\":\"interact-flex-row-center\"},\"nodeType\":\"DOM\",\"type\":\"node\",\"instanceArgs\":{\"namespace\":\"html\",\"tag\":\"div\"},\"children\":[{\"props\":{\"attributes\":{\"data-bind\":\"foreach : options_js\"},\"className\":\"buttons has-addons is-centered\"},\"nodeType\":\"DOM\",\"type\":\"node\",\"instanceArgs\":{\"namespace\":\"html\",\"tag\":\"div\"},\"children\":[{\"props\":{\"attributes\":{\"data-bind\":\"click: function (){$root.update(val)}, css: {'is-primary is-selected' : $root.index() == val, 'interact-widget is-medium button ' : true}\"}},\"nodeType\":\"DOM\",\"type\":\"node\",\"instanceArgs\":{\"namespace\":\"html\",\"tag\":\"span\"},\"children\":[{\"props\":{\"attributes\":{\"data-bind\":\"text : key\"}},\"nodeType\":\"DOM\",\"type\":\"node\",\"instanceArgs\":{\"namespace\":\"html\",\"tag\":\"label\"},\"children\":[]}]}]}]},{\"props\":{\"className\":\"interact-flex-row-right\"},\"nodeType\":\"DOM\",\"type\":\"node\",\"instanceArgs\":{\"namespace\":\"html\",\"tag\":\"div\"},\"children\":[{\"props\":{},\"nodeType\":\"DOM\",\"type\":\"node\",\"instanceArgs\":{\"namespace\":\"html\",\"tag\":\"div\"},\"children\":[]}]}]}]}]},{\"props\":{\"className\":\"field interact-widget\"},\"nodeType\":\"DOM\",\"type\":\"node\",\"instanceArgs\":{\"namespace\":\"html\",\"tag\":\"div\"},\"children\":[{\"props\":{},\"nodeType\":\"Scope\",\"type\":\"node\",\"instanceArgs\":{\"imports\":{\"data\":[{\"name\":\"knockout\",\"type\":\"js\",\"url\":\"\\/assetserver\\/56267940404f1bb9bd6b6043c448449c1dc073b1-knockout.js\"},{\"name\":\"knockout_punches\",\"type\":\"js\",\"url\":\"\\/assetserver\\/0a72c329e1483646114695526feb11064f269228-knockout_punches.js\"},{\"name\":null,\"type\":\"js\",\"url\":\"\\/assetserver\\/b8614d2e56e0d249eac1db3d82517b1e994c720e-all.js\"},{\"name\":null,\"type\":\"css\",\"url\":\"\\/assetserver\\/654fc3e0b4a02783a170cba06497138e3c4f9f43-style.css\"},{\"name\":null,\"type\":\"css\",\"url\":\"\\/assetserver\\/d3843517cd0512ad3bd6d620a3332ebc2f8686ce-bulma_confined.min.css\"}],\"type\":\"async_block\"},\"id\":\"6023539396506111250\",\"handlers\":{\"changes\":[\"(function (val){return (val!=this.model[\\\"changes\\\"]()) ? (this.valueFromJulia[\\\"changes\\\"]=true, this.model[\\\"changes\\\"](val)) : undefined})\"],\"value\":[\"(function (val){return (val!=this.model[\\\"value\\\"]()) ? (this.valueFromJulia[\\\"value\\\"]=true, this.model[\\\"value\\\"](val)) : undefined})\"]},\"systemjs_options\":null,\"mount_callbacks\":[\"function () {\\n    var handler = (function (ko, koPunches) {\\n    ko.punches.enableAll();\\n    ko.bindingHandlers.numericValue = {\\n        init: function(element, valueAccessor, allBindings, data, context) {\\n            var stringified = ko.observable(ko.unwrap(valueAccessor()));\\n            stringified.subscribe(function(value) {\\n                var val = parseFloat(value);\\n                if (!isNaN(val)) {\\n                    valueAccessor()(val);\\n                }\\n            });\\n            valueAccessor().subscribe(function(value) {\\n                var str = JSON.stringify(value);\\n                if ((str == \\\"0\\\") && ([\\\"-0\\\", \\\"-0.\\\"].indexOf(stringified()) >= 0))\\n                     return;\\n                 if ([\\\"null\\\", \\\"\\\"].indexOf(str) >= 0)\\n                     return;\\n                stringified(str);\\n            });\\n            ko.applyBindingsToNode(\\n                element,\\n                {\\n                    value: stringified,\\n                    valueUpdate: allBindings.get('valueUpdate'),\\n                },\\n                context,\\n            );\\n        }\\n    };\\n    var json_data = {\\\"changes\\\":WebIO.getval({\\\"name\\\":\\\"changes\\\",\\\"scope\\\":\\\"6023539396506111250\\\",\\\"id\\\":\\\"18331247103097620476\\\",\\\"type\\\":\\\"observable\\\"}),\\\"value\\\":WebIO.getval({\\\"name\\\":\\\"value\\\",\\\"scope\\\":\\\"6023539396506111250\\\",\\\"id\\\":\\\"710280487510622442\\\",\\\"type\\\":\\\"observable\\\"})};\\n    var self = this;\\n    function AppViewModel() {\\n        for (var key in json_data) {\\n            var el = json_data[key];\\n            this[key] = Array.isArray(el) ? ko.observableArray(el) : ko.observable(el);\\n        }\\n        \\n        \\n        [this[\\\"changes\\\"].subscribe((function (val){!(this.valueFromJulia[\\\"changes\\\"]) ? (WebIO.setval({\\\"name\\\":\\\"changes\\\",\\\"scope\\\":\\\"6023539396506111250\\\",\\\"id\\\":\\\"18331247103097620476\\\",\\\"type\\\":\\\"observable\\\"},val)) : undefined; return this.valueFromJulia[\\\"changes\\\"]=false}),self),this[\\\"value\\\"].subscribe((function (val){!(this.valueFromJulia[\\\"value\\\"]) ? (WebIO.setval({\\\"name\\\":\\\"value\\\",\\\"scope\\\":\\\"6023539396506111250\\\",\\\"id\\\":\\\"710280487510622442\\\",\\\"type\\\":\\\"observable\\\"},val)) : undefined; return this.valueFromJulia[\\\"value\\\"]=false}),self)]\\n        \\n    }\\n    self.model = new AppViewModel();\\n    self.valueFromJulia = {};\\n    for (var key in json_data) {\\n        self.valueFromJulia[key] = false;\\n    }\\n    ko.applyBindings(self.model, self.dom);\\n}\\n);\\n    (WebIO.importBlock({\\\"data\\\":[{\\\"name\\\":\\\"knockout\\\",\\\"type\\\":\\\"js\\\",\\\"url\\\":\\\"\\/assetserver\\/56267940404f1bb9bd6b6043c448449c1dc073b1-knockout.js\\\"},{\\\"name\\\":\\\"knockout_punches\\\",\\\"type\\\":\\\"js\\\",\\\"url\\\":\\\"\\/assetserver\\/0a72c329e1483646114695526feb11064f269228-knockout_punches.js\\\"}],\\\"type\\\":\\\"async_block\\\"})).then((imports) => handler.apply(this, imports));\\n}\\n\"],\"observables\":{\"changes\":{\"sync\":false,\"id\":\"18331247103097620476\",\"value\":0},\"value\":{\"sync\":true,\"id\":\"710280487510622442\",\"value\":0.0}}},\"children\":[{\"props\":{\"className\":\"interact-flex-row interact-widget\"},\"nodeType\":\"DOM\",\"type\":\"node\",\"instanceArgs\":{\"namespace\":\"html\",\"tag\":\"div\"},\"children\":[{\"props\":{\"className\":\"interact-flex-row-left\"},\"nodeType\":\"DOM\",\"type\":\"node\",\"instanceArgs\":{\"namespace\":\"html\",\"tag\":\"div\"},\"children\":[{\"props\":{\"className\":\"interact \",\"style\":{\"padding\":\"5px 10px 0px 10px\"}},\"nodeType\":\"DOM\",\"type\":\"node\",\"instanceArgs\":{\"namespace\":\"html\",\"tag\":\"label\"},\"children\":[\"xmin\"]}]},{\"props\":{\"className\":\"interact-flex-row-center\"},\"nodeType\":\"DOM\",\"type\":\"node\",\"instanceArgs\":{\"namespace\":\"html\",\"tag\":\"div\"},\"children\":[{\"props\":{\"attributes\":{\"type\":\"number\",\"data-bind\":\"numericValue: value, valueUpdate: 'input', event: {change: function (){this.changes(this.changes()+1)}}\"},\"placeholder\":\"\",\"className\":\"input \",\"style\":{}},\"nodeType\":\"DOM\",\"type\":\"node\",\"instanceArgs\":{\"namespace\":\"html\",\"tag\":\"input\"},\"children\":[]}]},{\"props\":{\"className\":\"interact-flex-row-right\"},\"nodeType\":\"DOM\",\"type\":\"node\",\"instanceArgs\":{\"namespace\":\"html\",\"tag\":\"div\"},\"children\":[{\"props\":{},\"nodeType\":\"DOM\",\"type\":\"node\",\"instanceArgs\":{\"namespace\":\"html\",\"tag\":\"div\"},\"children\":[]}]}]}]}]},{\"props\":{\"className\":\"field interact-widget\"},\"nodeType\":\"DOM\",\"type\":\"node\",\"instanceArgs\":{\"namespace\":\"html\",\"tag\":\"div\"},\"children\":[{\"props\":{},\"nodeType\":\"Scope\",\"type\":\"node\",\"instanceArgs\":{\"imports\":{\"data\":[{\"name\":\"knockout\",\"type\":\"js\",\"url\":\"\\/assetserver\\/56267940404f1bb9bd6b6043c448449c1dc073b1-knockout.js\"},{\"name\":\"knockout_punches\",\"type\":\"js\",\"url\":\"\\/assetserver\\/0a72c329e1483646114695526feb11064f269228-knockout_punches.js\"},{\"name\":null,\"type\":\"js\",\"url\":\"\\/assetserver\\/b8614d2e56e0d249eac1db3d82517b1e994c720e-all.js\"},{\"name\":null,\"type\":\"css\",\"url\":\"\\/assetserver\\/654fc3e0b4a02783a170cba06497138e3c4f9f43-style.css\"},{\"name\":null,\"type\":\"css\",\"url\":\"\\/assetserver\\/d3843517cd0512ad3bd6d620a3332ebc2f8686ce-bulma_confined.min.css\"}],\"type\":\"async_block\"},\"id\":\"4813057942217081262\",\"handlers\":{\"changes\":[\"(function (val){return (val!=this.model[\\\"changes\\\"]()) ? (this.valueFromJulia[\\\"changes\\\"]=true, this.model[\\\"changes\\\"](val)) : undefined})\"],\"value\":[\"(function (val){return (val!=this.model[\\\"value\\\"]()) ? (this.valueFromJulia[\\\"value\\\"]=true, this.model[\\\"value\\\"](val)) : undefined})\"]},\"systemjs_options\":null,\"mount_callbacks\":[\"function () {\\n    var handler = (function (ko, koPunches) {\\n    ko.punches.enableAll();\\n    ko.bindingHandlers.numericValue = {\\n        init: function(element, valueAccessor, allBindings, data, context) {\\n            var stringified = ko.observable(ko.unwrap(valueAccessor()));\\n            stringified.subscribe(function(value) {\\n                var val = parseFloat(value);\\n                if (!isNaN(val)) {\\n                    valueAccessor()(val);\\n                }\\n            });\\n            valueAccessor().subscribe(function(value) {\\n                var str = JSON.stringify(value);\\n                if ((str == \\\"0\\\") && ([\\\"-0\\\", \\\"-0.\\\"].indexOf(stringified()) >= 0))\\n                     return;\\n                 if ([\\\"null\\\", \\\"\\\"].indexOf(str) >= 0)\\n                     return;\\n                stringified(str);\\n            });\\n            ko.applyBindingsToNode(\\n                element,\\n                {\\n                    value: stringified,\\n                    valueUpdate: allBindings.get('valueUpdate'),\\n                },\\n                context,\\n            );\\n        }\\n    };\\n    var json_data = {\\\"changes\\\":WebIO.getval({\\\"name\\\":\\\"changes\\\",\\\"scope\\\":\\\"4813057942217081262\\\",\\\"id\\\":\\\"17148596036159411266\\\",\\\"type\\\":\\\"observable\\\"}),\\\"value\\\":WebIO.getval({\\\"name\\\":\\\"value\\\",\\\"scope\\\":\\\"4813057942217081262\\\",\\\"id\\\":\\\"5393748715275092301\\\",\\\"type\\\":\\\"observable\\\"})};\\n    var self = this;\\n    function AppViewModel() {\\n        for (var key in json_data) {\\n            var el = json_data[key];\\n            this[key] = Array.isArray(el) ? ko.observableArray(el) : ko.observable(el);\\n        }\\n        \\n        \\n        [this[\\\"changes\\\"].subscribe((function (val){!(this.valueFromJulia[\\\"changes\\\"]) ? (WebIO.setval({\\\"name\\\":\\\"changes\\\",\\\"scope\\\":\\\"4813057942217081262\\\",\\\"id\\\":\\\"17148596036159411266\\\",\\\"type\\\":\\\"observable\\\"},val)) : undefined; return this.valueFromJulia[\\\"changes\\\"]=false}),self),this[\\\"value\\\"].subscribe((function (val){!(this.valueFromJulia[\\\"value\\\"]) ? (WebIO.setval({\\\"name\\\":\\\"value\\\",\\\"scope\\\":\\\"4813057942217081262\\\",\\\"id\\\":\\\"5393748715275092301\\\",\\\"type\\\":\\\"observable\\\"},val)) : undefined; return this.valueFromJulia[\\\"value\\\"]=false}),self)]\\n        \\n    }\\n    self.model = new AppViewModel();\\n    self.valueFromJulia = {};\\n    for (var key in json_data) {\\n        self.valueFromJulia[key] = false;\\n    }\\n    ko.applyBindings(self.model, self.dom);\\n}\\n);\\n    (WebIO.importBlock({\\\"data\\\":[{\\\"name\\\":\\\"knockout\\\",\\\"type\\\":\\\"js\\\",\\\"url\\\":\\\"\\/assetserver\\/56267940404f1bb9bd6b6043c448449c1dc073b1-knockout.js\\\"},{\\\"name\\\":\\\"knockout_punches\\\",\\\"type\\\":\\\"js\\\",\\\"url\\\":\\\"\\/assetserver\\/0a72c329e1483646114695526feb11064f269228-knockout_punches.js\\\"}],\\\"type\\\":\\\"async_block\\\"})).then((imports) => handler.apply(this, imports));\\n}\\n\"],\"observables\":{\"changes\":{\"sync\":false,\"id\":\"17148596036159411266\",\"value\":0},\"value\":{\"sync\":true,\"id\":\"5393748715275092301\",\"value\":40.0}}},\"children\":[{\"props\":{\"className\":\"interact-flex-row interact-widget\"},\"nodeType\":\"DOM\",\"type\":\"node\",\"instanceArgs\":{\"namespace\":\"html\",\"tag\":\"div\"},\"children\":[{\"props\":{\"className\":\"interact-flex-row-left\"},\"nodeType\":\"DOM\",\"type\":\"node\",\"instanceArgs\":{\"namespace\":\"html\",\"tag\":\"div\"},\"children\":[{\"props\":{\"className\":\"interact \",\"style\":{\"padding\":\"5px 10px 0px 10px\"}},\"nodeType\":\"DOM\",\"type\":\"node\",\"instanceArgs\":{\"namespace\":\"html\",\"tag\":\"label\"},\"children\":[\"xmax\"]}]},{\"props\":{\"className\":\"interact-flex-row-center\"},\"nodeType\":\"DOM\",\"type\":\"node\",\"instanceArgs\":{\"namespace\":\"html\",\"tag\":\"div\"},\"children\":[{\"props\":{\"attributes\":{\"type\":\"number\",\"data-bind\":\"numericValue: value, valueUpdate: 'input', event: {change: function (){this.changes(this.changes()+1)}}\"},\"placeholder\":\"\",\"className\":\"input \",\"style\":{}},\"nodeType\":\"DOM\",\"type\":\"node\",\"instanceArgs\":{\"namespace\":\"html\",\"tag\":\"input\"},\"children\":[]}]},{\"props\":{\"className\":\"interact-flex-row-right\"},\"nodeType\":\"DOM\",\"type\":\"node\",\"instanceArgs\":{\"namespace\":\"html\",\"tag\":\"div\"},\"children\":[{\"props\":{},\"nodeType\":\"DOM\",\"type\":\"node\",\"instanceArgs\":{\"namespace\":\"html\",\"tag\":\"div\"},\"children\":[]}]}]}]}]},{\"props\":{\"className\":\"field interact-widget\"},\"nodeType\":\"DOM\",\"type\":\"node\",\"instanceArgs\":{\"namespace\":\"html\",\"tag\":\"div\"},\"children\":[{\"props\":{},\"nodeType\":\"Scope\",\"type\":\"node\",\"instanceArgs\":{\"imports\":{\"data\":[{\"name\":\"knockout\",\"type\":\"js\",\"url\":\"\\/assetserver\\/56267940404f1bb9bd6b6043c448449c1dc073b1-knockout.js\"},{\"name\":\"knockout_punches\",\"type\":\"js\",\"url\":\"\\/assetserver\\/0a72c329e1483646114695526feb11064f269228-knockout_punches.js\"},{\"name\":null,\"type\":\"js\",\"url\":\"\\/assetserver\\/b8614d2e56e0d249eac1db3d82517b1e994c720e-all.js\"},{\"name\":null,\"type\":\"css\",\"url\":\"\\/assetserver\\/654fc3e0b4a02783a170cba06497138e3c4f9f43-style.css\"},{\"name\":null,\"type\":\"css\",\"url\":\"\\/assetserver\\/d3843517cd0512ad3bd6d620a3332ebc2f8686ce-bulma_confined.min.css\"}],\"type\":\"async_block\"},\"id\":\"8401107104383973697\",\"handlers\":{\"changes\":[\"(function (val){return (val!=this.model[\\\"changes\\\"]()) ? (this.valueFromJulia[\\\"changes\\\"]=true, this.model[\\\"changes\\\"](val)) : undefined})\"],\"value\":[\"(function (val){return (val!=this.model[\\\"value\\\"]()) ? (this.valueFromJulia[\\\"value\\\"]=true, this.model[\\\"value\\\"](val)) : undefined})\"]},\"systemjs_options\":null,\"mount_callbacks\":[\"function () {\\n    var handler = (function (ko, koPunches) {\\n    ko.punches.enableAll();\\n    ko.bindingHandlers.numericValue = {\\n        init: function(element, valueAccessor, allBindings, data, context) {\\n            var stringified = ko.observable(ko.unwrap(valueAccessor()));\\n            stringified.subscribe(function(value) {\\n                var val = parseFloat(value);\\n                if (!isNaN(val)) {\\n                    valueAccessor()(val);\\n                }\\n            });\\n            valueAccessor().subscribe(function(value) {\\n                var str = JSON.stringify(value);\\n                if ((str == \\\"0\\\") && ([\\\"-0\\\", \\\"-0.\\\"].indexOf(stringified()) >= 0))\\n                     return;\\n                 if ([\\\"null\\\", \\\"\\\"].indexOf(str) >= 0)\\n                     return;\\n                stringified(str);\\n            });\\n            ko.applyBindingsToNode(\\n                element,\\n                {\\n                    value: stringified,\\n                    valueUpdate: allBindings.get('valueUpdate'),\\n                },\\n                context,\\n            );\\n        }\\n    };\\n    var json_data = {\\\"changes\\\":WebIO.getval({\\\"name\\\":\\\"changes\\\",\\\"scope\\\":\\\"8401107104383973697\\\",\\\"id\\\":\\\"15460326188968926072\\\",\\\"type\\\":\\\"observable\\\"}),\\\"value\\\":WebIO.getval({\\\"name\\\":\\\"value\\\",\\\"scope\\\":\\\"8401107104383973697\\\",\\\"id\\\":\\\"13756445961009959400\\\",\\\"type\\\":\\\"observable\\\"})};\\n    var self = this;\\n    function AppViewModel() {\\n        for (var key in json_data) {\\n            var el = json_data[key];\\n            this[key] = Array.isArray(el) ? ko.observableArray(el) : ko.observable(el);\\n        }\\n        \\n        \\n        [this[\\\"changes\\\"].subscribe((function (val){!(this.valueFromJulia[\\\"changes\\\"]) ? (WebIO.setval({\\\"name\\\":\\\"changes\\\",\\\"scope\\\":\\\"8401107104383973697\\\",\\\"id\\\":\\\"15460326188968926072\\\",\\\"type\\\":\\\"observable\\\"},val)) : undefined; return this.valueFromJulia[\\\"changes\\\"]=false}),self),this[\\\"value\\\"].subscribe((function (val){!(this.valueFromJulia[\\\"value\\\"]) ? (WebIO.setval({\\\"name\\\":\\\"value\\\",\\\"scope\\\":\\\"8401107104383973697\\\",\\\"id\\\":\\\"13756445961009959400\\\",\\\"type\\\":\\\"observable\\\"},val)) : undefined; return this.valueFromJulia[\\\"value\\\"]=false}),self)]\\n        \\n    }\\n    self.model = new AppViewModel();\\n    self.valueFromJulia = {};\\n    for (var key in json_data) {\\n        self.valueFromJulia[key] = false;\\n    }\\n    ko.applyBindings(self.model, self.dom);\\n}\\n);\\n    (WebIO.importBlock({\\\"data\\\":[{\\\"name\\\":\\\"knockout\\\",\\\"type\\\":\\\"js\\\",\\\"url\\\":\\\"\\/assetserver\\/56267940404f1bb9bd6b6043c448449c1dc073b1-knockout.js\\\"},{\\\"name\\\":\\\"knockout_punches\\\",\\\"type\\\":\\\"js\\\",\\\"url\\\":\\\"\\/assetserver\\/0a72c329e1483646114695526feb11064f269228-knockout_punches.js\\\"}],\\\"type\\\":\\\"async_block\\\"})).then((imports) => handler.apply(this, imports));\\n}\\n\"],\"observables\":{\"changes\":{\"sync\":false,\"id\":\"15460326188968926072\",\"value\":0},\"value\":{\"sync\":true,\"id\":\"13756445961009959400\",\"value\":-1000.0}}},\"children\":[{\"props\":{\"className\":\"interact-flex-row interact-widget\"},\"nodeType\":\"DOM\",\"type\":\"node\",\"instanceArgs\":{\"namespace\":\"html\",\"tag\":\"div\"},\"children\":[{\"props\":{\"className\":\"interact-flex-row-left\"},\"nodeType\":\"DOM\",\"type\":\"node\",\"instanceArgs\":{\"namespace\":\"html\",\"tag\":\"div\"},\"children\":[{\"props\":{\"className\":\"interact \",\"style\":{\"padding\":\"5px 10px 0px 10px\"}},\"nodeType\":\"DOM\",\"type\":\"node\",\"instanceArgs\":{\"namespace\":\"html\",\"tag\":\"label\"},\"children\":[\"ymin\"]}]},{\"props\":{\"className\":\"interact-flex-row-center\"},\"nodeType\":\"DOM\",\"type\":\"node\",\"instanceArgs\":{\"namespace\":\"html\",\"tag\":\"div\"},\"children\":[{\"props\":{\"attributes\":{\"type\":\"number\",\"data-bind\":\"numericValue: value, valueUpdate: 'input', event: {change: function (){this.changes(this.changes()+1)}}\"},\"placeholder\":\"\",\"className\":\"input \",\"style\":{}},\"nodeType\":\"DOM\",\"type\":\"node\",\"instanceArgs\":{\"namespace\":\"html\",\"tag\":\"input\"},\"children\":[]}]},{\"props\":{\"className\":\"interact-flex-row-right\"},\"nodeType\":\"DOM\",\"type\":\"node\",\"instanceArgs\":{\"namespace\":\"html\",\"tag\":\"div\"},\"children\":[{\"props\":{},\"nodeType\":\"DOM\",\"type\":\"node\",\"instanceArgs\":{\"namespace\":\"html\",\"tag\":\"div\"},\"children\":[]}]}]}]}]},{\"props\":{\"className\":\"field interact-widget\"},\"nodeType\":\"DOM\",\"type\":\"node\",\"instanceArgs\":{\"namespace\":\"html\",\"tag\":\"div\"},\"children\":[{\"props\":{},\"nodeType\":\"Scope\",\"type\":\"node\",\"instanceArgs\":{\"imports\":{\"data\":[{\"name\":\"knockout\",\"type\":\"js\",\"url\":\"\\/assetserver\\/56267940404f1bb9bd6b6043c448449c1dc073b1-knockout.js\"},{\"name\":\"knockout_punches\",\"type\":\"js\",\"url\":\"\\/assetserver\\/0a72c329e1483646114695526feb11064f269228-knockout_punches.js\"},{\"name\":null,\"type\":\"js\",\"url\":\"\\/assetserver\\/b8614d2e56e0d249eac1db3d82517b1e994c720e-all.js\"},{\"name\":null,\"type\":\"css\",\"url\":\"\\/assetserver\\/654fc3e0b4a02783a170cba06497138e3c4f9f43-style.css\"},{\"name\":null,\"type\":\"css\",\"url\":\"\\/assetserver\\/d3843517cd0512ad3bd6d620a3332ebc2f8686ce-bulma_confined.min.css\"}],\"type\":\"async_block\"},\"id\":\"2635931614337328366\",\"handlers\":{\"changes\":[\"(function (val){return (val!=this.model[\\\"changes\\\"]()) ? (this.valueFromJulia[\\\"changes\\\"]=true, this.model[\\\"changes\\\"](val)) : undefined})\"],\"value\":[\"(function (val){return (val!=this.model[\\\"value\\\"]()) ? (this.valueFromJulia[\\\"value\\\"]=true, this.model[\\\"value\\\"](val)) : undefined})\"]},\"systemjs_options\":null,\"mount_callbacks\":[\"function () {\\n    var handler = (function (ko, koPunches) {\\n    ko.punches.enableAll();\\n    ko.bindingHandlers.numericValue = {\\n        init: function(element, valueAccessor, allBindings, data, context) {\\n            var stringified = ko.observable(ko.unwrap(valueAccessor()));\\n            stringified.subscribe(function(value) {\\n                var val = parseFloat(value);\\n                if (!isNaN(val)) {\\n                    valueAccessor()(val);\\n                }\\n            });\\n            valueAccessor().subscribe(function(value) {\\n                var str = JSON.stringify(value);\\n                if ((str == \\\"0\\\") && ([\\\"-0\\\", \\\"-0.\\\"].indexOf(stringified()) >= 0))\\n                     return;\\n                 if ([\\\"null\\\", \\\"\\\"].indexOf(str) >= 0)\\n                     return;\\n                stringified(str);\\n            });\\n            ko.applyBindingsToNode(\\n                element,\\n                {\\n                    value: stringified,\\n                    valueUpdate: allBindings.get('valueUpdate'),\\n                },\\n                context,\\n            );\\n        }\\n    };\\n    var json_data = {\\\"changes\\\":WebIO.getval({\\\"name\\\":\\\"changes\\\",\\\"scope\\\":\\\"2635931614337328366\\\",\\\"id\\\":\\\"17739286764859911367\\\",\\\"type\\\":\\\"observable\\\"}),\\\"value\\\":WebIO.getval({\\\"name\\\":\\\"value\\\",\\\"scope\\\":\\\"2635931614337328366\\\",\\\"id\\\":\\\"12341229649776336883\\\",\\\"type\\\":\\\"observable\\\"})};\\n    var self = this;\\n    function AppViewModel() {\\n        for (var key in json_data) {\\n            var el = json_data[key];\\n            this[key] = Array.isArray(el) ? ko.observableArray(el) : ko.observable(el);\\n        }\\n        \\n        \\n        [this[\\\"changes\\\"].subscribe((function (val){!(this.valueFromJulia[\\\"changes\\\"]) ? (WebIO.setval({\\\"name\\\":\\\"changes\\\",\\\"scope\\\":\\\"2635931614337328366\\\",\\\"id\\\":\\\"17739286764859911367\\\",\\\"type\\\":\\\"observable\\\"},val)) : undefined; return this.valueFromJulia[\\\"changes\\\"]=false}),self),this[\\\"value\\\"].subscribe((function (val){!(this.valueFromJulia[\\\"value\\\"]) ? (WebIO.setval({\\\"name\\\":\\\"value\\\",\\\"scope\\\":\\\"2635931614337328366\\\",\\\"id\\\":\\\"12341229649776336883\\\",\\\"type\\\":\\\"observable\\\"},val)) : undefined; return this.valueFromJulia[\\\"value\\\"]=false}),self)]\\n        \\n    }\\n    self.model = new AppViewModel();\\n    self.valueFromJulia = {};\\n    for (var key in json_data) {\\n        self.valueFromJulia[key] = false;\\n    }\\n    ko.applyBindings(self.model, self.dom);\\n}\\n);\\n    (WebIO.importBlock({\\\"data\\\":[{\\\"name\\\":\\\"knockout\\\",\\\"type\\\":\\\"js\\\",\\\"url\\\":\\\"\\/assetserver\\/56267940404f1bb9bd6b6043c448449c1dc073b1-knockout.js\\\"},{\\\"name\\\":\\\"knockout_punches\\\",\\\"type\\\":\\\"js\\\",\\\"url\\\":\\\"\\/assetserver\\/0a72c329e1483646114695526feb11064f269228-knockout_punches.js\\\"}],\\\"type\\\":\\\"async_block\\\"})).then((imports) => handler.apply(this, imports));\\n}\\n\"],\"observables\":{\"changes\":{\"sync\":false,\"id\":\"17739286764859911367\",\"value\":0},\"value\":{\"sync\":true,\"id\":\"12341229649776336883\",\"value\":1000.0}}},\"children\":[{\"props\":{\"className\":\"interact-flex-row interact-widget\"},\"nodeType\":\"DOM\",\"type\":\"node\",\"instanceArgs\":{\"namespace\":\"html\",\"tag\":\"div\"},\"children\":[{\"props\":{\"className\":\"interact-flex-row-left\"},\"nodeType\":\"DOM\",\"type\":\"node\",\"instanceArgs\":{\"namespace\":\"html\",\"tag\":\"div\"},\"children\":[{\"props\":{\"className\":\"interact \",\"style\":{\"padding\":\"5px 10px 0px 10px\"}},\"nodeType\":\"DOM\",\"type\":\"node\",\"instanceArgs\":{\"namespace\":\"html\",\"tag\":\"label\"},\"children\":[\"ymax\"]}]},{\"props\":{\"className\":\"interact-flex-row-center\"},\"nodeType\":\"DOM\",\"type\":\"node\",\"instanceArgs\":{\"namespace\":\"html\",\"tag\":\"div\"},\"children\":[{\"props\":{\"attributes\":{\"type\":\"number\",\"data-bind\":\"numericValue: value, valueUpdate: 'input', event: {change: function (){this.changes(this.changes()+1)}}\"},\"placeholder\":\"\",\"className\":\"input \",\"style\":{}},\"nodeType\":\"DOM\",\"type\":\"node\",\"instanceArgs\":{\"namespace\":\"html\",\"tag\":\"input\"},\"children\":[]}]},{\"props\":{\"className\":\"interact-flex-row-right\"},\"nodeType\":\"DOM\",\"type\":\"node\",\"instanceArgs\":{\"namespace\":\"html\",\"tag\":\"div\"},\"children\":[{\"props\":{},\"nodeType\":\"DOM\",\"type\":\"node\",\"instanceArgs\":{\"namespace\":\"html\",\"tag\":\"div\"},\"children\":[]}]}]}]}]},{\"props\":{\"className\":\"field interact-widget\"},\"nodeType\":\"DOM\",\"type\":\"node\",\"instanceArgs\":{\"namespace\":\"html\",\"tag\":\"div\"},\"children\":[{\"props\":{},\"nodeType\":\"Scope\",\"type\":\"node\",\"instanceArgs\":{\"imports\":{\"data\":[{\"name\":\"knockout\",\"type\":\"js\",\"url\":\"\\/assetserver\\/56267940404f1bb9bd6b6043c448449c1dc073b1-knockout.js\"},{\"name\":\"knockout_punches\",\"type\":\"js\",\"url\":\"\\/assetserver\\/0a72c329e1483646114695526feb11064f269228-knockout_punches.js\"},{\"name\":null,\"type\":\"js\",\"url\":\"\\/assetserver\\/b8614d2e56e0d249eac1db3d82517b1e994c720e-all.js\"},{\"name\":null,\"type\":\"css\",\"url\":\"\\/assetserver\\/654fc3e0b4a02783a170cba06497138e3c4f9f43-style.css\"},{\"name\":null,\"type\":\"css\",\"url\":\"\\/assetserver\\/d3843517cd0512ad3bd6d620a3332ebc2f8686ce-bulma_confined.min.css\"}],\"type\":\"async_block\"},\"id\":\"1981712881869858617\",\"handlers\":{\"changes\":[\"(function (val){return (val!=this.model[\\\"changes\\\"]()) ? (this.valueFromJulia[\\\"changes\\\"]=true, this.model[\\\"changes\\\"](val)) : undefined})\"],\"value\":[\"(function (val){return (val!=this.model[\\\"value\\\"]()) ? (this.valueFromJulia[\\\"value\\\"]=true, this.model[\\\"value\\\"](val)) : undefined})\"]},\"systemjs_options\":null,\"mount_callbacks\":[\"function () {\\n    var handler = (function (ko, koPunches) {\\n    ko.punches.enableAll();\\n    ko.bindingHandlers.numericValue = {\\n        init: function(element, valueAccessor, allBindings, data, context) {\\n            var stringified = ko.observable(ko.unwrap(valueAccessor()));\\n            stringified.subscribe(function(value) {\\n                var val = parseFloat(value);\\n                if (!isNaN(val)) {\\n                    valueAccessor()(val);\\n                }\\n            });\\n            valueAccessor().subscribe(function(value) {\\n                var str = JSON.stringify(value);\\n                if ((str == \\\"0\\\") && ([\\\"-0\\\", \\\"-0.\\\"].indexOf(stringified()) >= 0))\\n                     return;\\n                 if ([\\\"null\\\", \\\"\\\"].indexOf(str) >= 0)\\n                     return;\\n                stringified(str);\\n            });\\n            ko.applyBindingsToNode(\\n                element,\\n                {\\n                    value: stringified,\\n                    valueUpdate: allBindings.get('valueUpdate'),\\n                },\\n                context,\\n            );\\n        }\\n    };\\n    var json_data = {\\\"changes\\\":WebIO.getval({\\\"name\\\":\\\"changes\\\",\\\"scope\\\":\\\"1981712881869858617\\\",\\\"id\\\":\\\"11676623740762773728\\\",\\\"type\\\":\\\"observable\\\"}),\\\"value\\\":WebIO.getval({\\\"name\\\":\\\"value\\\",\\\"scope\\\":\\\"1981712881869858617\\\",\\\"id\\\":\\\"6109526567632388629\\\",\\\"type\\\":\\\"observable\\\"})};\\n    var self = this;\\n    function AppViewModel() {\\n        for (var key in json_data) {\\n            var el = json_data[key];\\n            this[key] = Array.isArray(el) ? ko.observableArray(el) : ko.observable(el);\\n        }\\n        \\n        \\n        [this[\\\"changes\\\"].subscribe((function (val){!(this.valueFromJulia[\\\"changes\\\"]) ? (WebIO.setval({\\\"name\\\":\\\"changes\\\",\\\"scope\\\":\\\"1981712881869858617\\\",\\\"id\\\":\\\"11676623740762773728\\\",\\\"type\\\":\\\"observable\\\"},val)) : undefined; return this.valueFromJulia[\\\"changes\\\"]=false}),self),this[\\\"value\\\"].subscribe((function (val){!(this.valueFromJulia[\\\"value\\\"]) ? (WebIO.setval({\\\"name\\\":\\\"value\\\",\\\"scope\\\":\\\"1981712881869858617\\\",\\\"id\\\":\\\"6109526567632388629\\\",\\\"type\\\":\\\"observable\\\"},val)) : undefined; return this.valueFromJulia[\\\"value\\\"]=false}),self)]\\n        \\n    }\\n    self.model = new AppViewModel();\\n    self.valueFromJulia = {};\\n    for (var key in json_data) {\\n        self.valueFromJulia[key] = false;\\n    }\\n    ko.applyBindings(self.model, self.dom);\\n}\\n);\\n    (WebIO.importBlock({\\\"data\\\":[{\\\"name\\\":\\\"knockout\\\",\\\"type\\\":\\\"js\\\",\\\"url\\\":\\\"\\/assetserver\\/56267940404f1bb9bd6b6043c448449c1dc073b1-knockout.js\\\"},{\\\"name\\\":\\\"knockout_punches\\\",\\\"type\\\":\\\"js\\\",\\\"url\\\":\\\"\\/assetserver\\/0a72c329e1483646114695526feb11064f269228-knockout_punches.js\\\"}],\\\"type\\\":\\\"async_block\\\"})).then((imports) => handler.apply(this, imports));\\n}\\n\"],\"observables\":{\"changes\":{\"sync\":false,\"id\":\"11676623740762773728\",\"value\":0},\"value\":{\"sync\":true,\"id\":\"6109526567632388629\",\"value\":0.0}}},\"children\":[{\"props\":{\"className\":\"interact-flex-row interact-widget\"},\"nodeType\":\"DOM\",\"type\":\"node\",\"instanceArgs\":{\"namespace\":\"html\",\"tag\":\"div\"},\"children\":[{\"props\":{\"className\":\"interact-flex-row-left\"},\"nodeType\":\"DOM\",\"type\":\"node\",\"instanceArgs\":{\"namespace\":\"html\",\"tag\":\"div\"},\"children\":[{\"props\":{\"className\":\"interact \",\"style\":{\"padding\":\"5px 10px 0px 10px\"}},\"nodeType\":\"DOM\",\"type\":\"node\",\"instanceArgs\":{\"namespace\":\"html\",\"tag\":\"label\"},\"children\":[\"dh0\"]}]},{\"props\":{\"className\":\"interact-flex-row-center\"},\"nodeType\":\"DOM\",\"type\":\"node\",\"instanceArgs\":{\"namespace\":\"html\",\"tag\":\"div\"},\"children\":[{\"props\":{\"attributes\":{\"type\":\"number\",\"data-bind\":\"numericValue: value, valueUpdate: 'input', event: {change: function (){this.changes(this.changes()+1)}}\"},\"placeholder\":\"\",\"className\":\"input \",\"style\":{}},\"nodeType\":\"DOM\",\"type\":\"node\",\"instanceArgs\":{\"namespace\":\"html\",\"tag\":\"input\"},\"children\":[]}]},{\"props\":{\"className\":\"interact-flex-row-right\"},\"nodeType\":\"DOM\",\"type\":\"node\",\"instanceArgs\":{\"namespace\":\"html\",\"tag\":\"div\"},\"children\":[{\"props\":{},\"nodeType\":\"DOM\",\"type\":\"node\",\"instanceArgs\":{\"namespace\":\"html\",\"tag\":\"div\"},\"children\":[]}]}]}]}]},{\"props\":{\"className\":\"field interact-widget\"},\"nodeType\":\"DOM\",\"type\":\"node\",\"instanceArgs\":{\"namespace\":\"html\",\"tag\":\"div\"},\"children\":[{\"props\":{},\"nodeType\":\"Scope\",\"type\":\"node\",\"instanceArgs\":{\"imports\":{\"data\":[{\"name\":\"knockout\",\"type\":\"js\",\"url\":\"\\/assetserver\\/56267940404f1bb9bd6b6043c448449c1dc073b1-knockout.js\"},{\"name\":\"knockout_punches\",\"type\":\"js\",\"url\":\"\\/assetserver\\/0a72c329e1483646114695526feb11064f269228-knockout_punches.js\"},{\"name\":null,\"type\":\"js\",\"url\":\"\\/assetserver\\/b8614d2e56e0d249eac1db3d82517b1e994c720e-all.js\"},{\"name\":null,\"type\":\"css\",\"url\":\"\\/assetserver\\/654fc3e0b4a02783a170cba06497138e3c4f9f43-style.css\"},{\"name\":null,\"type\":\"css\",\"url\":\"\\/assetserver\\/d3843517cd0512ad3bd6d620a3332ebc2f8686ce-bulma_confined.min.css\"}],\"type\":\"async_block\"},\"id\":\"10980076276381645781\",\"handlers\":{\"changes\":[\"(function (val){return (val!=this.model[\\\"changes\\\"]()) ? (this.valueFromJulia[\\\"changes\\\"]=true, this.model[\\\"changes\\\"](val)) : undefined})\"],\"value\":[\"(function (val){return (val!=this.model[\\\"value\\\"]()) ? (this.valueFromJulia[\\\"value\\\"]=true, this.model[\\\"value\\\"](val)) : undefined})\"]},\"systemjs_options\":null,\"mount_callbacks\":[\"function () {\\n    var handler = (function (ko, koPunches) {\\n    ko.punches.enableAll();\\n    ko.bindingHandlers.numericValue = {\\n        init: function(element, valueAccessor, allBindings, data, context) {\\n            var stringified = ko.observable(ko.unwrap(valueAccessor()));\\n            stringified.subscribe(function(value) {\\n                var val = parseFloat(value);\\n                if (!isNaN(val)) {\\n                    valueAccessor()(val);\\n                }\\n            });\\n            valueAccessor().subscribe(function(value) {\\n                var str = JSON.stringify(value);\\n                if ((str == \\\"0\\\") && ([\\\"-0\\\", \\\"-0.\\\"].indexOf(stringified()) >= 0))\\n                     return;\\n                 if ([\\\"null\\\", \\\"\\\"].indexOf(str) >= 0)\\n                     return;\\n                stringified(str);\\n            });\\n            ko.applyBindingsToNode(\\n                element,\\n                {\\n                    value: stringified,\\n                    valueUpdate: allBindings.get('valueUpdate'),\\n                },\\n                context,\\n            );\\n        }\\n    };\\n    var json_data = {\\\"changes\\\":WebIO.getval({\\\"name\\\":\\\"changes\\\",\\\"scope\\\":\\\"10980076276381645781\\\",\\\"id\\\":\\\"4446414484945878832\\\",\\\"type\\\":\\\"observable\\\"}),\\\"value\\\":WebIO.getval({\\\"name\\\":\\\"value\\\",\\\"scope\\\":\\\"10980076276381645781\\\",\\\"id\\\":\\\"5247328824056903330\\\",\\\"type\\\":\\\"observable\\\"})};\\n    var self = this;\\n    function AppViewModel() {\\n        for (var key in json_data) {\\n            var el = json_data[key];\\n            this[key] = Array.isArray(el) ? ko.observableArray(el) : ko.observable(el);\\n        }\\n        \\n        \\n        [this[\\\"changes\\\"].subscribe((function (val){!(this.valueFromJulia[\\\"changes\\\"]) ? (WebIO.setval({\\\"name\\\":\\\"changes\\\",\\\"scope\\\":\\\"10980076276381645781\\\",\\\"id\\\":\\\"4446414484945878832\\\",\\\"type\\\":\\\"observable\\\"},val)) : undefined; return this.valueFromJulia[\\\"changes\\\"]=false}),self),this[\\\"value\\\"].subscribe((function (val){!(this.valueFromJulia[\\\"value\\\"]) ? (WebIO.setval({\\\"name\\\":\\\"value\\\",\\\"scope\\\":\\\"10980076276381645781\\\",\\\"id\\\":\\\"5247328824056903330\\\",\\\"type\\\":\\\"observable\\\"},val)) : undefined; return this.valueFromJulia[\\\"value\\\"]=false}),self)]\\n        \\n    }\\n    self.model = new AppViewModel();\\n    self.valueFromJulia = {};\\n    for (var key in json_data) {\\n        self.valueFromJulia[key] = false;\\n    }\\n    ko.applyBindings(self.model, self.dom);\\n}\\n);\\n    (WebIO.importBlock({\\\"data\\\":[{\\\"name\\\":\\\"knockout\\\",\\\"type\\\":\\\"js\\\",\\\"url\\\":\\\"\\/assetserver\\/56267940404f1bb9bd6b6043c448449c1dc073b1-knockout.js\\\"},{\\\"name\\\":\\\"knockout_punches\\\",\\\"type\\\":\\\"js\\\",\\\"url\\\":\\\"\\/assetserver\\/0a72c329e1483646114695526feb11064f269228-knockout_punches.js\\\"}],\\\"type\\\":\\\"async_block\\\"})).then((imports) => handler.apply(this, imports));\\n}\\n\"],\"observables\":{\"changes\":{\"sync\":false,\"id\":\"4446414484945878832\",\"value\":0},\"value\":{\"sync\":true,\"id\":\"5247328824056903330\",\"value\":0.0}}},\"children\":[{\"props\":{\"className\":\"interact-flex-row interact-widget\"},\"nodeType\":\"DOM\",\"type\":\"node\",\"instanceArgs\":{\"namespace\":\"html\",\"tag\":\"div\"},\"children\":[{\"props\":{\"className\":\"interact-flex-row-left\"},\"nodeType\":\"DOM\",\"type\":\"node\",\"instanceArgs\":{\"namespace\":\"html\",\"tag\":\"div\"},\"children\":[{\"props\":{\"className\":\"interact \",\"style\":{\"padding\":\"5px 10px 0px 10px\"}},\"nodeType\":\"DOM\",\"type\":\"node\",\"instanceArgs\":{\"namespace\":\"html\",\"tag\":\"label\"},\"children\":[\"dh1\"]}]},{\"props\":{\"className\":\"interact-flex-row-center\"},\"nodeType\":\"DOM\",\"type\":\"node\",\"instanceArgs\":{\"namespace\":\"html\",\"tag\":\"div\"},\"children\":[{\"props\":{\"attributes\":{\"type\":\"number\",\"data-bind\":\"numericValue: value, valueUpdate: 'input', event: {change: function (){this.changes(this.changes()+1)}}\"},\"placeholder\":\"\",\"className\":\"input \",\"style\":{}},\"nodeType\":\"DOM\",\"type\":\"node\",\"instanceArgs\":{\"namespace\":\"html\",\"tag\":\"input\"},\"children\":[]}]},{\"props\":{\"className\":\"interact-flex-row-right\"},\"nodeType\":\"DOM\",\"type\":\"node\",\"instanceArgs\":{\"namespace\":\"html\",\"tag\":\"div\"},\"children\":[{\"props\":{},\"nodeType\":\"DOM\",\"type\":\"node\",\"instanceArgs\":{\"namespace\":\"html\",\"tag\":\"div\"},\"children\":[]}]}]}]}]},{\"props\":{\"className\":\"interact-widget\"},\"nodeType\":\"DOM\",\"type\":\"node\",\"instanceArgs\":{\"namespace\":\"html\",\"tag\":\"div\"},\"children\":[{\"props\":{},\"nodeType\":\"Scope\",\"type\":\"node\",\"instanceArgs\":{\"imports\":{\"data\":[{\"name\":\"knockout\",\"type\":\"js\",\"url\":\"\\/assetserver\\/56267940404f1bb9bd6b6043c448449c1dc073b1-knockout.js\"},{\"name\":\"knockout_punches\",\"type\":\"js\",\"url\":\"\\/assetserver\\/0a72c329e1483646114695526feb11064f269228-knockout_punches.js\"},{\"name\":null,\"type\":\"js\",\"url\":\"\\/assetserver\\/b8614d2e56e0d249eac1db3d82517b1e994c720e-all.js\"},{\"name\":null,\"type\":\"css\",\"url\":\"\\/assetserver\\/654fc3e0b4a02783a170cba06497138e3c4f9f43-style.css\"},{\"name\":null,\"type\":\"css\",\"url\":\"\\/assetserver\\/d3843517cd0512ad3bd6d620a3332ebc2f8686ce-bulma_confined.min.css\"}],\"type\":\"async_block\"},\"id\":\"18331174340368262663\",\"handlers\":{\"options_js\":[\"(function (val){return (val!=this.model[\\\"options_js\\\"]()) ? (this.valueFromJulia[\\\"options_js\\\"]=true, this.model[\\\"options_js\\\"](val)) : undefined})\"],\"index\":[\"(function (val){return (val!=this.model[\\\"index\\\"]()) ? (this.valueFromJulia[\\\"index\\\"]=true, this.model[\\\"index\\\"](val)) : undefined})\"]},\"systemjs_options\":null,\"mount_callbacks\":[\"function () {\\n    var handler = (function (ko, koPunches) {\\n    ko.punches.enableAll();\\n    ko.bindingHandlers.numericValue = {\\n        init: function(element, valueAccessor, allBindings, data, context) {\\n            var stringified = ko.observable(ko.unwrap(valueAccessor()));\\n            stringified.subscribe(function(value) {\\n                var val = parseFloat(value);\\n                if (!isNaN(val)) {\\n                    valueAccessor()(val);\\n                }\\n            });\\n            valueAccessor().subscribe(function(value) {\\n                var str = JSON.stringify(value);\\n                if ((str == \\\"0\\\") && ([\\\"-0\\\", \\\"-0.\\\"].indexOf(stringified()) >= 0))\\n                     return;\\n                 if ([\\\"null\\\", \\\"\\\"].indexOf(str) >= 0)\\n                     return;\\n                stringified(str);\\n            });\\n            ko.applyBindingsToNode(\\n                element,\\n                {\\n                    value: stringified,\\n                    valueUpdate: allBindings.get('valueUpdate'),\\n                },\\n                context,\\n            );\\n        }\\n    };\\n    var json_data = {\\\"options_js\\\":WebIO.getval({\\\"name\\\":\\\"options_js\\\",\\\"scope\\\":\\\"18331174340368262663\\\",\\\"id\\\":\\\"7057672271981364194\\\",\\\"type\\\":\\\"observable\\\"}),\\\"index\\\":WebIO.getval({\\\"name\\\":\\\"index\\\",\\\"scope\\\":\\\"18331174340368262663\\\",\\\"id\\\":\\\"13507286666094509102\\\",\\\"type\\\":\\\"observable\\\"})};\\n    var self = this;\\n    function AppViewModel() {\\n        for (var key in json_data) {\\n            var el = json_data[key];\\n            this[key] = Array.isArray(el) ? ko.observableArray(el) : ko.observable(el);\\n        }\\n        [this[\\\"update\\\"]=function (val) {this.index(val)}]\\n        \\n        [this[\\\"options_js\\\"].subscribe((function (val){!(this.valueFromJulia[\\\"options_js\\\"]) ? (WebIO.setval({\\\"name\\\":\\\"options_js\\\",\\\"scope\\\":\\\"18331174340368262663\\\",\\\"id\\\":\\\"7057672271981364194\\\",\\\"type\\\":\\\"observable\\\"},val)) : undefined; return this.valueFromJulia[\\\"options_js\\\"]=false}),self),this[\\\"index\\\"].subscribe((function (val){!(this.valueFromJulia[\\\"index\\\"]) ? (WebIO.setval({\\\"name\\\":\\\"index\\\",\\\"scope\\\":\\\"18331174340368262663\\\",\\\"id\\\":\\\"13507286666094509102\\\",\\\"type\\\":\\\"observable\\\"},val)) : undefined; return this.valueFromJulia[\\\"index\\\"]=false}),self)]\\n        \\n    }\\n    self.model = new AppViewModel();\\n    self.valueFromJulia = {};\\n    for (var key in json_data) {\\n        self.valueFromJulia[key] = false;\\n    }\\n    ko.applyBindings(self.model, self.dom);\\n}\\n);\\n    (WebIO.importBlock({\\\"data\\\":[{\\\"name\\\":\\\"knockout\\\",\\\"type\\\":\\\"js\\\",\\\"url\\\":\\\"\\/assetserver\\/56267940404f1bb9bd6b6043c448449c1dc073b1-knockout.js\\\"},{\\\"name\\\":\\\"knockout_punches\\\",\\\"type\\\":\\\"js\\\",\\\"url\\\":\\\"\\/assetserver\\/0a72c329e1483646114695526feb11064f269228-knockout_punches.js\\\"}],\\\"type\\\":\\\"async_block\\\"})).then((imports) => handler.apply(this, imports));\\n}\\n\"],\"observables\":{\"options_js\":{\"sync\":false,\"id\":\"7057672271981364194\",\"value\":[{\"key\":\"COC\",\"val\":1,\"id\":\"idVoShtLxK\"},{\"key\":\"DNC\",\"val\":2,\"id\":\"id0pZlmy0p\"},{\"key\":\"DND\",\"val\":3,\"id\":\"idzXiU4qJo\"},{\"key\":\"DES1500\",\"val\":4,\"id\":\"idtZ2iMKU3\"},{\"key\":\"CL1500\",\"val\":5,\"id\":\"idUHZM6BBk\"},{\"key\":\"SDES1500\",\"val\":6,\"id\":\"idAvFAVrwo\"},{\"key\":\"SCL1500\",\"val\":7,\"id\":\"idSS5x6elp\"},{\"key\":\"SDES2500\",\"val\":8,\"id\":\"idn0sxdDKi\"},{\"key\":\"SCL2500\",\"val\":9,\"id\":\"idjLz9FF7U\"}]},\"index\":{\"sync\":true,\"id\":\"13507286666094509102\",\"value\":1}}},\"children\":[{\"props\":{\"className\":\"interact-flex-row interact-widget\"},\"nodeType\":\"DOM\",\"type\":\"node\",\"instanceArgs\":{\"namespace\":\"html\",\"tag\":\"div\"},\"children\":[{\"props\":{\"className\":\"interact-flex-row-left\"},\"nodeType\":\"DOM\",\"type\":\"node\",\"instanceArgs\":{\"namespace\":\"html\",\"tag\":\"div\"},\"children\":[{\"props\":{\"className\":\"interact \",\"style\":{\"padding\":\"5px 10px 0px 10px\"}},\"nodeType\":\"DOM\",\"type\":\"node\",\"instanceArgs\":{\"namespace\":\"html\",\"tag\":\"label\"},\"children\":[\"pra\"]}]},{\"props\":{\"className\":\"interact-flex-row-center\"},\"nodeType\":\"DOM\",\"type\":\"node\",\"instanceArgs\":{\"namespace\":\"html\",\"tag\":\"div\"},\"children\":[{\"props\":{\"attributes\":{\"data-bind\":\"foreach : options_js\"},\"className\":\"buttons has-addons is-centered\"},\"nodeType\":\"DOM\",\"type\":\"node\",\"instanceArgs\":{\"namespace\":\"html\",\"tag\":\"div\"},\"children\":[{\"props\":{\"attributes\":{\"data-bind\":\"click: function (){$root.update(val)}, css: {'is-primary is-selected' : $root.index() == val, 'interact-widget is-medium button ' : true}\"}},\"nodeType\":\"DOM\",\"type\":\"node\",\"instanceArgs\":{\"namespace\":\"html\",\"tag\":\"span\"},\"children\":[{\"props\":{\"attributes\":{\"data-bind\":\"text : key\"}},\"nodeType\":\"DOM\",\"type\":\"node\",\"instanceArgs\":{\"namespace\":\"html\",\"tag\":\"label\"},\"children\":[]}]}]}]},{\"props\":{\"className\":\"interact-flex-row-right\"},\"nodeType\":\"DOM\",\"type\":\"node\",\"instanceArgs\":{\"namespace\":\"html\",\"tag\":\"div\"},\"children\":[{\"props\":{},\"nodeType\":\"DOM\",\"type\":\"node\",\"instanceArgs\":{\"namespace\":\"html\",\"tag\":\"div\"},\"children\":[]}]}]}]}]},{\"props\":{},\"nodeType\":\"Scope\",\"type\":\"node\",\"instanceArgs\":{\"imports\":{\"data\":[],\"type\":\"async_block\"},\"id\":\"3911425310011081006\",\"handlers\":{},\"systemjs_options\":null,\"mount_callbacks\":[],\"observables\":{\"obs-node\":{\"sync\":false,\"id\":\"3453053164658128465\",\"value\":{\"props\":{\"className\":\"interact-flex-row interact-widget\"},\"nodeType\":\"DOM\",\"type\":\"node\",\"instanceArgs\":{\"namespace\":\"html\",\"tag\":\"div\"},\"children\":[{\"props\":{\"setInnerHtml\":\"<?xml version=\\\"1.0\\\" encoding=\\\"UTF-8\\\"?>\\n<svg xmlns=\\\"http:\\/\\/www.w3.org\\/2000\\/svg\\\" xmlns:xlink=\\\"http:\\/\\/www.w3.org\\/1999\\/xlink\\\" width=\\\"925.612pt\\\" height=\\\"234.005pt\\\" viewBox=\\\"0 0 925.612 234.005\\\" version=\\\"1.1\\\">\\n<defs>\\n<g>\\n<symbol overflow=\\\"visible\\\" id=\\\"glyph-1688390289546981-0-0\\\">\\n<path style=\\\"stroke:none;\\\" d=\\\"\\\"\\/>\\n<\\/symbol>\\n<symbol overflow=\\\"visible\\\" id=\\\"glyph-1688390289546981-0-1\\\">\\n<path style=\\\"stroke:none;\\\" d=\\\"M 4.578125 -3.1875 C 4.578125 -3.984375 4.53125 -4.78125 4.1875 -5.515625 C 3.734375 -6.484375 2.90625 -6.640625 2.5 -6.640625 C 1.890625 -6.640625 1.171875 -6.375 0.75 -5.453125 C 0.4375 -4.765625 0.390625 -3.984375 0.390625 -3.1875 C 0.390625 -2.4375 0.421875 -1.546875 0.84375 -0.78125 C 1.265625 0.015625 2 0.21875 2.484375 0.21875 C 3.015625 0.21875 3.78125 0.015625 4.21875 -0.9375 C 4.53125 -1.625 4.578125 -2.40625 4.578125 -3.1875 Z M 2.484375 0 C 2.09375 0 1.5 -0.25 1.328125 -1.203125 C 1.21875 -1.796875 1.21875 -2.71875 1.21875 -3.3125 C 1.21875 -3.953125 1.21875 -4.609375 1.296875 -5.140625 C 1.484375 -6.328125 2.234375 -6.421875 2.484375 -6.421875 C 2.8125 -6.421875 3.46875 -6.234375 3.65625 -5.25 C 3.765625 -4.6875 3.765625 -3.9375 3.765625 -3.3125 C 3.765625 -2.5625 3.765625 -1.890625 3.65625 -1.25 C 3.5 -0.296875 2.9375 0 2.484375 0 Z M 2.484375 0 \\\"\\/>\\n<\\/symbol>\\n<symbol overflow=\\\"visible\\\" id=\\\"glyph-1688390289546981-0-2\\\">\\n<path style=\\\"stroke:none;\\\" d=\\\"M 4.46875 -2 C 4.46875 -3.1875 3.65625 -4.1875 2.578125 -4.1875 C 2.109375 -4.1875 1.671875 -4.03125 1.3125 -3.671875 L 1.3125 -5.625 C 1.515625 -5.5625 1.84375 -5.5 2.15625 -5.5 C 3.390625 -5.5 4.09375 -6.40625 4.09375 -6.53125 C 4.09375 -6.59375 4.0625 -6.640625 3.984375 -6.640625 C 3.984375 -6.640625 3.953125 -6.640625 3.90625 -6.609375 C 3.703125 -6.515625 3.21875 -6.3125 2.546875 -6.3125 C 2.15625 -6.3125 1.6875 -6.390625 1.21875 -6.59375 C 1.140625 -6.625 1.125 -6.625 1.109375 -6.625 C 1 -6.625 1 -6.546875 1 -6.390625 L 1 -3.4375 C 1 -3.265625 1 -3.1875 1.140625 -3.1875 C 1.21875 -3.1875 1.234375 -3.203125 1.28125 -3.265625 C 1.390625 -3.421875 1.75 -3.96875 2.5625 -3.96875 C 3.078125 -3.96875 3.328125 -3.515625 3.40625 -3.328125 C 3.5625 -2.953125 3.59375 -2.578125 3.59375 -2.078125 C 3.59375 -1.71875 3.59375 -1.125 3.34375 -0.703125 C 3.109375 -0.3125 2.734375 -0.0625 2.28125 -0.0625 C 1.5625 -0.0625 0.984375 -0.59375 0.8125 -1.171875 C 0.84375 -1.171875 0.875 -1.15625 0.984375 -1.15625 C 1.3125 -1.15625 1.484375 -1.40625 1.484375 -1.640625 C 1.484375 -1.890625 1.3125 -2.140625 0.984375 -2.140625 C 0.84375 -2.140625 0.5 -2.0625 0.5 -1.609375 C 0.5 -0.75 1.1875 0.21875 2.296875 0.21875 C 3.453125 0.21875 4.46875 -0.734375 4.46875 -2 Z M 4.46875 -2 \\\"\\/>\\n<\\/symbol>\\n<symbol overflow=\\\"visible\\\" id=\\\"glyph-1688390289546981-0-3\\\">\\n<path style=\\\"stroke:none;\\\" d=\\\"M 2.9375 -6.375 C 2.9375 -6.625 2.9375 -6.640625 2.703125 -6.640625 C 2.078125 -6 1.203125 -6 0.890625 -6 L 0.890625 -5.6875 C 1.09375 -5.6875 1.671875 -5.6875 2.1875 -5.953125 L 2.1875 -0.78125 C 2.1875 -0.421875 2.15625 -0.3125 1.265625 -0.3125 L 0.953125 -0.3125 L 0.953125 0 C 1.296875 -0.03125 2.15625 -0.03125 2.5625 -0.03125 C 2.953125 -0.03125 3.828125 -0.03125 4.171875 0 L 4.171875 -0.3125 L 3.859375 -0.3125 C 2.953125 -0.3125 2.9375 -0.421875 2.9375 -0.78125 Z M 2.9375 -6.375 \\\"\\/>\\n<\\/symbol>\\n<symbol overflow=\\\"visible\\\" id=\\\"glyph-1688390289546981-0-4\\\">\\n<path style=\\\"stroke:none;\\\" d=\\\"M 1.265625 -0.765625 L 2.328125 -1.796875 C 3.875 -3.171875 4.46875 -3.703125 4.46875 -4.703125 C 4.46875 -5.84375 3.578125 -6.640625 2.359375 -6.640625 C 1.234375 -6.640625 0.5 -5.71875 0.5 -4.828125 C 0.5 -4.28125 1 -4.28125 1.03125 -4.28125 C 1.203125 -4.28125 1.546875 -4.390625 1.546875 -4.8125 C 1.546875 -5.0625 1.359375 -5.328125 1.015625 -5.328125 C 0.9375 -5.328125 0.921875 -5.328125 0.890625 -5.3125 C 1.109375 -5.96875 1.65625 -6.328125 2.234375 -6.328125 C 3.140625 -6.328125 3.5625 -5.515625 3.5625 -4.703125 C 3.5625 -3.90625 3.078125 -3.125 2.515625 -2.5 L 0.609375 -0.375 C 0.5 -0.265625 0.5 -0.234375 0.5 0 L 4.203125 0 L 4.46875 -1.734375 L 4.234375 -1.734375 C 4.171875 -1.4375 4.109375 -1 4 -0.84375 C 3.9375 -0.765625 3.28125 -0.765625 3.0625 -0.765625 Z M 1.265625 -0.765625 \\\"\\/>\\n<\\/symbol>\\n<symbol overflow=\\\"visible\\\" id=\\\"glyph-1688390289546981-0-5\\\">\\n<path style=\\\"stroke:none;\\\" d=\\\"M 2.890625 -3.515625 C 3.703125 -3.78125 4.28125 -4.46875 4.28125 -5.265625 C 4.28125 -6.078125 3.40625 -6.640625 2.453125 -6.640625 C 1.453125 -6.640625 0.6875 -6.046875 0.6875 -5.28125 C 0.6875 -4.953125 0.90625 -4.765625 1.203125 -4.765625 C 1.5 -4.765625 1.703125 -4.984375 1.703125 -5.28125 C 1.703125 -5.765625 1.234375 -5.765625 1.09375 -5.765625 C 1.390625 -6.265625 2.046875 -6.390625 2.40625 -6.390625 C 2.828125 -6.390625 3.375 -6.171875 3.375 -5.28125 C 3.375 -5.15625 3.34375 -4.578125 3.09375 -4.140625 C 2.796875 -3.65625 2.453125 -3.625 2.203125 -3.625 C 2.125 -3.609375 1.890625 -3.59375 1.8125 -3.59375 C 1.734375 -3.578125 1.671875 -3.5625 1.671875 -3.46875 C 1.671875 -3.359375 1.734375 -3.359375 1.90625 -3.359375 L 2.34375 -3.359375 C 3.15625 -3.359375 3.53125 -2.6875 3.53125 -1.703125 C 3.53125 -0.34375 2.84375 -0.0625 2.40625 -0.0625 C 1.96875 -0.0625 1.21875 -0.234375 0.875 -0.8125 C 1.21875 -0.765625 1.53125 -0.984375 1.53125 -1.359375 C 1.53125 -1.71875 1.265625 -1.921875 0.984375 -1.921875 C 0.734375 -1.921875 0.421875 -1.78125 0.421875 -1.34375 C 0.421875 -0.4375 1.34375 0.21875 2.4375 0.21875 C 3.65625 0.21875 4.5625 -0.6875 4.5625 -1.703125 C 4.5625 -2.515625 3.921875 -3.296875 2.890625 -3.515625 Z M 2.890625 -3.515625 \\\"\\/>\\n<\\/symbol>\\n<symbol overflow=\\\"visible\\\" id=\\\"glyph-1688390289546981-0-6\\\">\\n<path style=\\\"stroke:none;\\\" d=\\\"M 2.9375 -1.640625 L 2.9375 -0.78125 C 2.9375 -0.421875 2.90625 -0.3125 2.171875 -0.3125 L 1.96875 -0.3125 L 1.96875 0 C 2.375 -0.03125 2.890625 -0.03125 3.3125 -0.03125 C 3.734375 -0.03125 4.25 -0.03125 4.671875 0 L 4.671875 -0.3125 L 4.453125 -0.3125 C 3.71875 -0.3125 3.703125 -0.421875 3.703125 -0.78125 L 3.703125 -1.640625 L 4.6875 -1.640625 L 4.6875 -1.953125 L 3.703125 -1.953125 L 3.703125 -6.484375 C 3.703125 -6.6875 3.703125 -6.75 3.53125 -6.75 C 3.453125 -6.75 3.421875 -6.75 3.34375 -6.625 L 0.28125 -1.953125 L 0.28125 -1.640625 Z M 2.984375 -1.953125 L 0.5625 -1.953125 L 2.984375 -5.671875 Z M 2.984375 -1.953125 \\\"\\/>\\n<\\/symbol>\\n<symbol overflow=\\\"visible\\\" id=\\\"glyph-1688390289546981-1-0\\\">\\n<path style=\\\"stroke:none;\\\" d=\\\"\\\"\\/>\\n<\\/symbol>\\n<symbol overflow=\\\"visible\\\" id=\\\"glyph-1688390289546981-1-1\\\">\\n<path style=\\\"stroke:none;\\\" d=\\\"M 6.5625 -2.296875 C 6.734375 -2.296875 6.921875 -2.296875 6.921875 -2.5 C 6.921875 -2.6875 6.734375 -2.6875 6.5625 -2.6875 L 1.171875 -2.6875 C 1 -2.6875 0.828125 -2.6875 0.828125 -2.5 C 0.828125 -2.296875 1 -2.296875 1.171875 -2.296875 Z M 6.5625 -2.296875 \\\"\\/>\\n<\\/symbol>\\n<symbol overflow=\\\"visible\\\" id=\\\"glyph-1688390289546981-2-0\\\">\\n<path style=\\\"stroke:none;\\\" d=\\\"\\\"\\/>\\n<\\/symbol>\\n<symbol overflow=\\\"visible\\\" id=\\\"glyph-1688390289546981-2-1\\\">\\n<path style=\\\"stroke:none;\\\" d=\\\"M 2.03125 -0.015625 C 2.03125 -0.671875 1.78125 -1.0625 1.390625 -1.0625 C 1.0625 -1.0625 0.859375 -0.8125 0.859375 -0.53125 C 0.859375 -0.265625 1.0625 0 1.390625 0 C 1.5 0 1.640625 -0.046875 1.734375 -0.125 C 1.765625 -0.15625 1.78125 -0.15625 1.78125 -0.15625 C 1.796875 -0.15625 1.796875 -0.15625 1.796875 -0.015625 C 1.796875 0.734375 1.453125 1.328125 1.125 1.65625 C 1.015625 1.765625 1.015625 1.78125 1.015625 1.8125 C 1.015625 1.890625 1.0625 1.921875 1.109375 1.921875 C 1.21875 1.921875 2.03125 1.15625 2.03125 -0.015625 Z M 2.03125 -0.015625 \\\"\\/>\\n<\\/symbol>\\n<symbol overflow=\\\"visible\\\" id=\\\"glyph-1688390289546981-3-0\\\">\\n<path style=\\\"stroke:none;\\\" d=\\\"\\\"\\/>\\n<\\/symbol>\\n<symbol overflow=\\\"visible\\\" id=\\\"glyph-1688390289546981-3-1\\\">\\n<path style=\\\"stroke:none;\\\" d=\\\"M 6.828125 -4.5 L 6.640625 -6.75 L 0.546875 -6.75 L 0.359375 -4.5 L 0.609375 -4.5 C 0.75 -6.109375 0.890625 -6.4375 2.40625 -6.4375 C 2.578125 -6.4375 2.84375 -6.4375 2.9375 -6.421875 C 3.15625 -6.375 3.15625 -6.265625 3.15625 -6.046875 L 3.15625 -0.78125 C 3.15625 -0.453125 3.15625 -0.3125 2.109375 -0.3125 L 1.703125 -0.3125 L 1.703125 0 C 2.109375 -0.03125 3.125 -0.03125 3.59375 -0.03125 C 4.046875 -0.03125 5.078125 -0.03125 5.484375 0 L 5.484375 -0.3125 L 5.078125 -0.3125 C 4.03125 -0.3125 4.03125 -0.453125 4.03125 -0.78125 L 4.03125 -6.046875 C 4.03125 -6.234375 4.03125 -6.375 4.21875 -6.421875 C 4.328125 -6.4375 4.59375 -6.4375 4.78125 -6.4375 C 6.296875 -6.4375 6.4375 -6.109375 6.578125 -4.5 Z M 6.828125 -4.5 \\\"\\/>\\n<\\/symbol>\\n<symbol overflow=\\\"visible\\\" id=\\\"glyph-1688390289546981-3-2\\\">\\n<path style=\\\"stroke:none;\\\" d=\\\"M 4.8125 -0.890625 L 4.8125 -1.453125 L 4.5625 -1.453125 L 4.5625 -0.890625 C 4.5625 -0.3125 4.3125 -0.25 4.203125 -0.25 C 3.875 -0.25 3.84375 -0.703125 3.84375 -0.75 L 3.84375 -2.734375 C 3.84375 -3.15625 3.84375 -3.546875 3.484375 -3.921875 C 3.09375 -4.3125 2.59375 -4.46875 2.109375 -4.46875 C 1.296875 -4.46875 0.609375 -4 0.609375 -3.34375 C 0.609375 -3.046875 0.8125 -2.875 1.0625 -2.875 C 1.34375 -2.875 1.53125 -3.078125 1.53125 -3.328125 C 1.53125 -3.453125 1.46875 -3.78125 1.015625 -3.78125 C 1.28125 -4.140625 1.78125 -4.25 2.09375 -4.25 C 2.578125 -4.25 3.15625 -3.859375 3.15625 -2.96875 L 3.15625 -2.609375 C 2.640625 -2.578125 1.9375 -2.546875 1.3125 -2.25 C 0.5625 -1.90625 0.3125 -1.390625 0.3125 -0.953125 C 0.3125 -0.140625 1.28125 0.109375 1.90625 0.109375 C 2.578125 0.109375 3.03125 -0.296875 3.21875 -0.75 C 3.265625 -0.359375 3.53125 0.0625 4 0.0625 C 4.203125 0.0625 4.8125 -0.078125 4.8125 -0.890625 Z M 3.15625 -1.390625 C 3.15625 -0.453125 2.4375 -0.109375 1.984375 -0.109375 C 1.5 -0.109375 1.09375 -0.453125 1.09375 -0.953125 C 1.09375 -1.5 1.5 -2.328125 3.15625 -2.390625 Z M 3.15625 -1.390625 \\\"\\/>\\n<\\/symbol>\\n<symbol overflow=\\\"visible\\\" id=\\\"glyph-1688390289546981-3-3\\\">\\n<path style=\\\"stroke:none;\\\" d=\\\"M 5.328125 0 L 5.328125 -0.3125 C 4.640625 -0.3125 4.5625 -0.375 4.5625 -0.875 L 4.5625 -4.40625 L 3.09375 -4.296875 L 3.09375 -3.984375 C 3.78125 -3.984375 3.875 -3.921875 3.875 -3.421875 L 3.875 -1.65625 C 3.875 -0.78125 3.390625 -0.109375 2.65625 -0.109375 C 1.828125 -0.109375 1.78125 -0.578125 1.78125 -1.09375 L 1.78125 -4.40625 L 0.3125 -4.296875 L 0.3125 -3.984375 C 1.09375 -3.984375 1.09375 -3.953125 1.09375 -3.078125 L 1.09375 -1.578125 C 1.09375 -0.796875 1.09375 0.109375 2.609375 0.109375 C 3.171875 0.109375 3.609375 -0.171875 3.890625 -0.78125 L 3.890625 0.109375 Z M 5.328125 0 \\\"\\/>\\n<\\/symbol>\\n<symbol overflow=\\\"visible\\\" id=\\\"glyph-1688390289546981-3-4\\\">\\n<path style=\\\"stroke:none;\\\" d=\\\"M 3.296875 2.390625 C 3.296875 2.359375 3.296875 2.34375 3.125 2.171875 C 1.890625 0.921875 1.5625 -0.96875 1.5625 -2.5 C 1.5625 -4.234375 1.9375 -5.96875 3.171875 -7.203125 C 3.296875 -7.328125 3.296875 -7.34375 3.296875 -7.375 C 3.296875 -7.453125 3.265625 -7.484375 3.203125 -7.484375 C 3.09375 -7.484375 2.203125 -6.796875 1.609375 -5.53125 C 1.109375 -4.4375 0.984375 -3.328125 0.984375 -2.5 C 0.984375 -1.71875 1.09375 -0.515625 1.640625 0.625 C 2.25 1.84375 3.09375 2.5 3.203125 2.5 C 3.265625 2.5 3.296875 2.46875 3.296875 2.390625 Z M 3.296875 2.390625 \\\"\\/>\\n<\\/symbol>\\n<symbol overflow=\\\"visible\\\" id=\\\"glyph-1688390289546981-3-5\\\">\\n<path style=\\\"stroke:none;\\\" d=\\\"M 3.59375 -1.28125 C 3.59375 -1.796875 3.296875 -2.109375 3.171875 -2.21875 C 2.84375 -2.546875 2.453125 -2.625 2.03125 -2.703125 C 1.46875 -2.8125 0.8125 -2.9375 0.8125 -3.515625 C 0.8125 -3.875 1.0625 -4.28125 1.921875 -4.28125 C 3.015625 -4.28125 3.078125 -3.375 3.09375 -3.078125 C 3.09375 -2.984375 3.203125 -2.984375 3.203125 -2.984375 C 3.34375 -2.984375 3.34375 -3.03125 3.34375 -3.21875 L 3.34375 -4.234375 C 3.34375 -4.390625 3.34375 -4.46875 3.234375 -4.46875 C 3.1875 -4.46875 3.15625 -4.46875 3.03125 -4.34375 C 3 -4.3125 2.90625 -4.21875 2.859375 -4.1875 C 2.484375 -4.46875 2.078125 -4.46875 1.921875 -4.46875 C 0.703125 -4.46875 0.328125 -3.796875 0.328125 -3.234375 C 0.328125 -2.890625 0.484375 -2.609375 0.75 -2.390625 C 1.078125 -2.140625 1.359375 -2.078125 2.078125 -1.9375 C 2.296875 -1.890625 3.109375 -1.734375 3.109375 -1.015625 C 3.109375 -0.515625 2.765625 -0.109375 1.984375 -0.109375 C 1.140625 -0.109375 0.78125 -0.671875 0.59375 -1.53125 C 0.5625 -1.65625 0.5625 -1.6875 0.453125 -1.6875 C 0.328125 -1.6875 0.328125 -1.625 0.328125 -1.453125 L 0.328125 -0.125 C 0.328125 0.046875 0.328125 0.109375 0.4375 0.109375 C 0.484375 0.109375 0.5 0.09375 0.6875 -0.09375 C 0.703125 -0.109375 0.703125 -0.125 0.890625 -0.3125 C 1.328125 0.09375 1.78125 0.109375 1.984375 0.109375 C 3.125 0.109375 3.59375 -0.5625 3.59375 -1.28125 Z M 3.59375 -1.28125 \\\"\\/>\\n<\\/symbol>\\n<symbol overflow=\\\"visible\\\" id=\\\"glyph-1688390289546981-3-6\\\">\\n<path style=\\\"stroke:none;\\\" d=\\\"M 2.875 -2.5 C 2.875 -3.265625 2.765625 -4.46875 2.21875 -5.609375 C 1.625 -6.828125 0.765625 -7.484375 0.671875 -7.484375 C 0.609375 -7.484375 0.5625 -7.4375 0.5625 -7.375 C 0.5625 -7.34375 0.5625 -7.328125 0.75 -7.140625 C 1.734375 -6.15625 2.296875 -4.578125 2.296875 -2.5 C 2.296875 -0.78125 1.9375 0.96875 0.703125 2.21875 C 0.5625 2.34375 0.5625 2.359375 0.5625 2.390625 C 0.5625 2.453125 0.609375 2.5 0.671875 2.5 C 0.765625 2.5 1.671875 1.8125 2.25 0.546875 C 2.765625 -0.546875 2.875 -1.65625 2.875 -2.5 Z M 2.875 -2.5 \\\"\\/>\\n<\\/symbol>\\n<symbol overflow=\\\"visible\\\" id=\\\"glyph-1688390289546981-3-7\\\">\\n<path style=\\\"stroke:none;\\\" d=\\\"M 7.1875 -3.375 C 7.1875 -5.40625 5.6875 -7.03125 3.875 -7.03125 C 2.078125 -7.03125 0.5625 -5.4375 0.5625 -3.375 C 0.5625 -1.328125 2.09375 0.21875 3.875 0.21875 C 5.6875 0.21875 7.1875 -1.359375 7.1875 -3.375 Z M 6.15625 -3.515625 C 6.15625 -0.875 4.796875 -0.046875 3.875 -0.046875 C 2.921875 -0.046875 1.578125 -0.921875 1.578125 -3.515625 C 1.578125 -6.09375 3.046875 -6.78125 3.875 -6.78125 C 4.734375 -6.78125 6.15625 -6.078125 6.15625 -3.515625 Z M 6.15625 -3.515625 \\\"\\/>\\n<\\/symbol>\\n<symbol overflow=\\\"visible\\\" id=\\\"glyph-1688390289546981-3-8\\\">\\n<path style=\\\"stroke:none;\\\" d=\\\"M 3.625 -3.796875 C 3.625 -4.109375 3.3125 -4.40625 2.890625 -4.40625 C 2.15625 -4.40625 1.796875 -3.734375 1.671875 -3.3125 L 1.671875 -4.40625 L 0.28125 -4.296875 L 0.28125 -3.984375 C 0.984375 -3.984375 1.0625 -3.921875 1.0625 -3.421875 L 1.0625 -0.75 C 1.0625 -0.3125 0.953125 -0.3125 0.28125 -0.3125 L 0.28125 0 L 1.421875 -0.03125 C 1.8125 -0.03125 2.28125 -0.03125 2.6875 0 L 2.6875 -0.3125 L 2.46875 -0.3125 C 1.734375 -0.3125 1.71875 -0.421875 1.71875 -0.78125 L 1.71875 -2.3125 C 1.71875 -3.296875 2.140625 -4.1875 2.890625 -4.1875 C 2.953125 -4.1875 2.984375 -4.1875 3 -4.171875 C 2.96875 -4.171875 2.765625 -4.046875 2.765625 -3.78125 C 2.765625 -3.515625 2.984375 -3.359375 3.203125 -3.359375 C 3.375 -3.359375 3.625 -3.484375 3.625 -3.796875 Z M 3.625 -3.796875 \\\"\\/>\\n<\\/symbol>\\n<symbol overflow=\\\"visible\\\" id=\\\"glyph-1688390289546981-3-9\\\">\\n<path style=\\\"stroke:none;\\\" d=\\\"M 2.46875 0 L 2.46875 -0.3125 C 1.796875 -0.3125 1.765625 -0.359375 1.765625 -0.75 L 1.765625 -4.40625 L 0.375 -4.296875 L 0.375 -3.984375 C 1.015625 -3.984375 1.109375 -3.921875 1.109375 -3.4375 L 1.109375 -0.75 C 1.109375 -0.3125 1 -0.3125 0.328125 -0.3125 L 0.328125 0 L 1.421875 -0.03125 C 1.78125 -0.03125 2.125 -0.015625 2.46875 0 Z M 1.90625 -6.015625 C 1.90625 -6.296875 1.6875 -6.546875 1.390625 -6.546875 C 1.046875 -6.546875 0.84375 -6.265625 0.84375 -6.015625 C 0.84375 -5.75 1.078125 -5.5 1.375 -5.5 C 1.71875 -5.5 1.90625 -5.765625 1.90625 -6.015625 Z M 1.90625 -6.015625 \\\"\\/>\\n<\\/symbol>\\n<symbol overflow=\\\"visible\\\" id=\\\"glyph-1688390289546981-3-10\\\">\\n<path style=\\\"stroke:none;\\\" d=\\\"M 4.828125 -4.03125 C 4.828125 -4.203125 4.71875 -4.515625 4.328125 -4.515625 C 4.125 -4.515625 3.6875 -4.453125 3.265625 -4.046875 C 2.84375 -4.375 2.4375 -4.40625 2.21875 -4.40625 C 1.28125 -4.40625 0.59375 -3.71875 0.59375 -2.953125 C 0.59375 -2.515625 0.8125 -2.140625 1.0625 -1.921875 C 0.9375 -1.78125 0.75 -1.453125 0.75 -1.09375 C 0.75 -0.78125 0.890625 -0.40625 1.203125 -0.203125 C 0.59375 -0.046875 0.28125 0.390625 0.28125 0.78125 C 0.28125 1.5 1.265625 2.046875 2.484375 2.046875 C 3.65625 2.046875 4.6875 1.546875 4.6875 0.765625 C 4.6875 0.421875 4.5625 -0.09375 4.046875 -0.375 C 3.515625 -0.640625 2.9375 -0.640625 2.328125 -0.640625 C 2.078125 -0.640625 1.65625 -0.640625 1.578125 -0.65625 C 1.265625 -0.703125 1.0625 -1 1.0625 -1.328125 C 1.0625 -1.359375 1.0625 -1.59375 1.21875 -1.796875 C 1.609375 -1.515625 2.03125 -1.484375 2.21875 -1.484375 C 3.140625 -1.484375 3.828125 -2.171875 3.828125 -2.9375 C 3.828125 -3.3125 3.671875 -3.671875 3.421875 -3.90625 C 3.78125 -4.25 4.140625 -4.296875 4.3125 -4.296875 C 4.3125 -4.296875 4.390625 -4.296875 4.421875 -4.28125 C 4.3125 -4.25 4.25 -4.140625 4.25 -4.015625 C 4.25 -3.84375 4.390625 -3.734375 4.546875 -3.734375 C 4.640625 -3.734375 4.828125 -3.796875 4.828125 -4.03125 Z M 3.078125 -2.953125 C 3.078125 -2.6875 3.078125 -2.359375 2.921875 -2.109375 C 2.84375 -2 2.609375 -1.71875 2.21875 -1.71875 C 1.34375 -1.71875 1.34375 -2.71875 1.34375 -2.9375 C 1.34375 -3.203125 1.359375 -3.53125 1.5 -3.78125 C 1.578125 -3.890625 1.8125 -4.171875 2.21875 -4.171875 C 3.078125 -4.171875 3.078125 -3.1875 3.078125 -2.953125 Z M 4.171875 0.78125 C 4.171875 1.328125 3.46875 1.828125 2.5 1.828125 C 1.484375 1.828125 0.796875 1.3125 0.796875 0.78125 C 0.796875 0.328125 1.171875 -0.046875 1.609375 -0.0625 L 2.203125 -0.0625 C 3.0625 -0.0625 4.171875 -0.0625 4.171875 0.78125 Z M 4.171875 0.78125 \\\"\\/>\\n<\\/symbol>\\n<symbol overflow=\\\"visible\\\" id=\\\"glyph-1688390289546981-3-11\\\">\\n<path style=\\\"stroke:none;\\\" d=\\\"M 5.328125 0 L 5.328125 -0.3125 C 4.8125 -0.3125 4.5625 -0.3125 4.5625 -0.609375 L 4.5625 -2.515625 C 4.5625 -3.375 4.5625 -3.671875 4.25 -4.03125 C 4.109375 -4.203125 3.78125 -4.40625 3.203125 -4.40625 C 2.46875 -4.40625 2 -3.984375 1.71875 -3.359375 L 1.71875 -4.40625 L 0.3125 -4.296875 L 0.3125 -3.984375 C 1.015625 -3.984375 1.09375 -3.921875 1.09375 -3.421875 L 1.09375 -0.75 C 1.09375 -0.3125 0.984375 -0.3125 0.3125 -0.3125 L 0.3125 0 L 1.453125 -0.03125 L 2.5625 0 L 2.5625 -0.3125 C 1.890625 -0.3125 1.78125 -0.3125 1.78125 -0.75 L 1.78125 -2.59375 C 1.78125 -3.625 2.5 -4.1875 3.125 -4.1875 C 3.765625 -4.1875 3.875 -3.65625 3.875 -3.078125 L 3.875 -0.75 C 3.875 -0.3125 3.765625 -0.3125 3.09375 -0.3125 L 3.09375 0 L 4.21875 -0.03125 Z M 5.328125 0 \\\"\\/>\\n<\\/symbol>\\n<symbol overflow=\\\"visible\\\" id=\\\"glyph-1688390289546981-3-12\\\">\\n<path style=\\\"stroke:none;\\\" d=\\\"M 2.546875 0 L 2.546875 -0.3125 C 1.875 -0.3125 1.765625 -0.3125 1.765625 -0.75 L 1.765625 -6.921875 L 0.328125 -6.8125 L 0.328125 -6.5 C 1.03125 -6.5 1.109375 -6.4375 1.109375 -5.9375 L 1.109375 -0.75 C 1.109375 -0.3125 1 -0.3125 0.328125 -0.3125 L 0.328125 0 L 1.4375 -0.03125 Z M 2.546875 0 \\\"\\/>\\n<\\/symbol>\\n<symbol overflow=\\\"visible\\\" id=\\\"glyph-1688390289546981-3-13\\\">\\n<path style=\\\"stroke:none;\\\" d=\\\"M 5.1875 -2.15625 C 5.1875 -3.421875 4.21875 -4.40625 3.078125 -4.40625 C 2.296875 -4.40625 1.875 -3.9375 1.71875 -3.765625 L 1.71875 -6.921875 L 0.28125 -6.8125 L 0.28125 -6.5 C 0.984375 -6.5 1.0625 -6.4375 1.0625 -5.9375 L 1.0625 0 L 1.3125 0 L 1.671875 -0.625 C 1.8125 -0.390625 2.234375 0.109375 2.96875 0.109375 C 4.15625 0.109375 5.1875 -0.875 5.1875 -2.15625 Z M 4.359375 -2.15625 C 4.359375 -1.796875 4.34375 -1.203125 4.0625 -0.75 C 3.84375 -0.4375 3.46875 -0.109375 2.9375 -0.109375 C 2.484375 -0.109375 2.125 -0.34375 1.890625 -0.71875 C 1.75 -0.921875 1.75 -0.953125 1.75 -1.140625 L 1.75 -3.1875 C 1.75 -3.375 1.75 -3.390625 1.859375 -3.546875 C 2.25 -4.109375 2.796875 -4.1875 3.03125 -4.1875 C 3.484375 -4.1875 3.84375 -3.921875 4.078125 -3.546875 C 4.34375 -3.140625 4.359375 -2.578125 4.359375 -2.15625 Z M 4.359375 -2.15625 \\\"\\/>\\n<\\/symbol>\\n<symbol overflow=\\\"visible\\\" id=\\\"glyph-1688390289546981-3-14\\\">\\n<path style=\\\"stroke:none;\\\" d=\\\"M 4.140625 -1.1875 C 4.140625 -1.28125 4.0625 -1.3125 4 -1.3125 C 3.921875 -1.3125 3.890625 -1.25 3.875 -1.171875 C 3.53125 -0.140625 2.625 -0.140625 2.53125 -0.140625 C 2.03125 -0.140625 1.640625 -0.4375 1.40625 -0.8125 C 1.109375 -1.28125 1.109375 -1.9375 1.109375 -2.296875 L 3.890625 -2.296875 C 4.109375 -2.296875 4.140625 -2.296875 4.140625 -2.515625 C 4.140625 -3.5 3.59375 -4.46875 2.359375 -4.46875 C 1.203125 -4.46875 0.28125 -3.4375 0.28125 -2.1875 C 0.28125 -0.859375 1.328125 0.109375 2.46875 0.109375 C 3.6875 0.109375 4.140625 -1 4.140625 -1.1875 Z M 3.484375 -2.515625 L 1.109375 -2.515625 C 1.171875 -4 2.015625 -4.25 2.359375 -4.25 C 3.375 -4.25 3.484375 -2.90625 3.484375 -2.515625 Z M 3.484375 -2.515625 \\\"\\/>\\n<\\/symbol>\\n<symbol overflow=\\\"visible\\\" id=\\\"glyph-1688390289546981-3-15\\\">\\n<path style=\\\"stroke:none;\\\" d=\\\"M 7.140625 0 L 7.140625 -0.3125 L 6.96875 -0.3125 C 6.375 -0.3125 6.234375 -0.375 6.125 -0.703125 L 3.96875 -6.9375 C 3.921875 -7.0625 3.890625 -7.140625 3.734375 -7.140625 C 3.578125 -7.140625 3.546875 -7.078125 3.5 -6.9375 L 1.4375 -0.984375 C 1.25 -0.46875 0.859375 -0.3125 0.3125 -0.3125 L 0.3125 0 L 1.328125 -0.03125 L 2.484375 0 L 2.484375 -0.3125 C 1.984375 -0.3125 1.734375 -0.5625 1.734375 -0.8125 C 1.734375 -0.84375 1.75 -0.953125 1.75 -0.96875 L 2.21875 -2.265625 L 4.671875 -2.265625 L 5.203125 -0.75 C 5.21875 -0.703125 5.234375 -0.640625 5.234375 -0.609375 C 5.234375 -0.3125 4.671875 -0.3125 4.40625 -0.3125 L 4.40625 0 C 4.765625 -0.03125 5.46875 -0.03125 5.84375 -0.03125 Z M 4.5625 -2.578125 L 2.328125 -2.578125 L 3.4375 -5.828125 Z M 4.5625 -2.578125 \\\"\\/>\\n<\\/symbol>\\n<symbol overflow=\\\"visible\\\" id=\\\"glyph-1688390289546981-3-16\\\">\\n<path style=\\\"stroke:none;\\\" d=\\\"M 5.25 0 L 5.25 -0.3125 C 4.5625 -0.3125 4.46875 -0.375 4.46875 -0.875 L 4.46875 -6.921875 L 3.046875 -6.8125 L 3.046875 -6.5 C 3.734375 -6.5 3.8125 -6.4375 3.8125 -5.9375 L 3.8125 -3.78125 C 3.53125 -4.140625 3.09375 -4.40625 2.5625 -4.40625 C 1.390625 -4.40625 0.34375 -3.421875 0.34375 -2.140625 C 0.34375 -0.875 1.3125 0.109375 2.453125 0.109375 C 3.09375 0.109375 3.53125 -0.234375 3.78125 -0.546875 L 3.78125 0.109375 Z M 3.78125 -1.171875 C 3.78125 -1 3.78125 -0.984375 3.671875 -0.8125 C 3.375 -0.328125 2.9375 -0.109375 2.5 -0.109375 C 2.046875 -0.109375 1.6875 -0.375 1.453125 -0.75 C 1.203125 -1.15625 1.171875 -1.71875 1.171875 -2.140625 C 1.171875 -2.5 1.1875 -3.09375 1.46875 -3.546875 C 1.6875 -3.859375 2.0625 -4.1875 2.609375 -4.1875 C 2.953125 -4.1875 3.375 -4.03125 3.671875 -3.59375 C 3.78125 -3.421875 3.78125 -3.40625 3.78125 -3.21875 Z M 3.78125 -1.171875 \\\"\\/>\\n<\\/symbol>\\n<symbol overflow=\\\"visible\\\" id=\\\"glyph-1688390289546981-3-17\\\">\\n<path style=\\\"stroke:none;\\\" d=\\\"M 5.0625 -3.984375 L 5.0625 -4.296875 C 4.828125 -4.28125 4.546875 -4.265625 4.3125 -4.265625 L 3.453125 -4.296875 L 3.453125 -3.984375 C 3.8125 -3.984375 3.921875 -3.75 3.921875 -3.5625 C 3.921875 -3.46875 3.90625 -3.421875 3.875 -3.3125 L 2.84375 -0.78125 L 1.734375 -3.5625 C 1.671875 -3.6875 1.671875 -3.734375 1.671875 -3.734375 C 1.671875 -3.984375 2.0625 -3.984375 2.25 -3.984375 L 2.25 -4.296875 L 1.15625 -4.265625 C 0.890625 -4.265625 0.484375 -4.28125 0.1875 -4.296875 L 0.1875 -3.984375 C 0.8125 -3.984375 0.859375 -3.921875 0.984375 -3.625 L 2.421875 -0.078125 C 2.484375 0.0625 2.5 0.109375 2.625 0.109375 C 2.765625 0.109375 2.796875 0.015625 2.84375 -0.078125 L 4.140625 -3.3125 C 4.234375 -3.546875 4.40625 -3.984375 5.0625 -3.984375 Z M 5.0625 -3.984375 \\\"\\/>\\n<\\/symbol>\\n<symbol overflow=\\\"visible\\\" id=\\\"glyph-1688390289546981-3-18\\\">\\n<path style=\\\"stroke:none;\\\" d=\\\"M 4.6875 -2.140625 C 4.6875 -3.40625 3.703125 -4.46875 2.5 -4.46875 C 1.25 -4.46875 0.28125 -3.375 0.28125 -2.140625 C 0.28125 -0.84375 1.3125 0.109375 2.484375 0.109375 C 3.6875 0.109375 4.6875 -0.875 4.6875 -2.140625 Z M 3.875 -2.21875 C 3.875 -1.859375 3.875 -1.3125 3.65625 -0.875 C 3.421875 -0.421875 2.984375 -0.140625 2.5 -0.140625 C 2.0625 -0.140625 1.625 -0.34375 1.359375 -0.8125 C 1.109375 -1.25 1.109375 -1.859375 1.109375 -2.21875 C 1.109375 -2.609375 1.109375 -3.140625 1.34375 -3.578125 C 1.609375 -4.03125 2.078125 -4.25 2.484375 -4.25 C 2.921875 -4.25 3.34375 -4.03125 3.609375 -3.59375 C 3.875 -3.171875 3.875 -2.59375 3.875 -2.21875 Z M 3.875 -2.21875 \\\"\\/>\\n<\\/symbol>\\n<symbol overflow=\\\"visible\\\" id=\\\"glyph-1688390289546981-3-19\\\">\\n<path style=\\\"stroke:none;\\\" d=\\\"M 7.140625 -6.5 L 7.140625 -6.8125 L 5.96875 -6.78125 L 4.8125 -6.8125 L 4.8125 -6.5 C 5.828125 -6.5 5.828125 -6.03125 5.828125 -5.765625 L 5.828125 -1.5 L 2.3125 -6.671875 C 2.21875 -6.796875 2.21875 -6.8125 2.03125 -6.8125 L 0.328125 -6.8125 L 0.328125 -6.5 L 0.625 -6.5 C 0.765625 -6.5 0.96875 -6.484375 1.109375 -6.484375 C 1.34375 -6.453125 1.359375 -6.4375 1.359375 -6.25 L 1.359375 -1.046875 C 1.359375 -0.78125 1.359375 -0.3125 0.328125 -0.3125 L 0.328125 0 L 1.5 -0.03125 L 2.65625 0 L 2.65625 -0.3125 C 1.640625 -0.3125 1.640625 -0.78125 1.640625 -1.046875 L 1.640625 -6.234375 C 1.6875 -6.1875 1.6875 -6.171875 1.734375 -6.109375 L 5.796875 -0.125 C 5.890625 -0.015625 5.90625 0 5.96875 0 C 6.109375 0 6.109375 -0.0625 6.109375 -0.265625 L 6.109375 -5.765625 C 6.109375 -6.03125 6.109375 -6.5 7.140625 -6.5 Z M 7.140625 -6.5 \\\"\\/>\\n<\\/symbol>\\n<symbol overflow=\\\"visible\\\" id=\\\"glyph-1688390289546981-3-20\\\">\\n<path style=\\\"stroke:none;\\\" d=\\\"M 3.3125 -1.234375 L 3.3125 -1.796875 L 3.0625 -1.796875 L 3.0625 -1.25 C 3.0625 -0.515625 2.765625 -0.140625 2.390625 -0.140625 C 1.71875 -0.140625 1.71875 -1.046875 1.71875 -1.21875 L 1.71875 -3.984375 L 3.15625 -3.984375 L 3.15625 -4.296875 L 1.71875 -4.296875 L 1.71875 -6.125 L 1.46875 -6.125 C 1.46875 -5.3125 1.171875 -4.25 0.1875 -4.203125 L 0.1875 -3.984375 L 1.03125 -3.984375 L 1.03125 -1.234375 C 1.03125 -0.015625 1.96875 0.109375 2.328125 0.109375 C 3.03125 0.109375 3.3125 -0.59375 3.3125 -1.234375 Z M 3.3125 -1.234375 \\\"\\/>\\n<\\/symbol>\\n<symbol overflow=\\\"visible\\\" id=\\\"glyph-1688390289546981-3-21\\\">\\n<path style=\\\"stroke:none;\\\" d=\\\"M 7.015625 -3.984375 L 7.015625 -4.296875 C 6.78125 -4.28125 6.5 -4.265625 6.28125 -4.265625 L 5.359375 -4.296875 L 5.359375 -3.984375 C 5.71875 -3.984375 5.9375 -3.796875 5.9375 -3.515625 C 5.9375 -3.453125 5.9375 -3.421875 5.875 -3.296875 L 4.96875 -0.75 L 3.984375 -3.53125 C 3.953125 -3.65625 3.9375 -3.671875 3.9375 -3.71875 C 3.9375 -3.984375 4.328125 -3.984375 4.53125 -3.984375 L 4.53125 -4.296875 L 3.484375 -4.265625 C 3.1875 -4.265625 2.90625 -4.28125 2.609375 -4.296875 L 2.609375 -3.984375 C 2.96875 -3.984375 3.125 -3.96875 3.234375 -3.84375 C 3.28125 -3.78125 3.390625 -3.484375 3.453125 -3.296875 L 2.609375 -0.875 L 1.65625 -3.53125 C 1.609375 -3.65625 1.609375 -3.671875 1.609375 -3.71875 C 1.609375 -3.984375 2 -3.984375 2.1875 -3.984375 L 2.1875 -4.296875 L 1.109375 -4.265625 L 0.171875 -4.296875 L 0.171875 -3.984375 C 0.671875 -3.984375 0.796875 -3.953125 0.921875 -3.640625 L 2.171875 -0.109375 C 2.21875 0.03125 2.25 0.109375 2.375 0.109375 C 2.515625 0.109375 2.53125 0.046875 2.578125 -0.09375 L 3.59375 -2.90625 L 4.609375 -0.078125 C 4.640625 0.03125 4.671875 0.109375 4.8125 0.109375 C 4.9375 0.109375 4.96875 0.015625 5 -0.078125 L 6.171875 -3.34375 C 6.34375 -3.84375 6.65625 -3.984375 7.015625 -3.984375 Z M 7.015625 -3.984375 \\\"\\/>\\n<\\/symbol>\\n<symbol overflow=\\\"visible\\\" id=\\\"glyph-1688390289546981-3-22\\\">\\n<path style=\\\"stroke:none;\\\" d=\\\"M 5.09375 0 L 5.09375 -0.3125 C 4.71875 -0.3125 4.5 -0.3125 4.125 -0.84375 L 2.859375 -2.625 C 2.84375 -2.640625 2.796875 -2.703125 2.796875 -2.734375 C 2.796875 -2.765625 3.515625 -3.375 3.609375 -3.453125 C 4.234375 -3.953125 4.65625 -3.984375 4.859375 -3.984375 L 4.859375 -4.296875 C 4.578125 -4.265625 4.453125 -4.265625 4.171875 -4.265625 C 3.8125 -4.265625 3.1875 -4.28125 3.046875 -4.296875 L 3.046875 -3.984375 C 3.234375 -3.984375 3.34375 -3.875 3.34375 -3.734375 C 3.34375 -3.53125 3.203125 -3.421875 3.125 -3.34375 L 1.71875 -2.140625 L 1.71875 -6.921875 L 0.28125 -6.8125 L 0.28125 -6.5 C 0.984375 -6.5 1.0625 -6.4375 1.0625 -5.9375 L 1.0625 -0.75 C 1.0625 -0.3125 0.953125 -0.3125 0.28125 -0.3125 L 0.28125 0 L 1.359375 -0.03125 L 2.46875 0 L 2.46875 -0.3125 C 1.796875 -0.3125 1.6875 -0.3125 1.6875 -0.75 L 1.6875 -1.78125 L 2.328125 -2.328125 C 3.09375 -1.28125 3.515625 -0.71875 3.515625 -0.53125 C 3.515625 -0.34375 3.34375 -0.3125 3.15625 -0.3125 L 3.15625 0 L 4.234375 -0.03125 C 4.515625 -0.03125 4.8125 -0.015625 5.09375 0 Z M 5.09375 0 \\\"\\/>\\n<\\/symbol>\\n<symbol overflow=\\\"visible\\\" id=\\\"glyph-1688390289546981-3-23\\\">\\n<path style=\\\"stroke:none;\\\" d=\\\"M 7.296875 -0.875 C 7.296875 -0.9375 7.296875 -1.046875 7.171875 -1.046875 C 7.0625 -1.046875 7.0625 -0.953125 7.046875 -0.890625 C 6.984375 -0.171875 6.640625 0 6.390625 0 C 5.90625 0 5.828125 -0.515625 5.6875 -1.4375 L 5.546875 -2.234375 C 5.375 -2.875 4.890625 -3.203125 4.34375 -3.390625 C 5.296875 -3.625 6.078125 -4.234375 6.078125 -5.015625 C 6.078125 -5.96875 4.9375 -6.8125 3.484375 -6.8125 L 0.34375 -6.8125 L 0.34375 -6.5 L 0.59375 -6.5 C 1.359375 -6.5 1.375 -6.390625 1.375 -6.03125 L 1.375 -0.78125 C 1.375 -0.421875 1.359375 -0.3125 0.59375 -0.3125 L 0.34375 -0.3125 L 0.34375 0 C 0.703125 -0.03125 1.421875 -0.03125 1.796875 -0.03125 C 2.1875 -0.03125 2.90625 -0.03125 3.265625 0 L 3.265625 -0.3125 L 3.015625 -0.3125 C 2.25 -0.3125 2.234375 -0.421875 2.234375 -0.78125 L 2.234375 -3.296875 L 3.375 -3.296875 C 3.53125 -3.296875 3.953125 -3.296875 4.3125 -2.953125 C 4.6875 -2.609375 4.6875 -2.296875 4.6875 -1.625 C 4.6875 -0.984375 4.6875 -0.578125 5.09375 -0.203125 C 5.5 0.15625 6.046875 0.21875 6.34375 0.21875 C 7.125 0.21875 7.296875 -0.59375 7.296875 -0.875 Z M 5.046875 -5.015625 C 5.046875 -4.328125 4.8125 -3.515625 3.34375 -3.515625 L 2.234375 -3.515625 L 2.234375 -6.09375 C 2.234375 -6.328125 2.234375 -6.453125 2.453125 -6.484375 C 2.546875 -6.5 2.84375 -6.5 3.046875 -6.5 C 3.9375 -6.5 5.046875 -6.453125 5.046875 -5.015625 Z M 5.046875 -5.015625 \\\"\\/>\\n<\\/symbol>\\n<symbol overflow=\\\"visible\\\" id=\\\"glyph-1688390289546981-3-24\\\">\\n<path style=\\\"stroke:none;\\\" d=\\\"M 4.171875 0 L 4.171875 -0.3125 L 3.859375 -0.3125 C 2.953125 -0.3125 2.9375 -0.421875 2.9375 -0.78125 L 2.9375 -6.375 C 2.9375 -6.625 2.9375 -6.640625 2.703125 -6.640625 C 2.078125 -6 1.203125 -6 0.890625 -6 L 0.890625 -5.6875 C 1.09375 -5.6875 1.671875 -5.6875 2.1875 -5.953125 L 2.1875 -0.78125 C 2.1875 -0.421875 2.15625 -0.3125 1.265625 -0.3125 L 0.953125 -0.3125 L 0.953125 0 C 1.296875 -0.03125 2.15625 -0.03125 2.5625 -0.03125 C 2.953125 -0.03125 3.828125 -0.03125 4.171875 0 Z M 4.171875 0 \\\"\\/>\\n<\\/symbol>\\n<symbol overflow=\\\"visible\\\" id=\\\"glyph-1688390289546981-3-25\\\">\\n<path style=\\\"stroke:none;\\\" d=\\\"M 1.90625 -3.765625 C 1.90625 -4.0625 1.671875 -4.296875 1.390625 -4.296875 C 1.09375 -4.296875 0.859375 -4.0625 0.859375 -3.765625 C 0.859375 -3.484375 1.09375 -3.234375 1.390625 -3.234375 C 1.671875 -3.234375 1.90625 -3.484375 1.90625 -3.765625 Z M 1.90625 -0.53125 C 1.90625 -0.8125 1.671875 -1.0625 1.390625 -1.0625 C 1.09375 -1.0625 0.859375 -0.8125 0.859375 -0.53125 C 0.859375 -0.234375 1.09375 0 1.390625 0 C 1.671875 0 1.90625 -0.234375 1.90625 -0.53125 Z M 1.90625 -0.53125 \\\"\\/>\\n<\\/symbol>\\n<symbol overflow=\\\"visible\\\" id=\\\"glyph-1688390289546981-3-26\\\">\\n<path style=\\\"stroke:none;\\\" d=\\\"M 6.625 -2.328125 C 6.625 -2.421875 6.625 -2.5 6.5 -2.5 C 6.390625 -2.5 6.390625 -2.4375 6.375 -2.328125 C 6.296875 -0.90625 5.234375 -0.09375 4.140625 -0.09375 C 3.53125 -0.09375 1.578125 -0.421875 1.578125 -3.40625 C 1.578125 -6.375 3.53125 -6.71875 4.140625 -6.71875 C 5.21875 -6.71875 6.109375 -5.8125 6.3125 -4.359375 C 6.328125 -4.21875 6.328125 -4.1875 6.46875 -4.1875 C 6.625 -4.1875 6.625 -4.21875 6.625 -4.421875 L 6.625 -6.78125 C 6.625 -6.953125 6.625 -7.03125 6.515625 -7.03125 C 6.484375 -7.03125 6.4375 -7.03125 6.359375 -6.90625 L 5.859375 -6.171875 C 5.5 -6.53125 4.984375 -7.03125 4.03125 -7.03125 C 2.15625 -7.03125 0.5625 -5.4375 0.5625 -3.40625 C 0.5625 -1.34375 2.171875 0.21875 4.03125 0.21875 C 5.65625 0.21875 6.625 -1.171875 6.625 -2.328125 Z M 6.625 -2.328125 \\\"\\/>\\n<\\/symbol>\\n<symbol overflow=\\\"visible\\\" id=\\\"glyph-1688390289546981-3-27\\\">\\n<path style=\\\"stroke:none;\\\" d=\\\"M 4.46875 -1.734375 L 4.234375 -1.734375 C 4.171875 -1.4375 4.109375 -1 4 -0.84375 C 3.9375 -0.765625 3.28125 -0.765625 3.0625 -0.765625 L 1.265625 -0.765625 L 2.328125 -1.796875 C 3.875 -3.171875 4.46875 -3.703125 4.46875 -4.703125 C 4.46875 -5.84375 3.578125 -6.640625 2.359375 -6.640625 C 1.234375 -6.640625 0.5 -5.71875 0.5 -4.828125 C 0.5 -4.28125 1 -4.28125 1.03125 -4.28125 C 1.203125 -4.28125 1.546875 -4.390625 1.546875 -4.8125 C 1.546875 -5.0625 1.359375 -5.328125 1.015625 -5.328125 C 0.9375 -5.328125 0.921875 -5.328125 0.890625 -5.3125 C 1.109375 -5.96875 1.65625 -6.328125 2.234375 -6.328125 C 3.140625 -6.328125 3.5625 -5.515625 3.5625 -4.703125 C 3.5625 -3.90625 3.078125 -3.125 2.515625 -2.5 L 0.609375 -0.375 C 0.5 -0.265625 0.5 -0.234375 0.5 0 L 4.203125 0 Z M 4.46875 -1.734375 \\\"\\/>\\n<\\/symbol>\\n<symbol overflow=\\\"visible\\\" id=\\\"glyph-1688390289546981-3-28\\\">\\n<path style=\\\"stroke:none;\\\" d=\\\"M 7.046875 -3.34375 C 7.046875 -5.25 5.703125 -6.8125 4 -6.8125 L 0.34375 -6.8125 L 0.34375 -6.5 L 0.59375 -6.5 C 1.359375 -6.5 1.375 -6.390625 1.375 -6.03125 L 1.375 -0.78125 C 1.375 -0.421875 1.359375 -0.3125 0.59375 -0.3125 L 0.34375 -0.3125 L 0.34375 0 L 4 0 C 5.671875 0 7.046875 -1.46875 7.046875 -3.34375 Z M 6.046875 -3.34375 C 6.046875 -2.25 5.859375 -1.640625 5.5 -1.15625 C 5.296875 -0.890625 4.734375 -0.3125 3.734375 -0.3125 L 2.71875 -0.3125 C 2.25 -0.3125 2.234375 -0.375 2.234375 -0.703125 L 2.234375 -6.09375 C 2.234375 -6.4375 2.25 -6.5 2.71875 -6.5 L 3.71875 -6.5 C 4.34375 -6.5 5.03125 -6.28125 5.53125 -5.578125 C 5.96875 -4.984375 6.046875 -4.125 6.046875 -3.34375 Z M 6.046875 -3.34375 \\\"\\/>\\n<\\/symbol>\\n<symbol overflow=\\\"visible\\\" id=\\\"glyph-1688390289546981-3-29\\\">\\n<path style=\\\"stroke:none;\\\" d=\\\"M 4.5625 -1.703125 C 4.5625 -2.515625 3.921875 -3.296875 2.890625 -3.515625 C 3.703125 -3.78125 4.28125 -4.46875 4.28125 -5.265625 C 4.28125 -6.078125 3.40625 -6.640625 2.453125 -6.640625 C 1.453125 -6.640625 0.6875 -6.046875 0.6875 -5.28125 C 0.6875 -4.953125 0.90625 -4.765625 1.203125 -4.765625 C 1.5 -4.765625 1.703125 -4.984375 1.703125 -5.28125 C 1.703125 -5.765625 1.234375 -5.765625 1.09375 -5.765625 C 1.390625 -6.265625 2.046875 -6.390625 2.40625 -6.390625 C 2.828125 -6.390625 3.375 -6.171875 3.375 -5.28125 C 3.375 -5.15625 3.34375 -4.578125 3.09375 -4.140625 C 2.796875 -3.65625 2.453125 -3.625 2.203125 -3.625 C 2.125 -3.609375 1.890625 -3.59375 1.8125 -3.59375 C 1.734375 -3.578125 1.671875 -3.5625 1.671875 -3.46875 C 1.671875 -3.359375 1.734375 -3.359375 1.90625 -3.359375 L 2.34375 -3.359375 C 3.15625 -3.359375 3.53125 -2.6875 3.53125 -1.703125 C 3.53125 -0.34375 2.84375 -0.0625 2.40625 -0.0625 C 1.96875 -0.0625 1.21875 -0.234375 0.875 -0.8125 C 1.21875 -0.765625 1.53125 -0.984375 1.53125 -1.359375 C 1.53125 -1.71875 1.265625 -1.921875 0.984375 -1.921875 C 0.734375 -1.921875 0.421875 -1.78125 0.421875 -1.34375 C 0.421875 -0.4375 1.34375 0.21875 2.4375 0.21875 C 3.65625 0.21875 4.5625 -0.6875 4.5625 -1.703125 Z M 4.5625 -1.703125 \\\"\\/>\\n<\\/symbol>\\n<symbol overflow=\\\"visible\\\" id=\\\"glyph-1688390289546981-3-30\\\">\\n<path style=\\\"stroke:none;\\\" d=\\\"M 4.6875 -1.640625 L 4.6875 -1.953125 L 3.703125 -1.953125 L 3.703125 -6.484375 C 3.703125 -6.6875 3.703125 -6.75 3.53125 -6.75 C 3.453125 -6.75 3.421875 -6.75 3.34375 -6.625 L 0.28125 -1.953125 L 0.28125 -1.640625 L 2.9375 -1.640625 L 2.9375 -0.78125 C 2.9375 -0.421875 2.90625 -0.3125 2.171875 -0.3125 L 1.96875 -0.3125 L 1.96875 0 C 2.375 -0.03125 2.890625 -0.03125 3.3125 -0.03125 C 3.734375 -0.03125 4.25 -0.03125 4.671875 0 L 4.671875 -0.3125 L 4.453125 -0.3125 C 3.71875 -0.3125 3.703125 -0.421875 3.703125 -0.78125 L 3.703125 -1.640625 Z M 2.984375 -1.953125 L 0.5625 -1.953125 L 2.984375 -5.671875 Z M 2.984375 -1.953125 \\\"\\/>\\n<\\/symbol>\\n<symbol overflow=\\\"visible\\\" id=\\\"glyph-1688390289546981-3-31\\\">\\n<path style=\\\"stroke:none;\\\" d=\\\"M 6.5 -2.578125 L 6.25 -2.578125 C 6 -1.03125 5.765625 -0.3125 4.0625 -0.3125 L 2.734375 -0.3125 C 2.265625 -0.3125 2.25 -0.375 2.25 -0.703125 L 2.25 -3.375 L 3.140625 -3.375 C 4.109375 -3.375 4.21875 -3.046875 4.21875 -2.203125 L 4.46875 -2.203125 L 4.46875 -4.84375 L 4.21875 -4.84375 C 4.21875 -3.984375 4.109375 -3.671875 3.140625 -3.671875 L 2.25 -3.671875 L 2.25 -6.078125 C 2.25 -6.40625 2.265625 -6.46875 2.734375 -6.46875 L 4.015625 -6.46875 C 5.546875 -6.46875 5.8125 -5.921875 5.96875 -4.53125 L 6.21875 -4.53125 L 5.9375 -6.78125 L 0.328125 -6.78125 L 0.328125 -6.46875 L 0.5625 -6.46875 C 1.328125 -6.46875 1.359375 -6.359375 1.359375 -6 L 1.359375 -0.78125 C 1.359375 -0.421875 1.328125 -0.3125 0.5625 -0.3125 L 0.328125 -0.3125 L 0.328125 0 L 6.078125 0 Z M 6.5 -2.578125 \\\"\\/>\\n<\\/symbol>\\n<symbol overflow=\\\"visible\\\" id=\\\"glyph-1688390289546981-3-32\\\">\\n<path style=\\\"stroke:none;\\\" d=\\\"M 4.96875 -1.859375 C 4.96875 -2.84375 4.3125 -3.671875 3.484375 -3.875 L 2.203125 -4.171875 C 1.578125 -4.328125 1.203125 -4.859375 1.203125 -5.4375 C 1.203125 -6.140625 1.734375 -6.75 2.515625 -6.75 C 4.171875 -6.75 4.390625 -5.109375 4.453125 -4.671875 C 4.46875 -4.609375 4.46875 -4.546875 4.578125 -4.546875 C 4.703125 -4.546875 4.703125 -4.59375 4.703125 -4.78125 L 4.703125 -6.78125 C 4.703125 -6.953125 4.703125 -7.03125 4.59375 -7.03125 C 4.53125 -7.03125 4.515625 -7.015625 4.453125 -6.890625 L 4.09375 -6.328125 C 3.796875 -6.625 3.390625 -7.03125 2.5 -7.03125 C 1.390625 -7.03125 0.5625 -6.15625 0.5625 -5.09375 C 0.5625 -4.265625 1.09375 -3.53125 1.859375 -3.265625 C 1.96875 -3.234375 2.484375 -3.109375 3.1875 -2.9375 C 3.453125 -2.875 3.75 -2.796875 4.03125 -2.4375 C 4.234375 -2.171875 4.34375 -1.84375 4.34375 -1.515625 C 4.34375 -0.8125 3.84375 -0.09375 3 -0.09375 C 2.71875 -0.09375 1.953125 -0.140625 1.421875 -0.625 C 0.84375 -1.171875 0.8125 -1.796875 0.8125 -2.15625 C 0.796875 -2.265625 0.71875 -2.265625 0.6875 -2.265625 C 0.5625 -2.265625 0.5625 -2.1875 0.5625 -2.015625 L 0.5625 -0.015625 C 0.5625 0.15625 0.5625 0.21875 0.671875 0.21875 C 0.734375 0.21875 0.75 0.203125 0.8125 0.09375 C 0.8125 0.09375 0.84375 0.046875 1.171875 -0.484375 C 1.484375 -0.140625 2.125 0.21875 3.015625 0.21875 C 4.171875 0.21875 4.96875 -0.75 4.96875 -1.859375 Z M 4.96875 -1.859375 \\\"\\/>\\n<\\/symbol>\\n<symbol overflow=\\\"visible\\\" id=\\\"glyph-1688390289546981-3-33\\\">\\n<path style=\\\"stroke:none;\\\" d=\\\"M 4.46875 -2 C 4.46875 -3.1875 3.65625 -4.1875 2.578125 -4.1875 C 2.109375 -4.1875 1.671875 -4.03125 1.3125 -3.671875 L 1.3125 -5.625 C 1.515625 -5.5625 1.84375 -5.5 2.15625 -5.5 C 3.390625 -5.5 4.09375 -6.40625 4.09375 -6.53125 C 4.09375 -6.59375 4.0625 -6.640625 3.984375 -6.640625 C 3.984375 -6.640625 3.953125 -6.640625 3.90625 -6.609375 C 3.703125 -6.515625 3.21875 -6.3125 2.546875 -6.3125 C 2.15625 -6.3125 1.6875 -6.390625 1.21875 -6.59375 C 1.140625 -6.625 1.109375 -6.625 1.109375 -6.625 C 1 -6.625 1 -6.546875 1 -6.390625 L 1 -3.4375 C 1 -3.265625 1 -3.1875 1.140625 -3.1875 C 1.21875 -3.1875 1.234375 -3.203125 1.28125 -3.265625 C 1.390625 -3.421875 1.75 -3.96875 2.5625 -3.96875 C 3.078125 -3.96875 3.328125 -3.515625 3.40625 -3.328125 C 3.5625 -2.953125 3.59375 -2.578125 3.59375 -2.078125 C 3.59375 -1.71875 3.59375 -1.125 3.34375 -0.703125 C 3.109375 -0.3125 2.734375 -0.0625 2.28125 -0.0625 C 1.5625 -0.0625 0.984375 -0.59375 0.8125 -1.171875 C 0.84375 -1.171875 0.875 -1.15625 0.984375 -1.15625 C 1.3125 -1.15625 1.484375 -1.40625 1.484375 -1.640625 C 1.484375 -1.890625 1.3125 -2.140625 0.984375 -2.140625 C 0.84375 -2.140625 0.5 -2.0625 0.5 -1.609375 C 0.5 -0.75 1.1875 0.21875 2.296875 0.21875 C 3.453125 0.21875 4.46875 -0.734375 4.46875 -2 Z M 4.46875 -2 \\\"\\/>\\n<\\/symbol>\\n<symbol overflow=\\\"visible\\\" id=\\\"glyph-1688390289546981-3-34\\\">\\n<path style=\\\"stroke:none;\\\" d=\\\"M 4.578125 -3.1875 C 4.578125 -3.984375 4.53125 -4.78125 4.1875 -5.515625 C 3.734375 -6.484375 2.90625 -6.640625 2.5 -6.640625 C 1.890625 -6.640625 1.171875 -6.375 0.75 -5.453125 C 0.4375 -4.765625 0.390625 -3.984375 0.390625 -3.1875 C 0.390625 -2.4375 0.421875 -1.546875 0.84375 -0.78125 C 1.265625 0.015625 2 0.21875 2.484375 0.21875 C 3.015625 0.21875 3.78125 0.015625 4.21875 -0.9375 C 4.53125 -1.625 4.578125 -2.40625 4.578125 -3.1875 Z M 3.765625 -3.3125 C 3.765625 -2.5625 3.765625 -1.890625 3.65625 -1.25 C 3.5 -0.296875 2.9375 0 2.484375 0 C 2.09375 0 1.5 -0.25 1.328125 -1.203125 C 1.21875 -1.796875 1.21875 -2.71875 1.21875 -3.3125 C 1.21875 -3.953125 1.21875 -4.609375 1.296875 -5.140625 C 1.484375 -6.328125 2.234375 -6.421875 2.484375 -6.421875 C 2.8125 -6.421875 3.46875 -6.234375 3.65625 -5.25 C 3.765625 -4.6875 3.765625 -3.9375 3.765625 -3.3125 Z M 3.765625 -3.3125 \\\"\\/>\\n<\\/symbol>\\n<symbol overflow=\\\"visible\\\" id=\\\"glyph-1688390289546981-3-35\\\">\\n<path style=\\\"stroke:none;\\\" d=\\\"M 5.796875 -2.578125 L 5.546875 -2.578125 C 5.4375 -1.5625 5.296875 -0.3125 3.546875 -0.3125 L 2.734375 -0.3125 C 2.265625 -0.3125 2.25 -0.375 2.25 -0.703125 L 2.25 -6.015625 C 2.25 -6.359375 2.25 -6.5 3.1875 -6.5 L 3.515625 -6.5 L 3.515625 -6.8125 C 3.15625 -6.78125 2.25 -6.78125 1.84375 -6.78125 C 1.453125 -6.78125 0.671875 -6.78125 0.328125 -6.8125 L 0.328125 -6.5 L 0.5625 -6.5 C 1.328125 -6.5 1.359375 -6.390625 1.359375 -6.03125 L 1.359375 -0.78125 C 1.359375 -0.421875 1.328125 -0.3125 0.5625 -0.3125 L 0.328125 -0.3125 L 0.328125 0 L 5.515625 0 Z M 5.796875 -2.578125 \\\"\\/>\\n<\\/symbol>\\n<symbol overflow=\\\"visible\\\" id=\\\"glyph-1688390289546981-3-36\\\">\\n<path style=\\\"stroke:none;\\\" d=\\\"M 4.5625 -2.03125 C 4.5625 -3.296875 3.671875 -4.25 2.5625 -4.25 C 1.890625 -4.25 1.515625 -3.75 1.3125 -3.265625 L 1.3125 -3.515625 C 1.3125 -6.03125 2.546875 -6.390625 3.0625 -6.390625 C 3.296875 -6.390625 3.71875 -6.328125 3.9375 -5.984375 C 3.78125 -5.984375 3.390625 -5.984375 3.390625 -5.546875 C 3.390625 -5.234375 3.625 -5.078125 3.84375 -5.078125 C 4 -5.078125 4.3125 -5.171875 4.3125 -5.5625 C 4.3125 -6.15625 3.875 -6.640625 3.046875 -6.640625 C 1.765625 -6.640625 0.421875 -5.359375 0.421875 -3.15625 C 0.421875 -0.484375 1.578125 0.21875 2.5 0.21875 C 3.609375 0.21875 4.5625 -0.71875 4.5625 -2.03125 Z M 3.65625 -2.046875 C 3.65625 -1.5625 3.65625 -1.0625 3.484375 -0.703125 C 3.1875 -0.109375 2.734375 -0.0625 2.5 -0.0625 C 1.875 -0.0625 1.578125 -0.65625 1.515625 -0.8125 C 1.328125 -1.28125 1.328125 -2.078125 1.328125 -2.25 C 1.328125 -3.03125 1.65625 -4.03125 2.546875 -4.03125 C 2.71875 -4.03125 3.171875 -4.03125 3.484375 -3.40625 C 3.65625 -3.046875 3.65625 -2.53125 3.65625 -2.046875 Z M 3.65625 -2.046875 \\\"\\/>\\n<\\/symbol>\\n<symbol overflow=\\\"visible\\\" id=\\\"glyph-1688390289546981-3-37\\\">\\n<path style=\\\"stroke:none;\\\" d=\\\"M 4.828125 -6.421875 L 2.40625 -6.421875 C 1.203125 -6.421875 1.171875 -6.546875 1.140625 -6.734375 L 0.890625 -6.734375 L 0.5625 -4.6875 L 0.8125 -4.6875 C 0.84375 -4.84375 0.921875 -5.46875 1.0625 -5.59375 C 1.125 -5.65625 1.90625 -5.65625 2.03125 -5.65625 L 4.09375 -5.65625 L 2.984375 -4.078125 C 2.078125 -2.734375 1.75 -1.34375 1.75 -0.328125 C 1.75 -0.234375 1.75 0.21875 2.21875 0.21875 C 2.671875 0.21875 2.671875 -0.234375 2.671875 -0.328125 L 2.671875 -0.84375 C 2.671875 -1.390625 2.703125 -1.9375 2.78125 -2.46875 C 2.828125 -2.703125 2.953125 -3.5625 3.40625 -4.171875 L 4.75 -6.078125 C 4.828125 -6.1875 4.828125 -6.203125 4.828125 -6.421875 Z M 4.828125 -6.421875 \\\"\\/>\\n<\\/symbol>\\n<symbol overflow=\\\"visible\\\" id=\\\"glyph-1688390289546981-3-38\\\">\\n<path style=\\\"stroke:none;\\\" d=\\\"M 4.5625 -1.671875 C 4.5625 -2.03125 4.453125 -2.484375 4.0625 -2.90625 C 3.875 -3.109375 3.71875 -3.203125 3.078125 -3.609375 C 3.796875 -3.984375 4.28125 -4.5 4.28125 -5.15625 C 4.28125 -6.078125 3.40625 -6.640625 2.5 -6.640625 C 1.5 -6.640625 0.6875 -5.90625 0.6875 -4.96875 C 0.6875 -4.796875 0.703125 -4.34375 1.125 -3.875 C 1.234375 -3.765625 1.609375 -3.515625 1.859375 -3.34375 C 1.28125 -3.046875 0.421875 -2.5 0.421875 -1.5 C 0.421875 -0.453125 1.4375 0.21875 2.484375 0.21875 C 3.609375 0.21875 4.5625 -0.609375 4.5625 -1.671875 Z M 3.84375 -5.15625 C 3.84375 -4.578125 3.453125 -4.109375 2.859375 -3.765625 L 1.625 -4.5625 C 1.171875 -4.859375 1.125 -5.1875 1.125 -5.359375 C 1.125 -5.96875 1.78125 -6.390625 2.484375 -6.390625 C 3.203125 -6.390625 3.84375 -5.875 3.84375 -5.15625 Z M 4.0625 -1.3125 C 4.0625 -0.578125 3.3125 -0.0625 2.5 -0.0625 C 1.640625 -0.0625 0.921875 -0.671875 0.921875 -1.5 C 0.921875 -2.078125 1.234375 -2.71875 2.078125 -3.1875 L 3.3125 -2.40625 C 3.59375 -2.21875 4.0625 -1.921875 4.0625 -1.3125 Z M 4.0625 -1.3125 \\\"\\/>\\n<\\/symbol>\\n<symbol overflow=\\\"visible\\\" id=\\\"glyph-1688390289546981-3-39\\\">\\n<path style=\\\"stroke:none;\\\" d=\\\"M 4.5625 -3.28125 C 4.5625 -5.96875 3.40625 -6.640625 2.515625 -6.640625 C 1.96875 -6.640625 1.484375 -6.453125 1.0625 -6.015625 C 0.640625 -5.5625 0.421875 -5.140625 0.421875 -4.390625 C 0.421875 -3.15625 1.296875 -2.171875 2.40625 -2.171875 C 3.015625 -2.171875 3.421875 -2.59375 3.65625 -3.171875 L 3.65625 -2.84375 C 3.65625 -0.515625 2.625 -0.0625 2.046875 -0.0625 C 1.875 -0.0625 1.328125 -0.078125 1.0625 -0.421875 C 1.5 -0.421875 1.578125 -0.703125 1.578125 -0.875 C 1.578125 -1.1875 1.34375 -1.328125 1.125 -1.328125 C 0.96875 -1.328125 0.671875 -1.25 0.671875 -0.859375 C 0.671875 -0.1875 1.203125 0.21875 2.046875 0.21875 C 3.34375 0.21875 4.5625 -1.140625 4.5625 -3.28125 Z M 3.640625 -4.203125 C 3.640625 -3.375 3.296875 -2.40625 2.421875 -2.40625 C 2.265625 -2.40625 1.796875 -2.40625 1.5 -3.03125 C 1.3125 -3.40625 1.3125 -3.890625 1.3125 -4.390625 C 1.3125 -4.921875 1.3125 -5.390625 1.53125 -5.765625 C 1.796875 -6.265625 2.171875 -6.390625 2.515625 -6.390625 C 2.984375 -6.390625 3.3125 -6.046875 3.484375 -5.609375 C 3.59375 -5.28125 3.640625 -4.65625 3.640625 -4.203125 Z M 3.640625 -4.203125 \\\"\\/>\\n<\\/symbol>\\n<symbol overflow=\\\"visible\\\" id=\\\"glyph-1688390289546981-3-40\\\">\\n<path style=\\\"stroke:none;\\\" d=\\\"M 7.34375 0 L 7.34375 -0.3125 C 6.796875 -0.3125 6.59375 -0.34375 6.296875 -0.78125 L 3.984375 -4.171875 L 5.78125 -5.90625 C 5.859375 -5.984375 6.390625 -6.484375 7.203125 -6.5 L 7.203125 -6.8125 C 6.9375 -6.78125 6.625 -6.78125 6.34375 -6.78125 C 5.984375 -6.78125 5.421875 -6.78125 5.078125 -6.8125 L 5.078125 -6.5 C 5.484375 -6.484375 5.546875 -6.265625 5.546875 -6.171875 C 5.546875 -6.015625 5.4375 -5.90625 5.359375 -5.84375 L 2.25 -2.859375 L 2.25 -6.03125 C 2.25 -6.390625 2.265625 -6.5 3.03125 -6.5 L 3.265625 -6.5 L 3.265625 -6.8125 C 2.921875 -6.78125 2.1875 -6.78125 1.796875 -6.78125 C 1.421875 -6.78125 0.671875 -6.78125 0.328125 -6.8125 L 0.328125 -6.5 L 0.5625 -6.5 C 1.328125 -6.5 1.359375 -6.390625 1.359375 -6.03125 L 1.359375 -0.78125 C 1.359375 -0.421875 1.328125 -0.3125 0.5625 -0.3125 L 0.328125 -0.3125 L 0.328125 0 C 0.671875 -0.03125 1.421875 -0.03125 1.796875 -0.03125 C 2.171875 -0.03125 2.921875 -0.03125 3.265625 0 L 3.265625 -0.3125 L 3.03125 -0.3125 C 2.265625 -0.3125 2.25 -0.421875 2.25 -0.78125 L 2.25 -2.515625 L 3.40625 -3.625 L 5.203125 -0.953125 C 5.265625 -0.859375 5.359375 -0.734375 5.359375 -0.609375 C 5.359375 -0.3125 4.96875 -0.3125 4.765625 -0.3125 L 4.765625 0 C 5.109375 -0.03125 5.8125 -0.03125 6.1875 -0.03125 Z M 7.34375 0 \\\"\\/>\\n<\\/symbol>\\n<symbol overflow=\\\"visible\\\" id=\\\"glyph-1688390289546981-3-41\\\">\\n<path style=\\\"stroke:none;\\\" d=\\\"M 7.359375 -6.5 L 7.359375 -6.8125 C 7.046875 -6.78125 6.65625 -6.78125 6.375 -6.78125 L 5.234375 -6.8125 L 5.234375 -6.5 C 5.640625 -6.5 5.796875 -6.3125 5.796875 -6.109375 C 5.796875 -6 5.734375 -5.875 5.703125 -5.8125 L 4.0625 -3.140625 L 2.25 -6.078125 C 2.1875 -6.1875 2.1875 -6.203125 2.1875 -6.25 C 2.1875 -6.453125 2.4375 -6.5 2.875 -6.5 L 2.875 -6.8125 C 2.515625 -6.78125 1.796875 -6.78125 1.40625 -6.78125 L 0.109375 -6.8125 L 0.109375 -6.5 L 0.296875 -6.5 C 0.96875 -6.5 1.046875 -6.390625 1.203125 -6.125 L 3.296875 -2.71875 L 3.296875 -0.78125 C 3.296875 -0.421875 3.28125 -0.3125 2.515625 -0.3125 L 2.265625 -0.3125 L 2.265625 0 C 2.625 -0.03125 3.34375 -0.03125 3.734375 -0.03125 C 4.109375 -0.03125 4.828125 -0.03125 5.1875 0 L 5.1875 -0.3125 L 4.953125 -0.3125 C 4.1875 -0.3125 4.15625 -0.40625 4.15625 -0.796875 L 4.15625 -2.71875 L 6.078125 -5.859375 C 6.453125 -6.453125 7.03125 -6.5 7.359375 -6.5 Z M 7.359375 -6.5 \\\"\\/>\\n<\\/symbol>\\n<symbol overflow=\\\"visible\\\" id=\\\"glyph-1688390289546981-4-0\\\">\\n<path style=\\\"stroke:none;\\\" d=\\\"\\\"\\/>\\n<\\/symbol>\\n<symbol overflow=\\\"visible\\\" id=\\\"glyph-1688390289546981-4-1\\\">\\n<path style=\\\"stroke:none;\\\" d=\\\"M -0.875 -7.296875 C -0.9375 -7.296875 -1.046875 -7.296875 -1.046875 -7.171875 C -1.046875 -7.0625 -0.953125 -7.0625 -0.890625 -7.046875 C -0.171875 -6.984375 0 -6.640625 0 -6.390625 C 0 -5.90625 -0.515625 -5.828125 -1.4375 -5.6875 L -2.234375 -5.546875 C -2.875 -5.375 -3.203125 -4.890625 -3.390625 -4.34375 C -3.625 -5.296875 -4.234375 -6.078125 -5.015625 -6.078125 C -5.96875 -6.078125 -6.8125 -4.9375 -6.8125 -3.484375 L -6.8125 -0.34375 L -6.5 -0.34375 L -6.5 -0.59375 C -6.5 -1.359375 -6.390625 -1.375 -6.03125 -1.375 L -0.78125 -1.375 C -0.421875 -1.375 -0.3125 -1.359375 -0.3125 -0.59375 L -0.3125 -0.34375 L 0 -0.34375 C -0.03125 -0.703125 -0.03125 -1.421875 -0.03125 -1.796875 C -0.03125 -2.1875 -0.03125 -2.90625 0 -3.265625 L -0.3125 -3.265625 L -0.3125 -3.015625 C -0.3125 -2.25 -0.421875 -2.234375 -0.78125 -2.234375 L -3.296875 -2.234375 L -3.296875 -3.375 C -3.296875 -3.53125 -3.296875 -3.953125 -2.953125 -4.3125 C -2.609375 -4.6875 -2.296875 -4.6875 -1.625 -4.6875 C -0.984375 -4.6875 -0.578125 -4.6875 -0.203125 -5.09375 C 0.15625 -5.5 0.21875 -6.046875 0.21875 -6.34375 C 0.21875 -7.125 -0.59375 -7.296875 -0.875 -7.296875 Z M -5.015625 -5.046875 C -4.328125 -5.046875 -3.515625 -4.8125 -3.515625 -3.34375 L -3.515625 -2.234375 L -6.09375 -2.234375 C -6.328125 -2.234375 -6.453125 -2.234375 -6.484375 -2.453125 C -6.5 -2.546875 -6.5 -2.84375 -6.5 -3.046875 C -6.5 -3.9375 -6.453125 -5.046875 -5.015625 -5.046875 Z M -5.015625 -5.046875 \\\"\\/>\\n<\\/symbol>\\n<symbol overflow=\\\"visible\\\" id=\\\"glyph-1688390289546981-4-2\\\">\\n<path style=\\\"stroke:none;\\\" d=\\\"M -1.1875 -4.140625 C -1.28125 -4.140625 -1.3125 -4.0625 -1.3125 -4 C -1.3125 -3.921875 -1.25 -3.890625 -1.171875 -3.875 C -0.140625 -3.53125 -0.140625 -2.625 -0.140625 -2.53125 C -0.140625 -2.03125 -0.4375 -1.640625 -0.8125 -1.40625 C -1.28125 -1.109375 -1.9375 -1.109375 -2.296875 -1.109375 L -2.296875 -3.890625 C -2.296875 -4.109375 -2.296875 -4.140625 -2.515625 -4.140625 C -3.5 -4.140625 -4.46875 -3.59375 -4.46875 -2.359375 C -4.46875 -1.203125 -3.4375 -0.28125 -2.1875 -0.28125 C -0.859375 -0.28125 0.109375 -1.328125 0.109375 -2.46875 C 0.109375 -3.6875 -1 -4.140625 -1.1875 -4.140625 Z M -2.515625 -3.484375 L -2.515625 -1.109375 C -4 -1.171875 -4.25 -2.015625 -4.25 -2.359375 C -4.25 -3.375 -2.90625 -3.484375 -2.515625 -3.484375 Z M -2.515625 -3.484375 \\\"\\/>\\n<\\/symbol>\\n<symbol overflow=\\\"visible\\\" id=\\\"glyph-1688390289546981-4-3\\\">\\n<path style=\\\"stroke:none;\\\" d=\\\"M 0 -2.546875 L -0.3125 -2.546875 C -0.3125 -1.875 -0.3125 -1.765625 -0.75 -1.765625 L -6.921875 -1.765625 L -6.8125 -0.328125 L -6.5 -0.328125 C -6.5 -1.03125 -6.4375 -1.109375 -5.9375 -1.109375 L -0.75 -1.109375 C -0.3125 -1.109375 -0.3125 -1 -0.3125 -0.328125 L 0 -0.328125 L -0.03125 -1.4375 Z M 0 -2.546875 \\\"\\/>\\n<\\/symbol>\\n<symbol overflow=\\\"visible\\\" id=\\\"glyph-1688390289546981-4-4\\\">\\n<path style=\\\"stroke:none;\\\" d=\\\"M -0.890625 -4.8125 L -1.453125 -4.8125 L -1.453125 -4.5625 L -0.890625 -4.5625 C -0.3125 -4.5625 -0.25 -4.3125 -0.25 -4.203125 C -0.25 -3.875 -0.703125 -3.84375 -0.75 -3.84375 L -2.734375 -3.84375 C -3.15625 -3.84375 -3.546875 -3.84375 -3.921875 -3.484375 C -4.3125 -3.09375 -4.46875 -2.59375 -4.46875 -2.109375 C -4.46875 -1.296875 -4 -0.609375 -3.34375 -0.609375 C -3.046875 -0.609375 -2.875 -0.8125 -2.875 -1.0625 C -2.875 -1.34375 -3.078125 -1.53125 -3.328125 -1.53125 C -3.453125 -1.53125 -3.78125 -1.46875 -3.78125 -1.015625 C -4.140625 -1.28125 -4.25 -1.78125 -4.25 -2.09375 C -4.25 -2.578125 -3.859375 -3.15625 -2.96875 -3.15625 L -2.609375 -3.15625 C -2.578125 -2.640625 -2.546875 -1.9375 -2.25 -1.3125 C -1.90625 -0.5625 -1.390625 -0.3125 -0.953125 -0.3125 C -0.140625 -0.3125 0.109375 -1.28125 0.109375 -1.90625 C 0.109375 -2.578125 -0.296875 -3.03125 -0.75 -3.21875 C -0.359375 -3.265625 0.0625 -3.53125 0.0625 -4 C 0.0625 -4.203125 -0.078125 -4.8125 -0.890625 -4.8125 Z M -1.390625 -3.15625 C -0.453125 -3.15625 -0.109375 -2.4375 -0.109375 -1.984375 C -0.109375 -1.5 -0.453125 -1.09375 -0.953125 -1.09375 C -1.5 -1.09375 -2.328125 -1.5 -2.390625 -3.15625 Z M -1.390625 -3.15625 \\\"\\/>\\n<\\/symbol>\\n<symbol overflow=\\\"visible\\\" id=\\\"glyph-1688390289546981-4-5\\\">\\n<path style=\\\"stroke:none;\\\" d=\\\"M -1.234375 -3.3125 L -1.796875 -3.3125 L -1.796875 -3.0625 L -1.25 -3.0625 C -0.515625 -3.0625 -0.140625 -2.765625 -0.140625 -2.390625 C -0.140625 -1.71875 -1.046875 -1.71875 -1.21875 -1.71875 L -3.984375 -1.71875 L -3.984375 -3.15625 L -4.296875 -3.15625 L -4.296875 -1.71875 L -6.125 -1.71875 L -6.125 -1.46875 C -5.3125 -1.46875 -4.25 -1.171875 -4.203125 -0.1875 L -3.984375 -0.1875 L -3.984375 -1.03125 L -1.234375 -1.03125 C -0.015625 -1.03125 0.109375 -1.96875 0.109375 -2.328125 C 0.109375 -3.03125 -0.59375 -3.3125 -1.234375 -3.3125 Z M -1.234375 -3.3125 \\\"\\/>\\n<\\/symbol>\\n<symbol overflow=\\\"visible\\\" id=\\\"glyph-1688390289546981-4-6\\\">\\n<path style=\\\"stroke:none;\\\" d=\\\"M 0 -2.46875 L -0.3125 -2.46875 C -0.3125 -1.796875 -0.359375 -1.765625 -0.75 -1.765625 L -4.40625 -1.765625 L -4.296875 -0.375 L -3.984375 -0.375 C -3.984375 -1.015625 -3.921875 -1.109375 -3.4375 -1.109375 L -0.75 -1.109375 C -0.3125 -1.109375 -0.3125 -1 -0.3125 -0.328125 L 0 -0.328125 L -0.03125 -1.421875 C -0.03125 -1.78125 -0.015625 -2.125 0 -2.46875 Z M -6.015625 -1.90625 C -6.296875 -1.90625 -6.546875 -1.6875 -6.546875 -1.390625 C -6.546875 -1.046875 -6.265625 -0.84375 -6.015625 -0.84375 C -5.75 -0.84375 -5.5 -1.078125 -5.5 -1.375 C -5.5 -1.71875 -5.765625 -1.90625 -6.015625 -1.90625 Z M -6.015625 -1.90625 \\\"\\/>\\n<\\/symbol>\\n<symbol overflow=\\\"visible\\\" id=\\\"glyph-1688390289546981-4-7\\\">\\n<path style=\\\"stroke:none;\\\" d=\\\"M -3.984375 -5.0625 L -4.296875 -5.0625 C -4.28125 -4.828125 -4.265625 -4.546875 -4.265625 -4.3125 L -4.296875 -3.453125 L -3.984375 -3.453125 C -3.984375 -3.8125 -3.75 -3.921875 -3.5625 -3.921875 C -3.46875 -3.921875 -3.421875 -3.90625 -3.3125 -3.875 L -0.78125 -2.84375 L -3.5625 -1.734375 C -3.6875 -1.671875 -3.734375 -1.671875 -3.734375 -1.671875 C -3.984375 -1.671875 -3.984375 -2.0625 -3.984375 -2.25 L -4.296875 -2.25 L -4.265625 -1.15625 C -4.265625 -0.890625 -4.28125 -0.484375 -4.296875 -0.1875 L -3.984375 -0.1875 C -3.984375 -0.8125 -3.921875 -0.859375 -3.625 -0.984375 L -0.078125 -2.421875 C 0.0625 -2.484375 0.109375 -2.5 0.109375 -2.625 C 0.109375 -2.765625 0.015625 -2.796875 -0.078125 -2.84375 L -3.3125 -4.140625 C -3.546875 -4.234375 -3.984375 -4.40625 -3.984375 -5.0625 Z M -3.984375 -5.0625 \\\"\\/>\\n<\\/symbol>\\n<symbol overflow=\\\"visible\\\" id=\\\"glyph-1688390289546981-4-8\\\">\\n<path style=\\\"stroke:none;\\\" d=\\\"M 0 -7.140625 L -0.3125 -7.140625 L -0.3125 -6.96875 C -0.3125 -6.375 -0.375 -6.234375 -0.703125 -6.125 L -6.9375 -3.96875 C -7.0625 -3.921875 -7.140625 -3.890625 -7.140625 -3.734375 C -7.140625 -3.578125 -7.078125 -3.546875 -6.9375 -3.5 L -0.984375 -1.4375 C -0.46875 -1.25 -0.3125 -0.859375 -0.3125 -0.3125 L 0 -0.3125 L -0.03125 -1.328125 L 0 -2.484375 L -0.3125 -2.484375 C -0.3125 -1.984375 -0.5625 -1.734375 -0.8125 -1.734375 C -0.84375 -1.734375 -0.953125 -1.75 -0.96875 -1.75 L -2.265625 -2.21875 L -2.265625 -4.671875 L -0.75 -5.203125 C -0.703125 -5.21875 -0.640625 -5.234375 -0.609375 -5.234375 C -0.3125 -5.234375 -0.3125 -4.671875 -0.3125 -4.40625 L 0 -4.40625 C -0.03125 -4.765625 -0.03125 -5.46875 -0.03125 -5.84375 Z M -2.578125 -4.5625 L -2.578125 -2.328125 L -5.828125 -3.4375 Z M -2.578125 -4.5625 \\\"\\/>\\n<\\/symbol>\\n<symbol overflow=\\\"visible\\\" id=\\\"glyph-1688390289546981-4-9\\\">\\n<path style=\\\"stroke:none;\\\" d=\\\"M 2.390625 -3.296875 C 2.359375 -3.296875 2.34375 -3.296875 2.171875 -3.125 C 0.921875 -1.890625 -0.96875 -1.5625 -2.5 -1.5625 C -4.234375 -1.5625 -5.96875 -1.9375 -7.203125 -3.171875 C -7.328125 -3.296875 -7.34375 -3.296875 -7.375 -3.296875 C -7.453125 -3.296875 -7.484375 -3.265625 -7.484375 -3.203125 C -7.484375 -3.09375 -6.796875 -2.203125 -5.53125 -1.609375 C -4.4375 -1.109375 -3.328125 -0.984375 -2.5 -0.984375 C -1.71875 -0.984375 -0.515625 -1.09375 0.625 -1.640625 C 1.84375 -2.25 2.5 -3.09375 2.5 -3.203125 C 2.5 -3.265625 2.46875 -3.296875 2.390625 -3.296875 Z M 2.390625 -3.296875 \\\"\\/>\\n<\\/symbol>\\n<symbol overflow=\\\"visible\\\" id=\\\"glyph-1688390289546981-4-10\\\">\\n<path style=\\\"stroke:none;\\\" d=\\\"M -6.328125 -3.5625 C -6.703125 -3.5625 -7.03125 -3.1875 -7.03125 -2.65625 C -7.03125 -1.96875 -6.5 -1.109375 -5.4375 -1.109375 L -4.296875 -1.109375 L -4.296875 -0.328125 L -3.984375 -0.328125 L -3.984375 -1.109375 L -0.75 -1.109375 C -0.3125 -1.109375 -0.3125 -1 -0.3125 -0.34375 L 0 -0.34375 L -0.03125 -1.46875 C -0.03125 -1.875 -0.03125 -2.34375 0 -2.734375 L -0.3125 -2.734375 L -0.3125 -2.53125 C -0.3125 -1.796875 -0.421875 -1.78125 -0.78125 -1.78125 L -3.984375 -1.78125 L -3.984375 -2.90625 L -4.296875 -2.90625 L -4.296875 -1.75 L -5.453125 -1.75 C -6.328125 -1.75 -6.8125 -2.21875 -6.8125 -2.65625 C -6.8125 -2.6875 -6.8125 -2.84375 -6.734375 -2.984375 C -6.703125 -2.875 -6.5625 -2.6875 -6.3125 -2.6875 C -6.09375 -2.6875 -5.890625 -2.84375 -5.890625 -3.125 C -5.890625 -3.40625 -6.09375 -3.5625 -6.328125 -3.5625 Z M -6.328125 -3.5625 \\\"\\/>\\n<\\/symbol>\\n<symbol overflow=\\\"visible\\\" id=\\\"glyph-1688390289546981-4-11\\\">\\n<path style=\\\"stroke:none;\\\" d=\\\"M -2.5 -2.875 C -3.265625 -2.875 -4.46875 -2.765625 -5.609375 -2.21875 C -6.828125 -1.625 -7.484375 -0.765625 -7.484375 -0.671875 C -7.484375 -0.609375 -7.4375 -0.5625 -7.375 -0.5625 C -7.34375 -0.5625 -7.328125 -0.5625 -7.140625 -0.75 C -6.15625 -1.734375 -4.578125 -2.296875 -2.5 -2.296875 C -0.78125 -2.296875 0.96875 -1.9375 2.21875 -0.703125 C 2.34375 -0.5625 2.359375 -0.5625 2.390625 -0.5625 C 2.453125 -0.5625 2.5 -0.609375 2.5 -0.671875 C 2.5 -0.765625 1.8125 -1.671875 0.546875 -2.25 C -0.546875 -2.765625 -1.65625 -2.875 -2.5 -2.875 Z M -2.5 -2.875 \\\"\\/>\\n<\\/symbol>\\n<\\/g>\\n<clipPath id=\\\"clip-1688390289546981-1\\\">\\n  <path d=\\\"M 54.085938 22 L 292.71875 22 L 292.71875 203.941406 L 54.085938 203.941406 Z M 54.085938 22 \\\"\\/>\\n<\\/clipPath>\\n<image style=\\\"image-rendering: pixelated;\\\" id=\\\"image-1688390289546981-5\\\" width=\\\"100\\\" height=\\\"100\\\" xlink:href=\\\"data:image\\/png;base64,iVBORw0KGgoAAAANSUhEUgAAAGQAAABkCAIAAAD\\/gAIDAAAABmJLR0QA\\/wD\\/AP+gvaeTAAABjElEQVR4nO3bXYrCQBAA4Yx4Dj1izuIR40XGlxCMhJgimZ+G+t6EBaW2O5ldYso5Dzrm1voDRGIswFiAsQBjAcYCjAUYCzAWYCzAWICxAGMBxgKMBRgLMBZgLMBYgLEAYwHGAowFGAswFmAswFiAsQBjAcYC7q0\\/wFnP1+rlNBZ8LycLMBaQrn3y72cpWim0jE4WAC7wnUzNPi\\/wvTAWsFrDEIvWkJMFzJPlTB3hZAHGArZP8OG2sujxauFkAduxprHS7yqWvT93ll7htrIQ1xAA\\/6JB8\\/Ue0\\/fLx6vUV0BrXi6cLODQZKUh\\/f2ZtvJQ48vLThawdzfsf6Aq245lpk2uITBPVvRRWj5\\/0Su9kwUYC5hj5SHXOaqE5mQBq6PD\\/nBFvwmc52QBxgIufoqmk1UtdLNysoCLH5Osf\\/74mWVP8L0wFhD+aeWai+9kAcYCjAUYCzAWYCzAWICxAGMBxgKMBRgLMBZgLMBYgLEAYwHGAowFGAswFmAswFiAsQBjAcYCjAUYCzAWYCzgAz1MN8XWQ0ATAAAAAElFTkSuQmCC\\\"\\/>\\n<clipPath id=\\\"clip-1688390289546981-2\\\">\\n  <path d=\\\"M 349.410156 22 L 588 22 L 588 203.941406 L 349.410156 203.941406 Z M 349.410156 22 \\\"\\/>\\n<\\/clipPath>\\n<image style=\\\"image-rendering: pixelated;\\\" id=\\\"image-1688390289546981-8\\\" width=\\\"100\\\" height=\\\"100\\\" xlink:href=\\\"data:image\\/png;base64,iVBORw0KGgoAAAANSUhEUgAAAGQAAABkCAIAAAD\\/gAIDAAAABmJLR0QA\\/wD\\/AP+gvaeTAAACAUlEQVR4nO3aTXKCMABA4djpOeoROYtHtBehCxxkoIQ8fkwC7+260fQziWC4tW0bLK2v3AOoKbFAYoHEAokFEgskFkgskFggsUBigcQCiQUSCyQWSCyQWCCxQGKBxAKJBRILJBZILJBYILFAYoHEAokFEgskFkgskFggsUAVYN0f4f7IPYgQQgi3Ap8pjdM8m0+NY9KxWMfNiCxkMaxCJn+8Z\\/Ma5wf4\\/seqgmlL62TfWKcHipRo98K6stS0Obvvzw6jjvqpM1JzGab2bCYbvGSRLvptSOvWY\\/XXWUc33LaWr+CvTDba4JdvpDPei+Vt+o8n\\/epwWa9R+EZ6blX+NrfEV\\/h5FPc7x7DIzGBYt5AqklhpcPE1BLB2l5pWgt2mmfUBo0hZ+Oa8FrDySiW2LyieWVUYTTtabYxVKdOoLWqpM+scUsPS1VKuJd9Y55Pq68k2Xl2ffGYNa8PWHW322\\/DEcKvVznDpsDqqtnAj3YZ2+IqjP6\\/WphPpqufdik990+lO\\/37Vqa1bH\\/schUXeu3NEgyuWvsSnaEZN7XLtmxUcsnY0K2bo7lWA1VXCt3AFT\\/6Vk1igapZhxvozGrFijY6yKrh0KKT7QyySGzxILJBYILFAYoHEAokFEgskFkgskFggsUBigcQCiQUSCyQWSCyQWCCxQGKBxAKJBRILJBboD5e7sWnKQ04SAAAAAElFTkSuQmCC\\\"\\/>\\n<clipPath id=\\\"clip-1688390289546981-3\\\">\\n  <path d=\\\"M 645 22.003906 L 883 22.003906 L 883 203.941406 L 645 203.941406 Z M 645 22.003906 \\\"\\/>\\n<\\/clipPath>\\n<image style=\\\"image-rendering: pixelated;\\\" id=\\\"image-1688390289546981-11\\\" width=\\\"100\\\" height=\\\"100\\\" xlink:href=\\\"data:image\\/png;base64,iVBORw0KGgoAAAANSUhEUgAAAGQAAABkCAIAAAD\\/gAIDAAAABmJLR0QA\\/wD\\/AP+gvaeTAAAA6ElEQVR4nO3QwQ3AIBDAsNL9dz5WIC+EZE8QZc3Mx5n\\/dsBLzArMCswKzArMCswKzArMCswKzArMCswKzArMCswKzArMCswKzArMCswKzArMCswKzArMCswKzArMCswKzArMCswKzArMCswKzArMCswKzArMCswKzArMCswKzArMCswKzArMCswKzArMCswKzArMCswKzArMCswKzArMCswKzArMCswKzArMCswKzArMCswKzArMCswKzArMCswKzArMCswKzArMCswKzArMCswKzArMCswKzArMCswKzArMCswKzArMCjbP8QPFyqa8aAAAAABJRU5ErkJggg==\\\"\\/>\\n<image style=\\\"image-rendering: pixelated;\\\" id=\\\"image-1688390289546981-14\\\" width=\\\"100\\\" height=\\\"100\\\" xlink:href=\\\"data:image\\/png;base64,iVBORw0KGgoAAAANSUhEUgAAAGQAAABkCAIAAAD\\/gAIDAAAABmJLR0QA\\/wD\\/AP+gvaeTAAAA80lEQVR4nO3QMQrAQAgAQeP9\\/8\\/pU2XTBWYKC0GEvWbmnLO7j\\/lm+fnwpy92eE2sQKxArECsQKxArECsQKxArECsQKxArECsQKxArECsQKxArECsQKxArECsQKxArECsQKxArECsQKxArECsQKxArECsQKxArECsQKxArECsQKxArECsQKxArECsQKxArECsQKxArECsQKxArECsQKxArECsQKxArECsQKxArECsQKxArECsQKxArECsQKxArECsQKxArECsQKxArECsQKxArECsQKxArECsQKxArECsQKxArECsQKxArECsQKxArECsQKzgBg+kA8XV5sDYAAAAAElFTkSuQmCC\\\"\\/>\\n<clipPath id=\\\"clip-1688390289546981-4\\\">\\n  <path d=\\\"M 891.867188 22.003906 L 906.042969 22.003906 L 906.042969 203.941406 L 891.867188 203.941406 Z M 891.867188 22.003906 \\\"\\/>\\n<\\/clipPath>\\n<linearGradient id=\\\"linear-1688390289546981-0\\\" gradientUnits=\\\"userSpaceOnUse\\\" x1=\\\"0\\\" y1=\\\"0\\\" x2=\\\"0\\\" y2=\\\"181.935\\\" gradientTransform=\\\"matrix(1,0,0,-1,891.869,203.94)\\\">\\n<stop offset=\\\"0\\\" style=\\\"stop-color:rgb(0%,0%,0%);stop-opacity:1;\\\"\\/>\\n<stop offset=\\\"0.00390625\\\" style=\\\"stop-color:rgb(0.389099%,0.389099%,0.389099%);stop-opacity:1;\\\"\\/>\\n<stop offset=\\\"0.0078125\\\" style=\\\"stop-color:rgb(0.779724%,0.779724%,0.779724%);stop-opacity:1;\\\"\\/>\\n<stop offset=\\\"0.0117188\\\" style=\\\"stop-color:rgb(1.170349%,1.170349%,1.170349%);stop-opacity:1;\\\"\\/>\\n<stop offset=\\\"0.015625\\\" style=\\\"stop-color:rgb(1.560974%,1.560974%,1.560974%);stop-opacity:1;\\\"\\/>\\n<stop offset=\\\"0.0195312\\\" style=\\\"stop-color:rgb(1.951599%,1.951599%,1.951599%);stop-opacity:1;\\\"\\/>\\n<stop offset=\\\"0.0234375\\\" style=\\\"stop-color:rgb(2.342224%,2.342224%,2.342224%);stop-opacity:1;\\\"\\/>\\n<stop offset=\\\"0.0273438\\\" style=\\\"stop-color:rgb(2.732849%,2.732849%,2.732849%);stop-opacity:1;\\\"\\/>\\n<stop offset=\\\"0.03125\\\" style=\\\"stop-color:rgb(3.123474%,3.123474%,3.123474%);stop-opacity:1;\\\"\\/>\\n<stop offset=\\\"0.0351562\\\" style=\\\"stop-color:rgb(3.514099%,3.514099%,3.514099%);stop-opacity:1;\\\"\\/>\\n<stop offset=\\\"0.0390625\\\" style=\\\"stop-color:rgb(3.904724%,3.904724%,3.904724%);stop-opacity:1;\\\"\\/>\\n<stop offset=\\\"0.0429688\\\" style=\\\"stop-color:rgb(4.295349%,4.295349%,4.295349%);stop-opacity:1;\\\"\\/>\\n<stop offset=\\\"0.046875\\\" style=\\\"stop-color:rgb(4.685974%,4.685974%,4.685974%);stop-opacity:1;\\\"\\/>\\n<stop offset=\\\"0.0507812\\\" style=\\\"stop-color:rgb(5.076599%,5.076599%,5.076599%);stop-opacity:1;\\\"\\/>\\n<stop offset=\\\"0.0546875\\\" style=\\\"stop-color:rgb(5.467224%,5.467224%,5.467224%);stop-opacity:1;\\\"\\/>\\n<stop offset=\\\"0.0585938\\\" style=\\\"stop-color:rgb(5.857849%,5.857849%,5.857849%);stop-opacity:1;\\\"\\/>\\n<stop offset=\\\"0.0625\\\" style=\\\"stop-color:rgb(6.248474%,6.248474%,6.248474%);stop-opacity:1;\\\"\\/>\\n<stop offset=\\\"0.0664062\\\" style=\\\"stop-color:rgb(6.639099%,6.639099%,6.639099%);stop-opacity:1;\\\"\\/>\\n<stop offset=\\\"0.0703125\\\" style=\\\"stop-color:rgb(7.029724%,7.029724%,7.029724%);stop-opacity:1;\\\"\\/>\\n<stop offset=\\\"0.0742188\\\" style=\\\"stop-color:rgb(7.420349%,7.420349%,7.420349%);stop-opacity:1;\\\"\\/>\\n<stop offset=\\\"0.078125\\\" style=\\\"stop-color:rgb(7.810974%,7.810974%,7.810974%);stop-opacity:1;\\\"\\/>\\n<stop offset=\\\"0.0820312\\\" style=\\\"stop-color:rgb(8.201599%,8.201599%,8.201599%);stop-opacity:1;\\\"\\/>\\n<stop offset=\\\"0.0859375\\\" style=\\\"stop-color:rgb(8.592224%,8.592224%,8.592224%);stop-opacity:1;\\\"\\/>\\n<stop offset=\\\"0.0898438\\\" style=\\\"stop-color:rgb(8.982849%,8.982849%,8.982849%);stop-opacity:1;\\\"\\/>\\n<stop offset=\\\"0.09375\\\" style=\\\"stop-color:rgb(9.373474%,9.373474%,9.373474%);stop-opacity:1;\\\"\\/>\\n<stop offset=\\\"0.0976562\\\" style=\\\"stop-color:rgb(9.764099%,9.764099%,9.764099%);stop-opacity:1;\\\"\\/>\\n<stop offset=\\\"0.101562\\\" style=\\\"stop-color:rgb(10.154724%,10.154724%,10.154724%);stop-opacity:1;\\\"\\/>\\n<stop offset=\\\"0.105469\\\" style=\\\"stop-color:rgb(10.545349%,10.545349%,10.545349%);stop-opacity:1;\\\"\\/>\\n<stop offset=\\\"0.109375\\\" style=\\\"stop-color:rgb(10.935974%,10.935974%,10.935974%);stop-opacity:1;\\\"\\/>\\n<stop offset=\\\"0.113281\\\" style=\\\"stop-color:rgb(11.326599%,11.326599%,11.326599%);stop-opacity:1;\\\"\\/>\\n<stop offset=\\\"0.117188\\\" style=\\\"stop-color:rgb(11.717224%,11.717224%,11.717224%);stop-opacity:1;\\\"\\/>\\n<stop offset=\\\"0.121094\\\" style=\\\"stop-color:rgb(12.107849%,12.107849%,12.107849%);stop-opacity:1;\\\"\\/>\\n<stop offset=\\\"0.125\\\" style=\\\"stop-color:rgb(12.498474%,12.498474%,12.498474%);stop-opacity:1;\\\"\\/>\\n<stop offset=\\\"0.128906\\\" style=\\\"stop-color:rgb(12.889099%,12.889099%,12.889099%);stop-opacity:1;\\\"\\/>\\n<stop offset=\\\"0.132812\\\" style=\\\"stop-color:rgb(13.279724%,13.279724%,13.279724%);stop-opacity:1;\\\"\\/>\\n<stop offset=\\\"0.136719\\\" style=\\\"stop-color:rgb(13.670349%,13.670349%,13.670349%);stop-opacity:1;\\\"\\/>\\n<stop offset=\\\"0.140625\\\" style=\\\"stop-color:rgb(14.060974%,14.060974%,14.060974%);stop-opacity:1;\\\"\\/>\\n<stop offset=\\\"0.144531\\\" style=\\\"stop-color:rgb(14.451599%,14.451599%,14.451599%);stop-opacity:1;\\\"\\/>\\n<stop offset=\\\"0.148438\\\" style=\\\"stop-color:rgb(14.842224%,14.842224%,14.842224%);stop-opacity:1;\\\"\\/>\\n<stop offset=\\\"0.152344\\\" style=\\\"stop-color:rgb(15.232849%,15.232849%,15.232849%);stop-opacity:1;\\\"\\/>\\n<stop offset=\\\"0.15625\\\" style=\\\"stop-color:rgb(15.623474%,15.623474%,15.623474%);stop-opacity:1;\\\"\\/>\\n<stop offset=\\\"0.160156\\\" style=\\\"stop-color:rgb(16.014099%,16.014099%,16.014099%);stop-opacity:1;\\\"\\/>\\n<stop offset=\\\"0.164062\\\" style=\\\"stop-color:rgb(16.404724%,16.404724%,16.404724%);stop-opacity:1;\\\"\\/>\\n<stop offset=\\\"0.167969\\\" style=\\\"stop-color:rgb(16.795349%,16.795349%,16.795349%);stop-opacity:1;\\\"\\/>\\n<stop offset=\\\"0.171875\\\" style=\\\"stop-color:rgb(17.185974%,17.185974%,17.185974%);stop-opacity:1;\\\"\\/>\\n<stop offset=\\\"0.175781\\\" style=\\\"stop-color:rgb(17.576599%,17.576599%,17.576599%);stop-opacity:1;\\\"\\/>\\n<stop offset=\\\"0.179688\\\" style=\\\"stop-color:rgb(17.967224%,17.967224%,17.967224%);stop-opacity:1;\\\"\\/>\\n<stop offset=\\\"0.183594\\\" style=\\\"stop-color:rgb(18.357849%,18.357849%,18.357849%);stop-opacity:1;\\\"\\/>\\n<stop offset=\\\"0.1875\\\" style=\\\"stop-color:rgb(18.748474%,18.748474%,18.748474%);stop-opacity:1;\\\"\\/>\\n<stop offset=\\\"0.191406\\\" style=\\\"stop-color:rgb(19.139099%,19.139099%,19.139099%);stop-opacity:1;\\\"\\/>\\n<stop offset=\\\"0.195312\\\" style=\\\"stop-color:rgb(19.529724%,19.529724%,19.529724%);stop-opacity:1;\\\"\\/>\\n<stop offset=\\\"0.199219\\\" style=\\\"stop-color:rgb(19.920349%,19.920349%,19.920349%);stop-opacity:1;\\\"\\/>\\n<stop offset=\\\"0.203125\\\" style=\\\"stop-color:rgb(20.310974%,20.310974%,20.310974%);stop-opacity:1;\\\"\\/>\\n<stop offset=\\\"0.207031\\\" style=\\\"stop-color:rgb(20.701599%,20.701599%,20.701599%);stop-opacity:1;\\\"\\/>\\n<stop offset=\\\"0.210938\\\" style=\\\"stop-color:rgb(21.092224%,21.092224%,21.092224%);stop-opacity:1;\\\"\\/>\\n<stop offset=\\\"0.214844\\\" style=\\\"stop-color:rgb(21.482849%,21.482849%,21.482849%);stop-opacity:1;\\\"\\/>\\n<stop offset=\\\"0.21875\\\" style=\\\"stop-color:rgb(21.873474%,21.873474%,21.873474%);stop-opacity:1;\\\"\\/>\\n<stop offset=\\\"0.222656\\\" style=\\\"stop-color:rgb(22.264099%,22.264099%,22.264099%);stop-opacity:1;\\\"\\/>\\n<stop offset=\\\"0.226562\\\" style=\\\"stop-color:rgb(22.654724%,22.654724%,22.654724%);stop-opacity:1;\\\"\\/>\\n<stop offset=\\\"0.230469\\\" style=\\\"stop-color:rgb(23.045349%,23.045349%,23.045349%);stop-opacity:1;\\\"\\/>\\n<stop offset=\\\"0.234375\\\" style=\\\"stop-color:rgb(23.435974%,23.435974%,23.435974%);stop-opacity:1;\\\"\\/>\\n<stop offset=\\\"0.238281\\\" style=\\\"stop-color:rgb(23.826599%,23.826599%,23.826599%);stop-opacity:1;\\\"\\/>\\n<stop offset=\\\"0.242188\\\" style=\\\"stop-color:rgb(24.217224%,24.217224%,24.217224%);stop-opacity:1;\\\"\\/>\\n<stop offset=\\\"0.246094\\\" style=\\\"stop-color:rgb(24.607849%,24.607849%,24.607849%);stop-opacity:1;\\\"\\/>\\n<stop offset=\\\"0.25\\\" style=\\\"stop-color:rgb(24.998474%,24.998474%,24.998474%);stop-opacity:1;\\\"\\/>\\n<stop offset=\\\"0.253906\\\" style=\\\"stop-color:rgb(25.389099%,25.389099%,25.389099%);stop-opacity:1;\\\"\\/>\\n<stop offset=\\\"0.257812\\\" style=\\\"stop-color:rgb(25.779724%,25.779724%,25.779724%);stop-opacity:1;\\\"\\/>\\n<stop offset=\\\"0.261719\\\" style=\\\"stop-color:rgb(26.170349%,26.170349%,26.170349%);stop-opacity:1;\\\"\\/>\\n<stop offset=\\\"0.265625\\\" style=\\\"stop-color:rgb(26.560974%,26.560974%,26.560974%);stop-opacity:1;\\\"\\/>\\n<stop offset=\\\"0.269531\\\" style=\\\"stop-color:rgb(26.951599%,26.951599%,26.951599%);stop-opacity:1;\\\"\\/>\\n<stop offset=\\\"0.273438\\\" style=\\\"stop-color:rgb(27.342224%,27.342224%,27.342224%);stop-opacity:1;\\\"\\/>\\n<stop offset=\\\"0.277344\\\" style=\\\"stop-color:rgb(27.732849%,27.732849%,27.732849%);stop-opacity:1;\\\"\\/>\\n<stop offset=\\\"0.28125\\\" style=\\\"stop-color:rgb(28.123474%,28.123474%,28.123474%);stop-opacity:1;\\\"\\/>\\n<stop offset=\\\"0.285156\\\" style=\\\"stop-color:rgb(28.514099%,28.514099%,28.514099%);stop-opacity:1;\\\"\\/>\\n<stop offset=\\\"0.289063\\\" style=\\\"stop-color:rgb(28.904724%,28.904724%,28.904724%);stop-opacity:1;\\\"\\/>\\n<stop offset=\\\"0.292969\\\" style=\\\"stop-color:rgb(29.295349%,29.295349%,29.295349%);stop-opacity:1;\\\"\\/>\\n<stop offset=\\\"0.296875\\\" style=\\\"stop-color:rgb(29.685974%,29.685974%,29.685974%);stop-opacity:1;\\\"\\/>\\n<stop offset=\\\"0.300781\\\" style=\\\"stop-color:rgb(30.076599%,30.076599%,30.076599%);stop-opacity:1;\\\"\\/>\\n<stop offset=\\\"0.304687\\\" style=\\\"stop-color:rgb(30.467224%,30.467224%,30.467224%);stop-opacity:1;\\\"\\/>\\n<stop offset=\\\"0.308594\\\" style=\\\"stop-color:rgb(30.857849%,30.857849%,30.857849%);stop-opacity:1;\\\"\\/>\\n<stop offset=\\\"0.3125\\\" style=\\\"stop-color:rgb(31.248474%,31.248474%,31.248474%);stop-opacity:1;\\\"\\/>\\n<stop offset=\\\"0.316406\\\" style=\\\"stop-color:rgb(31.639099%,31.639099%,31.639099%);stop-opacity:1;\\\"\\/>\\n<stop offset=\\\"0.320312\\\" style=\\\"stop-color:rgb(32.029724%,32.029724%,32.029724%);stop-opacity:1;\\\"\\/>\\n<stop offset=\\\"0.324219\\\" style=\\\"stop-color:rgb(32.420349%,32.420349%,32.420349%);stop-opacity:1;\\\"\\/>\\n<stop offset=\\\"0.328125\\\" style=\\\"stop-color:rgb(32.810974%,32.810974%,32.810974%);stop-opacity:1;\\\"\\/>\\n<stop offset=\\\"0.332031\\\" style=\\\"stop-color:rgb(33.201599%,33.201599%,33.201599%);stop-opacity:1;\\\"\\/>\\n<stop offset=\\\"0.335938\\\" style=\\\"stop-color:rgb(33.592224%,33.592224%,33.592224%);stop-opacity:1;\\\"\\/>\\n<stop offset=\\\"0.339844\\\" style=\\\"stop-color:rgb(33.982849%,33.982849%,33.982849%);stop-opacity:1;\\\"\\/>\\n<stop offset=\\\"0.34375\\\" style=\\\"stop-color:rgb(34.373474%,34.373474%,34.373474%);stop-opacity:1;\\\"\\/>\\n<stop offset=\\\"0.347656\\\" style=\\\"stop-color:rgb(34.764099%,34.764099%,34.764099%);stop-opacity:1;\\\"\\/>\\n<stop offset=\\\"0.351562\\\" style=\\\"stop-color:rgb(35.154724%,35.154724%,35.154724%);stop-opacity:1;\\\"\\/>\\n<stop offset=\\\"0.355469\\\" style=\\\"stop-color:rgb(35.545349%,35.545349%,35.545349%);stop-opacity:1;\\\"\\/>\\n<stop offset=\\\"0.359375\\\" style=\\\"stop-color:rgb(35.935974%,35.935974%,35.935974%);stop-opacity:1;\\\"\\/>\\n<stop offset=\\\"0.363281\\\" style=\\\"stop-color:rgb(36.326599%,36.326599%,36.326599%);stop-opacity:1;\\\"\\/>\\n<stop offset=\\\"0.367188\\\" style=\\\"stop-color:rgb(36.717224%,36.717224%,36.717224%);stop-opacity:1;\\\"\\/>\\n<stop offset=\\\"0.371094\\\" style=\\\"stop-color:rgb(37.107849%,37.107849%,37.107849%);stop-opacity:1;\\\"\\/>\\n<stop offset=\\\"0.375\\\" style=\\\"stop-color:rgb(37.498474%,37.498474%,37.498474%);stop-opacity:1;\\\"\\/>\\n<stop offset=\\\"0.378906\\\" style=\\\"stop-color:rgb(37.889099%,37.889099%,37.889099%);stop-opacity:1;\\\"\\/>\\n<stop offset=\\\"0.382813\\\" style=\\\"stop-color:rgb(38.279724%,38.279724%,38.279724%);stop-opacity:1;\\\"\\/>\\n<stop offset=\\\"0.386719\\\" style=\\\"stop-color:rgb(38.670349%,38.670349%,38.670349%);stop-opacity:1;\\\"\\/>\\n<stop offset=\\\"0.390625\\\" style=\\\"stop-color:rgb(39.060974%,39.060974%,39.060974%);stop-opacity:1;\\\"\\/>\\n<stop offset=\\\"0.394531\\\" style=\\\"stop-color:rgb(39.451599%,39.451599%,39.451599%);stop-opacity:1;\\\"\\/>\\n<stop offset=\\\"0.398438\\\" style=\\\"stop-color:rgb(39.842224%,39.842224%,39.842224%);stop-opacity:1;\\\"\\/>\\n<stop offset=\\\"0.402344\\\" style=\\\"stop-color:rgb(40.232849%,40.232849%,40.232849%);stop-opacity:1;\\\"\\/>\\n<stop offset=\\\"0.40625\\\" style=\\\"stop-color:rgb(40.623474%,40.623474%,40.623474%);stop-opacity:1;\\\"\\/>\\n<stop offset=\\\"0.410156\\\" style=\\\"stop-color:rgb(41.014099%,41.014099%,41.014099%);stop-opacity:1;\\\"\\/>\\n<stop offset=\\\"0.414062\\\" style=\\\"stop-color:rgb(41.404724%,41.404724%,41.404724%);stop-opacity:1;\\\"\\/>\\n<stop offset=\\\"0.417969\\\" style=\\\"stop-color:rgb(41.795349%,41.795349%,41.795349%);stop-opacity:1;\\\"\\/>\\n<stop offset=\\\"0.421875\\\" style=\\\"stop-color:rgb(42.185974%,42.185974%,42.185974%);stop-opacity:1;\\\"\\/>\\n<stop offset=\\\"0.425781\\\" style=\\\"stop-color:rgb(42.576599%,42.576599%,42.576599%);stop-opacity:1;\\\"\\/>\\n<stop offset=\\\"0.429688\\\" style=\\\"stop-color:rgb(42.967224%,42.967224%,42.967224%);stop-opacity:1;\\\"\\/>\\n<stop offset=\\\"0.433594\\\" style=\\\"stop-color:rgb(43.357849%,43.357849%,43.357849%);stop-opacity:1;\\\"\\/>\\n<stop offset=\\\"0.4375\\\" style=\\\"stop-color:rgb(43.748474%,43.748474%,43.748474%);stop-opacity:1;\\\"\\/>\\n<stop offset=\\\"0.441406\\\" style=\\\"stop-color:rgb(44.139099%,44.139099%,44.139099%);stop-opacity:1;\\\"\\/>\\n<stop offset=\\\"0.445312\\\" style=\\\"stop-color:rgb(44.529724%,44.529724%,44.529724%);stop-opacity:1;\\\"\\/>\\n<stop offset=\\\"0.449219\\\" style=\\\"stop-color:rgb(44.920349%,44.920349%,44.920349%);stop-opacity:1;\\\"\\/>\\n<stop offset=\\\"0.453125\\\" style=\\\"stop-color:rgb(45.310974%,45.310974%,45.310974%);stop-opacity:1;\\\"\\/>\\n<stop offset=\\\"0.457031\\\" style=\\\"stop-color:rgb(45.701599%,45.701599%,45.701599%);stop-opacity:1;\\\"\\/>\\n<stop offset=\\\"0.460938\\\" style=\\\"stop-color:rgb(46.092224%,46.092224%,46.092224%);stop-opacity:1;\\\"\\/>\\n<stop offset=\\\"0.464844\\\" style=\\\"stop-color:rgb(46.482849%,46.482849%,46.482849%);stop-opacity:1;\\\"\\/>\\n<stop offset=\\\"0.46875\\\" style=\\\"stop-color:rgb(46.873474%,46.873474%,46.873474%);stop-opacity:1;\\\"\\/>\\n<stop offset=\\\"0.472656\\\" style=\\\"stop-color:rgb(47.264099%,47.264099%,47.264099%);stop-opacity:1;\\\"\\/>\\n<stop offset=\\\"0.476563\\\" style=\\\"stop-color:rgb(47.654724%,47.654724%,47.654724%);stop-opacity:1;\\\"\\/>\\n<stop offset=\\\"0.480469\\\" style=\\\"stop-color:rgb(48.045349%,48.045349%,48.045349%);stop-opacity:1;\\\"\\/>\\n<stop offset=\\\"0.484375\\\" style=\\\"stop-color:rgb(48.435974%,48.435974%,48.435974%);stop-opacity:1;\\\"\\/>\\n<stop offset=\\\"0.488281\\\" style=\\\"stop-color:rgb(48.826599%,48.826599%,48.826599%);stop-opacity:1;\\\"\\/>\\n<stop offset=\\\"0.492188\\\" style=\\\"stop-color:rgb(49.217224%,49.217224%,49.217224%);stop-opacity:1;\\\"\\/>\\n<stop offset=\\\"0.496094\\\" style=\\\"stop-color:rgb(49.607849%,49.607849%,49.607849%);stop-opacity:1;\\\"\\/>\\n<stop offset=\\\"0.5\\\" style=\\\"stop-color:rgb(49.998474%,49.998474%,49.998474%);stop-opacity:1;\\\"\\/>\\n<stop offset=\\\"0.503906\\\" style=\\\"stop-color:rgb(50.389099%,50.389099%,50.389099%);stop-opacity:1;\\\"\\/>\\n<stop offset=\\\"0.507812\\\" style=\\\"stop-color:rgb(50.779724%,50.779724%,50.779724%);stop-opacity:1;\\\"\\/>\\n<stop offset=\\\"0.511719\\\" style=\\\"stop-color:rgb(51.170349%,51.170349%,51.170349%);stop-opacity:1;\\\"\\/>\\n<stop offset=\\\"0.515625\\\" style=\\\"stop-color:rgb(51.560974%,51.560974%,51.560974%);stop-opacity:1;\\\"\\/>\\n<stop offset=\\\"0.519531\\\" style=\\\"stop-color:rgb(51.951599%,51.951599%,51.951599%);stop-opacity:1;\\\"\\/>\\n<stop offset=\\\"0.523438\\\" style=\\\"stop-color:rgb(52.342224%,52.342224%,52.342224%);stop-opacity:1;\\\"\\/>\\n<stop offset=\\\"0.527344\\\" style=\\\"stop-color:rgb(52.732849%,52.732849%,52.732849%);stop-opacity:1;\\\"\\/>\\n<stop offset=\\\"0.53125\\\" style=\\\"stop-color:rgb(53.123474%,53.123474%,53.123474%);stop-opacity:1;\\\"\\/>\\n<stop offset=\\\"0.535156\\\" style=\\\"stop-color:rgb(53.514099%,53.514099%,53.514099%);stop-opacity:1;\\\"\\/>\\n<stop offset=\\\"0.539062\\\" style=\\\"stop-color:rgb(53.904724%,53.904724%,53.904724%);stop-opacity:1;\\\"\\/>\\n<stop offset=\\\"0.542969\\\" style=\\\"stop-color:rgb(54.295349%,54.295349%,54.295349%);stop-opacity:1;\\\"\\/>\\n<stop offset=\\\"0.546875\\\" style=\\\"stop-color:rgb(54.685974%,54.685974%,54.685974%);stop-opacity:1;\\\"\\/>\\n<stop offset=\\\"0.550781\\\" style=\\\"stop-color:rgb(55.076599%,55.076599%,55.076599%);stop-opacity:1;\\\"\\/>\\n<stop offset=\\\"0.554688\\\" style=\\\"stop-color:rgb(55.467224%,55.467224%,55.467224%);stop-opacity:1;\\\"\\/>\\n<stop offset=\\\"0.558594\\\" style=\\\"stop-color:rgb(55.857849%,55.857849%,55.857849%);stop-opacity:1;\\\"\\/>\\n<stop offset=\\\"0.5625\\\" style=\\\"stop-color:rgb(56.248474%,56.248474%,56.248474%);stop-opacity:1;\\\"\\/>\\n<stop offset=\\\"0.566406\\\" style=\\\"stop-color:rgb(56.639099%,56.639099%,56.639099%);stop-opacity:1;\\\"\\/>\\n<stop offset=\\\"0.570313\\\" style=\\\"stop-color:rgb(57.029724%,57.029724%,57.029724%);stop-opacity:1;\\\"\\/>\\n<stop offset=\\\"0.574219\\\" style=\\\"stop-color:rgb(57.420349%,57.420349%,57.420349%);stop-opacity:1;\\\"\\/>\\n<stop offset=\\\"0.578125\\\" style=\\\"stop-color:rgb(57.810974%,57.810974%,57.810974%);stop-opacity:1;\\\"\\/>\\n<stop offset=\\\"0.582031\\\" style=\\\"stop-color:rgb(58.201599%,58.201599%,58.201599%);stop-opacity:1;\\\"\\/>\\n<stop offset=\\\"0.585938\\\" style=\\\"stop-color:rgb(58.592224%,58.592224%,58.592224%);stop-opacity:1;\\\"\\/>\\n<stop offset=\\\"0.589844\\\" style=\\\"stop-color:rgb(58.982849%,58.982849%,58.982849%);stop-opacity:1;\\\"\\/>\\n<stop offset=\\\"0.59375\\\" style=\\\"stop-color:rgb(59.373474%,59.373474%,59.373474%);stop-opacity:1;\\\"\\/>\\n<stop offset=\\\"0.597656\\\" style=\\\"stop-color:rgb(59.764099%,59.764099%,59.764099%);stop-opacity:1;\\\"\\/>\\n<stop offset=\\\"0.601562\\\" style=\\\"stop-color:rgb(60.154724%,60.154724%,60.154724%);stop-opacity:1;\\\"\\/>\\n<stop offset=\\\"0.605469\\\" style=\\\"stop-color:rgb(60.545349%,60.545349%,60.545349%);stop-opacity:1;\\\"\\/>\\n<stop offset=\\\"0.609375\\\" style=\\\"stop-color:rgb(60.935974%,60.935974%,60.935974%);stop-opacity:1;\\\"\\/>\\n<stop offset=\\\"0.613281\\\" style=\\\"stop-color:rgb(61.326599%,61.326599%,61.326599%);stop-opacity:1;\\\"\\/>\\n<stop offset=\\\"0.617188\\\" style=\\\"stop-color:rgb(61.717224%,61.717224%,61.717224%);stop-opacity:1;\\\"\\/>\\n<stop offset=\\\"0.621094\\\" style=\\\"stop-color:rgb(62.107849%,62.107849%,62.107849%);stop-opacity:1;\\\"\\/>\\n<stop offset=\\\"0.625\\\" style=\\\"stop-color:rgb(62.498474%,62.498474%,62.498474%);stop-opacity:1;\\\"\\/>\\n<stop offset=\\\"0.628906\\\" style=\\\"stop-color:rgb(62.889099%,62.889099%,62.889099%);stop-opacity:1;\\\"\\/>\\n<stop offset=\\\"0.632812\\\" style=\\\"stop-color:rgb(63.279724%,63.279724%,63.279724%);stop-opacity:1;\\\"\\/>\\n<stop offset=\\\"0.636719\\\" style=\\\"stop-color:rgb(63.670349%,63.670349%,63.670349%);stop-opacity:1;\\\"\\/>\\n<stop offset=\\\"0.640625\\\" style=\\\"stop-color:rgb(64.060974%,64.060974%,64.060974%);stop-opacity:1;\\\"\\/>\\n<stop offset=\\\"0.644531\\\" style=\\\"stop-color:rgb(64.451599%,64.451599%,64.451599%);stop-opacity:1;\\\"\\/>\\n<stop offset=\\\"0.648438\\\" style=\\\"stop-color:rgb(64.842224%,64.842224%,64.842224%);stop-opacity:1;\\\"\\/>\\n<stop offset=\\\"0.652344\\\" style=\\\"stop-color:rgb(65.232849%,65.232849%,65.232849%);stop-opacity:1;\\\"\\/>\\n<stop offset=\\\"0.65625\\\" style=\\\"stop-color:rgb(65.623474%,65.623474%,65.623474%);stop-opacity:1;\\\"\\/>\\n<stop offset=\\\"0.660156\\\" style=\\\"stop-color:rgb(66.014099%,66.014099%,66.014099%);stop-opacity:1;\\\"\\/>\\n<stop offset=\\\"0.664063\\\" style=\\\"stop-color:rgb(66.404724%,66.404724%,66.404724%);stop-opacity:1;\\\"\\/>\\n<stop offset=\\\"0.667969\\\" style=\\\"stop-color:rgb(66.795349%,66.795349%,66.795349%);stop-opacity:1;\\\"\\/>\\n<stop offset=\\\"0.671875\\\" style=\\\"stop-color:rgb(67.185974%,67.185974%,67.185974%);stop-opacity:1;\\\"\\/>\\n<stop offset=\\\"0.675781\\\" style=\\\"stop-color:rgb(67.576599%,67.576599%,67.576599%);stop-opacity:1;\\\"\\/>\\n<stop offset=\\\"0.679688\\\" style=\\\"stop-color:rgb(67.967224%,67.967224%,67.967224%);stop-opacity:1;\\\"\\/>\\n<stop offset=\\\"0.683594\\\" style=\\\"stop-color:rgb(68.357849%,68.357849%,68.357849%);stop-opacity:1;\\\"\\/>\\n<stop offset=\\\"0.6875\\\" style=\\\"stop-color:rgb(68.748474%,68.748474%,68.748474%);stop-opacity:1;\\\"\\/>\\n<stop offset=\\\"0.691406\\\" style=\\\"stop-color:rgb(69.139099%,69.139099%,69.139099%);stop-opacity:1;\\\"\\/>\\n<stop offset=\\\"0.695312\\\" style=\\\"stop-color:rgb(69.529724%,69.529724%,69.529724%);stop-opacity:1;\\\"\\/>\\n<stop offset=\\\"0.699219\\\" style=\\\"stop-color:rgb(69.920349%,69.920349%,69.920349%);stop-opacity:1;\\\"\\/>\\n<stop offset=\\\"0.703125\\\" style=\\\"stop-color:rgb(70.310974%,70.310974%,70.310974%);stop-opacity:1;\\\"\\/>\\n<stop offset=\\\"0.707031\\\" style=\\\"stop-color:rgb(70.701599%,70.701599%,70.701599%);stop-opacity:1;\\\"\\/>\\n<stop offset=\\\"0.710938\\\" style=\\\"stop-color:rgb(71.092224%,71.092224%,71.092224%);stop-opacity:1;\\\"\\/>\\n<stop offset=\\\"0.714844\\\" style=\\\"stop-color:rgb(71.482849%,71.482849%,71.482849%);stop-opacity:1;\\\"\\/>\\n<stop offset=\\\"0.71875\\\" style=\\\"stop-color:rgb(71.873474%,71.873474%,71.873474%);stop-opacity:1;\\\"\\/>\\n<stop offset=\\\"0.722656\\\" style=\\\"stop-color:rgb(72.264099%,72.264099%,72.264099%);stop-opacity:1;\\\"\\/>\\n<stop offset=\\\"0.726562\\\" style=\\\"stop-color:rgb(72.654724%,72.654724%,72.654724%);stop-opacity:1;\\\"\\/>\\n<stop offset=\\\"0.730469\\\" style=\\\"stop-color:rgb(73.045349%,73.045349%,73.045349%);stop-opacity:1;\\\"\\/>\\n<stop offset=\\\"0.734375\\\" style=\\\"stop-color:rgb(73.435974%,73.435974%,73.435974%);stop-opacity:1;\\\"\\/>\\n<stop offset=\\\"0.738281\\\" style=\\\"stop-color:rgb(73.826599%,73.826599%,73.826599%);stop-opacity:1;\\\"\\/>\\n<stop offset=\\\"0.742188\\\" style=\\\"stop-color:rgb(74.217224%,74.217224%,74.217224%);stop-opacity:1;\\\"\\/>\\n<stop offset=\\\"0.746094\\\" style=\\\"stop-color:rgb(74.607849%,74.607849%,74.607849%);stop-opacity:1;\\\"\\/>\\n<stop offset=\\\"0.75\\\" style=\\\"stop-color:rgb(74.998474%,74.998474%,74.998474%);stop-opacity:1;\\\"\\/>\\n<stop offset=\\\"0.753906\\\" style=\\\"stop-color:rgb(75.389099%,75.389099%,75.389099%);stop-opacity:1;\\\"\\/>\\n<stop offset=\\\"0.757813\\\" style=\\\"stop-color:rgb(75.779724%,75.779724%,75.779724%);stop-opacity:1;\\\"\\/>\\n<stop offset=\\\"0.761719\\\" style=\\\"stop-color:rgb(76.170349%,76.170349%,76.170349%);stop-opacity:1;\\\"\\/>\\n<stop offset=\\\"0.765625\\\" style=\\\"stop-color:rgb(76.560974%,76.560974%,76.560974%);stop-opacity:1;\\\"\\/>\\n<stop offset=\\\"0.769531\\\" style=\\\"stop-color:rgb(76.951599%,76.951599%,76.951599%);stop-opacity:1;\\\"\\/>\\n<stop offset=\\\"0.773438\\\" style=\\\"stop-color:rgb(77.342224%,77.342224%,77.342224%);stop-opacity:1;\\\"\\/>\\n<stop offset=\\\"0.777344\\\" style=\\\"stop-color:rgb(77.732849%,77.732849%,77.732849%);stop-opacity:1;\\\"\\/>\\n<stop offset=\\\"0.78125\\\" style=\\\"stop-color:rgb(78.123474%,78.123474%,78.123474%);stop-opacity:1;\\\"\\/>\\n<stop offset=\\\"0.785156\\\" style=\\\"stop-color:rgb(78.514099%,78.514099%,78.514099%);stop-opacity:1;\\\"\\/>\\n<stop offset=\\\"0.789062\\\" style=\\\"stop-color:rgb(78.904724%,78.904724%,78.904724%);stop-opacity:1;\\\"\\/>\\n<stop offset=\\\"0.792969\\\" style=\\\"stop-color:rgb(79.295349%,79.295349%,79.295349%);stop-opacity:1;\\\"\\/>\\n<stop offset=\\\"0.796875\\\" style=\\\"stop-color:rgb(79.685974%,79.685974%,79.685974%);stop-opacity:1;\\\"\\/>\\n<stop offset=\\\"0.800781\\\" style=\\\"stop-color:rgb(80.076599%,80.076599%,80.076599%);stop-opacity:1;\\\"\\/>\\n<stop offset=\\\"0.804688\\\" style=\\\"stop-color:rgb(80.467224%,80.467224%,80.467224%);stop-opacity:1;\\\"\\/>\\n<stop offset=\\\"0.808594\\\" style=\\\"stop-color:rgb(80.857849%,80.857849%,80.857849%);stop-opacity:1;\\\"\\/>\\n<stop offset=\\\"0.8125\\\" style=\\\"stop-color:rgb(81.248474%,81.248474%,81.248474%);stop-opacity:1;\\\"\\/>\\n<stop offset=\\\"0.816406\\\" style=\\\"stop-color:rgb(81.639099%,81.639099%,81.639099%);stop-opacity:1;\\\"\\/>\\n<stop offset=\\\"0.820312\\\" style=\\\"stop-color:rgb(82.029724%,82.029724%,82.029724%);stop-opacity:1;\\\"\\/>\\n<stop offset=\\\"0.824219\\\" style=\\\"stop-color:rgb(82.420349%,82.420349%,82.420349%);stop-opacity:1;\\\"\\/>\\n<stop offset=\\\"0.828125\\\" style=\\\"stop-color:rgb(82.810974%,82.810974%,82.810974%);stop-opacity:1;\\\"\\/>\\n<stop offset=\\\"0.832031\\\" style=\\\"stop-color:rgb(83.201599%,83.201599%,83.201599%);stop-opacity:1;\\\"\\/>\\n<stop offset=\\\"0.835938\\\" style=\\\"stop-color:rgb(83.592224%,83.592224%,83.592224%);stop-opacity:1;\\\"\\/>\\n<stop offset=\\\"0.839844\\\" style=\\\"stop-color:rgb(83.982849%,83.982849%,83.982849%);stop-opacity:1;\\\"\\/>\\n<stop offset=\\\"0.84375\\\" style=\\\"stop-color:rgb(84.373474%,84.373474%,84.373474%);stop-opacity:1;\\\"\\/>\\n<stop offset=\\\"0.847656\\\" style=\\\"stop-color:rgb(84.764099%,84.764099%,84.764099%);stop-opacity:1;\\\"\\/>\\n<stop offset=\\\"0.851563\\\" style=\\\"stop-color:rgb(85.154724%,85.154724%,85.154724%);stop-opacity:1;\\\"\\/>\\n<stop offset=\\\"0.855469\\\" style=\\\"stop-color:rgb(85.545349%,85.545349%,85.545349%);stop-opacity:1;\\\"\\/>\\n<stop offset=\\\"0.859375\\\" style=\\\"stop-color:rgb(85.935974%,85.935974%,85.935974%);stop-opacity:1;\\\"\\/>\\n<stop offset=\\\"0.863281\\\" style=\\\"stop-color:rgb(86.326599%,86.326599%,86.326599%);stop-opacity:1;\\\"\\/>\\n<stop offset=\\\"0.867188\\\" style=\\\"stop-color:rgb(86.717224%,86.717224%,86.717224%);stop-opacity:1;\\\"\\/>\\n<stop offset=\\\"0.871094\\\" style=\\\"stop-color:rgb(87.107849%,87.107849%,87.107849%);stop-opacity:1;\\\"\\/>\\n<stop offset=\\\"0.875\\\" style=\\\"stop-color:rgb(87.498474%,87.498474%,87.498474%);stop-opacity:1;\\\"\\/>\\n<stop offset=\\\"0.878906\\\" style=\\\"stop-color:rgb(87.889099%,87.889099%,87.889099%);stop-opacity:1;\\\"\\/>\\n<stop offset=\\\"0.882812\\\" style=\\\"stop-color:rgb(88.279724%,88.279724%,88.279724%);stop-opacity:1;\\\"\\/>\\n<stop offset=\\\"0.886719\\\" style=\\\"stop-color:rgb(88.670349%,88.670349%,88.670349%);stop-opacity:1;\\\"\\/>\\n<stop offset=\\\"0.890625\\\" style=\\\"stop-color:rgb(89.060974%,89.060974%,89.060974%);stop-opacity:1;\\\"\\/>\\n<stop offset=\\\"0.894531\\\" style=\\\"stop-color:rgb(89.451599%,89.451599%,89.451599%);stop-opacity:1;\\\"\\/>\\n<stop offset=\\\"0.898438\\\" style=\\\"stop-color:rgb(89.842224%,89.842224%,89.842224%);stop-opacity:1;\\\"\\/>\\n<stop offset=\\\"0.902344\\\" style=\\\"stop-color:rgb(90.232849%,90.232849%,90.232849%);stop-opacity:1;\\\"\\/>\\n<stop offset=\\\"0.90625\\\" style=\\\"stop-color:rgb(90.623474%,90.623474%,90.623474%);stop-opacity:1;\\\"\\/>\\n<stop offset=\\\"0.910156\\\" style=\\\"stop-color:rgb(91.014099%,91.014099%,91.014099%);stop-opacity:1;\\\"\\/>\\n<stop offset=\\\"0.914062\\\" style=\\\"stop-color:rgb(91.404724%,91.404724%,91.404724%);stop-opacity:1;\\\"\\/>\\n<stop offset=\\\"0.917969\\\" style=\\\"stop-color:rgb(91.795349%,91.795349%,91.795349%);stop-opacity:1;\\\"\\/>\\n<stop offset=\\\"0.921875\\\" style=\\\"stop-color:rgb(92.185974%,92.185974%,92.185974%);stop-opacity:1;\\\"\\/>\\n<stop offset=\\\"0.925781\\\" style=\\\"stop-color:rgb(92.576599%,92.576599%,92.576599%);stop-opacity:1;\\\"\\/>\\n<stop offset=\\\"0.929688\\\" style=\\\"stop-color:rgb(92.967224%,92.967224%,92.967224%);stop-opacity:1;\\\"\\/>\\n<stop offset=\\\"0.933594\\\" style=\\\"stop-color:rgb(93.357849%,93.357849%,93.357849%);stop-opacity:1;\\\"\\/>\\n<stop offset=\\\"0.9375\\\" style=\\\"stop-color:rgb(93.748474%,93.748474%,93.748474%);stop-opacity:1;\\\"\\/>\\n<stop offset=\\\"0.941406\\\" style=\\\"stop-color:rgb(94.139099%,94.139099%,94.139099%);stop-opacity:1;\\\"\\/>\\n<stop offset=\\\"0.945313\\\" style=\\\"stop-color:rgb(94.529724%,94.529724%,94.529724%);stop-opacity:1;\\\"\\/>\\n<stop offset=\\\"0.949219\\\" style=\\\"stop-color:rgb(94.920349%,94.920349%,94.920349%);stop-opacity:1;\\\"\\/>\\n<stop offset=\\\"0.953125\\\" style=\\\"stop-color:rgb(95.310974%,95.310974%,95.310974%);stop-opacity:1;\\\"\\/>\\n<stop offset=\\\"0.957031\\\" style=\\\"stop-color:rgb(95.701599%,95.701599%,95.701599%);stop-opacity:1;\\\"\\/>\\n<stop offset=\\\"0.960938\\\" style=\\\"stop-color:rgb(96.092224%,96.092224%,96.092224%);stop-opacity:1;\\\"\\/>\\n<stop offset=\\\"0.964844\\\" style=\\\"stop-color:rgb(96.482849%,96.482849%,96.482849%);stop-opacity:1;\\\"\\/>\\n<stop offset=\\\"0.96875\\\" style=\\\"stop-color:rgb(96.873474%,96.873474%,96.873474%);stop-opacity:1;\\\"\\/>\\n<stop offset=\\\"0.972656\\\" style=\\\"stop-color:rgb(97.264099%,97.264099%,97.264099%);stop-opacity:1;\\\"\\/>\\n<stop offset=\\\"0.976562\\\" style=\\\"stop-color:rgb(97.654724%,97.654724%,97.654724%);stop-opacity:1;\\\"\\/>\\n<stop offset=\\\"0.980469\\\" style=\\\"stop-color:rgb(98.045349%,98.045349%,98.045349%);stop-opacity:1;\\\"\\/>\\n<stop offset=\\\"0.984375\\\" style=\\\"stop-color:rgb(98.435974%,98.435974%,98.435974%);stop-opacity:1;\\\"\\/>\\n<stop offset=\\\"0.988281\\\" style=\\\"stop-color:rgb(98.826599%,98.826599%,98.826599%);stop-opacity:1;\\\"\\/>\\n<stop offset=\\\"0.992188\\\" style=\\\"stop-color:rgb(99.217224%,99.217224%,99.217224%);stop-opacity:1;\\\"\\/>\\n<stop offset=\\\"0.996094\\\" style=\\\"stop-color:rgb(99.607849%,99.607849%,99.607849%);stop-opacity:1;\\\"\\/>\\n<stop offset=\\\"1\\\" style=\\\"stop-color:rgb(99.998474%,99.998474%,99.998474%);stop-opacity:1;\\\"\\/>\\n<\\/linearGradient>\\n<\\/defs>\\n<g id=\\\"surface1\\\">\\n<g clip-path=\\\"url(#clip-1688390289546981-1)\\\" clip-rule=\\\"nonzero\\\">\\n<use xlink:href=\\\"#image-1688390289546981-5\\\" transform=\\\"matrix(2.38667,0,0,1.81966,54.085,21.975)\\\"\\/>\\n<\\/g>\\n<path style=\\\"fill:none;stroke-width:0.19925;stroke-linecap:butt;stroke-linejoin:miter;stroke:rgb(50%,50%,50%);stroke-opacity:1;stroke-miterlimit:10;\\\" d=\\\"M 0.0009375 -0.00040625 L 0.0009375 4.2535 M 29.829062 -0.00040625 L 29.829062 4.2535 M 59.657187 -0.00040625 L 59.657187 4.2535 M 89.489219 -0.00040625 L 89.489219 4.2535 M 119.317344 -0.00040625 L 119.317344 4.2535 M 149.145469 -0.00040625 L 149.145469 4.2535 M 178.9775 -0.00040625 L 178.9775 4.2535 M 208.805625 -0.00040625 L 208.805625 4.2535 M 238.63375 -0.00040625 L 238.63375 4.2535 M 0.0009375 181.941 L 0.0009375 177.687094 M 29.829062 181.941 L 29.829062 177.687094 M 59.657187 181.941 L 59.657187 177.687094 M 89.489219 181.941 L 89.489219 177.687094 M 119.317344 181.941 L 119.317344 177.687094 M 149.145469 181.941 L 149.145469 177.687094 M 178.9775 181.941 L 178.9775 177.687094 M 208.805625 181.941 L 208.805625 177.687094 M 238.63375 181.941 L 238.63375 177.687094 \\\" transform=\\\"matrix(1,0,0,-1,54.085,203.941)\\\"\\/>\\n<path style=\\\"fill:none;stroke-width:0.19925;stroke-linecap:butt;stroke-linejoin:miter;stroke:rgb(50%,50%,50%);stroke-opacity:1;stroke-miterlimit:10;\\\" d=\\\"M 0.0009375 -0.00040625 L 4.250937 -0.00040625 M 0.0009375 45.483969 L 4.250937 45.483969 M 0.0009375 90.968344 L 4.250937 90.968344 M 0.0009375 136.456625 L 4.250937 136.456625 M 0.0009375 181.941 L 4.250937 181.941 M 238.63375 -0.00040625 L 234.38375 -0.00040625 M 238.63375 45.483969 L 234.38375 45.483969 M 238.63375 90.968344 L 234.38375 90.968344 M 238.63375 136.456625 L 234.38375 136.456625 M 238.63375 181.941 L 234.38375 181.941 \\\" transform=\\\"matrix(1,0,0,-1,54.085,203.941)\\\"\\/>\\n<path style=\\\"fill:none;stroke-width:0.3985;stroke-linecap:butt;stroke-linejoin:miter;stroke:rgb(0%,0%,0%);stroke-opacity:1;stroke-miterlimit:10;\\\" d=\\\"M 0.0009375 -0.00040625 L 0.0009375 181.941 L 238.63375 181.941 L 238.63375 -0.00040625 Z M 0.0009375 -0.00040625 \\\" transform=\\\"matrix(1,0,0,-1,54.085,203.941)\\\"\\/>\\n<g style=\\\"fill:rgb(0%,0%,0%);fill-opacity:1;\\\">\\n  <use xlink:href=\\\"#glyph-1688390289546981-0-1\\\" x=\\\"51.594\\\" y=\\\"213.882\\\"\\/>\\n<\\/g>\\n<g style=\\\"fill:rgb(0%,0%,0%);fill-opacity:1;\\\">\\n  <use xlink:href=\\\"#glyph-1688390289546981-0-2\\\" x=\\\"81.423\\\" y=\\\"213.882\\\"\\/>\\n<\\/g>\\n<g style=\\\"fill:rgb(0%,0%,0%);fill-opacity:1;\\\">\\n  <use xlink:href=\\\"#glyph-1688390289546981-0-3\\\" x=\\\"108.761\\\" y=\\\"213.882\\\"\\/>\\n  <use xlink:href=\\\"#glyph-1688390289546981-0-1\\\" x=\\\"113.74232\\\" y=\\\"213.882\\\"\\/>\\n<\\/g>\\n<g style=\\\"fill:rgb(0%,0%,0%);fill-opacity:1;\\\">\\n  <use xlink:href=\\\"#glyph-1688390289546981-0-3\\\" x=\\\"138.59\\\" y=\\\"213.882\\\"\\/>\\n  <use xlink:href=\\\"#glyph-1688390289546981-0-2\\\" x=\\\"143.57132\\\" y=\\\"213.882\\\"\\/>\\n<\\/g>\\n<g style=\\\"fill:rgb(0%,0%,0%);fill-opacity:1;\\\">\\n  <use xlink:href=\\\"#glyph-1688390289546981-0-4\\\" x=\\\"168.419\\\" y=\\\"213.882\\\"\\/>\\n  <use xlink:href=\\\"#glyph-1688390289546981-0-1\\\" x=\\\"173.40032\\\" y=\\\"213.882\\\"\\/>\\n<\\/g>\\n<g style=\\\"fill:rgb(0%,0%,0%);fill-opacity:1;\\\">\\n  <use xlink:href=\\\"#glyph-1688390289546981-0-4\\\" x=\\\"198.248\\\" y=\\\"213.882\\\"\\/>\\n  <use xlink:href=\\\"#glyph-1688390289546981-0-2\\\" x=\\\"203.22932\\\" y=\\\"213.882\\\"\\/>\\n<\\/g>\\n<g style=\\\"fill:rgb(0%,0%,0%);fill-opacity:1;\\\">\\n  <use xlink:href=\\\"#glyph-1688390289546981-0-5\\\" x=\\\"228.077\\\" y=\\\"213.882\\\"\\/>\\n  <use xlink:href=\\\"#glyph-1688390289546981-0-1\\\" x=\\\"233.05832\\\" y=\\\"213.882\\\"\\/>\\n<\\/g>\\n<g style=\\\"fill:rgb(0%,0%,0%);fill-opacity:1;\\\">\\n  <use xlink:href=\\\"#glyph-1688390289546981-0-5\\\" x=\\\"257.906\\\" y=\\\"213.882\\\"\\/>\\n  <use xlink:href=\\\"#glyph-1688390289546981-0-2\\\" x=\\\"262.88732\\\" y=\\\"213.882\\\"\\/>\\n<\\/g>\\n<g style=\\\"fill:rgb(0%,0%,0%);fill-opacity:1;\\\">\\n  <use xlink:href=\\\"#glyph-1688390289546981-0-6\\\" x=\\\"287.735\\\" y=\\\"213.882\\\"\\/>\\n  <use xlink:href=\\\"#glyph-1688390289546981-0-1\\\" x=\\\"292.71632\\\" y=\\\"213.882\\\"\\/>\\n<\\/g>\\n<g style=\\\"fill:rgb(0%,0%,0%);fill-opacity:1;\\\">\\n  <use xlink:href=\\\"#glyph-1688390289546981-1-1\\\" x=\\\"20.123\\\" y=\\\"206.183\\\"\\/>\\n<\\/g>\\n<g style=\\\"fill:rgb(0%,0%,0%);fill-opacity:1;\\\">\\n  <use xlink:href=\\\"#glyph-1688390289546981-0-3\\\" x=\\\"27.872\\\" y=\\\"206.183\\\"\\/>\\n<\\/g>\\n<g style=\\\"fill:rgb(0%,0%,0%);fill-opacity:1;\\\">\\n  <use xlink:href=\\\"#glyph-1688390289546981-2-1\\\" x=\\\"32.854\\\" y=\\\"206.183\\\"\\/>\\n<\\/g>\\n<g style=\\\"fill:rgb(0%,0%,0%);fill-opacity:1;\\\">\\n  <use xlink:href=\\\"#glyph-1688390289546981-0-1\\\" x=\\\"35.621\\\" y=\\\"206.183\\\"\\/>\\n  <use xlink:href=\\\"#glyph-1688390289546981-0-1\\\" x=\\\"40.60232\\\" y=\\\"206.183\\\"\\/>\\n  <use xlink:href=\\\"#glyph-1688390289546981-0-1\\\" x=\\\"45.58364\\\" y=\\\"206.183\\\"\\/>\\n<\\/g>\\n<g style=\\\"fill:rgb(0%,0%,0%);fill-opacity:1;\\\">\\n  <use xlink:href=\\\"#glyph-1688390289546981-1-1\\\" x=\\\"27.872\\\" y=\\\"161.252\\\"\\/>\\n<\\/g>\\n<g style=\\\"fill:rgb(0%,0%,0%);fill-opacity:1;\\\">\\n  <use xlink:href=\\\"#glyph-1688390289546981-0-2\\\" x=\\\"35.621\\\" y=\\\"161.252\\\"\\/>\\n  <use xlink:href=\\\"#glyph-1688390289546981-0-1\\\" x=\\\"40.60232\\\" y=\\\"161.252\\\"\\/>\\n  <use xlink:href=\\\"#glyph-1688390289546981-0-1\\\" x=\\\"45.58364\\\" y=\\\"161.252\\\"\\/>\\n<\\/g>\\n<g style=\\\"fill:rgb(0%,0%,0%);fill-opacity:1;\\\">\\n  <use xlink:href=\\\"#glyph-1688390289546981-0-1\\\" x=\\\"45.584\\\" y=\\\"116.183\\\"\\/>\\n<\\/g>\\n<g style=\\\"fill:rgb(0%,0%,0%);fill-opacity:1;\\\">\\n  <use xlink:href=\\\"#glyph-1688390289546981-0-2\\\" x=\\\"35.621\\\" y=\\\"70.698\\\"\\/>\\n  <use xlink:href=\\\"#glyph-1688390289546981-0-1\\\" x=\\\"40.60232\\\" y=\\\"70.698\\\"\\/>\\n  <use xlink:href=\\\"#glyph-1688390289546981-0-1\\\" x=\\\"45.58364\\\" y=\\\"70.698\\\"\\/>\\n<\\/g>\\n<g style=\\\"fill:rgb(0%,0%,0%);fill-opacity:1;\\\">\\n  <use xlink:href=\\\"#glyph-1688390289546981-0-3\\\" x=\\\"27.872\\\" y=\\\"24.245\\\"\\/>\\n<\\/g>\\n<g style=\\\"fill:rgb(0%,0%,0%);fill-opacity:1;\\\">\\n  <use xlink:href=\\\"#glyph-1688390289546981-2-1\\\" x=\\\"32.854\\\" y=\\\"24.245\\\"\\/>\\n<\\/g>\\n<g style=\\\"fill:rgb(0%,0%,0%);fill-opacity:1;\\\">\\n  <use xlink:href=\\\"#glyph-1688390289546981-0-1\\\" x=\\\"35.621\\\" y=\\\"24.245\\\"\\/>\\n  <use xlink:href=\\\"#glyph-1688390289546981-0-1\\\" x=\\\"40.60232\\\" y=\\\"24.245\\\"\\/>\\n  <use xlink:href=\\\"#glyph-1688390289546981-0-1\\\" x=\\\"45.58364\\\" y=\\\"24.245\\\"\\/>\\n<\\/g>\\n<g style=\\\"fill:rgb(0%,0%,0%);fill-opacity:1;\\\">\\n  <use xlink:href=\\\"#glyph-1688390289546981-3-1\\\" x=\\\"157.46\\\" y=\\\"228.194\\\"\\/>\\n<\\/g>\\n<g style=\\\"fill:rgb(0%,0%,0%);fill-opacity:1;\\\">\\n  <use xlink:href=\\\"#glyph-1688390289546981-3-2\\\" x=\\\"163.826127\\\" y=\\\"228.194\\\"\\/>\\n  <use xlink:href=\\\"#glyph-1688390289546981-3-3\\\" x=\\\"168.807447\\\" y=\\\"228.194\\\"\\/>\\n<\\/g>\\n<g style=\\\"fill:rgb(0%,0%,0%);fill-opacity:1;\\\">\\n  <use xlink:href=\\\"#glyph-1688390289546981-3-4\\\" x=\\\"177.664234\\\" y=\\\"228.194\\\"\\/>\\n  <use xlink:href=\\\"#glyph-1688390289546981-3-5\\\" x=\\\"181.539701\\\" y=\\\"228.194\\\"\\/>\\n  <use xlink:href=\\\"#glyph-1688390289546981-3-6\\\" x=\\\"185.464981\\\" y=\\\"228.194\\\"\\/>\\n<\\/g>\\n<g style=\\\"fill:rgb(0%,0%,0%);fill-opacity:1;\\\">\\n  <use xlink:href=\\\"#glyph-1688390289546981-4-1\\\" x=\\\"10.792\\\" y=\\\"148.464\\\"\\/>\\n  <use xlink:href=\\\"#glyph-1688390289546981-4-2\\\" x=\\\"10.792\\\" y=\\\"141.131497\\\"\\/>\\n  <use xlink:href=\\\"#glyph-1688390289546981-4-3\\\" x=\\\"10.792\\\" y=\\\"136.708085\\\"\\/>\\n  <use xlink:href=\\\"#glyph-1688390289546981-4-4\\\" x=\\\"10.792\\\" y=\\\"133.938471\\\"\\/>\\n  <use xlink:href=\\\"#glyph-1688390289546981-4-5\\\" x=\\\"10.792\\\" y=\\\"128.957151\\\"\\/>\\n  <use xlink:href=\\\"#glyph-1688390289546981-4-6\\\" x=\\\"10.792\\\" y=\\\"125.081684\\\"\\/>\\n  <use xlink:href=\\\"#glyph-1688390289546981-4-7\\\" x=\\\"10.792\\\" y=\\\"122.31207\\\"\\/>\\n<\\/g>\\n<g style=\\\"fill:rgb(0%,0%,0%);fill-opacity:1;\\\">\\n  <use xlink:href=\\\"#glyph-1688390289546981-4-2\\\" x=\\\"10.792\\\" y=\\\"117.33075\\\"\\/>\\n<\\/g>\\n<g style=\\\"fill:rgb(0%,0%,0%);fill-opacity:1;\\\">\\n  <use xlink:href=\\\"#glyph-1688390289546981-4-8\\\" x=\\\"10.792\\\" y=\\\"109.589779\\\"\\/>\\n  <use xlink:href=\\\"#glyph-1688390289546981-4-3\\\" x=\\\"10.792\\\" y=\\\"102.117799\\\"\\/>\\n  <use xlink:href=\\\"#glyph-1688390289546981-4-5\\\" x=\\\"10.792\\\" y=\\\"99.348185\\\"\\/>\\n<\\/g>\\n<g style=\\\"fill:rgb(0%,0%,0%);fill-opacity:1;\\\">\\n  <use xlink:href=\\\"#glyph-1688390289546981-4-9\\\" x=\\\"10.792\\\" y=\\\"92.155159\\\"\\/>\\n  <use xlink:href=\\\"#glyph-1688390289546981-4-10\\\" x=\\\"10.792\\\" y=\\\"88.279692\\\"\\/>\\n  <use xlink:href=\\\"#glyph-1688390289546981-4-5\\\" x=\\\"10.792\\\" y=\\\"85.231124\\\"\\/>\\n  <use xlink:href=\\\"#glyph-1688390289546981-4-11\\\" x=\\\"10.792\\\" y=\\\"81.355657\\\"\\/>\\n<\\/g>\\n<g style=\\\"fill:rgb(0%,0%,0%);fill-opacity:1;\\\">\\n  <use xlink:href=\\\"#glyph-1688390289546981-3-7\\\" x=\\\"117.963\\\" y=\\\"10.454\\\"\\/>\\n  <use xlink:href=\\\"#glyph-1688390289546981-3-8\\\" x=\\\"125.713934\\\" y=\\\"10.454\\\"\\/>\\n  <use xlink:href=\\\"#glyph-1688390289546981-3-9\\\" x=\\\"129.619289\\\" y=\\\"10.454\\\"\\/>\\n  <use xlink:href=\\\"#glyph-1688390289546981-3-10\\\" x=\\\"132.388903\\\" y=\\\"10.454\\\"\\/>\\n  <use xlink:href=\\\"#glyph-1688390289546981-3-9\\\" x=\\\"137.370223\\\" y=\\\"10.454\\\"\\/>\\n  <use xlink:href=\\\"#glyph-1688390289546981-3-11\\\" x=\\\"140.139837\\\" y=\\\"10.454\\\"\\/>\\n  <use xlink:href=\\\"#glyph-1688390289546981-3-2\\\" x=\\\"145.679064\\\" y=\\\"10.454\\\"\\/>\\n  <use xlink:href=\\\"#glyph-1688390289546981-3-12\\\" x=\\\"150.660384\\\" y=\\\"10.454\\\"\\/>\\n<\\/g>\\n<g style=\\\"fill:rgb(0%,0%,0%);fill-opacity:1;\\\">\\n  <use xlink:href=\\\"#glyph-1688390289546981-3-1\\\" x=\\\"156.747558\\\" y=\\\"10.454\\\"\\/>\\n<\\/g>\\n<g style=\\\"fill:rgb(0%,0%,0%);fill-opacity:1;\\\">\\n  <use xlink:href=\\\"#glyph-1688390289546981-3-2\\\" x=\\\"163.113684\\\" y=\\\"10.454\\\"\\/>\\n  <use xlink:href=\\\"#glyph-1688390289546981-3-13\\\" x=\\\"168.095004\\\" y=\\\"10.454\\\"\\/>\\n  <use xlink:href=\\\"#glyph-1688390289546981-3-12\\\" x=\\\"173.634232\\\" y=\\\"10.454\\\"\\/>\\n  <use xlink:href=\\\"#glyph-1688390289546981-3-14\\\" x=\\\"176.403846\\\" y=\\\"10.454\\\"\\/>\\n<\\/g>\\n<g style=\\\"fill:rgb(0%,0%,0%);fill-opacity:1;\\\">\\n  <use xlink:href=\\\"#glyph-1688390289546981-3-15\\\" x=\\\"184.144818\\\" y=\\\"10.454\\\"\\/>\\n<\\/g>\\n<g style=\\\"fill:rgb(0%,0%,0%);fill-opacity:1;\\\">\\n  <use xlink:href=\\\"#glyph-1688390289546981-3-16\\\" x=\\\"191.337844\\\" y=\\\"10.454\\\"\\/>\\n  <use xlink:href=\\\"#glyph-1688390289546981-3-17\\\" x=\\\"196.877071\\\" y=\\\"10.454\\\"\\/>\\n  <use xlink:href=\\\"#glyph-1688390289546981-3-9\\\" x=\\\"202.137345\\\" y=\\\"10.454\\\"\\/>\\n  <use xlink:href=\\\"#glyph-1688390289546981-3-5\\\" x=\\\"204.906959\\\" y=\\\"10.454\\\"\\/>\\n  <use xlink:href=\\\"#glyph-1688390289546981-3-18\\\" x=\\\"208.832239\\\" y=\\\"10.454\\\"\\/>\\n  <use xlink:href=\\\"#glyph-1688390289546981-3-8\\\" x=\\\"213.813559\\\" y=\\\"10.454\\\"\\/>\\n  <use xlink:href=\\\"#glyph-1688390289546981-3-9\\\" x=\\\"217.718914\\\" y=\\\"10.454\\\"\\/>\\n  <use xlink:href=\\\"#glyph-1688390289546981-3-14\\\" x=\\\"220.488528\\\" y=\\\"10.454\\\"\\/>\\n  <use xlink:href=\\\"#glyph-1688390289546981-3-5\\\" x=\\\"224.91194\\\" y=\\\"10.454\\\"\\/>\\n<\\/g>\\n<g clip-path=\\\"url(#clip-1688390289546981-2)\\\" clip-rule=\\\"nonzero\\\">\\n<use xlink:href=\\\"#image-1688390289546981-8\\\" transform=\\\"matrix(2.38667,0,0,1.81966,349.409,21.975)\\\"\\/>\\n<\\/g>\\n<path style=\\\"fill:none;stroke-width:0.19925;stroke-linecap:butt;stroke-linejoin:miter;stroke:rgb(50%,50%,50%);stroke-opacity:1;stroke-miterlimit:10;\\\" d=\\\"M 0.00115625 -0.00040625 L 0.00115625 4.2535 M 29.829281 -0.00040625 L 29.829281 4.2535 M 59.657406 -0.00040625 L 59.657406 4.2535 M 89.489438 -0.00040625 L 89.489438 4.2535 M 119.317563 -0.00040625 L 119.317563 4.2535 M 149.145688 -0.00040625 L 149.145688 4.2535 M 178.977719 -0.00040625 L 178.977719 4.2535 M 208.805844 -0.00040625 L 208.805844 4.2535 M 238.633969 -0.00040625 L 238.633969 4.2535 M 0.00115625 181.941 L 0.00115625 177.687094 M 29.829281 181.941 L 29.829281 177.687094 M 59.657406 181.941 L 59.657406 177.687094 M 89.489438 181.941 L 89.489438 177.687094 M 119.317563 181.941 L 119.317563 177.687094 M 149.145688 181.941 L 149.145688 177.687094 M 178.977719 181.941 L 178.977719 177.687094 M 208.805844 181.941 L 208.805844 177.687094 M 238.633969 181.941 L 238.633969 177.687094 \\\" transform=\\\"matrix(1,0,0,-1,349.409,203.941)\\\"\\/>\\n<path style=\\\"fill:none;stroke-width:0.19925;stroke-linecap:butt;stroke-linejoin:miter;stroke:rgb(50%,50%,50%);stroke-opacity:1;stroke-miterlimit:10;\\\" d=\\\"M 0.00115625 -0.00040625 L 4.251156 -0.00040625 M 0.00115625 45.483969 L 4.251156 45.483969 M 0.00115625 90.968344 L 4.251156 90.968344 M 0.00115625 136.456625 L 4.251156 136.456625 M 0.00115625 181.941 L 4.251156 181.941 M 238.633969 -0.00040625 L 234.383969 -0.00040625 M 238.633969 45.483969 L 234.383969 45.483969 M 238.633969 90.968344 L 234.383969 90.968344 M 238.633969 136.456625 L 234.383969 136.456625 M 238.633969 181.941 L 234.383969 181.941 \\\" transform=\\\"matrix(1,0,0,-1,349.409,203.941)\\\"\\/>\\n<path style=\\\"fill:none;stroke-width:0.3985;stroke-linecap:butt;stroke-linejoin:miter;stroke:rgb(0%,0%,0%);stroke-opacity:1;stroke-miterlimit:10;\\\" d=\\\"M 0.00115625 -0.00040625 L 0.00115625 181.941 L 238.633969 181.941 L 238.633969 -0.00040625 Z M 0.00115625 -0.00040625 \\\" transform=\\\"matrix(1,0,0,-1,349.409,203.941)\\\"\\/>\\n<g style=\\\"fill:rgb(0%,0%,0%);fill-opacity:1;\\\">\\n  <use xlink:href=\\\"#glyph-1688390289546981-0-1\\\" x=\\\"346.918\\\" y=\\\"213.882\\\"\\/>\\n<\\/g>\\n<g style=\\\"fill:rgb(0%,0%,0%);fill-opacity:1;\\\">\\n  <use xlink:href=\\\"#glyph-1688390289546981-0-2\\\" x=\\\"376.747\\\" y=\\\"213.882\\\"\\/>\\n<\\/g>\\n<g style=\\\"fill:rgb(0%,0%,0%);fill-opacity:1;\\\">\\n  <use xlink:href=\\\"#glyph-1688390289546981-0-3\\\" x=\\\"404.086\\\" y=\\\"213.882\\\"\\/>\\n  <use xlink:href=\\\"#glyph-1688390289546981-0-1\\\" x=\\\"409.06732\\\" y=\\\"213.882\\\"\\/>\\n<\\/g>\\n<g style=\\\"fill:rgb(0%,0%,0%);fill-opacity:1;\\\">\\n  <use xlink:href=\\\"#glyph-1688390289546981-0-3\\\" x=\\\"433.915\\\" y=\\\"213.882\\\"\\/>\\n  <use xlink:href=\\\"#glyph-1688390289546981-0-2\\\" x=\\\"438.89632\\\" y=\\\"213.882\\\"\\/>\\n<\\/g>\\n<g style=\\\"fill:rgb(0%,0%,0%);fill-opacity:1;\\\">\\n  <use xlink:href=\\\"#glyph-1688390289546981-0-4\\\" x=\\\"463.744\\\" y=\\\"213.882\\\"\\/>\\n  <use xlink:href=\\\"#glyph-1688390289546981-0-1\\\" x=\\\"468.72532\\\" y=\\\"213.882\\\"\\/>\\n<\\/g>\\n<g style=\\\"fill:rgb(0%,0%,0%);fill-opacity:1;\\\">\\n  <use xlink:href=\\\"#glyph-1688390289546981-0-4\\\" x=\\\"493.572\\\" y=\\\"213.882\\\"\\/>\\n  <use xlink:href=\\\"#glyph-1688390289546981-0-2\\\" x=\\\"498.55332\\\" y=\\\"213.882\\\"\\/>\\n<\\/g>\\n<g style=\\\"fill:rgb(0%,0%,0%);fill-opacity:1;\\\">\\n  <use xlink:href=\\\"#glyph-1688390289546981-0-5\\\" x=\\\"523.401\\\" y=\\\"213.882\\\"\\/>\\n  <use xlink:href=\\\"#glyph-1688390289546981-0-1\\\" x=\\\"528.38232\\\" y=\\\"213.882\\\"\\/>\\n<\\/g>\\n<g style=\\\"fill:rgb(0%,0%,0%);fill-opacity:1;\\\">\\n  <use xlink:href=\\\"#glyph-1688390289546981-0-5\\\" x=\\\"553.23\\\" y=\\\"213.882\\\"\\/>\\n  <use xlink:href=\\\"#glyph-1688390289546981-0-2\\\" x=\\\"558.21132\\\" y=\\\"213.882\\\"\\/>\\n<\\/g>\\n<g style=\\\"fill:rgb(0%,0%,0%);fill-opacity:1;\\\">\\n  <use xlink:href=\\\"#glyph-1688390289546981-0-6\\\" x=\\\"583.059\\\" y=\\\"213.882\\\"\\/>\\n  <use xlink:href=\\\"#glyph-1688390289546981-0-1\\\" x=\\\"588.04032\\\" y=\\\"213.882\\\"\\/>\\n<\\/g>\\n<g style=\\\"fill:rgb(0%,0%,0%);fill-opacity:1;\\\">\\n  <use xlink:href=\\\"#glyph-1688390289546981-1-1\\\" x=\\\"315.448\\\" y=\\\"206.183\\\"\\/>\\n<\\/g>\\n<g style=\\\"fill:rgb(0%,0%,0%);fill-opacity:1;\\\">\\n  <use xlink:href=\\\"#glyph-1688390289546981-0-3\\\" x=\\\"323.197\\\" y=\\\"206.183\\\"\\/>\\n<\\/g>\\n<g style=\\\"fill:rgb(0%,0%,0%);fill-opacity:1;\\\">\\n  <use xlink:href=\\\"#glyph-1688390289546981-2-1\\\" x=\\\"328.178\\\" y=\\\"206.183\\\"\\/>\\n<\\/g>\\n<g style=\\\"fill:rgb(0%,0%,0%);fill-opacity:1;\\\">\\n  <use xlink:href=\\\"#glyph-1688390289546981-0-1\\\" x=\\\"330.945\\\" y=\\\"206.183\\\"\\/>\\n  <use xlink:href=\\\"#glyph-1688390289546981-0-1\\\" x=\\\"335.92632\\\" y=\\\"206.183\\\"\\/>\\n  <use xlink:href=\\\"#glyph-1688390289546981-0-1\\\" x=\\\"340.90764\\\" y=\\\"206.183\\\"\\/>\\n<\\/g>\\n<g style=\\\"fill:rgb(0%,0%,0%);fill-opacity:1;\\\">\\n  <use xlink:href=\\\"#glyph-1688390289546981-1-1\\\" x=\\\"323.197\\\" y=\\\"161.252\\\"\\/>\\n<\\/g>\\n<g style=\\\"fill:rgb(0%,0%,0%);fill-opacity:1;\\\">\\n  <use xlink:href=\\\"#glyph-1688390289546981-0-2\\\" x=\\\"330.945\\\" y=\\\"161.252\\\"\\/>\\n  <use xlink:href=\\\"#glyph-1688390289546981-0-1\\\" x=\\\"335.92632\\\" y=\\\"161.252\\\"\\/>\\n  <use xlink:href=\\\"#glyph-1688390289546981-0-1\\\" x=\\\"340.90764\\\" y=\\\"161.252\\\"\\/>\\n<\\/g>\\n<g style=\\\"fill:rgb(0%,0%,0%);fill-opacity:1;\\\">\\n  <use xlink:href=\\\"#glyph-1688390289546981-0-1\\\" x=\\\"340.908\\\" y=\\\"116.183\\\"\\/>\\n<\\/g>\\n<g style=\\\"fill:rgb(0%,0%,0%);fill-opacity:1;\\\">\\n  <use xlink:href=\\\"#glyph-1688390289546981-0-2\\\" x=\\\"330.945\\\" y=\\\"70.698\\\"\\/>\\n  <use xlink:href=\\\"#glyph-1688390289546981-0-1\\\" x=\\\"335.92632\\\" y=\\\"70.698\\\"\\/>\\n  <use xlink:href=\\\"#glyph-1688390289546981-0-1\\\" x=\\\"340.90764\\\" y=\\\"70.698\\\"\\/>\\n<\\/g>\\n<g style=\\\"fill:rgb(0%,0%,0%);fill-opacity:1;\\\">\\n  <use xlink:href=\\\"#glyph-1688390289546981-0-3\\\" x=\\\"323.197\\\" y=\\\"24.245\\\"\\/>\\n<\\/g>\\n<g style=\\\"fill:rgb(0%,0%,0%);fill-opacity:1;\\\">\\n  <use xlink:href=\\\"#glyph-1688390289546981-2-1\\\" x=\\\"328.178\\\" y=\\\"24.245\\\"\\/>\\n<\\/g>\\n<g style=\\\"fill:rgb(0%,0%,0%);fill-opacity:1;\\\">\\n  <use xlink:href=\\\"#glyph-1688390289546981-0-1\\\" x=\\\"330.945\\\" y=\\\"24.245\\\"\\/>\\n  <use xlink:href=\\\"#glyph-1688390289546981-0-1\\\" x=\\\"335.92632\\\" y=\\\"24.245\\\"\\/>\\n  <use xlink:href=\\\"#glyph-1688390289546981-0-1\\\" x=\\\"340.90764\\\" y=\\\"24.245\\\"\\/>\\n<\\/g>\\n<g style=\\\"fill:rgb(0%,0%,0%);fill-opacity:1;\\\">\\n  <use xlink:href=\\\"#glyph-1688390289546981-3-1\\\" x=\\\"452.785\\\" y=\\\"228.194\\\"\\/>\\n<\\/g>\\n<g style=\\\"fill:rgb(0%,0%,0%);fill-opacity:1;\\\">\\n  <use xlink:href=\\\"#glyph-1688390289546981-3-2\\\" x=\\\"459.151127\\\" y=\\\"228.194\\\"\\/>\\n  <use xlink:href=\\\"#glyph-1688390289546981-3-3\\\" x=\\\"464.132447\\\" y=\\\"228.194\\\"\\/>\\n<\\/g>\\n<g style=\\\"fill:rgb(0%,0%,0%);fill-opacity:1;\\\">\\n  <use xlink:href=\\\"#glyph-1688390289546981-3-4\\\" x=\\\"472.989234\\\" y=\\\"228.194\\\"\\/>\\n  <use xlink:href=\\\"#glyph-1688390289546981-3-5\\\" x=\\\"476.864701\\\" y=\\\"228.194\\\"\\/>\\n  <use xlink:href=\\\"#glyph-1688390289546981-3-6\\\" x=\\\"480.789981\\\" y=\\\"228.194\\\"\\/>\\n<\\/g>\\n<g style=\\\"fill:rgb(0%,0%,0%);fill-opacity:1;\\\">\\n  <use xlink:href=\\\"#glyph-1688390289546981-4-1\\\" x=\\\"306.117\\\" y=\\\"148.464\\\"\\/>\\n  <use xlink:href=\\\"#glyph-1688390289546981-4-2\\\" x=\\\"306.117\\\" y=\\\"141.131497\\\"\\/>\\n  <use xlink:href=\\\"#glyph-1688390289546981-4-3\\\" x=\\\"306.117\\\" y=\\\"136.708085\\\"\\/>\\n  <use xlink:href=\\\"#glyph-1688390289546981-4-4\\\" x=\\\"306.117\\\" y=\\\"133.938471\\\"\\/>\\n  <use xlink:href=\\\"#glyph-1688390289546981-4-5\\\" x=\\\"306.117\\\" y=\\\"128.957151\\\"\\/>\\n  <use xlink:href=\\\"#glyph-1688390289546981-4-6\\\" x=\\\"306.117\\\" y=\\\"125.081684\\\"\\/>\\n  <use xlink:href=\\\"#glyph-1688390289546981-4-7\\\" x=\\\"306.117\\\" y=\\\"122.31207\\\"\\/>\\n<\\/g>\\n<g style=\\\"fill:rgb(0%,0%,0%);fill-opacity:1;\\\">\\n  <use xlink:href=\\\"#glyph-1688390289546981-4-2\\\" x=\\\"306.117\\\" y=\\\"117.33075\\\"\\/>\\n<\\/g>\\n<g style=\\\"fill:rgb(0%,0%,0%);fill-opacity:1;\\\">\\n  <use xlink:href=\\\"#glyph-1688390289546981-4-8\\\" x=\\\"306.117\\\" y=\\\"109.589779\\\"\\/>\\n  <use xlink:href=\\\"#glyph-1688390289546981-4-3\\\" x=\\\"306.117\\\" y=\\\"102.117799\\\"\\/>\\n  <use xlink:href=\\\"#glyph-1688390289546981-4-5\\\" x=\\\"306.117\\\" y=\\\"99.348185\\\"\\/>\\n<\\/g>\\n<g style=\\\"fill:rgb(0%,0%,0%);fill-opacity:1;\\\">\\n  <use xlink:href=\\\"#glyph-1688390289546981-4-9\\\" x=\\\"306.117\\\" y=\\\"92.155159\\\"\\/>\\n  <use xlink:href=\\\"#glyph-1688390289546981-4-10\\\" x=\\\"306.117\\\" y=\\\"88.279692\\\"\\/>\\n  <use xlink:href=\\\"#glyph-1688390289546981-4-5\\\" x=\\\"306.117\\\" y=\\\"85.231124\\\"\\/>\\n  <use xlink:href=\\\"#glyph-1688390289546981-4-11\\\" x=\\\"306.117\\\" y=\\\"81.355657\\\"\\/>\\n<\\/g>\\n<g style=\\\"fill:rgb(0%,0%,0%);fill-opacity:1;\\\">\\n  <use xlink:href=\\\"#glyph-1688390289546981-3-19\\\" x=\\\"410.239\\\" y=\\\"12.396\\\"\\/>\\n  <use xlink:href=\\\"#glyph-1688390289546981-3-14\\\" x=\\\"417.71098\\\" y=\\\"12.396\\\"\\/>\\n  <use xlink:href=\\\"#glyph-1688390289546981-3-3\\\" x=\\\"422.134392\\\" y=\\\"12.396\\\"\\/>\\n  <use xlink:href=\\\"#glyph-1688390289546981-3-8\\\" x=\\\"427.67362\\\" y=\\\"12.396\\\"\\/>\\n  <use xlink:href=\\\"#glyph-1688390289546981-3-2\\\" x=\\\"431.578975\\\" y=\\\"12.396\\\"\\/>\\n  <use xlink:href=\\\"#glyph-1688390289546981-3-12\\\" x=\\\"436.560295\\\" y=\\\"12.396\\\"\\/>\\n<\\/g>\\n<g style=\\\"fill:rgb(0%,0%,0%);fill-opacity:1;\\\">\\n  <use xlink:href=\\\"#glyph-1688390289546981-3-19\\\" x=\\\"442.647468\\\" y=\\\"12.396\\\"\\/>\\n  <use xlink:href=\\\"#glyph-1688390289546981-3-14\\\" x=\\\"450.119448\\\" y=\\\"12.396\\\"\\/>\\n  <use xlink:href=\\\"#glyph-1688390289546981-3-20\\\" x=\\\"454.54286\\\" y=\\\"12.396\\\"\\/>\\n<\\/g>\\n<g style=\\\"fill:rgb(0%,0%,0%);fill-opacity:1;\\\">\\n  <use xlink:href=\\\"#glyph-1688390289546981-3-21\\\" x=\\\"458.139373\\\" y=\\\"12.396\\\"\\/>\\n<\\/g>\\n<g style=\\\"fill:rgb(0%,0%,0%);fill-opacity:1;\\\">\\n  <use xlink:href=\\\"#glyph-1688390289546981-3-18\\\" x=\\\"465.053445\\\" y=\\\"12.396\\\"\\/>\\n  <use xlink:href=\\\"#glyph-1688390289546981-3-8\\\" x=\\\"470.034765\\\" y=\\\"12.396\\\"\\/>\\n  <use xlink:href=\\\"#glyph-1688390289546981-3-22\\\" x=\\\"473.94012\\\" y=\\\"12.396\\\"\\/>\\n<\\/g>\\n<g style=\\\"fill:rgb(0%,0%,0%);fill-opacity:1;\\\">\\n  <use xlink:href=\\\"#glyph-1688390289546981-3-15\\\" x=\\\"482.517953\\\" y=\\\"12.396\\\"\\/>\\n<\\/g>\\n<g style=\\\"fill:rgb(0%,0%,0%);fill-opacity:1;\\\">\\n  <use xlink:href=\\\"#glyph-1688390289546981-3-16\\\" x=\\\"489.710979\\\" y=\\\"12.396\\\"\\/>\\n  <use xlink:href=\\\"#glyph-1688390289546981-3-17\\\" x=\\\"495.250207\\\" y=\\\"12.396\\\"\\/>\\n  <use xlink:href=\\\"#glyph-1688390289546981-3-9\\\" x=\\\"500.510481\\\" y=\\\"12.396\\\"\\/>\\n  <use xlink:href=\\\"#glyph-1688390289546981-3-5\\\" x=\\\"503.280095\\\" y=\\\"12.396\\\"\\/>\\n  <use xlink:href=\\\"#glyph-1688390289546981-3-18\\\" x=\\\"507.205375\\\" y=\\\"12.396\\\"\\/>\\n  <use xlink:href=\\\"#glyph-1688390289546981-3-8\\\" x=\\\"512.186695\\\" y=\\\"12.396\\\"\\/>\\n  <use xlink:href=\\\"#glyph-1688390289546981-3-9\\\" x=\\\"516.09205\\\" y=\\\"12.396\\\"\\/>\\n  <use xlink:href=\\\"#glyph-1688390289546981-3-14\\\" x=\\\"518.861664\\\" y=\\\"12.396\\\"\\/>\\n  <use xlink:href=\\\"#glyph-1688390289546981-3-5\\\" x=\\\"523.285076\\\" y=\\\"12.396\\\"\\/>\\n<\\/g>\\n<g clip-path=\\\"url(#clip-1688390289546981-3)\\\" clip-rule=\\\"nonzero\\\">\\n<use xlink:href=\\\"#image-1688390289546981-11\\\" transform=\\\"matrix(2.38667,0,0,1.81963,644.734,21.977)\\\"\\/>\\n<use xlink:href=\\\"#image-1688390289546981-14\\\" transform=\\\"matrix(2.38667,0,0,1.81963,644.734,21.977)\\\"\\/>\\n<\\/g>\\n<g style=\\\"fill:rgb(0%,0%,0%);fill-opacity:1;\\\">\\n  <use xlink:href=\\\"#glyph-1688390289546981-3-23\\\" x=\\\"684.047\\\" y=\\\"40.928\\\"\\/>\\n  <use xlink:href=\\\"#glyph-1688390289546981-3-15\\\" x=\\\"691.379503\\\" y=\\\"40.928\\\"\\/>\\n<\\/g>\\n<g style=\\\"fill:rgb(0%,0%,0%);fill-opacity:1;\\\">\\n  <use xlink:href=\\\"#glyph-1688390289546981-3-24\\\" x=\\\"702.169042\\\" y=\\\"40.928\\\"\\/>\\n  <use xlink:href=\\\"#glyph-1688390289546981-3-25\\\" x=\\\"707.150362\\\" y=\\\"40.928\\\"\\/>\\n<\\/g>\\n<g style=\\\"fill:rgb(0%,0%,0%);fill-opacity:1;\\\">\\n  <use xlink:href=\\\"#glyph-1688390289546981-3-26\\\" x=\\\"714.343388\\\" y=\\\"40.928\\\"\\/>\\n  <use xlink:href=\\\"#glyph-1688390289546981-3-7\\\" x=\\\"721.536414\\\" y=\\\"40.928\\\"\\/>\\n  <use xlink:href=\\\"#glyph-1688390289546981-3-26\\\" x=\\\"729.287348\\\" y=\\\"40.928\\\"\\/>\\n<\\/g>\\n<g style=\\\"fill:rgb(0%,0%,0%);fill-opacity:1;\\\">\\n  <use xlink:href=\\\"#glyph-1688390289546981-3-23\\\" x=\\\"684.047\\\" y=\\\"63.67\\\"\\/>\\n  <use xlink:href=\\\"#glyph-1688390289546981-3-15\\\" x=\\\"691.379503\\\" y=\\\"63.67\\\"\\/>\\n<\\/g>\\n<g style=\\\"fill:rgb(0%,0%,0%);fill-opacity:1;\\\">\\n  <use xlink:href=\\\"#glyph-1688390289546981-3-27\\\" x=\\\"702.169042\\\" y=\\\"63.67\\\"\\/>\\n  <use xlink:href=\\\"#glyph-1688390289546981-3-25\\\" x=\\\"707.150362\\\" y=\\\"63.67\\\"\\/>\\n<\\/g>\\n<g style=\\\"fill:rgb(0%,0%,0%);fill-opacity:1;\\\">\\n  <use xlink:href=\\\"#glyph-1688390289546981-3-28\\\" x=\\\"714.343388\\\" y=\\\"63.67\\\"\\/>\\n  <use xlink:href=\\\"#glyph-1688390289546981-3-19\\\" x=\\\"721.954845\\\" y=\\\"63.67\\\"\\/>\\n  <use xlink:href=\\\"#glyph-1688390289546981-3-26\\\" x=\\\"729.426825\\\" y=\\\"63.67\\\"\\/>\\n<\\/g>\\n<g style=\\\"fill:rgb(0%,0%,0%);fill-opacity:1;\\\">\\n  <use xlink:href=\\\"#glyph-1688390289546981-3-23\\\" x=\\\"684.047\\\" y=\\\"86.411\\\"\\/>\\n  <use xlink:href=\\\"#glyph-1688390289546981-3-15\\\" x=\\\"691.379503\\\" y=\\\"86.411\\\"\\/>\\n<\\/g>\\n<g style=\\\"fill:rgb(0%,0%,0%);fill-opacity:1;\\\">\\n  <use xlink:href=\\\"#glyph-1688390289546981-3-29\\\" x=\\\"702.169042\\\" y=\\\"86.411\\\"\\/>\\n  <use xlink:href=\\\"#glyph-1688390289546981-3-25\\\" x=\\\"707.150362\\\" y=\\\"86.411\\\"\\/>\\n<\\/g>\\n<g style=\\\"fill:rgb(0%,0%,0%);fill-opacity:1;\\\">\\n  <use xlink:href=\\\"#glyph-1688390289546981-3-28\\\" x=\\\"714.343388\\\" y=\\\"86.411\\\"\\/>\\n  <use xlink:href=\\\"#glyph-1688390289546981-3-19\\\" x=\\\"721.954845\\\" y=\\\"86.411\\\"\\/>\\n  <use xlink:href=\\\"#glyph-1688390289546981-3-28\\\" x=\\\"729.426825\\\" y=\\\"86.411\\\"\\/>\\n<\\/g>\\n<g style=\\\"fill:rgb(0%,0%,0%);fill-opacity:1;\\\">\\n  <use xlink:href=\\\"#glyph-1688390289546981-3-23\\\" x=\\\"684.047\\\" y=\\\"109.153\\\"\\/>\\n  <use xlink:href=\\\"#glyph-1688390289546981-3-15\\\" x=\\\"691.379503\\\" y=\\\"109.153\\\"\\/>\\n<\\/g>\\n<g style=\\\"fill:rgb(0%,0%,0%);fill-opacity:1;\\\">\\n  <use xlink:href=\\\"#glyph-1688390289546981-3-30\\\" x=\\\"702.169042\\\" y=\\\"109.153\\\"\\/>\\n  <use xlink:href=\\\"#glyph-1688390289546981-3-25\\\" x=\\\"707.150362\\\" y=\\\"109.153\\\"\\/>\\n<\\/g>\\n<g style=\\\"fill:rgb(0%,0%,0%);fill-opacity:1;\\\">\\n  <use xlink:href=\\\"#glyph-1688390289546981-3-28\\\" x=\\\"714.343388\\\" y=\\\"109.153\\\"\\/>\\n  <use xlink:href=\\\"#glyph-1688390289546981-3-31\\\" x=\\\"721.954845\\\" y=\\\"109.153\\\"\\/>\\n  <use xlink:href=\\\"#glyph-1688390289546981-3-32\\\" x=\\\"728.739403\\\" y=\\\"109.153\\\"\\/>\\n  <use xlink:href=\\\"#glyph-1688390289546981-3-24\\\" x=\\\"734.278631\\\" y=\\\"109.153\\\"\\/>\\n  <use xlink:href=\\\"#glyph-1688390289546981-3-33\\\" x=\\\"739.259951\\\" y=\\\"109.153\\\"\\/>\\n  <use xlink:href=\\\"#glyph-1688390289546981-3-34\\\" x=\\\"744.241271\\\" y=\\\"109.153\\\"\\/>\\n  <use xlink:href=\\\"#glyph-1688390289546981-3-34\\\" x=\\\"749.222591\\\" y=\\\"109.153\\\"\\/>\\n  <use xlink:href=\\\"#glyph-1688390289546981-3-34\\\" x=\\\"754.203911\\\" y=\\\"109.153\\\"\\/>\\n<\\/g>\\n<g style=\\\"fill:rgb(0%,0%,0%);fill-opacity:1;\\\">\\n  <use xlink:href=\\\"#glyph-1688390289546981-3-23\\\" x=\\\"684.047\\\" y=\\\"131.895\\\"\\/>\\n  <use xlink:href=\\\"#glyph-1688390289546981-3-15\\\" x=\\\"691.379503\\\" y=\\\"131.895\\\"\\/>\\n<\\/g>\\n<g style=\\\"fill:rgb(0%,0%,0%);fill-opacity:1;\\\">\\n  <use xlink:href=\\\"#glyph-1688390289546981-3-33\\\" x=\\\"702.169042\\\" y=\\\"131.895\\\"\\/>\\n  <use xlink:href=\\\"#glyph-1688390289546981-3-25\\\" x=\\\"707.150362\\\" y=\\\"131.895\\\"\\/>\\n<\\/g>\\n<g style=\\\"fill:rgb(0%,0%,0%);fill-opacity:1;\\\">\\n  <use xlink:href=\\\"#glyph-1688390289546981-3-26\\\" x=\\\"714.343388\\\" y=\\\"131.895\\\"\\/>\\n  <use xlink:href=\\\"#glyph-1688390289546981-3-35\\\" x=\\\"721.536414\\\" y=\\\"131.895\\\"\\/>\\n  <use xlink:href=\\\"#glyph-1688390289546981-3-24\\\" x=\\\"727.763064\\\" y=\\\"131.895\\\"\\/>\\n  <use xlink:href=\\\"#glyph-1688390289546981-3-33\\\" x=\\\"732.744384\\\" y=\\\"131.895\\\"\\/>\\n  <use xlink:href=\\\"#glyph-1688390289546981-3-34\\\" x=\\\"737.725704\\\" y=\\\"131.895\\\"\\/>\\n  <use xlink:href=\\\"#glyph-1688390289546981-3-34\\\" x=\\\"742.707024\\\" y=\\\"131.895\\\"\\/>\\n<\\/g>\\n<g style=\\\"fill:rgb(0%,0%,0%);fill-opacity:1;\\\">\\n  <use xlink:href=\\\"#glyph-1688390289546981-3-23\\\" x=\\\"684.047\\\" y=\\\"154.637\\\"\\/>\\n  <use xlink:href=\\\"#glyph-1688390289546981-3-15\\\" x=\\\"691.379503\\\" y=\\\"154.637\\\"\\/>\\n<\\/g>\\n<g style=\\\"fill:rgb(0%,0%,0%);fill-opacity:1;\\\">\\n  <use xlink:href=\\\"#glyph-1688390289546981-3-36\\\" x=\\\"702.169042\\\" y=\\\"154.637\\\"\\/>\\n  <use xlink:href=\\\"#glyph-1688390289546981-3-25\\\" x=\\\"707.150362\\\" y=\\\"154.637\\\"\\/>\\n<\\/g>\\n<g style=\\\"fill:rgb(0%,0%,0%);fill-opacity:1;\\\">\\n  <use xlink:href=\\\"#glyph-1688390289546981-3-32\\\" x=\\\"714.343388\\\" y=\\\"154.637\\\"\\/>\\n  <use xlink:href=\\\"#glyph-1688390289546981-3-28\\\" x=\\\"719.882616\\\" y=\\\"154.637\\\"\\/>\\n  <use xlink:href=\\\"#glyph-1688390289546981-3-31\\\" x=\\\"727.494073\\\" y=\\\"154.637\\\"\\/>\\n  <use xlink:href=\\\"#glyph-1688390289546981-3-32\\\" x=\\\"734.278631\\\" y=\\\"154.637\\\"\\/>\\n  <use xlink:href=\\\"#glyph-1688390289546981-3-24\\\" x=\\\"739.817859\\\" y=\\\"154.637\\\"\\/>\\n  <use xlink:href=\\\"#glyph-1688390289546981-3-33\\\" x=\\\"744.799179\\\" y=\\\"154.637\\\"\\/>\\n  <use xlink:href=\\\"#glyph-1688390289546981-3-34\\\" x=\\\"749.780499\\\" y=\\\"154.637\\\"\\/>\\n  <use xlink:href=\\\"#glyph-1688390289546981-3-34\\\" x=\\\"754.761819\\\" y=\\\"154.637\\\"\\/>\\n<\\/g>\\n<g style=\\\"fill:rgb(0%,0%,0%);fill-opacity:1;\\\">\\n  <use xlink:href=\\\"#glyph-1688390289546981-3-23\\\" x=\\\"684.047\\\" y=\\\"177.379\\\"\\/>\\n  <use xlink:href=\\\"#glyph-1688390289546981-3-15\\\" x=\\\"691.379503\\\" y=\\\"177.379\\\"\\/>\\n<\\/g>\\n<g style=\\\"fill:rgb(0%,0%,0%);fill-opacity:1;\\\">\\n  <use xlink:href=\\\"#glyph-1688390289546981-3-37\\\" x=\\\"702.169042\\\" y=\\\"177.379\\\"\\/>\\n  <use xlink:href=\\\"#glyph-1688390289546981-3-25\\\" x=\\\"707.150362\\\" y=\\\"177.379\\\"\\/>\\n<\\/g>\\n<g style=\\\"fill:rgb(0%,0%,0%);fill-opacity:1;\\\">\\n  <use xlink:href=\\\"#glyph-1688390289546981-3-32\\\" x=\\\"714.343388\\\" y=\\\"177.379\\\"\\/>\\n  <use xlink:href=\\\"#glyph-1688390289546981-3-26\\\" x=\\\"719.882616\\\" y=\\\"177.379\\\"\\/>\\n  <use xlink:href=\\\"#glyph-1688390289546981-3-35\\\" x=\\\"727.075642\\\" y=\\\"177.379\\\"\\/>\\n  <use xlink:href=\\\"#glyph-1688390289546981-3-24\\\" x=\\\"733.302292\\\" y=\\\"177.379\\\"\\/>\\n  <use xlink:href=\\\"#glyph-1688390289546981-3-33\\\" x=\\\"738.283612\\\" y=\\\"177.379\\\"\\/>\\n  <use xlink:href=\\\"#glyph-1688390289546981-3-34\\\" x=\\\"743.264932\\\" y=\\\"177.379\\\"\\/>\\n  <use xlink:href=\\\"#glyph-1688390289546981-3-34\\\" x=\\\"748.246252\\\" y=\\\"177.379\\\"\\/>\\n<\\/g>\\n<g style=\\\"fill:rgb(0%,0%,0%);fill-opacity:1;\\\">\\n  <use xlink:href=\\\"#glyph-1688390289546981-3-23\\\" x=\\\"798.592\\\" y=\\\"40.928\\\"\\/>\\n  <use xlink:href=\\\"#glyph-1688390289546981-3-15\\\" x=\\\"805.924503\\\" y=\\\"40.928\\\"\\/>\\n<\\/g>\\n<g style=\\\"fill:rgb(0%,0%,0%);fill-opacity:1;\\\">\\n  <use xlink:href=\\\"#glyph-1688390289546981-3-38\\\" x=\\\"816.714042\\\" y=\\\"40.928\\\"\\/>\\n  <use xlink:href=\\\"#glyph-1688390289546981-3-25\\\" x=\\\"821.695362\\\" y=\\\"40.928\\\"\\/>\\n<\\/g>\\n<g style=\\\"fill:rgb(0%,0%,0%);fill-opacity:1;\\\">\\n  <use xlink:href=\\\"#glyph-1688390289546981-3-32\\\" x=\\\"828.888388\\\" y=\\\"40.928\\\"\\/>\\n  <use xlink:href=\\\"#glyph-1688390289546981-3-28\\\" x=\\\"834.427616\\\" y=\\\"40.928\\\"\\/>\\n  <use xlink:href=\\\"#glyph-1688390289546981-3-31\\\" x=\\\"842.039073\\\" y=\\\"40.928\\\"\\/>\\n  <use xlink:href=\\\"#glyph-1688390289546981-3-32\\\" x=\\\"848.823631\\\" y=\\\"40.928\\\"\\/>\\n  <use xlink:href=\\\"#glyph-1688390289546981-3-27\\\" x=\\\"854.362859\\\" y=\\\"40.928\\\"\\/>\\n  <use xlink:href=\\\"#glyph-1688390289546981-3-33\\\" x=\\\"859.344179\\\" y=\\\"40.928\\\"\\/>\\n  <use xlink:href=\\\"#glyph-1688390289546981-3-34\\\" x=\\\"864.325499\\\" y=\\\"40.928\\\"\\/>\\n  <use xlink:href=\\\"#glyph-1688390289546981-3-34\\\" x=\\\"869.306819\\\" y=\\\"40.928\\\"\\/>\\n<\\/g>\\n<g style=\\\"fill:rgb(0%,0%,0%);fill-opacity:1;\\\">\\n  <use xlink:href=\\\"#glyph-1688390289546981-3-23\\\" x=\\\"798.592\\\" y=\\\"63.67\\\"\\/>\\n  <use xlink:href=\\\"#glyph-1688390289546981-3-15\\\" x=\\\"805.924503\\\" y=\\\"63.67\\\"\\/>\\n<\\/g>\\n<g style=\\\"fill:rgb(0%,0%,0%);fill-opacity:1;\\\">\\n  <use xlink:href=\\\"#glyph-1688390289546981-3-39\\\" x=\\\"816.714042\\\" y=\\\"63.67\\\"\\/>\\n  <use xlink:href=\\\"#glyph-1688390289546981-3-25\\\" x=\\\"821.695362\\\" y=\\\"63.67\\\"\\/>\\n<\\/g>\\n<g style=\\\"fill:rgb(0%,0%,0%);fill-opacity:1;\\\">\\n  <use xlink:href=\\\"#glyph-1688390289546981-3-32\\\" x=\\\"828.888388\\\" y=\\\"63.67\\\"\\/>\\n  <use xlink:href=\\\"#glyph-1688390289546981-3-26\\\" x=\\\"834.427616\\\" y=\\\"63.67\\\"\\/>\\n  <use xlink:href=\\\"#glyph-1688390289546981-3-35\\\" x=\\\"841.620642\\\" y=\\\"63.67\\\"\\/>\\n  <use xlink:href=\\\"#glyph-1688390289546981-3-27\\\" x=\\\"847.847292\\\" y=\\\"63.67\\\"\\/>\\n  <use xlink:href=\\\"#glyph-1688390289546981-3-33\\\" x=\\\"852.828612\\\" y=\\\"63.67\\\"\\/>\\n  <use xlink:href=\\\"#glyph-1688390289546981-3-34\\\" x=\\\"857.809932\\\" y=\\\"63.67\\\"\\/>\\n  <use xlink:href=\\\"#glyph-1688390289546981-3-34\\\" x=\\\"862.791252\\\" y=\\\"63.67\\\"\\/>\\n<\\/g>\\n<g style=\\\"fill:rgb(0%,0%,0%);fill-opacity:1;\\\">\\n  <use xlink:href=\\\"#glyph-1688390289546981-3-40\\\" x=\\\"753.046\\\" y=\\\"12.508\\\"\\/>\\n  <use xlink:href=\\\"#glyph-1688390289546981-3-31\\\" x=\\\"760.796934\\\" y=\\\"12.508\\\"\\/>\\n  <use xlink:href=\\\"#glyph-1688390289546981-3-41\\\" x=\\\"767.581492\\\" y=\\\"12.508\\\"\\/>\\n<\\/g>\\n<g clip-path=\\\"url(#clip-1688390289546981-4)\\\" clip-rule=\\\"nonzero\\\">\\n<path style=\\\" stroke:none;fill-rule:nonzero;fill:url(#linear-1688390289546981-0);\\\" d=\\\"M 891.867188 203.941406 L 891.867188 22.003906 L 906.042969 22.003906 L 906.042969 203.941406 Z M 891.867188 203.941406 \\\"\\/>\\n<\\/g>\\n<path style=\\\"fill:none;stroke-width:0.19925;stroke-linecap:butt;stroke-linejoin:miter;stroke:rgb(50%,50%,50%);stroke-opacity:1;stroke-miterlimit:10;\\\" d=\\\"M -0.0018125 -0.00140625 L 4.252094 -0.00140625 M -0.0018125 45.482969 L 4.252094 45.482969 M -0.0018125 90.967344 L 4.252094 90.967344 M -0.0018125 136.451719 L 4.252094 136.451719 M -0.0018125 181.936094 L 4.252094 181.936094 M 14.173969 -0.00140625 L 9.920062 -0.00140625 M 14.173969 45.482969 L 9.920062 45.482969 M 14.173969 90.967344 L 9.920062 90.967344 M 14.173969 136.451719 L 9.920062 136.451719 M 14.173969 181.936094 L 9.920062 181.936094 \\\" transform=\\\"matrix(1,0,0,-1,891.869,203.94)\\\"\\/>\\n<path style=\\\"fill:none;stroke-width:0.3985;stroke-linecap:butt;stroke-linejoin:miter;stroke:rgb(0%,0%,0%);stroke-opacity:1;stroke-miterlimit:10;\\\" d=\\\"M -0.0018125 -0.00140625 L -0.0018125 181.936094 L 14.173969 181.936094 L 14.173969 -0.00140625 Z M -0.0018125 -0.00140625 \\\" transform=\\\"matrix(1,0,0,-1,891.869,203.94)\\\"\\/>\\n<g style=\\\"fill:rgb(0%,0%,0%);fill-opacity:1;\\\">\\n  <use xlink:href=\\\"#glyph-1688390289546981-1-1\\\" x=\\\"909.561\\\" y=\\\"206.735\\\"\\/>\\n<\\/g>\\n<g style=\\\"fill:rgb(0%,0%,0%);fill-opacity:1;\\\">\\n  <use xlink:href=\\\"#glyph-1688390289546981-0-4\\\" x=\\\"917.31\\\" y=\\\"206.735\\\"\\/>\\n<\\/g>\\n<g style=\\\"fill:rgb(0%,0%,0%);fill-opacity:1;\\\">\\n  <use xlink:href=\\\"#glyph-1688390289546981-1-1\\\" x=\\\"909.561\\\" y=\\\"161.251\\\"\\/>\\n<\\/g>\\n<g style=\\\"fill:rgb(0%,0%,0%);fill-opacity:1;\\\">\\n  <use xlink:href=\\\"#glyph-1688390289546981-0-3\\\" x=\\\"917.31\\\" y=\\\"161.251\\\"\\/>\\n<\\/g>\\n<g style=\\\"fill:rgb(0%,0%,0%);fill-opacity:1;\\\">\\n  <use xlink:href=\\\"#glyph-1688390289546981-0-1\\\" x=\\\"909.561\\\" y=\\\"116.183\\\"\\/>\\n<\\/g>\\n<g style=\\\"fill:rgb(0%,0%,0%);fill-opacity:1;\\\">\\n  <use xlink:href=\\\"#glyph-1688390289546981-0-3\\\" x=\\\"909.561\\\" y=\\\"70.699\\\"\\/>\\n<\\/g>\\n<g style=\\\"fill:rgb(0%,0%,0%);fill-opacity:1;\\\">\\n  <use xlink:href=\\\"#glyph-1688390289546981-0-4\\\" x=\\\"909.561\\\" y=\\\"25.215\\\"\\/>\\n<\\/g>\\n<\\/g>\\n<\\/svg>\\n\\n\"},\"nodeType\":\"DOM\",\"type\":\"node\",\"instanceArgs\":{\"namespace\":\"html\",\"tag\":\"div\"},\"children\":[]}]}}}},\"children\":[{\"props\":{},\"nodeType\":\"ObservableNode\",\"type\":\"node\",\"instanceArgs\":{\"id\":\"3453053164658128465\",\"name\":\"obs-node\"},\"children\":[]}]}]},\n",
       "        window,\n",
       "    );\n",
       "    })()\n",
       "    </script>\n",
       "</div>\n"
      ],
      "text/plain": [
       "WebIO.Node{WebIO.DOM}(WebIO.DOM(:html, :div), Any[WebIO.Node{WebIO.DOM}(WebIO.DOM(:html, :div), Any[WebIO.Scope(WebIO.Node{WebIO.DOM}(WebIO.DOM(:html, :div), Any[WebIO.Node{WebIO.DOM}(WebIO.DOM(:html, :div), Any[WebIO.Node{WebIO.DOM}(WebIO.DOM(:html, :label), Any[\"nbin\"], Dict{Symbol, Any}(:className => \"interact \", :style => Dict{Any, Any}(:padding => \"5px 10px 0px 10px\")))], Dict{Symbol, Any}(:className => \"interact-flex-row-left\")), WebIO.Node{WebIO.DOM}(WebIO.DOM(:html, :div), Any[WebIO.Node{WebIO.DOM}(WebIO.DOM(:html, :input), Any[], Dict{Symbol, Any}(:attributes => Dict{Any, Any}(:type => \"number\", Symbol(\"data-bind\") => \"numericValue: value, valueUpdate: 'input', event: {change: function (){this.changes(this.changes()+1)}}\"), :placeholder => \"\", :className => \"input \", :style => Dict{Any, Any}()))], Dict{Symbol, Any}(:className => \"interact-flex-row-center\")), WebIO.Node{WebIO.DOM}(WebIO.DOM(:html, :div), Any[WebIO.Node{WebIO.DOM}(WebIO.DOM(:html, :div), Any[], Dict{Symbol, Any}())], Dict{Symbol, Any}(:className => \"interact-flex-row-right\"))], Dict{Symbol, Any}(:className => \"interact-flex-row interact-widget\")), Dict{String, Tuple{Observables.AbstractObservable, Union{Nothing, Bool}}}(\"changes\" => (Observable(0), nothing), \"value\" => (Observable{Union{Nothing, Int64}}(100), nothing)), Set{String}(), nothing, WebIO.Asset[WebIO.Asset(\"js\", \"knockout\", \"/Users/nishant/.julia/packages/Knockout/HReiN/src/../assets/knockout.js\"), WebIO.Asset(\"js\", \"knockout_punches\", \"/Users/nishant/.julia/packages/Knockout/HReiN/src/../assets/knockout_punches.js\"), WebIO.Asset(\"js\", nothing, \"/Users/nishant/.julia/packages/InteractBase/LJXv3/src/../assets/all.js\"), WebIO.Asset(\"css\", nothing, \"/Users/nishant/.julia/packages/InteractBase/LJXv3/src/../assets/style.css\"), WebIO.Asset(\"css\", nothing, \"/Users/nishant/.julia/packages/Interact/PENUy/src/../assets/bulma_confined.min.css\")], Dict{Any, Any}(\"changes\" => Any[WebIO.JSString(\"(function (val){return (val!=this.model[\\\"changes\\\"]()) ? (this.valueFromJulia[\\\"changes\\\"]=true, this.model[\\\"changes\\\"](val)) : undefined})\")], \"value\" => Any[WebIO.JSString(\"(function (val){return (val!=this.model[\\\"value\\\"]()) ? (this.valueFromJulia[\\\"value\\\"]=true, this.model[\\\"value\\\"](val)) : undefined})\")]), WebIO.ConnectionPool(Channel{Any}(32), Set{WebIO.AbstractConnection}(), Base.GenericCondition{ReentrantLock}(Base.IntrusiveLinkedList{Task}(Task (runnable) @0x00000001463176c0, Task (runnable) @0x00000001463176c0), ReentrantLock(nothing, 0x00000000, 0x00, Base.GenericCondition{Base.Threads.SpinLock}(Base.IntrusiveLinkedList{Task}(nothing, nothing), Base.Threads.SpinLock(0)), (0, 0, 0)))), WebIO.JSString[WebIO.JSString(\"function () {\\n    var handler = (function (ko, koPunches) {\\n    ko.punches.enableAll();\\n    ko.bindingHandlers.numericValue = {\\n        init: function(element, valueAccessor, allBindings, data, context) {\\n            var stringified = ko.observable(ko.unwrap(valueAccessor()));\\n            stringified.subscribe(function(value) {\\n                var val = parseFloat(value);\\n                if (!isNaN(val)) {\\n                    valueAccessor()(val);\\n                }\\n            });\\n            valueAccessor().subscribe(function(value) {\\n                var str = JSON.stringify(value);\\n                if ((str == \\\"0\\\") && ([\\\"-0\\\", \\\"-0.\\\"].indexOf(stringified()) >= 0))\\n                     return;\\n                 if ([\\\"null\\\", \\\"\\\"].indexOf(str) >= 0)\\n                     return;\\n                stringified(str);\\n            });\\n            ko.applyBindingsToNode(\\n                element,\\n                {\\n                    value: stringified,\\n                    valueUpdate: allBindings.get('valueUpdate'),\\n                },\\n                context,\\n            );\\n        }\\n    };\\n    var json_data = {\\\"changes\\\":WebIO.getval({\\\"name\\\":\\\"changes\\\",\\\"scope\\\":\\\"5666874821630519945\\\",\\\"id\\\":\\\"12029550491689288\\\",\\\"type\\\":\\\"observable\\\"}),\\\"value\\\":WebIO.getval({\\\"name\\\":\\\"value\\\",\\\"scope\\\":\\\"5666874821630519945\\\",\\\"id\\\":\\\"15070003196540663397\\\",\\\"type\\\":\\\"observable\\\"})};\\n    var self = this;\\n    function AppViewModel() {\\n        for (var key in json_data) {\\n            var el = json_data[key];\\n            this[key] = Array.isArray(el) ? ko.observableArray(el) : ko.observable(el);\\n        }\\n        \\n        \\n        [this[\\\"changes\\\"].subscribe((function (val){!(this.valueFromJulia[\\\"changes\\\"]) ? (WebIO.setval({\\\"name\\\":\\\"changes\\\",\\\"scope\\\":\\\"5666874821630519945\\\",\\\"id\\\":\\\"12029550491689288\\\",\\\"type\\\":\\\"observable\\\"},val)) : undefined; return this.valueFromJulia[\\\"changes\\\"]=false}),self),this[\\\"value\\\"].subscribe((function (val){!(this.valueFromJulia[\\\"value\\\"]) ? (WebIO.setval({\\\"name\\\":\\\"value\\\",\\\"scope\\\":\\\"5666874821630519945\\\",\\\"id\\\":\\\"15070003196540663397\\\",\\\"type\\\":\\\"observable\\\"},val)) : undefined; return this.valueFromJulia[\\\"value\\\"]=false}),self)]\\n        \\n    }\\n    self.model = new AppViewModel();\\n    self.valueFromJulia = {};\\n    for (var key in json_data) {\\n        self.valueFromJulia[key] = false;\\n    }\\n    ko.applyBindings(self.model, self.dom);\\n}\\n);\\n    (WebIO.importBlock({\\\"data\\\":[{\\\"name\\\":\\\"knockout\\\",\\\"type\\\":\\\"js\\\",\\\"url\\\":\\\"/assetserver/56267940404f1bb9bd6b6043c448449c1dc073b1-knockout.js\\\"},{\\\"name\\\":\\\"knockout_punches\\\",\\\"type\\\":\\\"js\\\",\\\"url\\\":\\\"/assetserver/0a72c329e1483646114695526feb11064f269228-knockout_punches.js\\\"}],\\\"type\\\":\\\"async_block\\\"})).then((imports) => handler.apply(this, imports));\\n}\\n\")])], Dict{Symbol, Any}(:className => \"field interact-widget\")), WebIO.Node{WebIO.DOM}(WebIO.DOM(:html, :div), Any[WebIO.Scope(WebIO.Node{WebIO.DOM}(WebIO.DOM(:html, :div), Any[WebIO.Node{WebIO.DOM}(WebIO.DOM(:html, :div), Any[WebIO.Node{WebIO.DOM}(WebIO.DOM(:html, :label), Any[\"savePlot\"], Dict{Symbol, Any}(:className => \"interact \", :style => Dict{Any, Any}(:padding => \"5px 10px 0px 10px\")))], Dict{Symbol, Any}(:className => \"interact-flex-row-left\")), WebIO.Node{WebIO.DOM}(WebIO.DOM(:html, :div), Any[WebIO.Node{WebIO.DOM}(WebIO.DOM(:html, :div), Any[WebIO.Node{WebIO.DOM}(WebIO.DOM(:html, :span), Any[WebIO.Node{WebIO.DOM}(WebIO.DOM(:html, :label), Any[], Dict{Symbol, Any}(:attributes => Dict(\"data-bind\" => \"text : key\")))], Dict{Symbol, Any}(:attributes => Dict(\"data-bind\" => \"click: function (){\\$root.update(val)}, css: {'is-primary is-selected' : \\$root.index() == val, 'interact-widget is-medium button ' : true}\")))], Dict{Symbol, Any}(:attributes => (\"data-bind\" => \"foreach : options_js\"), :className => \"buttons has-addons is-centered\"))], Dict{Symbol, Any}(:className => \"interact-flex-row-center\")), WebIO.Node{WebIO.DOM}(WebIO.DOM(:html, :div), Any[WebIO.Node{WebIO.DOM}(WebIO.DOM(:html, :div), Any[], Dict{Symbol, Any}())], Dict{Symbol, Any}(:className => \"interact-flex-row-right\"))], Dict{Symbol, Any}(:className => \"interact-flex-row interact-widget\")), Dict{String, Tuple{Observables.AbstractObservable, Union{Nothing, Bool}}}(\"options_js\" => (Observable(OrderedCollections.OrderedDict[OrderedCollections.OrderedDict{String, Any}(\"key\" => \"false\", \"val\" => 1, \"id\" => \"idD5d01RmP\"), OrderedCollections.OrderedDict{String, Any}(\"key\" => \"true\", \"val\" => 2, \"id\" => \"idaTjz7TFo\")]), nothing), \"index\" => (Observable{Any}(1), nothing)), Set{String}(), nothing, WebIO.Asset[WebIO.Asset(\"js\", \"knockout\", \"/Users/nishant/.julia/packages/Knockout/HReiN/src/../assets/knockout.js\"), WebIO.Asset(\"js\", \"knockout_punches\", \"/Users/nishant/.julia/packages/Knockout/HReiN/src/../assets/knockout_punches.js\"), WebIO.Asset(\"js\", nothing, \"/Users/nishant/.julia/packages/InteractBase/LJXv3/src/../assets/all.js\"), WebIO.Asset(\"css\", nothing, \"/Users/nishant/.julia/packages/InteractBase/LJXv3/src/../assets/style.css\"), WebIO.Asset(\"css\", nothing, \"/Users/nishant/.julia/packages/Interact/PENUy/src/../assets/bulma_confined.min.css\")], Dict{Any, Any}(\"options_js\" => Any[WebIO.JSString(\"(function (val){return (val!=this.model[\\\"options_js\\\"]()) ? (this.valueFromJulia[\\\"options_js\\\"]=true, this.model[\\\"options_js\\\"](val)) : undefined})\")], \"index\" => Any[WebIO.JSString(\"(function (val){return (val!=this.model[\\\"index\\\"]()) ? (this.valueFromJulia[\\\"index\\\"]=true, this.model[\\\"index\\\"](val)) : undefined})\")]), WebIO.ConnectionPool(Channel{Any}(32), Set{WebIO.AbstractConnection}(), Base.GenericCondition{ReentrantLock}(Base.IntrusiveLinkedList{Task}(Task (runnable) @0x00000002922dcb00, Task (runnable) @0x00000002922dcb00), ReentrantLock(nothing, 0x00000000, 0x00, Base.GenericCondition{Base.Threads.SpinLock}(Base.IntrusiveLinkedList{Task}(nothing, nothing), Base.Threads.SpinLock(0)), (0, 0, 0)))), WebIO.JSString[WebIO.JSString(\"function () {\\n    var handler = (function (ko, koPunches) {\\n    ko.punches.enableAll();\\n    ko.bindingHandlers.numericValue = {\\n        init: function(element, valueAccessor, allBindings, data, context) {\\n            var stringified = ko.observable(ko.unwrap(valueAccessor()));\\n            stringified.subscribe(function(value) {\\n                var val = parseFloat(value);\\n                if (!isNaN(val)) {\\n                    valueAccessor()(val);\\n                }\\n            });\\n            valueAccessor().subscribe(function(value) {\\n                var str = JSON.stringify(value);\\n                if ((str == \\\"0\\\") && ([\\\"-0\\\", \\\"-0.\\\"].indexOf(stringified()) >= 0))\\n                     return;\\n                 if ([\\\"null\\\", \\\"\\\"].indexOf(str) >= 0)\\n                     return;\\n                stringified(str);\\n            });\\n            ko.applyBindingsToNode(\\n                element,\\n                {\\n                    value: stringified,\\n                    valueUpdate: allBindings.get('valueUpdate'),\\n                },\\n                context,\\n            );\\n        }\\n    };\\n    var json_data = {\\\"options_js\\\":WebIO.getval({\\\"name\\\":\\\"options_js\\\",\\\"scope\\\":\\\"7620871937592655973\\\",\\\"id\\\":\\\"10713939198513864913\\\",\\\"type\\\":\\\"observable\\\"}),\\\"index\\\":WebIO.getval({\\\"name\\\":\\\"index\\\",\\\"scope\\\":\\\"7620871937592655973\\\",\\\"id\\\":\\\"14139842927743006665\\\",\\\"type\\\":\\\"observable\\\"})};\\n    var self = this;\\n    function AppViewModel() {\\n        for (var key in json_data) {\\n            var el = json_data[key];\\n            this[key] = Array.isArray(el) ? ko.observableArray(el) : ko.observable(el);\\n        }\\n        [this[\\\"update\\\"]=function (val) {this.index(val)}]\\n        \\n        [this[\\\"options_js\\\"].subscribe((function (val){!(this.valueFromJulia[\\\"options_js\\\"]) ? (WebIO.setval({\\\"name\\\":\\\"options_js\\\",\\\"scope\\\":\\\"7620871937592655973\\\",\\\"id\\\":\\\"10713939198513864913\\\",\\\"type\\\":\\\"observable\\\"},val)) : undefined; return this.valueFromJulia[\\\"options_js\\\"]=false}),self),this[\\\"index\\\"].subscribe((function (val){!(this.valueFromJulia[\\\"index\\\"]) ? (WebIO.setval({\\\"name\\\":\\\"index\\\",\\\"scope\\\":\\\"7620871937592655973\\\",\\\"id\\\":\\\"14139842927743006665\\\",\\\"type\\\":\\\"observable\\\"},val)) : undefined; return this.valueFromJulia[\\\"index\\\"]=false}),self)]\\n        \\n    }\\n    self.model = new AppViewModel();\\n    self.valueFromJulia = {};\\n    for (var key in json_data) {\\n        self.valueFromJulia[key] = false;\\n    }\\n    ko.applyBindings(self.model, self.dom);\\n}\\n);\\n    (WebIO.importBlock({\\\"data\\\":[{\\\"name\\\":\\\"knockout\\\",\\\"type\\\":\\\"js\\\",\\\"url\\\":\\\"/assetserver/56267940404f1bb9bd6b6043c448449c1dc073b1-knockout.js\\\"},{\\\"name\\\":\\\"knockout_punches\\\",\\\"type\\\":\\\"js\\\",\\\"url\\\":\\\"/assetserver/0a72c329e1483646114695526feb11064f269228-knockout_punches.js\\\"}],\\\"type\\\":\\\"async_block\\\"})).then((imports) => handler.apply(this, imports));\\n}\\n\")])], Dict{Symbol, Any}(:className => \"interact-widget\")), WebIO.Node{WebIO.DOM}(WebIO.DOM(:html, :div), Any[WebIO.Scope(WebIO.Node{WebIO.DOM}(WebIO.DOM(:html, :div), Any[WebIO.Node{WebIO.DOM}(WebIO.DOM(:html, :div), Any[WebIO.Node{WebIO.DOM}(WebIO.DOM(:html, :label), Any[\"xmin\"], Dict{Symbol, Any}(:className => \"interact \", :style => Dict{Any, Any}(:padding => \"5px 10px 0px 10px\")))], Dict{Symbol, Any}(:className => \"interact-flex-row-left\")), WebIO.Node{WebIO.DOM}(WebIO.DOM(:html, :div), Any[WebIO.Node{WebIO.DOM}(WebIO.DOM(:html, :input), Any[], Dict{Symbol, Any}(:attributes => Dict{Any, Any}(:type => \"number\", Symbol(\"data-bind\") => \"numericValue: value, valueUpdate: 'input', event: {change: function (){this.changes(this.changes()+1)}}\"), :placeholder => \"\", :className => \"input \", :style => Dict{Any, Any}()))], Dict{Symbol, Any}(:className => \"interact-flex-row-center\")), WebIO.Node{WebIO.DOM}(WebIO.DOM(:html, :div), Any[WebIO.Node{WebIO.DOM}(WebIO.DOM(:html, :div), Any[], Dict{Symbol, Any}())], Dict{Symbol, Any}(:className => \"interact-flex-row-right\"))], Dict{Symbol, Any}(:className => \"interact-flex-row interact-widget\")), Dict{String, Tuple{Observables.AbstractObservable, Union{Nothing, Bool}}}(\"changes\" => (Observable(0), nothing), \"value\" => (Observable{Union{Nothing, Float64}}(0.0), nothing)), Set{String}(), nothing, WebIO.Asset[WebIO.Asset(\"js\", \"knockout\", \"/Users/nishant/.julia/packages/Knockout/HReiN/src/../assets/knockout.js\"), WebIO.Asset(\"js\", \"knockout_punches\", \"/Users/nishant/.julia/packages/Knockout/HReiN/src/../assets/knockout_punches.js\"), WebIO.Asset(\"js\", nothing, \"/Users/nishant/.julia/packages/InteractBase/LJXv3/src/../assets/all.js\"), WebIO.Asset(\"css\", nothing, \"/Users/nishant/.julia/packages/InteractBase/LJXv3/src/../assets/style.css\"), WebIO.Asset(\"css\", nothing, \"/Users/nishant/.julia/packages/Interact/PENUy/src/../assets/bulma_confined.min.css\")], Dict{Any, Any}(\"changes\" => Any[WebIO.JSString(\"(function (val){return (val!=this.model[\\\"changes\\\"]()) ? (this.valueFromJulia[\\\"changes\\\"]=true, this.model[\\\"changes\\\"](val)) : undefined})\")], \"value\" => Any[WebIO.JSString(\"(function (val){return (val!=this.model[\\\"value\\\"]()) ? (this.valueFromJulia[\\\"value\\\"]=true, this.model[\\\"value\\\"](val)) : undefined})\")]), WebIO.ConnectionPool(Channel{Any}(32), Set{WebIO.AbstractConnection}(), Base.GenericCondition{ReentrantLock}(Base.IntrusiveLinkedList{Task}(Task (runnable) @0x000000010f0abd00, Task (runnable) @0x000000010f0abd00), ReentrantLock(nothing, 0x00000000, 0x00, Base.GenericCondition{Base.Threads.SpinLock}(Base.IntrusiveLinkedList{Task}(nothing, nothing), Base.Threads.SpinLock(0)), (0, 4301287536, 4868909616)))), WebIO.JSString[WebIO.JSString(\"function () {\\n    var handler = (function (ko, koPunches) {\\n    ko.punches.enableAll();\\n    ko.bindingHandlers.numericValue = {\\n        init: function(element, valueAccessor, allBindings, data, context) {\\n            var stringified = ko.observable(ko.unwrap(valueAccessor()));\\n            stringified.subscribe(function(value) {\\n                var val = parseFloat(value);\\n                if (!isNaN(val)) {\\n                    valueAccessor()(val);\\n                }\\n            });\\n            valueAccessor().subscribe(function(value) {\\n                var str = JSON.stringify(value);\\n                if ((str == \\\"0\\\") && ([\\\"-0\\\", \\\"-0.\\\"].indexOf(stringified()) >= 0))\\n                     return;\\n                 if ([\\\"null\\\", \\\"\\\"].indexOf(str) >= 0)\\n                     return;\\n                stringified(str);\\n            });\\n            ko.applyBindingsToNode(\\n                element,\\n                {\\n                    value: stringified,\\n                    valueUpdate: allBindings.get('valueUpdate'),\\n                },\\n                context,\\n            );\\n        }\\n    };\\n    var json_data = {\\\"changes\\\":WebIO.getval({\\\"name\\\":\\\"changes\\\",\\\"scope\\\":\\\"6023539396506111250\\\",\\\"id\\\":\\\"18331247103097620476\\\",\\\"type\\\":\\\"observable\\\"}),\\\"value\\\":WebIO.getval({\\\"name\\\":\\\"value\\\",\\\"scope\\\":\\\"6023539396506111250\\\",\\\"id\\\":\\\"710280487510622442\\\",\\\"type\\\":\\\"observable\\\"})};\\n    var self = this;\\n    function AppViewModel() {\\n        for (var key in json_data) {\\n            var el = json_data[key];\\n            this[key] = Array.isArray(el) ? ko.observableArray(el) : ko.observable(el);\\n        }\\n        \\n        \\n        [this[\\\"changes\\\"].subscribe((function (val){!(this.valueFromJulia[\\\"changes\\\"]) ? (WebIO.setval({\\\"name\\\":\\\"changes\\\",\\\"scope\\\":\\\"6023539396506111250\\\",\\\"id\\\":\\\"18331247103097620476\\\",\\\"type\\\":\\\"observable\\\"},val)) : undefined; return this.valueFromJulia[\\\"changes\\\"]=false}),self),this[\\\"value\\\"].subscribe((function (val){!(this.valueFromJulia[\\\"value\\\"]) ? (WebIO.setval({\\\"name\\\":\\\"value\\\",\\\"scope\\\":\\\"6023539396506111250\\\",\\\"id\\\":\\\"710280487510622442\\\",\\\"type\\\":\\\"observable\\\"},val)) : undefined; return this.valueFromJulia[\\\"value\\\"]=false}),self)]\\n        \\n    }\\n    self.model = new AppViewModel();\\n    self.valueFromJulia = {};\\n    for (var key in json_data) {\\n        self.valueFromJulia[key] = false;\\n    }\\n    ko.applyBindings(self.model, self.dom);\\n}\\n);\\n    (WebIO.importBlock({\\\"data\\\":[{\\\"name\\\":\\\"knockout\\\",\\\"type\\\":\\\"js\\\",\\\"url\\\":\\\"/assetserver/56267940404f1bb9bd6b6043c448449c1dc073b1-knockout.js\\\"},{\\\"name\\\":\\\"knockout_punches\\\",\\\"type\\\":\\\"js\\\",\\\"url\\\":\\\"/assetserver/0a72c329e1483646114695526feb11064f269228-knockout_punches.js\\\"}],\\\"type\\\":\\\"async_block\\\"})).then((imports) => handler.apply(this, imports));\\n}\\n\")])], Dict{Symbol, Any}(:className => \"field interact-widget\")), WebIO.Node{WebIO.DOM}(WebIO.DOM(:html, :div), Any[WebIO.Scope(WebIO.Node{WebIO.DOM}(WebIO.DOM(:html, :div), Any[WebIO.Node{WebIO.DOM}(WebIO.DOM(:html, :div), Any[WebIO.Node{WebIO.DOM}(WebIO.DOM(:html, :label), Any[\"xmax\"], Dict{Symbol, Any}(:className => \"interact \", :style => Dict{Any, Any}(:padding => \"5px 10px 0px 10px\")))], Dict{Symbol, Any}(:className => \"interact-flex-row-left\")), WebIO.Node{WebIO.DOM}(WebIO.DOM(:html, :div), Any[WebIO.Node{WebIO.DOM}(WebIO.DOM(:html, :input), Any[], Dict{Symbol, Any}(:attributes => Dict{Any, Any}(:type => \"number\", Symbol(\"data-bind\") => \"numericValue: value, valueUpdate: 'input', event: {change: function (){this.changes(this.changes()+1)}}\"), :placeholder => \"\", :className => \"input \", :style => Dict{Any, Any}()))], Dict{Symbol, Any}(:className => \"interact-flex-row-center\")), WebIO.Node{WebIO.DOM}(WebIO.DOM(:html, :div), Any[WebIO.Node{WebIO.DOM}(WebIO.DOM(:html, :div), Any[], Dict{Symbol, Any}())], Dict{Symbol, Any}(:className => \"interact-flex-row-right\"))], Dict{Symbol, Any}(:className => \"interact-flex-row interact-widget\")), Dict{String, Tuple{Observables.AbstractObservable, Union{Nothing, Bool}}}(\"changes\" => (Observable(0), nothing), \"value\" => (Observable{Union{Nothing, Float64}}(40.0), nothing)), Set{String}(), nothing, WebIO.Asset[WebIO.Asset(\"js\", \"knockout\", \"/Users/nishant/.julia/packages/Knockout/HReiN/src/../assets/knockout.js\"), WebIO.Asset(\"js\", \"knockout_punches\", \"/Users/nishant/.julia/packages/Knockout/HReiN/src/../assets/knockout_punches.js\"), WebIO.Asset(\"js\", nothing, \"/Users/nishant/.julia/packages/InteractBase/LJXv3/src/../assets/all.js\"), WebIO.Asset(\"css\", nothing, \"/Users/nishant/.julia/packages/InteractBase/LJXv3/src/../assets/style.css\"), WebIO.Asset(\"css\", nothing, \"/Users/nishant/.julia/packages/Interact/PENUy/src/../assets/bulma_confined.min.css\")], Dict{Any, Any}(\"changes\" => Any[WebIO.JSString(\"(function (val){return (val!=this.model[\\\"changes\\\"]()) ? (this.valueFromJulia[\\\"changes\\\"]=true, this.model[\\\"changes\\\"](val)) : undefined})\")], \"value\" => Any[WebIO.JSString(\"(function (val){return (val!=this.model[\\\"value\\\"]()) ? (this.valueFromJulia[\\\"value\\\"]=true, this.model[\\\"value\\\"](val)) : undefined})\")]), WebIO.ConnectionPool(Channel{Any}(32), Set{WebIO.AbstractConnection}(), Base.GenericCondition{ReentrantLock}(Base.IntrusiveLinkedList{Task}(Task (runnable) @0x000000029187cfb0, Task (runnable) @0x000000029187cfb0), ReentrantLock(nothing, 0x00000000, 0x00, Base.GenericCondition{Base.Threads.SpinLock}(Base.IntrusiveLinkedList{Task}(nothing, nothing), Base.Threads.SpinLock(0)), (0, 0, 431338582231)))), WebIO.JSString[WebIO.JSString(\"function () {\\n    var handler = (function (ko, koPunches) {\\n    ko.punches.enableAll();\\n    ko.bindingHandlers.numericValue = {\\n        init: function(element, valueAccessor, allBindings, data, context) {\\n            var stringified = ko.observable(ko.unwrap(valueAccessor()));\\n            stringified.subscribe(function(value) {\\n                var val = parseFloat(value);\\n                if (!isNaN(val)) {\\n                    valueAccessor()(val);\\n                }\\n            });\\n            valueAccessor().subscribe(function(value) {\\n                var str = JSON.stringify(value);\\n                if ((str == \\\"0\\\") && ([\\\"-0\\\", \\\"-0.\\\"].indexOf(stringified()) >= 0))\\n                     return;\\n                 if ([\\\"null\\\", \\\"\\\"].indexOf(str) >= 0)\\n                     return;\\n                stringified(str);\\n            });\\n            ko.applyBindingsToNode(\\n                element,\\n                {\\n                    value: stringified,\\n                    valueUpdate: allBindings.get('valueUpdate'),\\n                },\\n                context,\\n            );\\n        }\\n    };\\n    var json_data = {\\\"changes\\\":WebIO.getval({\\\"name\\\":\\\"changes\\\",\\\"scope\\\":\\\"4813057942217081262\\\",\\\"id\\\":\\\"17148596036159411266\\\",\\\"type\\\":\\\"observable\\\"}),\\\"value\\\":WebIO.getval({\\\"name\\\":\\\"value\\\",\\\"scope\\\":\\\"4813057942217081262\\\",\\\"id\\\":\\\"5393748715275092301\\\",\\\"type\\\":\\\"observable\\\"})};\\n    var self = this;\\n    function AppViewModel() {\\n        for (var key in json_data) {\\n            var el = json_data[key];\\n            this[key] = Array.isArray(el) ? ko.observableArray(el) : ko.observable(el);\\n        }\\n        \\n        \\n        [this[\\\"changes\\\"].subscribe((function (val){!(this.valueFromJulia[\\\"changes\\\"]) ? (WebIO.setval({\\\"name\\\":\\\"changes\\\",\\\"scope\\\":\\\"4813057942217081262\\\",\\\"id\\\":\\\"17148596036159411266\\\",\\\"type\\\":\\\"observable\\\"},val)) : undefined; return this.valueFromJulia[\\\"changes\\\"]=false}),self),this[\\\"value\\\"].subscribe((function (val){!(this.valueFromJulia[\\\"value\\\"]) ? (WebIO.setval({\\\"name\\\":\\\"value\\\",\\\"scope\\\":\\\"4813057942217081262\\\",\\\"id\\\":\\\"5393748715275092301\\\",\\\"type\\\":\\\"observable\\\"},val)) : undefined; return this.valueFromJulia[\\\"value\\\"]=false}),self)]\\n        \\n    }\\n    self.model = new AppViewModel();\\n    self.valueFromJulia = {};\\n    for (var key in json_data) {\\n        self.valueFromJulia[key] = false;\\n    }\\n    ko.applyBindings(self.model, self.dom);\\n}\\n);\\n    (WebIO.importBlock({\\\"data\\\":[{\\\"name\\\":\\\"knockout\\\",\\\"type\\\":\\\"js\\\",\\\"url\\\":\\\"/assetserver/56267940404f1bb9bd6b6043c448449c1dc073b1-knockout.js\\\"},{\\\"name\\\":\\\"knockout_punches\\\",\\\"type\\\":\\\"js\\\",\\\"url\\\":\\\"/assetserver/0a72c329e1483646114695526feb11064f269228-knockout_punches.js\\\"}],\\\"type\\\":\\\"async_block\\\"})).then((imports) => handler.apply(this, imports));\\n}\\n\")])], Dict{Symbol, Any}(:className => \"field interact-widget\")), WebIO.Node{WebIO.DOM}(WebIO.DOM(:html, :div), Any[WebIO.Scope(WebIO.Node{WebIO.DOM}(WebIO.DOM(:html, :div), Any[WebIO.Node{WebIO.DOM}(WebIO.DOM(:html, :div), Any[WebIO.Node{WebIO.DOM}(WebIO.DOM(:html, :label), Any[\"ymin\"], Dict{Symbol, Any}(:className => \"interact \", :style => Dict{Any, Any}(:padding => \"5px 10px 0px 10px\")))], Dict{Symbol, Any}(:className => \"interact-flex-row-left\")), WebIO.Node{WebIO.DOM}(WebIO.DOM(:html, :div), Any[WebIO.Node{WebIO.DOM}(WebIO.DOM(:html, :input), Any[], Dict{Symbol, Any}(:attributes => Dict{Any, Any}(:type => \"number\", Symbol(\"data-bind\") => \"numericValue: value, valueUpdate: 'input', event: {change: function (){this.changes(this.changes()+1)}}\"), :placeholder => \"\", :className => \"input \", :style => Dict{Any, Any}()))], Dict{Symbol, Any}(:className => \"interact-flex-row-center\")), WebIO.Node{WebIO.DOM}(WebIO.DOM(:html, :div), Any[WebIO.Node{WebIO.DOM}(WebIO.DOM(:html, :div), Any[], Dict{Symbol, Any}())], Dict{Symbol, Any}(:className => \"interact-flex-row-right\"))], Dict{Symbol, Any}(:className => \"interact-flex-row interact-widget\")), Dict{String, Tuple{Observables.AbstractObservable, Union{Nothing, Bool}}}(\"changes\" => (Observable(0), nothing), \"value\" => (Observable{Union{Nothing, Float64}}(-1000.0), nothing)), Set{String}(), nothing, WebIO.Asset[WebIO.Asset(\"js\", \"knockout\", \"/Users/nishant/.julia/packages/Knockout/HReiN/src/../assets/knockout.js\"), WebIO.Asset(\"js\", \"knockout_punches\", \"/Users/nishant/.julia/packages/Knockout/HReiN/src/../assets/knockout_punches.js\"), WebIO.Asset(\"js\", nothing, \"/Users/nishant/.julia/packages/InteractBase/LJXv3/src/../assets/all.js\"), WebIO.Asset(\"css\", nothing, \"/Users/nishant/.julia/packages/InteractBase/LJXv3/src/../assets/style.css\"), WebIO.Asset(\"css\", nothing, \"/Users/nishant/.julia/packages/Interact/PENUy/src/../assets/bulma_confined.min.css\")], Dict{Any, Any}(\"changes\" => Any[WebIO.JSString(\"(function (val){return (val!=this.model[\\\"changes\\\"]()) ? (this.valueFromJulia[\\\"changes\\\"]=true, this.model[\\\"changes\\\"](val)) : undefined})\")], \"value\" => Any[WebIO.JSString(\"(function (val){return (val!=this.model[\\\"value\\\"]()) ? (this.valueFromJulia[\\\"value\\\"]=true, this.model[\\\"value\\\"](val)) : undefined})\")]), WebIO.ConnectionPool(Channel{Any}(32), Set{WebIO.AbstractConnection}(), Base.GenericCondition{ReentrantLock}(Base.IntrusiveLinkedList{Task}(Task (runnable) @0x000000029187f6c0, Task (runnable) @0x000000029187f6c0), ReentrantLock(nothing, 0x00000000, 0x00, Base.GenericCondition{Base.Threads.SpinLock}(Base.IntrusiveLinkedList{Task}(nothing, nothing), Base.Threads.SpinLock(0)), (0, 4845756928, 4378869952)))), WebIO.JSString[WebIO.JSString(\"function () {\\n    var handler = (function (ko, koPunches) {\\n    ko.punches.enableAll();\\n    ko.bindingHandlers.numericValue = {\\n        init: function(element, valueAccessor, allBindings, data, context) {\\n            var stringified = ko.observable(ko.unwrap(valueAccessor()));\\n            stringified.subscribe(function(value) {\\n                var val = parseFloat(value);\\n                if (!isNaN(val)) {\\n                    valueAccessor()(val);\\n                }\\n            });\\n            valueAccessor().subscribe(function(value) {\\n                var str = JSON.stringify(value);\\n                if ((str == \\\"0\\\") && ([\\\"-0\\\", \\\"-0.\\\"].indexOf(stringified()) >= 0))\\n                     return;\\n                 if ([\\\"null\\\", \\\"\\\"].indexOf(str) >= 0)\\n                     return;\\n                stringified(str);\\n            });\\n            ko.applyBindingsToNode(\\n                element,\\n                {\\n                    value: stringified,\\n                    valueUpdate: allBindings.get('valueUpdate'),\\n                },\\n                context,\\n            );\\n        }\\n    };\\n    var json_data = {\\\"changes\\\":WebIO.getval({\\\"name\\\":\\\"changes\\\",\\\"scope\\\":\\\"8401107104383973697\\\",\\\"id\\\":\\\"15460326188968926072\\\",\\\"type\\\":\\\"observable\\\"}),\\\"value\\\":WebIO.getval({\\\"name\\\":\\\"value\\\",\\\"scope\\\":\\\"8401107104383973697\\\",\\\"id\\\":\\\"13756445961009959400\\\",\\\"type\\\":\\\"observable\\\"})};\\n    var self = this;\\n    function AppViewModel() {\\n        for (var key in json_data) {\\n            var el = json_data[key];\\n            this[key] = Array.isArray(el) ? ko.observableArray(el) : ko.observable(el);\\n        }\\n        \\n        \\n        [this[\\\"changes\\\"].subscribe((function (val){!(this.valueFromJulia[\\\"changes\\\"]) ? (WebIO.setval({\\\"name\\\":\\\"changes\\\",\\\"scope\\\":\\\"8401107104383973697\\\",\\\"id\\\":\\\"15460326188968926072\\\",\\\"type\\\":\\\"observable\\\"},val)) : undefined; return this.valueFromJulia[\\\"changes\\\"]=false}),self),this[\\\"value\\\"].subscribe((function (val){!(this.valueFromJulia[\\\"value\\\"]) ? (WebIO.setval({\\\"name\\\":\\\"value\\\",\\\"scope\\\":\\\"8401107104383973697\\\",\\\"id\\\":\\\"13756445961009959400\\\",\\\"type\\\":\\\"observable\\\"},val)) : undefined; return this.valueFromJulia[\\\"value\\\"]=false}),self)]\\n        \\n    }\\n    self.model = new AppViewModel();\\n    self.valueFromJulia = {};\\n    for (var key in json_data) {\\n        self.valueFromJulia[key] = false;\\n    }\\n    ko.applyBindings(self.model, self.dom);\\n}\\n);\\n    (WebIO.importBlock({\\\"data\\\":[{\\\"name\\\":\\\"knockout\\\",\\\"type\\\":\\\"js\\\",\\\"url\\\":\\\"/assetserver/56267940404f1bb9bd6b6043c448449c1dc073b1-knockout.js\\\"},{\\\"name\\\":\\\"knockout_punches\\\",\\\"type\\\":\\\"js\\\",\\\"url\\\":\\\"/assetserver/0a72c329e1483646114695526feb11064f269228-knockout_punches.js\\\"}],\\\"type\\\":\\\"async_block\\\"})).then((imports) => handler.apply(this, imports));\\n}\\n\")])], Dict{Symbol, Any}(:className => \"field interact-widget\")), WebIO.Node{WebIO.DOM}(WebIO.DOM(:html, :div), Any[WebIO.Scope(WebIO.Node{WebIO.DOM}(WebIO.DOM(:html, :div), Any[WebIO.Node{WebIO.DOM}(WebIO.DOM(:html, :div), Any[WebIO.Node{WebIO.DOM}(WebIO.DOM(:html, :label), Any[\"ymax\"], Dict{Symbol, Any}(:className => \"interact \", :style => Dict{Any, Any}(:padding => \"5px 10px 0px 10px\")))], Dict{Symbol, Any}(:className => \"interact-flex-row-left\")), WebIO.Node{WebIO.DOM}(WebIO.DOM(:html, :div), Any[WebIO.Node{WebIO.DOM}(WebIO.DOM(:html, :input), Any[], Dict{Symbol, Any}(:attributes => Dict{Any, Any}(:type => \"number\", Symbol(\"data-bind\") => \"numericValue: value, valueUpdate: 'input', event: {change: function (){this.changes(this.changes()+1)}}\"), :placeholder => \"\", :className => \"input \", :style => Dict{Any, Any}()))], Dict{Symbol, Any}(:className => \"interact-flex-row-center\")), WebIO.Node{WebIO.DOM}(WebIO.DOM(:html, :div), Any[WebIO.Node{WebIO.DOM}(WebIO.DOM(:html, :div), Any[], Dict{Symbol, Any}())], Dict{Symbol, Any}(:className => \"interact-flex-row-right\"))], Dict{Symbol, Any}(:className => \"interact-flex-row interact-widget\")), Dict{String, Tuple{Observables.AbstractObservable, Union{Nothing, Bool}}}(\"changes\" => (Observable(0), nothing), \"value\" => (Observable{Union{Nothing, Float64}}(1000.0), nothing)), Set{String}(), nothing, WebIO.Asset[WebIO.Asset(\"js\", \"knockout\", \"/Users/nishant/.julia/packages/Knockout/HReiN/src/../assets/knockout.js\"), WebIO.Asset(\"js\", \"knockout_punches\", \"/Users/nishant/.julia/packages/Knockout/HReiN/src/../assets/knockout_punches.js\"), WebIO.Asset(\"js\", nothing, \"/Users/nishant/.julia/packages/InteractBase/LJXv3/src/../assets/all.js\"), WebIO.Asset(\"css\", nothing, \"/Users/nishant/.julia/packages/InteractBase/LJXv3/src/../assets/style.css\"), WebIO.Asset(\"css\", nothing, \"/Users/nishant/.julia/packages/Interact/PENUy/src/../assets/bulma_confined.min.css\")], Dict{Any, Any}(\"changes\" => Any[WebIO.JSString(\"(function (val){return (val!=this.model[\\\"changes\\\"]()) ? (this.valueFromJulia[\\\"changes\\\"]=true, this.model[\\\"changes\\\"](val)) : undefined})\")], \"value\" => Any[WebIO.JSString(\"(function (val){return (val!=this.model[\\\"value\\\"]()) ? (this.valueFromJulia[\\\"value\\\"]=true, this.model[\\\"value\\\"](val)) : undefined})\")]), WebIO.ConnectionPool(Channel{Any}(32), Set{WebIO.AbstractConnection}(), Base.GenericCondition{ReentrantLock}(Base.IntrusiveLinkedList{Task}(Task (runnable) @0x000000029188a270, Task (runnable) @0x000000029188a270), ReentrantLock(nothing, 0x00000000, 0x00, Base.GenericCondition{Base.Threads.SpinLock}(Base.IntrusiveLinkedList{Task}(nothing, nothing), Base.Threads.SpinLock(0)), (2, 4865417216, 4868924576)))), WebIO.JSString[WebIO.JSString(\"function () {\\n    var handler = (function (ko, koPunches) {\\n    ko.punches.enableAll();\\n    ko.bindingHandlers.numericValue = {\\n        init: function(element, valueAccessor, allBindings, data, context) {\\n            var stringified = ko.observable(ko.unwrap(valueAccessor()));\\n            stringified.subscribe(function(value) {\\n                var val = parseFloat(value);\\n                if (!isNaN(val)) {\\n                    valueAccessor()(val);\\n                }\\n            });\\n            valueAccessor().subscribe(function(value) {\\n                var str = JSON.stringify(value);\\n                if ((str == \\\"0\\\") && ([\\\"-0\\\", \\\"-0.\\\"].indexOf(stringified()) >= 0))\\n                     return;\\n                 if ([\\\"null\\\", \\\"\\\"].indexOf(str) >= 0)\\n                     return;\\n                stringified(str);\\n            });\\n            ko.applyBindingsToNode(\\n                element,\\n                {\\n                    value: stringified,\\n                    valueUpdate: allBindings.get('valueUpdate'),\\n                },\\n                context,\\n            );\\n        }\\n    };\\n    var json_data = {\\\"changes\\\":WebIO.getval({\\\"name\\\":\\\"changes\\\",\\\"scope\\\":\\\"2635931614337328366\\\",\\\"id\\\":\\\"17739286764859911367\\\",\\\"type\\\":\\\"observable\\\"}),\\\"value\\\":WebIO.getval({\\\"name\\\":\\\"value\\\",\\\"scope\\\":\\\"2635931614337328366\\\",\\\"id\\\":\\\"12341229649776336883\\\",\\\"type\\\":\\\"observable\\\"})};\\n    var self = this;\\n    function AppViewModel() {\\n        for (var key in json_data) {\\n            var el = json_data[key];\\n            this[key] = Array.isArray(el) ? ko.observableArray(el) : ko.observable(el);\\n        }\\n        \\n        \\n        [this[\\\"changes\\\"].subscribe((function (val){!(this.valueFromJulia[\\\"changes\\\"]) ? (WebIO.setval({\\\"name\\\":\\\"changes\\\",\\\"scope\\\":\\\"2635931614337328366\\\",\\\"id\\\":\\\"17739286764859911367\\\",\\\"type\\\":\\\"observable\\\"},val)) : undefined; return this.valueFromJulia[\\\"changes\\\"]=false}),self),this[\\\"value\\\"].subscribe((function (val){!(this.valueFromJulia[\\\"value\\\"]) ? (WebIO.setval({\\\"name\\\":\\\"value\\\",\\\"scope\\\":\\\"2635931614337328366\\\",\\\"id\\\":\\\"12341229649776336883\\\",\\\"type\\\":\\\"observable\\\"},val)) : undefined; return this.valueFromJulia[\\\"value\\\"]=false}),self)]\\n        \\n    }\\n    self.model = new AppViewModel();\\n    self.valueFromJulia = {};\\n    for (var key in json_data) {\\n        self.valueFromJulia[key] = false;\\n    }\\n    ko.applyBindings(self.model, self.dom);\\n}\\n);\\n    (WebIO.importBlock({\\\"data\\\":[{\\\"name\\\":\\\"knockout\\\",\\\"type\\\":\\\"js\\\",\\\"url\\\":\\\"/assetserver/56267940404f1bb9bd6b6043c448449c1dc073b1-knockout.js\\\"},{\\\"name\\\":\\\"knockout_punches\\\",\\\"type\\\":\\\"js\\\",\\\"url\\\":\\\"/assetserver/0a72c329e1483646114695526feb11064f269228-knockout_punches.js\\\"}],\\\"type\\\":\\\"async_block\\\"})).then((imports) => handler.apply(this, imports));\\n}\\n\")])], Dict{Symbol, Any}(:className => \"field interact-widget\")), WebIO.Node{WebIO.DOM}(WebIO.DOM(:html, :div), Any[WebIO.Scope(WebIO.Node{WebIO.DOM}(WebIO.DOM(:html, :div), Any[WebIO.Node{WebIO.DOM}(WebIO.DOM(:html, :div), Any[WebIO.Node{WebIO.DOM}(WebIO.DOM(:html, :label), Any[\"dh0\"], Dict{Symbol, Any}(:className => \"interact \", :style => Dict{Any, Any}(:padding => \"5px 10px 0px 10px\")))], Dict{Symbol, Any}(:className => \"interact-flex-row-left\")), WebIO.Node{WebIO.DOM}(WebIO.DOM(:html, :div), Any[WebIO.Node{WebIO.DOM}(WebIO.DOM(:html, :input), Any[], Dict{Symbol, Any}(:attributes => Dict{Any, Any}(:type => \"number\", Symbol(\"data-bind\") => \"numericValue: value, valueUpdate: 'input', event: {change: function (){this.changes(this.changes()+1)}}\"), :placeholder => \"\", :className => \"input \", :style => Dict{Any, Any}()))], Dict{Symbol, Any}(:className => \"interact-flex-row-center\")), WebIO.Node{WebIO.DOM}(WebIO.DOM(:html, :div), Any[WebIO.Node{WebIO.DOM}(WebIO.DOM(:html, :div), Any[], Dict{Symbol, Any}())], Dict{Symbol, Any}(:className => \"interact-flex-row-right\"))], Dict{Symbol, Any}(:className => \"interact-flex-row interact-widget\")), Dict{String, Tuple{Observables.AbstractObservable, Union{Nothing, Bool}}}(\"changes\" => (Observable(0), nothing), \"value\" => (Observable{Union{Nothing, Float64}}(0.0), nothing)), Set{String}(), nothing, WebIO.Asset[WebIO.Asset(\"js\", \"knockout\", \"/Users/nishant/.julia/packages/Knockout/HReiN/src/../assets/knockout.js\"), WebIO.Asset(\"js\", \"knockout_punches\", \"/Users/nishant/.julia/packages/Knockout/HReiN/src/../assets/knockout_punches.js\"), WebIO.Asset(\"js\", nothing, \"/Users/nishant/.julia/packages/InteractBase/LJXv3/src/../assets/all.js\"), WebIO.Asset(\"css\", nothing, \"/Users/nishant/.julia/packages/InteractBase/LJXv3/src/../assets/style.css\"), WebIO.Asset(\"css\", nothing, \"/Users/nishant/.julia/packages/Interact/PENUy/src/../assets/bulma_confined.min.css\")], Dict{Any, Any}(\"changes\" => Any[WebIO.JSString(\"(function (val){return (val!=this.model[\\\"changes\\\"]()) ? (this.valueFromJulia[\\\"changes\\\"]=true, this.model[\\\"changes\\\"](val)) : undefined})\")], \"value\" => Any[WebIO.JSString(\"(function (val){return (val!=this.model[\\\"value\\\"]()) ? (this.valueFromJulia[\\\"value\\\"]=true, this.model[\\\"value\\\"](val)) : undefined})\")]), WebIO.ConnectionPool(Channel{Any}(32), Set{WebIO.AbstractConnection}(), Base.GenericCondition{ReentrantLock}(Base.IntrusiveLinkedList{Task}(Task (runnable) @0x000000029192ce20, Task (runnable) @0x000000029192ce20), ReentrantLock(nothing, 0x00000000, 0x00, Base.GenericCondition{Base.Threads.SpinLock}(Base.IntrusiveLinkedList{Task}(nothing, nothing), Base.Threads.SpinLock(0)), (2, 4867724144, 4378870384)))), WebIO.JSString[WebIO.JSString(\"function () {\\n    var handler = (function (ko, koPunches) {\\n    ko.punches.enableAll();\\n    ko.bindingHandlers.numericValue = {\\n        init: function(element, valueAccessor, allBindings, data, context) {\\n            var stringified = ko.observable(ko.unwrap(valueAccessor()));\\n            stringified.subscribe(function(value) {\\n                var val = parseFloat(value);\\n                if (!isNaN(val)) {\\n                    valueAccessor()(val);\\n                }\\n            });\\n            valueAccessor().subscribe(function(value) {\\n                var str = JSON.stringify(value);\\n                if ((str == \\\"0\\\") && ([\\\"-0\\\", \\\"-0.\\\"].indexOf(stringified()) >= 0))\\n                     return;\\n                 if ([\\\"null\\\", \\\"\\\"].indexOf(str) >= 0)\\n                     return;\\n                stringified(str);\\n            });\\n            ko.applyBindingsToNode(\\n                element,\\n                {\\n                    value: stringified,\\n                    valueUpdate: allBindings.get('valueUpdate'),\\n                },\\n                context,\\n            );\\n        }\\n    };\\n    var json_data = {\\\"changes\\\":WebIO.getval({\\\"name\\\":\\\"changes\\\",\\\"scope\\\":\\\"1981712881869858617\\\",\\\"id\\\":\\\"11676623740762773728\\\",\\\"type\\\":\\\"observable\\\"}),\\\"value\\\":WebIO.getval({\\\"name\\\":\\\"value\\\",\\\"scope\\\":\\\"1981712881869858617\\\",\\\"id\\\":\\\"6109526567632388629\\\",\\\"type\\\":\\\"observable\\\"})};\\n    var self = this;\\n    function AppViewModel() {\\n        for (var key in json_data) {\\n            var el = json_data[key];\\n            this[key] = Array.isArray(el) ? ko.observableArray(el) : ko.observable(el);\\n        }\\n        \\n        \\n        [this[\\\"changes\\\"].subscribe((function (val){!(this.valueFromJulia[\\\"changes\\\"]) ? (WebIO.setval({\\\"name\\\":\\\"changes\\\",\\\"scope\\\":\\\"1981712881869858617\\\",\\\"id\\\":\\\"11676623740762773728\\\",\\\"type\\\":\\\"observable\\\"},val)) : undefined; return this.valueFromJulia[\\\"changes\\\"]=false}),self),this[\\\"value\\\"].subscribe((function (val){!(this.valueFromJulia[\\\"value\\\"]) ? (WebIO.setval({\\\"name\\\":\\\"value\\\",\\\"scope\\\":\\\"1981712881869858617\\\",\\\"id\\\":\\\"6109526567632388629\\\",\\\"type\\\":\\\"observable\\\"},val)) : undefined; return this.valueFromJulia[\\\"value\\\"]=false}),self)]\\n        \\n    }\\n    self.model = new AppViewModel();\\n    self.valueFromJulia = {};\\n    for (var key in json_data) {\\n        self.valueFromJulia[key] = false;\\n    }\\n    ko.applyBindings(self.model, self.dom);\\n}\\n);\\n    (WebIO.importBlock({\\\"data\\\":[{\\\"name\\\":\\\"knockout\\\",\\\"type\\\":\\\"js\\\",\\\"url\\\":\\\"/assetserver/56267940404f1bb9bd6b6043c448449c1dc073b1-knockout.js\\\"},{\\\"name\\\":\\\"knockout_punches\\\",\\\"type\\\":\\\"js\\\",\\\"url\\\":\\\"/assetserver/0a72c329e1483646114695526feb11064f269228-knockout_punches.js\\\"}],\\\"type\\\":\\\"async_block\\\"})).then((imports) => handler.apply(this, imports));\\n}\\n\")])], Dict{Symbol, Any}(:className => \"field interact-widget\")), WebIO.Node{WebIO.DOM}(WebIO.DOM(:html, :div), Any[WebIO.Scope(WebIO.Node{WebIO.DOM}(WebIO.DOM(:html, :div), Any[WebIO.Node{WebIO.DOM}(WebIO.DOM(:html, :div), Any[WebIO.Node{WebIO.DOM}(WebIO.DOM(:html, :label), Any[\"dh1\"], Dict{Symbol, Any}(:className => \"interact \", :style => Dict{Any, Any}(:padding => \"5px 10px 0px 10px\")))], Dict{Symbol, Any}(:className => \"interact-flex-row-left\")), WebIO.Node{WebIO.DOM}(WebIO.DOM(:html, :div), Any[WebIO.Node{WebIO.DOM}(WebIO.DOM(:html, :input), Any[], Dict{Symbol, Any}(:attributes => Dict{Any, Any}(:type => \"number\", Symbol(\"data-bind\") => \"numericValue: value, valueUpdate: 'input', event: {change: function (){this.changes(this.changes()+1)}}\"), :placeholder => \"\", :className => \"input \", :style => Dict{Any, Any}()))], Dict{Symbol, Any}(:className => \"interact-flex-row-center\")), WebIO.Node{WebIO.DOM}(WebIO.DOM(:html, :div), Any[WebIO.Node{WebIO.DOM}(WebIO.DOM(:html, :div), Any[], Dict{Symbol, Any}())], Dict{Symbol, Any}(:className => \"interact-flex-row-right\"))], Dict{Symbol, Any}(:className => \"interact-flex-row interact-widget\")), Dict{String, Tuple{Observables.AbstractObservable, Union{Nothing, Bool}}}(\"changes\" => (Observable(0), nothing), \"value\" => (Observable{Union{Nothing, Float64}}(0.0), nothing)), Set{String}(), nothing, WebIO.Asset[WebIO.Asset(\"js\", \"knockout\", \"/Users/nishant/.julia/packages/Knockout/HReiN/src/../assets/knockout.js\"), WebIO.Asset(\"js\", \"knockout_punches\", \"/Users/nishant/.julia/packages/Knockout/HReiN/src/../assets/knockout_punches.js\"), WebIO.Asset(\"js\", nothing, \"/Users/nishant/.julia/packages/InteractBase/LJXv3/src/../assets/all.js\"), WebIO.Asset(\"css\", nothing, \"/Users/nishant/.julia/packages/InteractBase/LJXv3/src/../assets/style.css\"), WebIO.Asset(\"css\", nothing, \"/Users/nishant/.julia/packages/Interact/PENUy/src/../assets/bulma_confined.min.css\")], Dict{Any, Any}(\"changes\" => Any[WebIO.JSString(\"(function (val){return (val!=this.model[\\\"changes\\\"]()) ? (this.valueFromJulia[\\\"changes\\\"]=true, this.model[\\\"changes\\\"](val)) : undefined})\")], \"value\" => Any[WebIO.JSString(\"(function (val){return (val!=this.model[\\\"value\\\"]()) ? (this.valueFromJulia[\\\"value\\\"]=true, this.model[\\\"value\\\"](val)) : undefined})\")]), WebIO.ConnectionPool(Channel{Any}(32), Set{WebIO.AbstractConnection}(), Base.GenericCondition{ReentrantLock}(Base.IntrusiveLinkedList{Task}(Task (runnable) @0x000000029192f9e0, Task (runnable) @0x000000029192f9e0), ReentrantLock(nothing, 0x00000000, 0x00, Base.GenericCondition{Base.Threads.SpinLock}(Base.IntrusiveLinkedList{Task}(nothing, nothing), Base.Threads.SpinLock(0)), (8, 0, 141733920768)))), WebIO.JSString[WebIO.JSString(\"function () {\\n    var handler = (function (ko, koPunches) {\\n    ko.punches.enableAll();\\n    ko.bindingHandlers.numericValue = {\\n        init: function(element, valueAccessor, allBindings, data, context) {\\n            var stringified = ko.observable(ko.unwrap(valueAccessor()));\\n            stringified.subscribe(function(value) {\\n                var val = parseFloat(value);\\n                if (!isNaN(val)) {\\n                    valueAccessor()(val);\\n                }\\n            });\\n            valueAccessor().subscribe(function(value) {\\n                var str = JSON.stringify(value);\\n                if ((str == \\\"0\\\") && ([\\\"-0\\\", \\\"-0.\\\"].indexOf(stringified()) >= 0))\\n                     return;\\n                 if ([\\\"null\\\", \\\"\\\"].indexOf(str) >= 0)\\n                     return;\\n                stringified(str);\\n            });\\n            ko.applyBindingsToNode(\\n                element,\\n                {\\n                    value: stringified,\\n                    valueUpdate: allBindings.get('valueUpdate'),\\n                },\\n                context,\\n            );\\n        }\\n    };\\n    var json_data = {\\\"changes\\\":WebIO.getval({\\\"name\\\":\\\"changes\\\",\\\"scope\\\":\\\"10980076276381645781\\\",\\\"id\\\":\\\"4446414484945878832\\\",\\\"type\\\":\\\"observable\\\"}),\\\"value\\\":WebIO.getval({\\\"name\\\":\\\"value\\\",\\\"scope\\\":\\\"10980076276381645781\\\",\\\"id\\\":\\\"5247328824056903330\\\",\\\"type\\\":\\\"observable\\\"})};\\n    var self = this;\\n    function AppViewModel() {\\n        for (var key in json_data) {\\n            var el = json_data[key];\\n            this[key] = Array.isArray(el) ? ko.observableArray(el) : ko.observable(el);\\n        }\\n        \\n        \\n        [this[\\\"changes\\\"].subscribe((function (val){!(this.valueFromJulia[\\\"changes\\\"]) ? (WebIO.setval({\\\"name\\\":\\\"changes\\\",\\\"scope\\\":\\\"10980076276381645781\\\",\\\"id\\\":\\\"4446414484945878832\\\",\\\"type\\\":\\\"observable\\\"},val)) : undefined; return this.valueFromJulia[\\\"changes\\\"]=false}),self),this[\\\"value\\\"].subscribe((function (val){!(this.valueFromJulia[\\\"value\\\"]) ? (WebIO.setval({\\\"name\\\":\\\"value\\\",\\\"scope\\\":\\\"10980076276381645781\\\",\\\"id\\\":\\\"5247328824056903330\\\",\\\"type\\\":\\\"observable\\\"},val)) : undefined; return this.valueFromJulia[\\\"value\\\"]=false}),self)]\\n        \\n    }\\n    self.model = new AppViewModel();\\n    self.valueFromJulia = {};\\n    for (var key in json_data) {\\n        self.valueFromJulia[key] = false;\\n    }\\n    ko.applyBindings(self.model, self.dom);\\n}\\n);\\n    (WebIO.importBlock({\\\"data\\\":[{\\\"name\\\":\\\"knockout\\\",\\\"type\\\":\\\"js\\\",\\\"url\\\":\\\"/assetserver/56267940404f1bb9bd6b6043c448449c1dc073b1-knockout.js\\\"},{\\\"name\\\":\\\"knockout_punches\\\",\\\"type\\\":\\\"js\\\",\\\"url\\\":\\\"/assetserver/0a72c329e1483646114695526feb11064f269228-knockout_punches.js\\\"}],\\\"type\\\":\\\"async_block\\\"})).then((imports) => handler.apply(this, imports));\\n}\\n\")])], Dict{Symbol, Any}(:className => \"field interact-widget\")), WebIO.Node{WebIO.DOM}(WebIO.DOM(:html, :div), Any[WebIO.Scope(WebIO.Node{WebIO.DOM}(WebIO.DOM(:html, :div), Any[WebIO.Node{WebIO.DOM}(WebIO.DOM(:html, :div), Any[WebIO.Node{WebIO.DOM}(WebIO.DOM(:html, :label), Any[\"pra\"], Dict{Symbol, Any}(:className => \"interact \", :style => Dict{Any, Any}(:padding => \"5px 10px 0px 10px\")))], Dict{Symbol, Any}(:className => \"interact-flex-row-left\")), WebIO.Node{WebIO.DOM}(WebIO.DOM(:html, :div), Any[WebIO.Node{WebIO.DOM}(WebIO.DOM(:html, :div), Any[WebIO.Node{WebIO.DOM}(WebIO.DOM(:html, :span), Any[WebIO.Node{WebIO.DOM}(WebIO.DOM(:html, :label), Any[], Dict{Symbol, Any}(:attributes => Dict(\"data-bind\" => \"text : key\")))], Dict{Symbol, Any}(:attributes => Dict(\"data-bind\" => \"click: function (){\\$root.update(val)}, css: {'is-primary is-selected' : \\$root.index() == val, 'interact-widget is-medium button ' : true}\")))], Dict{Symbol, Any}(:attributes => (\"data-bind\" => \"foreach : options_js\"), :className => \"buttons has-addons is-centered\"))], Dict{Symbol, Any}(:className => \"interact-flex-row-center\")), WebIO.Node{WebIO.DOM}(WebIO.DOM(:html, :div), Any[WebIO.Node{WebIO.DOM}(WebIO.DOM(:html, :div), Any[], Dict{Symbol, Any}())], Dict{Symbol, Any}(:className => \"interact-flex-row-right\"))], Dict{Symbol, Any}(:className => \"interact-flex-row interact-widget\")), Dict{String, Tuple{Observables.AbstractObservable, Union{Nothing, Bool}}}(\"options_js\" => (Observable(OrderedCollections.OrderedDict[OrderedCollections.OrderedDict{String, Any}(\"key\" => \"COC\", \"val\" => 1, \"id\" => \"idVoShtLxK\"), OrderedCollections.OrderedDict{String, Any}(\"key\" => \"DNC\", \"val\" => 2, \"id\" => \"id0pZlmy0p\"), OrderedCollections.OrderedDict{String, Any}(\"key\" => \"DND\", \"val\" => 3, \"id\" => \"idzXiU4qJo\"), OrderedCollections.OrderedDict{String, Any}(\"key\" => \"DES1500\", \"val\" => 4, \"id\" => \"idtZ2iMKU3\"), OrderedCollections.OrderedDict{String, Any}(\"key\" => \"CL1500\", \"val\" => 5, \"id\" => \"idUHZM6BBk\"), OrderedCollections.OrderedDict{String, Any}(\"key\" => \"SDES1500\", \"val\" => 6, \"id\" => \"idAvFAVrwo\"), OrderedCollections.OrderedDict{String, Any}(\"key\" => \"SCL1500\", \"val\" => 7, \"id\" => \"idSS5x6elp\"), OrderedCollections.OrderedDict{String, Any}(\"key\" => \"SDES2500\", \"val\" => 8, \"id\" => \"idn0sxdDKi\"), OrderedCollections.OrderedDict{String, Any}(\"key\" => \"SCL2500\", \"val\" => 9, \"id\" => \"idjLz9FF7U\")]), nothing), \"index\" => (Observable{Any}(1), nothing)), Set{String}(), nothing, WebIO.Asset[WebIO.Asset(\"js\", \"knockout\", \"/Users/nishant/.julia/packages/Knockout/HReiN/src/../assets/knockout.js\"), WebIO.Asset(\"js\", \"knockout_punches\", \"/Users/nishant/.julia/packages/Knockout/HReiN/src/../assets/knockout_punches.js\"), WebIO.Asset(\"js\", nothing, \"/Users/nishant/.julia/packages/InteractBase/LJXv3/src/../assets/all.js\"), WebIO.Asset(\"css\", nothing, \"/Users/nishant/.julia/packages/InteractBase/LJXv3/src/../assets/style.css\"), WebIO.Asset(\"css\", nothing, \"/Users/nishant/.julia/packages/Interact/PENUy/src/../assets/bulma_confined.min.css\")], Dict{Any, Any}(\"options_js\" => Any[WebIO.JSString(\"(function (val){return (val!=this.model[\\\"options_js\\\"]()) ? (this.valueFromJulia[\\\"options_js\\\"]=true, this.model[\\\"options_js\\\"](val)) : undefined})\")], \"index\" => Any[WebIO.JSString(\"(function (val){return (val!=this.model[\\\"index\\\"]()) ? (this.valueFromJulia[\\\"index\\\"]=true, this.model[\\\"index\\\"](val)) : undefined})\")]), WebIO.ConnectionPool(Channel{Any}(32), Set{WebIO.AbstractConnection}(), Base.GenericCondition{ReentrantLock}(Base.IntrusiveLinkedList{Task}(Task (runnable) @0x000000010e4b3080, Task (runnable) @0x000000010e4b3080), ReentrantLock(nothing, 0x00000000, 0x00, Base.GenericCondition{Base.Threads.SpinLock}(Base.IntrusiveLinkedList{Task}(nothing, nothing), Base.Threads.SpinLock(0)), (1, 11049754992, 141733920768)))), WebIO.JSString[WebIO.JSString(\"function () {\\n    var handler = (function (ko, koPunches) {\\n    ko.punches.enableAll();\\n    ko.bindingHandlers.numericValue = {\\n        init: function(element, valueAccessor, allBindings, data, context) {\\n            var stringified = ko.observable(ko.unwrap(valueAccessor()));\\n            stringified.subscribe(function(value) {\\n                var val = parseFloat(value);\\n                if (!isNaN(val)) {\\n                    valueAccessor()(val);\\n                }\\n            });\\n            valueAccessor().subscribe(function(value) {\\n                var str = JSON.stringify(value);\\n                if ((str == \\\"0\\\") && ([\\\"-0\\\", \\\"-0.\\\"].indexOf(stringified()) >= 0))\\n                     return;\\n                 if ([\\\"null\\\", \\\"\\\"].indexOf(str) >= 0)\\n                     return;\\n                stringified(str);\\n            });\\n            ko.applyBindingsToNode(\\n                element,\\n                {\\n                    value: stringified,\\n                    valueUpdate: allBindings.get('valueUpdate'),\\n                },\\n                context,\\n            );\\n        }\\n    };\\n    var json_data = {\\\"options_js\\\":WebIO.getval({\\\"name\\\":\\\"options_js\\\",\\\"scope\\\":\\\"18331174340368262663\\\",\\\"id\\\":\\\"7057672271981364194\\\",\\\"type\\\":\\\"observable\\\"}),\\\"index\\\":WebIO.getval({\\\"name\\\":\\\"index\\\",\\\"scope\\\":\\\"18331174340368262663\\\",\\\"id\\\":\\\"13507286666094509102\\\",\\\"type\\\":\\\"observable\\\"})};\\n    var self = this;\\n    function AppViewModel() {\\n        for (var key in json_data) {\\n            var el = json_data[key];\\n            this[key] = Array.isArray(el) ? ko.observableArray(el) : ko.observable(el);\\n        }\\n        [this[\\\"update\\\"]=function (val) {this.index(val)}]\\n        \\n        [this[\\\"options_js\\\"].subscribe((function (val){!(this.valueFromJulia[\\\"options_js\\\"]) ? (WebIO.setval({\\\"name\\\":\\\"options_js\\\",\\\"scope\\\":\\\"18331174340368262663\\\",\\\"id\\\":\\\"7057672271981364194\\\",\\\"type\\\":\\\"observable\\\"},val)) : undefined; return this.valueFromJulia[\\\"options_js\\\"]=false}),self),this[\\\"index\\\"].subscribe((function (val){!(this.valueFromJulia[\\\"index\\\"]) ? (WebIO.setval({\\\"name\\\":\\\"index\\\",\\\"scope\\\":\\\"18331174340368262663\\\",\\\"id\\\":\\\"13507286666094509102\\\",\\\"type\\\":\\\"observable\\\"},val)) : undefined; return this.valueFromJulia[\\\"index\\\"]=false}),self)]\\n        \\n    }\\n    self.model = new AppViewModel();\\n    self.valueFromJulia = {};\\n    for (var key in json_data) {\\n        self.valueFromJulia[key] = false;\\n    }\\n    ko.applyBindings(self.model, self.dom);\\n}\\n);\\n    (WebIO.importBlock({\\\"data\\\":[{\\\"name\\\":\\\"knockout\\\",\\\"type\\\":\\\"js\\\",\\\"url\\\":\\\"/assetserver/56267940404f1bb9bd6b6043c448449c1dc073b1-knockout.js\\\"},{\\\"name\\\":\\\"knockout_punches\\\",\\\"type\\\":\\\"js\\\",\\\"url\\\":\\\"/assetserver/0a72c329e1483646114695526feb11064f269228-knockout_punches.js\\\"}],\\\"type\\\":\\\"async_block\\\"})).then((imports) => handler.apply(this, imports));\\n}\\n\")])], Dict{Symbol, Any}(:className => \"interact-widget\")), Observable(WebIO.Node{WebIO.DOM}(WebIO.DOM(:html, :div), Any[PGFPlots.GroupPlot(PGFPlots.Axis[PGFPlots.Axis(PGFPlots.Plots.Plot[PGFPlots.Plots.Image(\"tmp_10000000000001.png\", 0.0, 40.0, -1000.0, 1000.0, 1, 9, nothing, false, nothing, PGFPlots.ColorMaps.RGBArrayMap(ColorTypes.RGB{Float64}[RGB{Float64}(1.0,1.0,1.0), RGB{Float64}(0.0,1.0,1.0), RGB{Float64}(0.5647058823529412,0.9333333333333333,0.5647058823529412), RGB{Float64}(0.11764705882352941,0.5647058823529412,1.0), RGB{Float64}(0.0,1.0,0.0), RGB{Float64}(0.0,0.0,1.0), RGB{Float64}(0.13333333333333333,0.5450980392156862,0.13333333333333333), RGB{Float64}(0.0,0.0,0.5019607843137255), RGB{Float64}(0.0,0.39215686274509803,0.0)], 0x0000000000000000), nothing, nothing)], \"Original Table Advisories\", \"Tau (s)\", nothing, \"Relative Alt (ft)\", nothing, nothing, nothing, 0.0, 40.0, -1000.0, 1000.0, nothing, nothing, nothing, nothing, nothing, \"10cm\", \"8cm\", nothing, nothing, nothing, nothing, nothing, nothing, nothing, nothing, nothing, \"axis\"), PGFPlots.Axis(PGFPlots.Plots.Plot[PGFPlots.Plots.Image(\"tmp_10000000000002.png\", 0.0, 40.0, -1000.0, 1000.0, 1, 9, nothing, false, nothing, PGFPlots.ColorMaps.RGBArrayMap(ColorTypes.RGB{Float64}[RGB{Float64}(1.0,1.0,1.0), RGB{Float64}(0.0,1.0,1.0), RGB{Float64}(0.5647058823529412,0.9333333333333333,0.5647058823529412), RGB{Float64}(0.11764705882352941,0.5647058823529412,1.0), RGB{Float64}(0.0,1.0,0.0), RGB{Float64}(0.0,0.0,1.0), RGB{Float64}(0.13333333333333333,0.5450980392156862,0.13333333333333333), RGB{Float64}(0.0,0.0,0.5019607843137255), RGB{Float64}(0.0,0.39215686274509803,0.0)], 0x0000000000000000), nothing, nothing)], \"Neural Network Advisories\", \"Tau (s)\", nothing, \"Relative Alt (ft)\", nothing, nothing, nothing, 0.0, 40.0, -1000.0, 1000.0, nothing, nothing, nothing, nothing, nothing, \"10cm\", \"8cm\", nothing, nothing, nothing, nothing, nothing, nothing, nothing, nothing, nothing, \"axis\"), PGFPlots.Axis(PGFPlots.Plots.Plot[PGFPlots.Plots.Image(\"tmp_10000000000003.png\", -2, 2, -2, 2, -2.0, 2.0, nothing, false, nothing, PGFPlots.ColorMaps.RGBArrayMap(ColorTypes.RGB{Float64}[RGB{Float64}(1.0,1.0,1.0)], 0x0000000000000000), nothing, nothing), PGFPlots.Plots.Image(\"tmp_10000000000004.png\", -2, 2, -2, 2, -2.0, 2.0, nothing, true, nothing, PGFPlots.ColorMaps.GrayMap(false), nothing, nothing), PGFPlots.Plots.Node(\"RA 1: COC \", \"black,anchor=west\", 0.15, 0.915, \"axis description cs\", nothing), PGFPlots.Plots.Node(\"RA 2: DNC \", \"black,anchor=west\", 0.15, 0.79, \"axis description cs\", nothing), PGFPlots.Plots.Node(\"RA 3: DND\", \"black,anchor=west\", 0.15, 0.665, \"axis description cs\", nothing), PGFPlots.Plots.Node(\"RA 4: DES15000\", \"black,anchor=west\", 0.15, 0.54, \"axis description cs\", nothing), PGFPlots.Plots.Node(\"RA 5: CL1500 \", \"black,anchor=west\", 0.15, 0.415, \"axis description cs\", nothing), PGFPlots.Plots.Node(\"RA 6: SDES1500\", \"black,anchor=west\", 0.15, 0.29, \"axis description cs\", nothing), PGFPlots.Plots.Node(\"RA 7: SCL1500\", \"black,anchor=west\", 0.15, 0.165, \"axis description cs\", nothing), PGFPlots.Plots.Node(\"RA 8:  SDES2500\", \"black,anchor=west\", 0.63, 0.915, \"axis description cs\", nothing), PGFPlots.Plots.Node(\"RA 9:  SCL2500\", \"black,anchor=west\", 0.63, 0.79, \"axis description cs\", nothing)], \"KEY\", nothing, nothing, nothing, nothing, nothing, nothing, nothing, nothing, nothing, nothing, nothing, nothing, nothing, nothing, nothing, \"10cm\", \"8cm\", nothing, nothing, nothing, nothing, nothing, nothing, nothing, true, nothing, \"axis\")], (3, 1), \"height={8cm}, width={8cm}\", \"horizontal sep=2cm\")], Dict{Symbol, Any}(:className => \"interact-flex-row interact-widget\")))], Dict{Symbol, Any}())"
      ]
     },
     "execution_count": 2,
     "metadata": {
      "@webio": {
       "kernelId": "5a7e6f93-4cc7-410d-b1b8-8165fd7ddc17"
      }
     },
     "output_type": "execute_result"
    }
   ],
   "source": [
    "network_folder =  \"../networks\"\n",
    "trainingData_folder = \"../TrainingData/\"\n",
    "vnum = 4\n",
    "hu = 45\n",
    "epoch =  10\n",
    "viz_policy(network_folder,trainingData_folder,vnum,hu,epoch)"
   ]
  },
  {
   "cell_type": "code",
   "execution_count": null,
   "metadata": {},
   "outputs": [],
   "source": []
  }
 ],
 "metadata": {
  "@webio": {
   "lastCommId": "1ef07287-32c3-40c8-891b-bafaf0d62aca",
   "lastKernelId": "803d1444-553d-420c-8cf0-7c24927208d5"
  },
  "kernelspec": {
   "display_name": "Julia 1.9.1",
   "language": "julia",
   "name": "julia-1.9"
  },
  "language_info": {
   "file_extension": ".jl",
   "mimetype": "application/julia",
   "name": "julia",
   "version": "1.9.1"
  },
  "widgets": {
   "state": {
    "13a9afde-6c0d-4855-b1ad-e7d56d92826b": {
     "views": [
      {
       "cell_index": 3
      }
     ]
    },
    "17ea7b51-dbfe-49df-8eda-c5259c5a841a": {
     "views": [
      {
       "cell_index": 3
      }
     ]
    },
    "2c968cdc-2c19-43a3-a497-5b410004624b": {
     "views": [
      {
       "cell_index": 3
      }
     ]
    },
    "77e925a0-5aae-4177-b7b2-4623d8469a8a": {
     "views": [
      {
       "cell_index": 3
      }
     ]
    },
    "916fc52d-a5e8-44b9-9d3f-61380872e4d6": {
     "views": [
      {
       "cell_index": 3
      }
     ]
    },
    "9e45b8d8-3c73-432e-ad10-853d870fe4ca": {
     "views": [
      {
       "cell_index": 3
      }
     ]
    },
    "a161c1f5-ac0b-40d9-986e-186ec02cab98": {
     "views": [
      {
       "cell_index": 3
      }
     ]
    },
    "ba2438de-2d56-49c1-90a9-aa349c612393": {
     "views": [
      {
       "cell_index": 3
      }
     ]
    },
    "c1317d5e-2ed8-4d7b-bb60-6eacc1bab986": {
     "views": [
      {
       "cell_index": 3
      }
     ]
    },
    "d27e6b74-e176-4419-9bd9-8bdacaaa8431": {
     "views": [
      {
       "cell_index": 3
      }
     ]
    },
    "d94f1767-8ba2-4c0a-8d1b-f4970c328823": {
     "views": [
      {
       "cell_index": 3
      }
     ]
    },
    "f8ede400-8d84-4a58-a4f9-68ec4e131ced": {
     "views": [
      {
       "cell_index": 3
      }
     ]
    }
   },
   "version": "1.2.0"
  }
 },
 "nbformat": 4,
 "nbformat_minor": 4
}
