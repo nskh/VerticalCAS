{
 "cells": [
  {
   "cell_type": "markdown",
   "id": "33b4830f-0c49-4d1e-96f0-098cfcd896f4",
   "metadata": {},
   "source": [
    "# Imports"
   ]
  },
  {
   "cell_type": "code",
   "execution_count": null,
   "id": "4b2078d2-a348-4fee-8e64-f105ac7c36fd",
   "metadata": {},
   "outputs": [],
   "source": [
    "%load_ext autoreload\n",
    "%autoreload 2"
   ]
  },
  {
   "cell_type": "code",
   "execution_count": null,
   "id": "82055deb-6bd5-431e-8f39-ee22545c7e4f",
   "metadata": {},
   "outputs": [],
   "source": [
    "import numpy as np\n",
    "import cvxpy as cp\n",
    "import math\n",
    "import tensorflow as tf\n",
    "import keras\n",
    "from keras.models import Sequential, load_model\n",
    "from keras.layers import Dense, Dropout, Activation\n",
    "import h5py\n",
    "from keras.optimizers import Adamax, Nadam\n",
    "import sys\n",
    "import time\n",
    "from writeNNet import saveNNet\n",
    "\n",
    "from interval import interval, inf\n",
    "\n",
    "from safe_train import propagate_interval, project_weights"
   ]
  },
  {
   "cell_type": "markdown",
   "id": "adfdd32e-bd90-4801-8a94-29d6b7efb5e1",
   "metadata": {},
   "source": [
    "# Constants"
   ]
  },
  {
   "cell_type": "code",
   "execution_count": null,
   "id": "1e736877-55b3-4a94-89a5-260bae764a9c",
   "metadata": {},
   "outputs": [],
   "source": [
    "######## OPTIONS #########\n",
    "ver = 4  # Neural network version\n",
    "hu = 45  # Number of hidden units in each hidden layer in network\n",
    "saveEvery = 1  # Epoch frequency of saving\n",
    "totalEpochs = 1  # Total number of training epochs\n",
    "BATCH_SIZE = 2**8\n",
    "EPOCH_TO_PROJECT = 5\n",
    "trainingDataFiles = (\n",
    "    \"../TrainingData/VertCAS_TrainingData_v2_%02d.h5\"  # File format for training data\n",
    ")\n",
    "nnetFiles = (\n",
    "    \"../networks/VertCAS_pra%02d_v%d_45HU_%03d.nnet\"  # File format for .nnet files\n",
    ")\n",
    "########################"
   ]
  },
  {
   "cell_type": "code",
   "execution_count": null,
   "id": "b881f3bc-2631-4b72-9d37-03cc37e7ffa4",
   "metadata": {},
   "outputs": [],
   "source": [
    "pra = 1\n",
    "\n",
    "# ADVISORY INDICES\n",
    "COC=0\n",
    "DNC=1\n",
    "DND=2\n",
    "DES1500 = 3\n",
    "CL1500 = 4\n",
    "SDES1500=5\n",
    "SCL1500=6\n",
    "SDES2500=7\n",
    "SCL2500=8\n",
    "\n",
    "advisories = {\n",
    "    \"COC\": 0,\n",
    "    \"DNC\": 1,\n",
    "    \"DND\": 2,\n",
    "    \"DES1500\": 3,\n",
    "    \"CL1500\": 4,\n",
    "    \"SDES1500\": 5,\n",
    "    \"SCL1500\": 6,\n",
    "    \"SDES2500\": 7,\n",
    "    \"SCL2500\": 8,\n",
    "}"
   ]
  },
  {
   "cell_type": "code",
   "execution_count": null,
   "id": "d7a355cf-0032-4741-81a9-90d174bf7e4a",
   "metadata": {},
   "outputs": [],
   "source": [
    "print(\"Loading Data for VertCAS, pra %02d, Network Version %d\" % (pra, ver))\n",
    "f = h5py.File(trainingDataFiles % pra, \"r\")\n",
    "X_train = np.array(f[\"X\"])\n",
    "Q = np.array(f[\"y\"])\n",
    "means = np.array(f[\"means\"])\n",
    "ranges = np.array(f[\"ranges\"])\n",
    "min_inputs = np.array(f[\"min_inputs\"])\n",
    "max_inputs = np.array(f[\"max_inputs\"])\n",
    "print(f\"min inputs: {min_inputs}\")\n",
    "print(f\"max inputs: {max_inputs}\")\n",
    "\n",
    "N, numOut = Q.shape\n",
    "print(f\"Setting up model with {numOut} outputs and {N} training examples\")\n",
    "num_batches = N / BATCH_SIZE"
   ]
  },
  {
   "cell_type": "markdown",
   "id": "e9076277-d488-4232-92e1-58ac288af62a",
   "metadata": {},
   "source": [
    "# Train"
   ]
  },
  {
   "cell_type": "code",
   "execution_count": null,
   "id": "b8dafbd6-cf13-40e8-885c-94a5a9a1e7d4",
   "metadata": {},
   "outputs": [],
   "source": [
    "# Asymmetric loss function\n",
    "lossFactor = 40.0\n",
    "\n",
    "# NOTE(nskh): from HorizontalCAS which was updated to use TF\n",
    "def asymMSE(y_true, y_pred):\n",
    "    d = y_true - y_pred\n",
    "    maxes = tf.argmax(y_true, axis=1)\n",
    "    maxes_onehot = tf.one_hot(maxes, numOut)\n",
    "    others_onehot = maxes_onehot - 1\n",
    "    d_opt = d * maxes_onehot\n",
    "    d_sub = d * others_onehot\n",
    "    a = lossFactor * (numOut - 1) * (tf.square(d_opt) + tf.abs(d_opt))\n",
    "    b = tf.square(d_opt)\n",
    "    c = lossFactor * (tf.square(d_sub) + tf.abs(d_sub))\n",
    "    d = tf.square(d_sub)\n",
    "    loss = tf.where(d_sub > 0, c, d) + tf.where(d_opt > 0, a, b)\n",
    "    return tf.reduce_mean(loss)\n",
    "\n",
    "# Define model architecture\n",
    "model = Sequential()\n",
    "model.add(Dense(hu, activation=\"relu\", input_dim=4))\n",
    "model.add(Dense(hu, activation=\"relu\"))\n",
    "model.add(Dense(hu, activation=\"relu\"))\n",
    "model.add(Dense(hu, activation=\"relu\"))\n",
    "model.add(Dense(hu, activation=\"relu\"))\n",
    "model.add(Dense(hu, activation=\"relu\"))\n",
    "\n",
    "# model.add(Dense(numOut, init=\"uniform\"))\n",
    "model.add(Dense(numOut))\n",
    "opt = Nadam(learning_rate=0.0003)\n",
    "model.compile(loss=asymMSE, optimizer=opt, metrics=[\"accuracy\"])\n",
    "\n",
    "for epoch in range(totalEpochs):\n",
    "    # if epoch % 5 == 0:\n",
    "    print(f\"on epoch {epoch}\")\n",
    "\n",
    "    rng = np.random.default_rng()\n",
    "\n",
    "    train_indices = np.arange(X_train.shape[0])\n",
    "\n",
    "    rng.shuffle(train_indices)  # in-place\n",
    "\n",
    "    x_shuffled = X_train[train_indices, :]\n",
    "    y_shuffled = Q[train_indices, :]\n",
    "\n",
    "    x_batched = np.split(\n",
    "        x_shuffled, np.arange(BATCH_SIZE, len(x_shuffled), BATCH_SIZE)\n",
    "    )\n",
    "    y_batched = np.split(\n",
    "        y_shuffled, np.arange(BATCH_SIZE, len(y_shuffled), BATCH_SIZE)\n",
    "    )\n",
    "\n",
    "    dataset_batched = list(zip(x_batched, y_batched))\n",
    "    for step, (x_batch_train, y_batch_train) in enumerate(dataset_batched):\n",
    "        if step % int(num_batches / 100) == 0:\n",
    "            print(\n",
    "                f\"{np.round(step / num_batches * 100, 2)}% through this epoch\\r\",\n",
    "                end=\"\",\n",
    "            )\n",
    "        with tf.GradientTape() as tape:\n",
    "            y_pred = model(x_batch_train, training=True)  # Forward pass\n",
    "            # Compute the loss value\n",
    "            # (the loss function is configured in `compile()`)\n",
    "            loss = asymMSE(y_batch_train, y_pred)\n",
    "\n",
    "        # Compute gradients\n",
    "        trainable_vars = model.trainable_variables\n",
    "        gradients = tape.gradient(loss, trainable_vars)\n",
    "        # Update weights\n",
    "        opt.apply_gradients(zip(gradients, trainable_vars))\n",
    "\n",
    "    # Parameters:\n",
    "    # - h (ft): Altitude of intruder relative to ownship, [-8000, 8000]\n",
    "    # - vO (ft/s): ownship vertical climb rate, [-100, 100]\n",
    "    # - vI (ft/s): intruder vertical climb rate, [-100, 100]\n",
    "    # - τ (sec): time to loss of horizontal separation\n",
    "    output_interval, penultimate_interval = propagate_interval(\n",
    "        [\n",
    "            interval[7880, 7900],\n",
    "            interval[95, 96],\n",
    "            interval[5, 6],\n",
    "            interval[38, 40],\n",
    "        ],\n",
    "        model,\n",
    "        graph=False,\n",
    "    )"
   ]
  },
  {
   "cell_type": "code",
   "execution_count": null,
   "id": "81e7cfc2-4e60-48bc-b407-351e756bfd5a",
   "metadata": {},
   "outputs": [],
   "source": [
    "advisories"
   ]
  },
  {
   "cell_type": "code",
   "execution_count": null,
   "id": "453d0654-7892-4461-aa31-01242a71255e",
   "metadata": {},
   "outputs": [],
   "source": [
    "# COC high, SDES2500 low\n",
    "desired_interval = [interval[7000, 15000],  # COC\n",
    "                    None,           # DNC\n",
    "                    None,           # DND\n",
    "                    None,           # DES1500\n",
    "                    None,           # CL1500\n",
    "                    None,           # SDES1500\n",
    "                    None,           # SCL1500\n",
    "                    interval[-2000, 6000],  # SDES2500\n",
    "                    None,           # SCL2500\n",
    "                   ]"
   ]
  },
  {
   "cell_type": "code",
   "execution_count": null,
   "id": "2f787205-3385-4b7d-9563-218fff94c469",
   "metadata": {},
   "outputs": [],
   "source": [
    "def check_intervals(output_interval, goal_interval):\n",
    "    assert type(output_interval) == type(goal_interval)\n",
    "    if type(output_interval) is list:\n",
    "        assert len(output_interval) == len(goal_interval)\n",
    "        for i in range(len(output_interval)):\n",
    "            if goal_interval[i] is not None and output_interval[i] not in goal_interval[i]:\n",
    "                return False\n",
    "        return True\n",
    "    else:\n",
    "        return output_interval in goal_interval"
   ]
  },
  {
   "cell_type": "code",
   "execution_count": null,
   "id": "0fd6139f-fd97-4ba1-8dd3-d0eda61293f0",
   "metadata": {},
   "outputs": [],
   "source": [
    "output_interval"
   ]
  },
  {
   "cell_type": "code",
   "execution_count": null,
   "id": "dc769d05-0b33-43c5-81b6-1648f9da319d",
   "metadata": {},
   "outputs": [],
   "source": [
    "desired_interval"
   ]
  },
  {
   "cell_type": "code",
   "execution_count": null,
   "id": "f9b2f229-9c67-4b79-b7c4-17947bc10fc0",
   "metadata": {},
   "outputs": [],
   "source": [
    "check_intervals(output_interval, desired_interval)"
   ]
  },
  {
   "cell_type": "code",
   "execution_count": null,
   "id": "32682358-48df-4f1e-9f0d-407c6e742a83",
   "metadata": {},
   "outputs": [],
   "source": [
    "# passes for all None, as expected\n",
    "check_intervals(output_interval, [None] * len(output_interval)) "
   ]
  },
  {
   "cell_type": "markdown",
   "id": "82a49506-5b70-482a-88af-1d1175a14b8e",
   "metadata": {},
   "source": [
    "## Multi-output Projection Approach\n",
    "\n",
    "- copy the existing weights into a matrix to modify as projection occurs\n",
    "- copy the existing biases into vector to modify as projection occures\n",
    "- for each goal interval that is 1) specified and 2) violated\n",
    "  - extract the weights corresponding to that interval (row index), like `weights[:, COC]`\n",
    "  - add the bias term (single scalar after indexing `biases[COC]`)\n",
    "  - project **only** those weights\n",
    "  - write projected weights (all but last elements—shapes will work out) in the copied weight matrix\n",
    "  - write projected bias (last element, is scalar) in the copied bias vector\n",
    "- write the new projected weights/biases to the layer"
   ]
  },
  {
   "cell_type": "code",
   "execution_count": null,
   "id": "e7f7111a-6cb2-4cb9-a7fa-38cd2ea00e9b",
   "metadata": {},
   "outputs": [],
   "source": [
    "if not check_intervals(output_interval, desired_interval):\n",
    "    print(f\"safe region test FAILED, interval was {output_interval}\")"
   ]
  },
  {
   "cell_type": "code",
   "execution_count": null,
   "id": "3616bcc5-455a-410b-a03e-c9b90352dee3",
   "metadata": {},
   "outputs": [],
   "source": [
    "if epoch % EPOCH_TO_PROJECT == 0:\n",
    "    print(f\"\\nProjecting weights at epoch {epoch}.\")\n",
    "    weights = model.layers[-1].weights\n",
    "    \n",
    "    intervals_to_project = []\n",
    "    assert type(output_interval) == type(desired_interval)\n",
    "    if type(output_interval) is list:\n",
    "        assert len(output_interval) == len(desired_interval)\n",
    "        for i in range(len(output_interval)):\n",
    "            if desired_interval[i] is not None and output_interval[i] not in desired_interval[i]:\n",
    "                intervals_to_project.append(i)\n",
    "    else:\n",
    "        intervals_to_project.append(0)"
   ]
  },
  {
   "cell_type": "code",
   "execution_count": null,
   "id": "773191dd-bc0e-465f-8d4a-9d807075cbd5",
   "metadata": {},
   "outputs": [],
   "source": [
    "intervals_to_project"
   ]
  },
  {
   "cell_type": "code",
   "execution_count": null,
   "id": "6fa87c06-118b-488a-93b7-fcab3ca3c08c",
   "metadata": {},
   "outputs": [],
   "source": [
    "weights_tf = model.layers[-1].weights\n",
    "weights_tf"
   ]
  },
  {
   "cell_type": "code",
   "execution_count": null,
   "id": "9ef732bc-b0c4-4c17-b1c0-adce908306b4",
   "metadata": {},
   "outputs": [],
   "source": [
    "weights_np = weights[0].numpy()\n",
    "biases_np = weights[1].numpy()"
   ]
  },
  {
   "cell_type": "code",
   "execution_count": null,
   "id": "43253709-c436-4b7e-bfc8-c9aaace794d1",
   "metadata": {},
   "outputs": [],
   "source": [
    "# penultimate_interval"
   ]
  },
  {
   "cell_type": "markdown",
   "id": "7f78848c-fa06-496f-8730-867c66813b88",
   "metadata": {},
   "source": [
    "### Long approach"
   ]
  },
  {
   "cell_type": "code",
   "execution_count": null,
   "id": "8cd2a890-f6db-4f5f-b458-baa3a12850c4",
   "metadata": {},
   "outputs": [],
   "source": [
    "for idx in intervals_to_project:\n",
    "    weights_to_project = np.hstack([weights_np[:, idx], biases_np[idx]])\n",
    "    print(weights_to_project)\n",
    "    print(weights_to_project.shape)\n",
    "    lowers = []\n",
    "    uppers = []\n",
    "    for i, ivl in enumerate(penultimate_interval):\n",
    "        if weights_to_project[i] < 0:\n",
    "            # swap order if negative\n",
    "            lowers.append(ivl[0][1])\n",
    "            uppers.append(ivl[0][0])\n",
    "        else:\n",
    "            lowers.append(ivl[0][0])\n",
    "            uppers.append(ivl[0][1])\n",
    "\n",
    "    interval_combinations = [lowers, uppers]\n",
    "    constraint_vectors = [np.hstack([elem, 1]) for elem in interval_combinations]\n",
    "    x = cp.Variable(weights_to_project.shape)\n",
    "    constraints = []\n",
    "    for constraint_vector in constraint_vectors:\n",
    "        constraints.append(constraint_vector @ x >= desired_interval[0][0])\n",
    "        constraints.append(constraint_vector @ x <= desired_interval[0][1])\n",
    "\n",
    "    for i in range(len(weights_to_project)-1):\n",
    "        constraint_row = np.zeros(weights_to_project.shape)\n",
    "        np.put(constraint_row,i,1)\n",
    "        if weights_to_project[i] >= 0:\n",
    "            # enforce weight stays positive\n",
    "            constraints.append(constraint_row @ x >= 0)\n",
    "        else:\n",
    "            # enforce weight stays negative\n",
    "            constraints.append(constraint_row @ x <= 0)    \n",
    "\n",
    "    obj = cp.Minimize(cp.norm(x - weights_to_project))\n",
    "    prob = cp.Problem(obj, constraints)\n",
    "    t1 = time.time()\n",
    "    prob.solve()  # Returns the optimal value.\n",
    "    print(f\"solving took {time.time() - t1} seconds\")\n",
    "    print(f\"optimization status: {prob.status}\")\n",
    "    proj = x.value\n",
    "    # signs_proj = [\"+\" if weight >= 0 else \"-\" for weight in proj]\n",
    "    # print(proj)\n",
    "    # print(signs_proj)\n",
    "    # print(coc_weights)\n",
    "    # print(signs_orig)\n",
    "\n",
    "    proj_out = 0\n",
    "    for i, weight in enumerate(proj[:-1]):\n",
    "        proj_out += penultimate_interval[i] * weight\n",
    "    proj_out += proj[-1]\n",
    "    print(f\"interval after projection was {proj_out}\")\n",
    "\n",
    "    # sign_change_indices = []\n",
    "    # for i in range(len(signs_proj)):\n",
    "    #     if signs_proj[i] != signs_orig[i]:\n",
    "    #         sign_change_indices.append(i)\n",
    "    # print(f\"{len(sign_change_indices)} indices changed sign during projection: {sign_change_indices}\")\n",
    "\n",
    "    # print(f\"weights that flipped were originally {coc_weights[sign_change_indices]}\")"
   ]
  },
  {
   "cell_type": "markdown",
   "id": "19dcb909-acf3-45d0-af56-813e7c506156",
   "metadata": {},
   "source": [
    "### With function"
   ]
  },
  {
   "cell_type": "code",
   "execution_count": null,
   "id": "1d96d135-7e2d-482d-9094-b325ca3b7cb8",
   "metadata": {},
   "outputs": [],
   "source": [
    "for idx in intervals_to_project:\n",
    "    weights_to_project = np.hstack([weights_np[:, idx], biases_np[idx]])\n",
    "    proj = project_weights(desired_interval[idx], \n",
    "                           penultimate_interval, \n",
    "                           weights_to_project)\n",
    "\n",
    "    proj_out = 0\n",
    "    for i, weight in enumerate(proj[:-1]):\n",
    "        proj_out += penultimate_interval[i] * weight\n",
    "    proj_out += proj[-1]\n",
    "    print(f\"interval after projection was {proj_out}\")\n",
    "    weights_np[:, idx] = proj[:-1]\n",
    "    biases_np[idx] = proj[-1]"
   ]
  },
  {
   "cell_type": "code",
   "execution_count": null,
   "id": "3b3c6883-4598-4a10-bc96-53607d4997d7",
   "metadata": {},
   "outputs": [],
   "source": [
    "proj[-1]"
   ]
  },
  {
   "cell_type": "code",
   "execution_count": null,
   "id": "21ee3c91-5ac0-4247-8110-a0d952b1b759",
   "metadata": {},
   "outputs": [],
   "source": [
    "biases_np"
   ]
  },
  {
   "cell_type": "code",
   "execution_count": null,
   "id": "950a7bd1-db83-4244-96f3-042f08da202e",
   "metadata": {},
   "outputs": [],
   "source": [
    "biases_np - np.array([ 0.01702375, -0.01381799,  0.00414154,  0.05387181,  0.0431052 ,\n",
    "        -0.11384217, -0.0549253 , -0.07289924, -0.07280885])"
   ]
  },
  {
   "cell_type": "code",
   "execution_count": null,
   "id": "eef392f3-bc7a-4521-b2c7-0925e4a9e362",
   "metadata": {},
   "outputs": [],
   "source": []
  },
  {
   "cell_type": "code",
   "execution_count": null,
   "id": "54e21b5e-7112-468d-81ee-71669c73463d",
   "metadata": {},
   "outputs": [],
   "source": []
  },
  {
   "cell_type": "code",
   "execution_count": null,
   "id": "0bef77a3-80fd-4611-9af7-79911840de4d",
   "metadata": {},
   "outputs": [],
   "source": [
    "# if epoch % EPOCH_TO_PROJECT == 0:\n",
    "#     print(f\"\\nProjecting weights at epoch {epoch}.\")\n",
    "#     weights = model.layers[-1].weights\n",
    "#     print(\n",
    "#         f\"Old weights: {np.squeeze(np.array([weight.numpy() for weight in weights]))}\"\n",
    "#     )\n",
    "#     projected_weights = project_weights(\n",
    "#         desired_interval,\n",
    "#         penultimate_interval,\n",
    "#         np.squeeze(np.array(weights)),\n",
    "#     )\n",
    "#     print(\n",
    "#         f\"Projected weights: {projected_weights} yield new interval: \"\n",
    "#         f\"{penultimate_interval * projected_weights[0] + projected_weights[1]}\"\n",
    "#     )\n",
    "#     proj_weight, proj_bias = projected_weights\n",
    "#     model.layers[-1].set_weights(\n",
    "#         [np.array([[proj_weight]]), np.array([proj_bias])]\n",
    "#     )\n",
    "#     # NOTE: assume positive weights\n",
    "#     # TODO: handle both signs of weights\n",
    "\n",
    "#     # print(optimizer.get_weights())\n",
    "#     # optimizer.set_weights(last_safe_weights)\n",
    "# else:\n",
    "#     print(f\"safe region test passed, interval was {output_interval}\")"
   ]
  },
  {
   "cell_type": "markdown",
   "id": "1148a4ca-319e-44a0-ae27-6eae8913b938",
   "metadata": {},
   "source": [
    "# Testing sign-aware projection\n",
    "\n",
    "Without this, there's exponential behavior in ordering the interval upper/lower bounds when generating constraints, which leads to overflow and crashes."
   ]
  },
  {
   "cell_type": "code",
   "execution_count": null,
   "id": "4a2c2056-38b4-413d-8162-94799545b27e",
   "metadata": {},
   "outputs": [],
   "source": [
    "output_interval = [interval([-2260.4474587077575, 6254.7313829800505]),\n",
    " interval([-6016.414571449502, 6390.889435382497]),\n",
    " interval([-9953.235220686383, 6650.544893240611]),\n",
    " interval([-7094.378883646252, 4794.872261623323]),\n",
    " interval([-12704.856161526073, 6596.152293679708]),\n",
    " interval([-5798.244003059197, 2880.27408345843]),\n",
    " interval([-9798.605758997091, 1318.8253900765633]),\n",
    " interval([-6407.489985129032, 4301.543306242515]),\n",
    " interval([-9265.462345058428, 1938.5843370979335])]"
   ]
  },
  {
   "cell_type": "code",
   "execution_count": null,
   "id": "01f1891a-5f90-4e97-8905-d3fded13025a",
   "metadata": {},
   "outputs": [],
   "source": [
    "penultimate_interval = [interval([0.0]),\n",
    " interval([0.0, 819.5987759636605]),\n",
    " interval([1793.8983103436944, 5135.115473013564]),\n",
    " interval([0.0, 1266.6192015630404]),\n",
    " interval([0.0, 619.6017242371151]),\n",
    " interval([0.0, 415.47149718984383]),\n",
    " interval([0.0]),\n",
    " interval([3075.4781304744565, 5922.017075416204]),\n",
    " interval([0.0]),\n",
    " interval([2137.2280533522735, 6631.173178877855]),\n",
    " interval([0.0, 1917.1150893599386]),\n",
    " interval([4101.028183273791, 7081.891725089374]),\n",
    " interval([0.0]),\n",
    " interval([0.0, 1656.6367083129612]),\n",
    " interval([0.0, 1574.770634945266]),\n",
    " interval([0.0]),\n",
    " interval([583.9612652168341, 3669.2950529701707]),\n",
    " interval([6433.8031595782995, 9827.780209452081]),\n",
    " interval([0.0]),\n",
    " interval([0.0, 2498.04643175089]),\n",
    " interval([0.0]),\n",
    " interval([0.0, 303.3991584563141]),\n",
    " interval([0.0, 2435.9732251930036]),\n",
    " interval([0.0, 678.1315665107659]),\n",
    " interval([0.0]),\n",
    " interval([0.0]),\n",
    " interval([0.0, 1853.624011731252]),\n",
    " interval([0.0]),\n",
    " interval([0.0, 1032.33090416972]),\n",
    " interval([0.0, 2013.1012942958077]),\n",
    " interval([0.0, 759.1690409388566]),\n",
    " interval([0.0]),\n",
    " interval([0.0, 2467.5971716121953]),\n",
    " interval([0.0]),\n",
    " interval([0.0]),\n",
    " interval([1984.2866849450206, 5191.768463778712]),\n",
    " interval([1041.2901222791538, 4408.43752449753]),\n",
    " interval([0.0, 1106.2138337778647]),\n",
    " interval([3452.5723961302288, 7176.104780478628]),\n",
    " interval([0.0]),\n",
    " interval([0.0]),\n",
    " interval([0.0]),\n",
    " interval([0.0, 1975.5321958608674]),\n",
    " interval([0.0, 3249.1000602527665]),\n",
    " interval([826.0656894685214, 3859.086128004272])]\n"
   ]
  },
  {
   "cell_type": "code",
   "execution_count": null,
   "id": "802ea141-6065-4611-aa6d-9c4a94bc52ad",
   "metadata": {},
   "outputs": [],
   "source": [
    "total = 0\n",
    "for ivl in penultimate_interval:\n",
    "    if ivl[0].inf != ivl[0].sup:\n",
    "        total += 1\n",
    "total"
   ]
  },
  {
   "cell_type": "code",
   "execution_count": null,
   "id": "c0d0a51e-901d-45c9-95cf-8a1aa6826b70",
   "metadata": {
    "scrolled": true,
    "tags": []
   },
   "outputs": [],
   "source": [
    "weights_tf = model.layers[-1].weights\n",
    "weights_tf"
   ]
  },
  {
   "cell_type": "code",
   "execution_count": null,
   "id": "2a7805b3-547d-41c3-adc1-11e080f46c00",
   "metadata": {},
   "outputs": [],
   "source": [
    "biases = np.array([ 0.02029374,  0.02516603, -0.00994892,  0.0222788 ,  0.03571415,\n",
    "        -0.03154399, -0.04627901, -0.06161216, -0.03665822], dtype=np.float32)"
   ]
  },
  {
   "cell_type": "code",
   "execution_count": null,
   "id": "8fcb59ec-ad6c-49ad-b8e7-4f7f7c96d939",
   "metadata": {},
   "outputs": [],
   "source": [
    "# weights = weights_tf[0].numpy()\n",
    "# biases = weights_tf[1].numpy()"
   ]
  },
  {
   "cell_type": "code",
   "execution_count": null,
   "id": "a102757a-3083-45b3-ba04-a6ff41069718",
   "metadata": {
    "scrolled": true,
    "tags": []
   },
   "outputs": [],
   "source": [
    "weights"
   ]
  },
  {
   "cell_type": "code",
   "execution_count": null,
   "id": "e7513bea-5ddd-4e71-8606-8241aee4fc8a",
   "metadata": {},
   "outputs": [],
   "source": [
    "weights = np.array([[-2.18333185e-01, -6.22537732e-01,  2.21074551e-01,\n",
    "         2.81378120e-01, -3.42588812e-01, -1.35613531e-01,\n",
    "         2.26456091e-01, -4.89725322e-02,  1.55175269e-01],\n",
    "       [-7.80020282e-02,  1.84624806e-01, -2.06005573e-01,\n",
    "        -2.80708075e-01, -1.92308322e-01, -2.32667681e-02,\n",
    "        -1.32379875e-01, -1.13545403e-01,  4.20658849e-02],\n",
    "       [ 3.25242668e-01,  2.08206803e-01, -2.44340464e-01,\n",
    "         4.69880290e-02, -8.35797489e-02, -9.36886370e-02,\n",
    "        -2.88362384e-01,  8.73668715e-02, -2.19115749e-01],\n",
    "       [ 6.59989938e-02, -2.75809139e-01, -2.87649482e-01,\n",
    "        -1.17637869e-02,  1.89444676e-01,  1.53859794e-01,\n",
    "        -3.66265863e-01, -1.88385010e-01, -2.47587577e-01],\n",
    "       [-2.26398073e-02, -7.94138312e-02,  3.55981328e-02,\n",
    "         1.64122730e-02,  1.10089600e-01, -3.57257545e-01,\n",
    "         1.00172698e-01, -2.59886473e-01, -7.50088990e-02],\n",
    "       [ 1.22164980e-01,  1.84817791e-01,  3.35091770e-01,\n",
    "         1.59232736e-01,  9.40671504e-01,  1.83394477e-01,\n",
    "         6.33978188e-01,  2.69225627e-01,  4.43191305e-02],\n",
    "       [ 1.23874284e-01, -7.60963321e-01,  2.16447443e-01,\n",
    "         9.79461614e-03, -1.79705516e-01,  2.44781569e-01,\n",
    "        -4.57653433e-01,  1.20109119e-01, -4.07250971e-01],\n",
    "       [ 1.95406318e-01, -3.75177860e-02, -9.90792662e-02,\n",
    "         1.56109244e-01, -2.43605152e-02, -4.01885323e-02,\n",
    "        -2.19734907e-01,  1.31267577e-01,  1.70661449e-01],\n",
    "       [-1.63188547e-01,  1.13966316e-01, -1.95072338e-01,\n",
    "         2.22682804e-01,  2.02822894e-01, -1.28788367e-01,\n",
    "         2.41370812e-01, -1.23383794e-02,  3.32103252e-01],\n",
    "       [ 2.06917614e-01, -2.44279459e-01,  2.33837232e-01,\n",
    "        -8.22154507e-02,  5.45158029e-01,  5.91765717e-02,\n",
    "        -1.32632509e-01,  5.79342712e-03, -1.58340812e-01],\n",
    "       [-1.94173846e-02, -8.92617553e-02,  3.14952023e-02,\n",
    "         1.58400118e-01, -9.32605118e-02, -2.49547705e-01,\n",
    "        -7.41416961e-02, -1.82480961e-01, -3.51565748e-01],\n",
    "       [-1.81181714e-01,  1.24213204e-01,  3.26778442e-01,\n",
    "         2.83223599e-01,  3.09085399e-01,  8.23983049e-04,\n",
    "         9.04635042e-02, -1.17769040e-01, -2.02945471e-01],\n",
    "       [-1.44330308e-01, -1.18324183e-01,  3.28021377e-01,\n",
    "         2.71635950e-01, -6.09208345e-02,  2.97052830e-01,\n",
    "        -3.01023751e-01,  2.73538560e-01, -3.04044578e-02],\n",
    "       [ 2.59534210e-01, -1.09424151e-01, -3.38585585e-01,\n",
    "         1.82545438e-01, -2.25749075e-01,  9.22391489e-02,\n",
    "        -3.10919583e-01, -6.68276940e-03, -3.21906447e-01],\n",
    "       [ 5.17473137e-03, -3.13345611e-01, -3.19618702e-01,\n",
    "         9.60708261e-02, -1.36055395e-01, -1.99087515e-01,\n",
    "        -2.31793806e-01, -2.40505308e-01,  1.27362564e-01],\n",
    "       [ 3.31301123e-01,  2.14412868e-01,  2.41997942e-01,\n",
    "        -2.97525108e-01,  2.83577353e-01, -1.20311894e-01,\n",
    "        -2.16134906e-01, -7.20312670e-02, -1.80560634e-01],\n",
    "       [ 1.00366406e-01,  8.68945345e-02,  5.08864224e-01,\n",
    "        -8.82767588e-02,  2.21465349e-01,  1.27713546e-01,\n",
    "         1.66512132e-01,  2.80042440e-01,  2.09720016e-01],\n",
    "       [-8.25255141e-02,  2.08994180e-01, -1.06837042e-01,\n",
    "        -3.48510087e-01,  1.65712997e-01,  5.54096960e-02,\n",
    "        -2.23641351e-01, -1.34909645e-01,  1.42787054e-01],\n",
    "       [ 5.75565696e-02, -1.30275607e-01,  1.53723851e-01,\n",
    "         6.93859011e-02,  1.21206596e-01, -4.80810642e-01,\n",
    "         1.81184098e-01, -1.33630246e-01, -4.38138805e-02],\n",
    "       [ 2.08370045e-01, -1.14298493e-01, -3.69961977e-01,\n",
    "         2.42887437e-01, -2.56165117e-01, -1.58821285e-01,\n",
    "        -1.33631811e-01, -2.66872495e-01, -1.93805426e-01],\n",
    "       [ 2.31464937e-01, -2.00037897e-01, -9.73619148e-02,\n",
    "        -1.38476733e-02, -1.08140670e-01,  1.65265948e-01,\n",
    "        -3.24441403e-01,  6.50982857e-02, -4.67101522e-02],\n",
    "       [-1.90033093e-01,  1.23496808e-01,  1.61776051e-01,\n",
    "         2.52557814e-01, -9.94549915e-02, -2.37577006e-01,\n",
    "        -4.21294183e-01, -3.26920003e-01, -3.99972737e-01],\n",
    "       [ 6.46226406e-02,  4.30513531e-01,  6.03858411e-01,\n",
    "         2.00238988e-01, -5.85108757e-01,  2.63956100e-01,\n",
    "        -2.39661992e-01,  3.70001256e-01,  1.52438518e-03],\n",
    "       [-9.31944400e-02, -8.26838836e-02, -6.73755169e-01,\n",
    "         2.83440262e-01,  2.62795925e-01,  3.88941281e-02,\n",
    "         7.57192895e-02,  2.93633670e-01,  3.45981792e-02],\n",
    "       [ 6.81845471e-02,  1.09168386e+00,  1.05029099e-01,\n",
    "        -2.54411012e-01,  1.64576210e-02, -1.89687952e-01,\n",
    "         3.78965408e-01, -8.45094249e-02,  5.14775932e-01],\n",
    "       [-4.61942375e-01,  3.31163555e-01,  2.42191777e-01,\n",
    "         6.87528670e-01,  8.14082503e-01,  5.10007143e-01,\n",
    "         1.49687365e-01,  7.52033234e-01, -1.11784734e-01],\n",
    "       [ 2.26745844e-01, -1.09356120e-01,  2.09188864e-01,\n",
    "        -4.04216275e-02,  1.08391261e-02,  4.20173764e-01,\n",
    "        -9.14842784e-02,  1.93628147e-01,  1.43444613e-01],\n",
    "       [-1.15132309e-01, -4.05952066e-01, -2.71949738e-01,\n",
    "        -8.71486962e-01, -1.87376700e-02, -6.23992383e-01,\n",
    "        -2.22074598e-01, -4.42703187e-01, -2.80767620e-01],\n",
    "       [ 1.46180779e-01, -2.49077275e-01,  3.21082503e-01,\n",
    "        -2.36125201e-01, -2.65160471e-01, -8.94395337e-02,\n",
    "         2.09774688e-01,  7.95840845e-02,  1.56208560e-01],\n",
    "       [-1.69284314e-01,  1.83424041e-01, -2.43965670e-01,\n",
    "        -1.93748966e-01, -1.10006414e-01, -1.56479195e-01,\n",
    "        -5.34699522e-02,  1.55114755e-01,  7.76661485e-02],\n",
    "       [ 1.22987730e-02,  4.65242833e-01,  7.47196138e-01,\n",
    "         1.30903170e-01, -4.23293173e-01, -1.56462565e-01,\n",
    "        -2.46845603e-01, -1.62104413e-01, -3.49277705e-01],\n",
    "       [ 1.70015275e-01, -5.05107418e-02,  3.04429293e-01,\n",
    "        -1.24148719e-01,  2.32333273e-01, -3.97730395e-02,\n",
    "         1.49569184e-01, -2.15683296e-01, -2.29605168e-01],\n",
    "       [ 6.79151639e-02,  4.13440436e-01,  1.61887348e-01,\n",
    "         4.98310849e-02, -2.39159569e-01,  8.79221335e-02,\n",
    "         1.40931889e-01,  1.85430586e-01,  1.25922292e-01],\n",
    "       [-1.32595026e+00, -4.14898098e-01, -2.27178901e-01,\n",
    "        -6.88801527e-01, -2.12719336e-01, -1.09122984e-01,\n",
    "        -4.35671955e-01, -1.99768826e-01, -5.75941026e-01],\n",
    "       [ 2.47517675e-01, -2.27498859e-01, -3.69096309e-01,\n",
    "         3.40145111e-01,  1.33959860e-01,  2.69096255e-01,\n",
    "        -2.35959262e-01,  3.04200709e-01,  1.87855437e-01],\n",
    "       [ 9.53822136e-02, -4.02931094e-01, -3.78945678e-01,\n",
    "         1.03416838e-01,  1.60253108e-01, -2.01285541e-01,\n",
    "        -1.38552025e-01, -2.54651874e-01, -6.18772097e-02],\n",
    "       [-2.67294586e-01,  1.70651451e-01, -2.25227758e-01,\n",
    "         2.27904201e-01,  1.86727703e-01, -1.42123610e-01,\n",
    "         2.36901984e-01,  4.01180573e-02, -1.36436522e-01],\n",
    "       [-2.75177270e-01,  8.00679401e-02, -2.73740649e-01,\n",
    "        -1.17558278e-01, -2.55102605e-01,  6.63628057e-02,\n",
    "        -2.14794636e-01, -1.42564565e-01, -2.25268364e-01],\n",
    "       [ 1.31988842e-02, -2.76278943e-01, -4.28179093e-02,\n",
    "        -1.94231257e-01, -1.03825450e+00, -5.81424162e-02,\n",
    "         4.70544677e-03,  1.94466725e-01, -4.12654847e-01],\n",
    "       [-6.15995750e-02,  2.74473399e-01,  3.35875452e-01,\n",
    "        -1.70225635e-01,  2.97078907e-01,  2.29435071e-01,\n",
    "        -6.08222634e-02,  1.99780628e-01,  9.35441554e-02],\n",
    "       [ 2.63991468e-02,  3.80530924e-01,  2.08077267e-01,\n",
    "         1.90854684e-01,  2.13240102e-01, -2.90596008e-01,\n",
    "         9.32675898e-02, -6.29713535e-01,  6.19140118e-02],\n",
    "       [-2.98447967e-01, -3.95439714e-01,  2.90056288e-01,\n",
    "        -3.05374473e-01,  2.33175918e-01, -1.55882984e-01,\n",
    "        -2.72583991e-01, -8.54920894e-02, -2.77933031e-02],\n",
    "       [ 1.88610494e-01, -2.88837016e-01,  1.01828352e-01,\n",
    "        -7.75025308e-01, -2.17118904e-01,  1.60104305e-01,\n",
    "        -3.91527802e-01,  9.97925363e-03, -3.67626190e-01],\n",
    "       [ 8.74033049e-02,  8.59348699e-02, -4.55133140e-01,\n",
    "         3.10212314e-01, -5.70085764e-01, -4.71005231e-01,\n",
    "         1.44063056e-01, -4.30299133e-01,  1.43832803e-01],\n",
    "       [-6.95287669e-03,  7.33533874e-02, -1.76221326e-01,\n",
    "        -2.48765975e-01, -4.74544019e-01,  7.75902998e-03,\n",
    "         1.99589327e-01, -1.80854067e-01,  9.49213728e-02]], dtype=np.float32)"
   ]
  },
  {
   "cell_type": "code",
   "execution_count": null,
   "id": "aa7c77bf-fdb6-474e-a3ef-f68e6bfc0db2",
   "metadata": {},
   "outputs": [],
   "source": [
    "weights.shape"
   ]
  },
  {
   "cell_type": "code",
   "execution_count": null,
   "id": "7d0026d9-b03f-401a-be0e-0b10363e0aac",
   "metadata": {},
   "outputs": [],
   "source": [
    "biases.shape"
   ]
  },
  {
   "cell_type": "code",
   "execution_count": null,
   "id": "7f69ee8f-030c-40d9-a267-2f5e6c8869d4",
   "metadata": {},
   "outputs": [],
   "source": [
    "COC = 0"
   ]
  },
  {
   "cell_type": "code",
   "execution_count": null,
   "id": "12580732-fddc-4ec4-a0c6-338bef61d841",
   "metadata": {},
   "outputs": [],
   "source": [
    "weights[:, COC]"
   ]
  },
  {
   "cell_type": "code",
   "execution_count": null,
   "id": "32307bc0-34df-4de7-b7b7-c412128be658",
   "metadata": {},
   "outputs": [],
   "source": [
    "biases[COC]"
   ]
  },
  {
   "cell_type": "code",
   "execution_count": null,
   "id": "01480726-44cb-403c-ac4c-cb9742dec683",
   "metadata": {},
   "outputs": [],
   "source": [
    "coc_weights = np.hstack([weights[:, COC], biases[COC]])\n",
    "coc_weights.shape"
   ]
  },
  {
   "cell_type": "code",
   "execution_count": null,
   "id": "d83d67db-5a0e-417f-ac42-cfdfebedfb72",
   "metadata": {},
   "outputs": [],
   "source": [
    "coc_weights"
   ]
  },
  {
   "cell_type": "code",
   "execution_count": null,
   "id": "b7e23719-d4ef-45c8-b47e-1313cb11f3f4",
   "metadata": {},
   "outputs": [],
   "source": [
    "penultimate_interval"
   ]
  },
  {
   "cell_type": "code",
   "execution_count": null,
   "id": "70e732c6-66b4-45da-a64a-e06c4db63ef1",
   "metadata": {},
   "outputs": [],
   "source": []
  },
  {
   "cell_type": "code",
   "execution_count": null,
   "id": "1dd8ce03-02b9-4702-9741-33129f6c9826",
   "metadata": {},
   "outputs": [],
   "source": [
    "len(penultimate_interval)"
   ]
  },
  {
   "cell_type": "code",
   "execution_count": null,
   "id": "e8ab0ad3-3048-419e-9c96-ea9169b9e38e",
   "metadata": {},
   "outputs": [],
   "source": [
    "goal_interval = interval[7000, 10000]"
   ]
  },
  {
   "cell_type": "code",
   "execution_count": null,
   "id": "f7dead74-dba2-4bf6-a93f-8ab2d9cd173b",
   "metadata": {},
   "outputs": [],
   "source": [
    "# proj = project_weights(goal_interval, penultimate_interval, coc_weights, verbose=False)\n",
    "# proj"
   ]
  },
  {
   "cell_type": "code",
   "execution_count": null,
   "id": "055650fe-8512-4b0f-9c4c-972ea842631c",
   "metadata": {},
   "outputs": [],
   "source": [
    "import itertools"
   ]
  },
  {
   "cell_type": "code",
   "execution_count": null,
   "id": "24735f1b-2b6c-492c-bd39-600758abab53",
   "metadata": {},
   "outputs": [],
   "source": [
    "# elems = []\n",
    "# for elem in penultimate_interval:\n",
    "#     if elem[0][0] == elem[0][1]:\n",
    "#         elems.append((elem[0][0],))\n",
    "#     else:\n",
    "#         elems.append(elem[0])\n",
    "# interval_combinations = itertools.product(*elems)"
   ]
  },
  {
   "cell_type": "code",
   "execution_count": null,
   "id": "6e80d6b5-4fea-49f0-91d3-f626b1f6cfb1",
   "metadata": {},
   "outputs": [],
   "source": [
    "# constraint_vectors = [np.hstack([elem, 1]) for elem in interval_combinations]"
   ]
  },
  {
   "cell_type": "code",
   "execution_count": null,
   "id": "3f2aeb99-425e-4a06-b0f5-b44997700d53",
   "metadata": {},
   "outputs": [],
   "source": [
    "x = cp.Variable(coc_weights.shape)"
   ]
  },
  {
   "cell_type": "markdown",
   "id": "e226f66f-5615-4fb4-ba0b-e0058aa7ce60",
   "metadata": {},
   "source": [
    "## Sign-aware constraints"
   ]
  },
  {
   "cell_type": "code",
   "execution_count": null,
   "id": "ce7cc263-05ef-4321-9b91-92d15e6f7be5",
   "metadata": {},
   "outputs": [],
   "source": [
    "import time"
   ]
  },
  {
   "cell_type": "code",
   "execution_count": null,
   "id": "06660bfc-ad4c-4b99-8272-a209b7f08cca",
   "metadata": {},
   "outputs": [],
   "source": [
    "lowers = []\n",
    "uppers = []\n",
    "signs_orig = []\n",
    "# for i, ivl in enumerate(penultimate_interval):\n",
    "#     if coc_weights[i] < 0:\n",
    "#         # swap order if negative\n",
    "#         lowers.append(ivl[0][1])\n",
    "#         uppers.append(ivl[0][0])\n",
    "#         signs_orig.append(\"-\")\n",
    "#     else:\n",
    "#         lowers.append(ivl[0][0])\n",
    "#         uppers.append(ivl[0][1])\n",
    "#         signs_orig.append(\"+\")\n",
    "        \n",
    "for i, ivl in enumerate(penultimate_interval):\n",
    "    signs_orig.append(\"-\" if coc_weights[i] < 0 else \"+\")\n",
    "    if coc_weights[i] < 0:\n",
    "        # swap order if negative\n",
    "        lowers.append(ivl[0][1])\n",
    "        uppers.append(ivl[0][0])\n",
    "#     elif np.abs(coc_weights[i]) <= 0.1:\n",
    "#         # do both, if very small\n",
    "#         lowers.append(ivl[0][1])\n",
    "#         uppers.append(ivl[0][0])\n",
    "        \n",
    "#         # # also add positive weights? causes bug \n",
    "#         # lowers.append(ivl[0][0])\n",
    "#         # uppers.append(ivl[0][1])\n",
    "    else:\n",
    "        lowers.append(ivl[0][0])\n",
    "        uppers.append(ivl[0][1])\n",
    "        \n",
    "# also account for bias\n",
    "signs_orig.append(\"+\" if coc_weights[i] > 0 else \"-\")\n",
    "\n",
    "interval_combinations = [lowers, uppers]\n",
    "constraint_vectors = [np.hstack([elem, 1]) for elem in interval_combinations]\n",
    "x = cp.Variable(coc_weights.shape)\n",
    "constraints = []\n",
    "for constraint_vector in constraint_vectors:\n",
    "    constraints.append(constraint_vector @ x >= goal_interval[0][0])\n",
    "    constraints.append(constraint_vector @ x <= goal_interval[0][1])\n",
    "    \n",
    "for i in range(len(coc_weights)-1):\n",
    "    constraint_row = np.zeros(coc_weights.shape)\n",
    "    np.put(constraint_row,i,1)\n",
    "    if coc_weights[i] >= 0:\n",
    "        # enforce weight stays positive\n",
    "        constraints.append(constraint_row @ x >= 0)\n",
    "    else:\n",
    "        # enforce weight stays negative\n",
    "        constraints.append(constraint_row @ x <= 0)    \n",
    "\n",
    "obj = cp.Minimize(cp.norm(x - coc_weights))\n",
    "prob = cp.Problem(obj, constraints)\n",
    "t1 = time.time()\n",
    "prob.solve()  # Returns the optimal value.\n",
    "print(f\"solving took {time.time() - t1} seconds\")\n",
    "print(f\"optimization status: {prob.status}\")\n",
    "proj = x.value\n",
    "# signs_proj = [\"+\" if weight >= 0 else \"-\" for weight in proj]\n",
    "# print(proj)\n",
    "# print(signs_proj)\n",
    "# print(coc_weights)\n",
    "# print(signs_orig)\n",
    "\n",
    "proj_out = 0\n",
    "for i, weight in enumerate(proj[:-1]):\n",
    "    proj_out += penultimate_interval[i] * weight\n",
    "proj_out += proj[-1]\n",
    "print(f\"interval after projection was {proj_out}\")\n",
    "\n",
    "# sign_change_indices = []\n",
    "# for i in range(len(signs_proj)):\n",
    "#     if signs_proj[i] != signs_orig[i]:\n",
    "#         sign_change_indices.append(i)\n",
    "# print(f\"{len(sign_change_indices)} indices changed sign during projection: {sign_change_indices}\")\n",
    "\n",
    "# print(f\"weights that flipped were originally {coc_weights[sign_change_indices]}\")"
   ]
  },
  {
   "cell_type": "code",
   "execution_count": null,
   "id": "17c7e34e-e88f-4b35-941b-a6573c8f9c35",
   "metadata": {},
   "outputs": [],
   "source": [
    "constraint_vectors"
   ]
  },
  {
   "cell_type": "markdown",
   "id": "f12cb681-9c21-41ed-99b4-a5f43f7924c2",
   "metadata": {},
   "source": [
    "## Naive constraints"
   ]
  },
  {
   "cell_type": "code",
   "execution_count": null,
   "id": "c7838694-8748-4312-b339-25d896c9ff8e",
   "metadata": {},
   "outputs": [],
   "source": [
    "interval_combinations = [[ivl[0][0] for ivl in penultimate_interval], [ivl[0][1] for ivl in penultimate_interval]]\n",
    "signs_proj = [\"+\" if weight > 0 else \"-\" for weight in coc_weights]\n",
    "constraint_vectors = [np.hstack([elem, 1]) for elem in interval_combinations]\n",
    "constraints = []\n",
    "for constraint_vector in constraint_vectors:\n",
    "    constraints.append(constraint_vector @ x >= goal_interval[0][0])\n",
    "    constraints.append(constraint_vector @ x <= goal_interval[0][1])\n",
    "\n",
    "    obj = cp.Minimize(cp.norm(x - coc_weights))\n",
    "prob = cp.Problem(obj, constraints)\n",
    "prob.solve()  # Returns the optimal value.\n",
    "proj = x.value\n",
    "signs_proj = [\"+\" if weight > 0 else \"-\" for weight in proj]\n",
    "print(proj)\n",
    "\n",
    "proj_out = 0\n",
    "for i, weight in enumerate(proj[:-1]):\n",
    "    proj_out += penultimate_interval[i] * weight\n",
    "proj_out += proj[-1]\n",
    "print(f\"interval after projection was {proj_out}\")\n",
    "# NOTE: symmetric miss of target interval, interestingly\n",
    "\n",
    "sign_change_indices = []\n",
    "for i in range(len(signs_proj)):\n",
    "    if signs_proj[i] != signs_orig[i]:\n",
    "        sign_change_indices.append(i)\n",
    "print(f\"{len(sign_change_indices)} indices changed sign during projection: {sign_change_indices}\")\n",
    "\n",
    "print(f\"weights that flipped were originally {coc_weights[sign_change_indices]}\")"
   ]
  },
  {
   "cell_type": "code",
   "execution_count": null,
   "id": "ef4a5494-3fd0-406d-822e-0d8e811425a2",
   "metadata": {},
   "outputs": [],
   "source": [
    "obj = cp.Minimize(cp.norm(x - coc_weights))\n",
    "prob = cp.Problem(obj, constraints)\n",
    "prob.solve()  # Returns the optimal value.\n",
    "proj = x.value\n",
    "proj"
   ]
  },
  {
   "cell_type": "code",
   "execution_count": null,
   "id": "743a6d22-a581-4b51-a5ec-53062fd28ae8",
   "metadata": {},
   "outputs": [],
   "source": [
    "proj_out = 0\n",
    "for i, weight in enumerate(proj[:-1]):\n",
    "    proj_out += penultimate_interval[i] * weight\n",
    "proj_out += proj[-1]\n",
    "proj_out"
   ]
  },
  {
   "cell_type": "code",
   "execution_count": null,
   "id": "5c5ca14a-c767-40ee-a8bf-f638aa49c6c7",
   "metadata": {},
   "outputs": [],
   "source": []
  }
 ],
 "metadata": {
  "kernelspec": {
   "display_name": "Python 3 (ipykernel)",
   "language": "python",
   "name": "python3"
  },
  "language_info": {
   "codemirror_mode": {
    "name": "ipython",
    "version": 3
   },
   "file_extension": ".py",
   "mimetype": "text/x-python",
   "name": "python",
   "nbconvert_exporter": "python",
   "pygments_lexer": "ipython3",
   "version": "3.11.4"
  }
 },
 "nbformat": 4,
 "nbformat_minor": 5
}
