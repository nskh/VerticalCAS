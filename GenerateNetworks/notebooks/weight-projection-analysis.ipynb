{
 "cells": [
  {
   "cell_type": "code",
   "execution_count": 41,
   "id": "c04de60b-3251-4a19-8163-5e110b76133d",
   "metadata": {},
   "outputs": [],
   "source": [
    "import pickle\n",
    "import matplotlib.pyplot as plt\n",
    "import numpy as np"
   ]
  },
  {
   "cell_type": "code",
   "execution_count": 42,
   "id": "1f6ce14b-8d0d-4569-aeed-e5250f62a91c",
   "metadata": {},
   "outputs": [],
   "source": [
    "# Logging outputs\n",
    "with open(\"projection_acas_july13_coc.pickle\", \"rb\") as f:\n",
    "    data = pickle.load(f)"
   ]
  },
  {
   "cell_type": "code",
   "execution_count": 43,
   "id": "67456cd8-1ca7-40c2-920c-fe99c4dd95aa",
   "metadata": {},
   "outputs": [
    {
     "data": {
      "text/plain": [
       "dict_keys(['accuracies', 'losses', 'weights_before_projection', 'weights_after_projection'])"
      ]
     },
     "execution_count": 43,
     "metadata": {},
     "output_type": "execute_result"
    }
   ],
   "source": [
    "data.keys()"
   ]
  },
  {
   "cell_type": "code",
   "execution_count": 44,
   "id": "d73fea0d-f1c2-4ed2-9fd0-9709b414f66a",
   "metadata": {},
   "outputs": [
    {
     "data": {
      "text/plain": [
       "10"
      ]
     },
     "execution_count": 44,
     "metadata": {},
     "output_type": "execute_result"
    }
   ],
   "source": [
    "len(data[\"weights_before_projection\"])"
   ]
  },
  {
   "cell_type": "code",
   "execution_count": 45,
   "id": "55646247-3cb2-4acc-a871-c81c68ea3b3c",
   "metadata": {},
   "outputs": [
    {
     "data": {
      "text/plain": [
       "10"
      ]
     },
     "execution_count": 45,
     "metadata": {},
     "output_type": "execute_result"
    }
   ],
   "source": [
    "len(data[\"weights_after_projection\"])"
   ]
  },
  {
   "cell_type": "code",
   "execution_count": 26,
   "id": "220ffce9-227a-47a7-94ab-7124d9401b3f",
   "metadata": {},
   "outputs": [
    {
     "data": {
      "text/plain": [
       "[array([[-2.13811964e-01,  4.29006040e-01,  2.01499432e-01,\n",
       "         -1.53070542e-11,  4.94973153e-01,  2.89331943e-01,\n",
       "          1.79555357e-01,  3.17452289e-02, -2.20310405e-01],\n",
       "        [ 2.04743877e-01, -1.43314421e-01,  2.26764187e-01,\n",
       "         -1.49640703e+00,  3.80834460e-01,  1.32046446e-01,\n",
       "          7.81229287e-02,  8.98214132e-02,  3.51522982e-01],\n",
       "        [ 1.03908084e-01, -3.14424038e-01,  3.45302463e-01,\n",
       "         -1.78698213e-12, -1.04925409e-01, -1.95750132e-01,\n",
       "          3.46160948e-01, -2.48637244e-01,  1.15502208e-01],\n",
       "        [ 1.61575794e-01,  6.91423267e-02,  4.37387466e-01,\n",
       "         -9.05086856e-12, -3.76688130e-02,  1.56371221e-01,\n",
       "          4.81125228e-02,  6.94243833e-02, -4.04814817e-02],\n",
       "        [ 1.30743131e-01,  3.89137447e-01,  2.87804008e-01,\n",
       "         -2.09374309e+00,  2.84632802e-01,  3.91648412e-01,\n",
       "          1.48852998e-02,  3.37567508e-01, -1.27504170e-01],\n",
       "        [-1.89725995e-01, -6.34211451e-02,  2.29063690e-01,\n",
       "         -1.51347327e-12, -3.86658698e-01,  9.50241648e-03,\n",
       "          2.95632388e-02, -1.55849487e-01,  3.65245552e-03],\n",
       "        [ 6.53853118e-02,  5.87880373e-01,  1.44926935e-01,\n",
       "         -9.89240245e-04,  2.10003644e-01,  3.29608351e-01,\n",
       "          4.63012159e-01,  4.02459234e-01,  6.25902042e-02],\n",
       "        [ 1.48350537e-01,  6.20407723e-02, -1.41220108e-01,\n",
       "          5.21817803e-01, -2.48605892e-01,  1.79456875e-01,\n",
       "         -1.47158489e-01,  1.03263244e-01, -5.91099411e-02],\n",
       "        [-1.72429234e-01, -3.65798652e-01, -1.37912631e-01,\n",
       "         -4.28901185e-12, -1.54085413e-01,  1.53941631e-01,\n",
       "          9.20327827e-02,  2.80119330e-01,  6.57515749e-02],\n",
       "        [ 2.83890367e-02,  4.89671201e-01,  5.42674698e-02,\n",
       "         -1.46020123e-11,  3.01498801e-01,  1.10154711e-01,\n",
       "         -1.98913857e-01, -1.21379040e-01, -3.75694819e-02],\n",
       "        [ 5.13244495e-02,  3.30738395e-01, -2.19736904e-01,\n",
       "          1.14703015e-03,  3.13510925e-01, -2.20668554e-01,\n",
       "         -9.71122831e-02,  1.21678179e-02, -1.55279189e-01],\n",
       "        [-2.78102487e-01, -3.16558272e-01,  2.56908178e-01,\n",
       "         -1.76250800e-12, -2.89515369e-02,  1.57700196e-01,\n",
       "          2.91648120e-01,  2.10679665e-01,  3.83879384e-03],\n",
       "        [ 2.02668592e-01,  3.76796187e-03,  2.55990595e-01,\n",
       "          3.97340685e-01, -1.87979177e-01,  1.96492463e-01,\n",
       "         -4.26505581e-02,  3.52576077e-01, -4.61594164e-02],\n",
       "        [-3.05270720e-02, -2.18818024e-01,  2.78376341e-01,\n",
       "         -1.15243753e-03,  2.48578697e-01, -3.15453887e-01,\n",
       "         -1.15034856e-01, -3.04096341e-01, -1.37894690e-01],\n",
       "        [ 1.84553847e-01,  1.51105627e-01, -3.75368565e-01,\n",
       "         -9.89237335e-04, -9.62184519e-02,  1.49481192e-01,\n",
       "         -5.71201034e-02, -2.04379439e-01,  2.34630391e-01],\n",
       "        [ 5.23186266e-01,  2.65784502e-01,  3.41537446e-01,\n",
       "          3.55600752e-02, -2.52281576e-01, -3.36216204e-02,\n",
       "          2.25683972e-01,  1.09526068e-01,  3.38438660e-01],\n",
       "        [ 1.89556748e-01, -2.16821745e-01,  3.01595539e-01,\n",
       "         -3.01706837e-12,  9.09829885e-02,  7.01286420e-02,\n",
       "         -6.51068911e-02,  1.02084257e-01,  3.31365258e-01],\n",
       "        [-1.70844309e-02,  3.93902585e-02, -5.02513230e-01,\n",
       "         -9.22380770e-13, -3.09596449e-01,  3.42620946e-02,\n",
       "         -1.54806554e-01,  2.62977839e-01,  5.57388272e-03],\n",
       "        [ 9.48386863e-02,  3.89659852e-01, -1.32998675e-01,\n",
       "         -2.25566392e-13, -2.99745411e-01,  2.13402554e-01,\n",
       "          1.32818311e-01, -2.50417173e-01, -9.55767483e-02],\n",
       "        [ 1.97693050e-01, -1.47604913e-01, -1.69297270e-02,\n",
       "         -1.23815964e-12,  1.06503651e-01, -1.34798899e-01,\n",
       "         -1.28976211e-01, -2.55112022e-01, -2.71513999e-01],\n",
       "        [ 6.23553693e-02,  4.22955513e-01,  9.70952585e-02,\n",
       "         -1.88292936e-12, -1.60689101e-01,  1.65756330e-01,\n",
       "         -2.15358883e-01,  2.58451402e-01, -1.54377058e-01],\n",
       "        [ 2.42885113e-01, -1.16075806e-01,  7.22359717e-02,\n",
       "         -4.50882604e-13, -2.83843875e-01, -2.97197878e-01,\n",
       "         -2.55983263e-01, -3.99870425e-02, -2.31089354e-01],\n",
       "        [-2.22787991e-01,  3.45498562e-01,  1.16276171e-03,\n",
       "          9.59362388e-02, -9.24914032e-02, -9.99967232e-02,\n",
       "          1.47769496e-01, -2.09272634e-02, -1.96960449e-01],\n",
       "        [-1.89464062e-01,  9.16121304e-02, -5.98575354e-01,\n",
       "         -4.07720983e-01,  3.27201337e-01,  4.24889684e-01,\n",
       "          8.76532719e-02,  3.08671713e-01,  6.51785433e-01],\n",
       "        [-3.03788066e-01,  3.48235428e-01, -1.21476695e-01,\n",
       "         -1.76254540e-12,  1.44357875e-01, -1.02799863e-01,\n",
       "          2.35710517e-01, -2.71572769e-01,  2.13157758e-01],\n",
       "        [ 3.68939713e-02, -2.11498246e-01,  2.86274076e-01,\n",
       "         -7.81520898e-13, -4.44362126e-02, -1.85897145e-02,\n",
       "         -3.00311863e-01, -3.14070344e-01, -1.67515993e-01],\n",
       "        [-3.11259121e-01, -1.52961416e-02,  1.19980052e-01,\n",
       "         -4.25613890e-13,  1.32782787e-01, -2.22499043e-01,\n",
       "          8.39377716e-02, -3.28489468e-02, -2.01259658e-01],\n",
       "        [-9.59852412e-02,  2.11021423e-01,  2.89601564e-01,\n",
       "         -1.15243753e-03,  1.82044446e-01,  1.61937922e-01,\n",
       "         -3.32646608e-01,  2.46207371e-01,  1.93600580e-01],\n",
       "        [ 1.06366709e-01, -1.20196283e-01, -2.56769538e-01,\n",
       "         -1.78748012e-01,  9.93252993e-02, -4.34232131e-02,\n",
       "         -2.01468006e-01,  2.80960560e-01,  1.89460859e-01],\n",
       "        [-9.75062624e-02,  1.38428237e-03, -2.45940700e-01,\n",
       "         -5.25328424e-13,  2.53203928e-01, -3.54911804e-01,\n",
       "         -1.49606213e-01, -1.24019518e-01,  2.05771908e-01],\n",
       "        [ 1.65942714e-01, -1.14042543e-01, -2.90894695e-02,\n",
       "         -6.34988785e-01,  1.30440056e-01,  2.71529853e-01,\n",
       "         -3.12585771e-01,  4.50789966e-02, -2.96704948e-01],\n",
       "        [-8.53482261e-02, -3.41508724e-02, -3.90408278e-01,\n",
       "         -2.82418316e-12, -2.80379683e-01, -1.54122971e-02,\n",
       "         -3.20456088e-01, -7.53161535e-02, -2.35973790e-01],\n",
       "        [ 8.94036517e-02,  1.43829659e-01, -2.79152274e-01,\n",
       "         -7.87491817e-13, -2.77134955e-01, -1.48503080e-01,\n",
       "          1.41330257e-01, -2.58302003e-01, -8.54371414e-02],\n",
       "        [-1.29612222e-01,  3.45936358e-01, -5.67769781e-02,\n",
       "         -2.14125916e-01,  2.54262805e-01, -2.81433165e-01,\n",
       "          7.15466142e-02,  3.28416079e-01,  3.45817953e-01],\n",
       "        [ 2.16604844e-01,  2.61972964e-01,  9.55242515e-02,\n",
       "         -1.89846164e-12, -3.27643126e-01,  4.02764440e-01,\n",
       "          3.81405503e-01,  3.96549553e-01, -7.52389506e-02],\n",
       "        [-1.74797140e-02, -2.63750970e-01, -2.02277713e-02,\n",
       "         -2.95277149e-13,  9.27167162e-02, -1.30957142e-01,\n",
       "         -2.44334400e-01,  2.94597328e-01, -1.44940078e-01],\n",
       "        [-1.30598292e-01,  1.88563108e-01,  1.19684227e-01,\n",
       "         -1.80817930e-11,  1.32562965e-01,  1.15461135e-03,\n",
       "         -1.27252445e-01, -1.84038565e-01,  3.48759890e-02],\n",
       "        [-1.35935605e-01, -2.11452261e-01, -8.49953517e-02,\n",
       "         -3.58727262e-12,  3.29784274e-01,  3.73849273e-02,\n",
       "         -8.38049874e-02,  2.21797779e-01,  2.56622404e-01],\n",
       "        [-1.69784859e-01,  5.51256478e-01, -4.44755703e-01,\n",
       "         -9.89238615e-04,  2.21808270e-01,  6.65488914e-02,\n",
       "          1.28300279e-01,  1.10114366e-02,  2.12820724e-01],\n",
       "        [-2.84295350e-01,  5.03253758e-01,  2.51363367e-01,\n",
       "          2.63669938e-01, -6.30243421e-02, -1.78949570e-03,\n",
       "          3.13034296e-01, -2.03739956e-01,  4.08948332e-01],\n",
       "        [ 2.44797409e-01,  3.39818507e-01,  1.38151944e-01,\n",
       "         -3.05843684e-11,  2.87154168e-01,  6.02623783e-02,\n",
       "          1.09520346e-01, -1.38468832e-01,  2.97077775e-01],\n",
       "        [-1.34135485e-01, -1.90650538e-01,  1.41916692e-01,\n",
       "         -1.45974541e-12,  2.84690827e-01,  6.15404025e-02,\n",
       "          1.18013486e-01,  1.50743350e-01,  2.45678797e-01],\n",
       "        [ 4.26848307e-02, -2.59322286e-01, -1.22459032e-01,\n",
       "         -1.51465244e-12,  2.31460512e-01, -8.05860087e-02,\n",
       "          2.96631515e-01, -2.29523301e-01, -2.32434720e-02],\n",
       "        [ 1.71636581e-01,  1.79821268e-01, -7.68734291e-02,\n",
       "         -1.49959895e-12,  1.20398790e-01, -3.96971226e-01,\n",
       "          1.31872684e-01,  1.32935643e-01,  3.46155576e-02],\n",
       "        [ 7.67315105e-02, -7.64243528e-02,  1.22673530e-02,\n",
       "          4.52649641e+00, -2.85216957e-01,  1.51521921e-01,\n",
       "         -7.29906932e-02, -1.79153815e-01,  9.17272344e-02]], dtype=float32),\n",
       " array([-2.9402971e-03,  1.1617109e-01,  5.3254496e-02,  5.9836769e+01,\n",
       "         2.4146110e-02, -5.7893205e-03,  7.8395464e-02,  4.3823343e-02,\n",
       "         1.3033397e-03], dtype=float32)]"
      ]
     },
     "execution_count": 26,
     "metadata": {},
     "output_type": "execute_result"
    }
   ],
   "source": [
    "data[\"weights_after_projection\"][0]"
   ]
  },
  {
   "cell_type": "code",
   "execution_count": 46,
   "id": "f725093e-a58c-47a6-9cff-d5a295820cf9",
   "metadata": {},
   "outputs": [
    {
     "data": {
      "text/plain": [
       "array([[ 0.0000000e+00,  0.0000000e+00,  0.0000000e+00,  4.8789758e-02,\n",
       "         0.0000000e+00,  0.0000000e+00,  0.0000000e+00,  0.0000000e+00,\n",
       "         0.0000000e+00],\n",
       "       [ 0.0000000e+00,  0.0000000e+00,  0.0000000e+00, -1.4474645e+00,\n",
       "         0.0000000e+00,  0.0000000e+00,  0.0000000e+00,  0.0000000e+00,\n",
       "         0.0000000e+00],\n",
       "       [ 0.0000000e+00,  0.0000000e+00,  0.0000000e+00,  4.8690688e-02,\n",
       "         0.0000000e+00,  0.0000000e+00,  0.0000000e+00,  0.0000000e+00,\n",
       "         0.0000000e+00],\n",
       "       [ 0.0000000e+00,  0.0000000e+00,  0.0000000e+00,  4.8641212e-02,\n",
       "         0.0000000e+00,  0.0000000e+00,  0.0000000e+00,  0.0000000e+00,\n",
       "         0.0000000e+00],\n",
       "       [ 0.0000000e+00,  0.0000000e+00,  0.0000000e+00, -2.0452075e+00,\n",
       "         0.0000000e+00,  0.0000000e+00,  0.0000000e+00,  0.0000000e+00,\n",
       "         0.0000000e+00],\n",
       "       [ 0.0000000e+00,  0.0000000e+00,  0.0000000e+00,  4.8747979e-02,\n",
       "         0.0000000e+00,  0.0000000e+00,  0.0000000e+00,  0.0000000e+00,\n",
       "         0.0000000e+00],\n",
       "       [ 0.0000000e+00,  0.0000000e+00,  0.0000000e+00,  6.2107574e-07,\n",
       "         0.0000000e+00,  0.0000000e+00,  0.0000000e+00,  0.0000000e+00,\n",
       "         0.0000000e+00],\n",
       "       [ 0.0000000e+00,  0.0000000e+00,  0.0000000e+00,  5.1127851e-01,\n",
       "         0.0000000e+00,  0.0000000e+00,  0.0000000e+00,  0.0000000e+00,\n",
       "         0.0000000e+00],\n",
       "       [ 0.0000000e+00,  0.0000000e+00,  0.0000000e+00,  4.8798051e-02,\n",
       "         0.0000000e+00,  0.0000000e+00,  0.0000000e+00,  0.0000000e+00,\n",
       "         0.0000000e+00],\n",
       "       [ 0.0000000e+00,  0.0000000e+00,  0.0000000e+00,  4.9146764e-02,\n",
       "         0.0000000e+00,  0.0000000e+00,  0.0000000e+00,  0.0000000e+00,\n",
       "         0.0000000e+00],\n",
       "       [ 0.0000000e+00,  0.0000000e+00,  0.0000000e+00, -6.5984204e-07,\n",
       "         0.0000000e+00,  0.0000000e+00,  0.0000000e+00,  0.0000000e+00,\n",
       "         0.0000000e+00],\n",
       "       [ 0.0000000e+00,  0.0000000e+00,  0.0000000e+00,  4.8557300e-02,\n",
       "         0.0000000e+00,  0.0000000e+00,  0.0000000e+00,  0.0000000e+00,\n",
       "         0.0000000e+00],\n",
       "       [ 0.0000000e+00,  0.0000000e+00,  0.0000000e+00,  1.1026859e-06,\n",
       "         0.0000000e+00,  0.0000000e+00,  0.0000000e+00,  0.0000000e+00,\n",
       "         0.0000000e+00],\n",
       "       [ 0.0000000e+00,  0.0000000e+00,  0.0000000e+00,  6.6356733e-07,\n",
       "         0.0000000e+00,  0.0000000e+00,  0.0000000e+00,  0.0000000e+00,\n",
       "         0.0000000e+00],\n",
       "       [ 0.0000000e+00,  0.0000000e+00,  0.0000000e+00,  6.2107574e-07,\n",
       "         0.0000000e+00,  0.0000000e+00,  0.0000000e+00,  0.0000000e+00,\n",
       "         0.0000000e+00],\n",
       "       [ 0.0000000e+00,  0.0000000e+00,  0.0000000e+00, -7.9348683e-07,\n",
       "         0.0000000e+00,  0.0000000e+00,  0.0000000e+00,  0.0000000e+00,\n",
       "         0.0000000e+00],\n",
       "       [ 0.0000000e+00,  0.0000000e+00,  0.0000000e+00,  4.8871033e-02,\n",
       "         0.0000000e+00,  0.0000000e+00,  0.0000000e+00,  0.0000000e+00,\n",
       "         0.0000000e+00],\n",
       "       [ 0.0000000e+00,  0.0000000e+00,  0.0000000e+00,  4.8906617e-02,\n",
       "         0.0000000e+00,  0.0000000e+00,  0.0000000e+00,  0.0000000e+00,\n",
       "         0.0000000e+00],\n",
       "       [ 0.0000000e+00,  0.0000000e+00,  0.0000000e+00,  4.8969321e-02,\n",
       "         0.0000000e+00,  0.0000000e+00,  0.0000000e+00,  0.0000000e+00,\n",
       "         0.0000000e+00],\n",
       "       [ 0.0000000e+00,  0.0000000e+00,  0.0000000e+00,  4.8925020e-02,\n",
       "         0.0000000e+00,  0.0000000e+00,  0.0000000e+00,  0.0000000e+00,\n",
       "         0.0000000e+00],\n",
       "       [ 0.0000000e+00,  0.0000000e+00,  0.0000000e+00,  4.8970200e-02,\n",
       "         0.0000000e+00,  0.0000000e+00,  0.0000000e+00,  0.0000000e+00,\n",
       "         0.0000000e+00],\n",
       "       [ 0.0000000e+00,  0.0000000e+00,  0.0000000e+00,  4.9011942e-02,\n",
       "         0.0000000e+00,  0.0000000e+00,  0.0000000e+00,  0.0000000e+00,\n",
       "         0.0000000e+00],\n",
       "       [ 0.0000000e+00,  0.0000000e+00,  0.0000000e+00,  7.4505806e-09,\n",
       "         0.0000000e+00,  0.0000000e+00,  0.0000000e+00,  0.0000000e+00,\n",
       "         0.0000000e+00],\n",
       "       [ 0.0000000e+00,  0.0000000e+00,  0.0000000e+00, -3.5910544e-01,\n",
       "         0.0000000e+00,  0.0000000e+00,  0.0000000e+00,  0.0000000e+00,\n",
       "         0.0000000e+00],\n",
       "       [ 0.0000000e+00,  0.0000000e+00,  0.0000000e+00,  4.8878923e-02,\n",
       "         0.0000000e+00,  0.0000000e+00,  0.0000000e+00,  0.0000000e+00,\n",
       "         0.0000000e+00],\n",
       "       [ 0.0000000e+00,  0.0000000e+00,  0.0000000e+00,  4.8697993e-02,\n",
       "         0.0000000e+00,  0.0000000e+00,  0.0000000e+00,  0.0000000e+00,\n",
       "         0.0000000e+00],\n",
       "       [ 0.0000000e+00,  0.0000000e+00,  0.0000000e+00,  4.9004041e-02,\n",
       "         0.0000000e+00,  0.0000000e+00,  0.0000000e+00,  0.0000000e+00,\n",
       "         0.0000000e+00],\n",
       "       [ 0.0000000e+00,  0.0000000e+00,  0.0000000e+00,  6.6356733e-07,\n",
       "         0.0000000e+00,  0.0000000e+00,  0.0000000e+00,  0.0000000e+00,\n",
       "         0.0000000e+00],\n",
       "       [ 0.0000000e+00,  0.0000000e+00,  0.0000000e+00, -1.3048725e-01,\n",
       "         0.0000000e+00,  0.0000000e+00,  0.0000000e+00,  0.0000000e+00,\n",
       "         0.0000000e+00],\n",
       "       [ 0.0000000e+00,  0.0000000e+00,  0.0000000e+00,  4.8806466e-02,\n",
       "         0.0000000e+00,  0.0000000e+00,  0.0000000e+00,  0.0000000e+00,\n",
       "         0.0000000e+00],\n",
       "       [ 0.0000000e+00,  0.0000000e+00,  0.0000000e+00, -5.8639318e-01,\n",
       "         0.0000000e+00,  0.0000000e+00,  0.0000000e+00,  0.0000000e+00,\n",
       "         0.0000000e+00],\n",
       "       [ 0.0000000e+00,  0.0000000e+00,  0.0000000e+00,  4.8669394e-02,\n",
       "         0.0000000e+00,  0.0000000e+00,  0.0000000e+00,  0.0000000e+00,\n",
       "         0.0000000e+00],\n",
       "       [ 0.0000000e+00,  0.0000000e+00,  0.0000000e+00,  4.8958298e-02,\n",
       "         0.0000000e+00,  0.0000000e+00,  0.0000000e+00,  0.0000000e+00,\n",
       "         0.0000000e+00],\n",
       "       [ 0.0000000e+00,  0.0000000e+00,  0.0000000e+00, -2.1392800e-01,\n",
       "         0.0000000e+00,  0.0000000e+00,  0.0000000e+00,  0.0000000e+00,\n",
       "         0.0000000e+00],\n",
       "       [ 0.0000000e+00,  0.0000000e+00,  0.0000000e+00,  4.8947018e-02,\n",
       "         0.0000000e+00,  0.0000000e+00,  0.0000000e+00,  0.0000000e+00,\n",
       "         0.0000000e+00],\n",
       "       [ 0.0000000e+00,  0.0000000e+00,  0.0000000e+00,  4.8753366e-02,\n",
       "         0.0000000e+00,  0.0000000e+00,  0.0000000e+00,  0.0000000e+00,\n",
       "         0.0000000e+00],\n",
       "       [ 0.0000000e+00,  0.0000000e+00,  0.0000000e+00,  4.8795663e-02,\n",
       "         0.0000000e+00,  0.0000000e+00,  0.0000000e+00,  0.0000000e+00,\n",
       "         0.0000000e+00],\n",
       "       [ 0.0000000e+00,  0.0000000e+00,  0.0000000e+00,  4.8698887e-02,\n",
       "         0.0000000e+00,  0.0000000e+00,  0.0000000e+00,  0.0000000e+00,\n",
       "         0.0000000e+00],\n",
       "       [ 0.0000000e+00,  0.0000000e+00,  0.0000000e+00,  6.2107574e-07,\n",
       "         0.0000000e+00,  0.0000000e+00,  0.0000000e+00,  0.0000000e+00,\n",
       "         0.0000000e+00],\n",
       "       [ 0.0000000e+00,  0.0000000e+00,  0.0000000e+00,  7.7486038e-07,\n",
       "         0.0000000e+00,  0.0000000e+00,  0.0000000e+00,  0.0000000e+00,\n",
       "         0.0000000e+00],\n",
       "       [ 0.0000000e+00,  0.0000000e+00,  0.0000000e+00,  4.8665628e-02,\n",
       "         0.0000000e+00,  0.0000000e+00,  0.0000000e+00,  0.0000000e+00,\n",
       "         0.0000000e+00],\n",
       "       [ 0.0000000e+00,  0.0000000e+00,  0.0000000e+00,  4.8876349e-02,\n",
       "         0.0000000e+00,  0.0000000e+00,  0.0000000e+00,  0.0000000e+00,\n",
       "         0.0000000e+00],\n",
       "       [ 0.0000000e+00,  0.0000000e+00,  0.0000000e+00,  4.8816800e-02,\n",
       "         0.0000000e+00,  0.0000000e+00,  0.0000000e+00,  0.0000000e+00,\n",
       "         0.0000000e+00],\n",
       "       [ 0.0000000e+00,  0.0000000e+00,  0.0000000e+00,  4.8640445e-02,\n",
       "         0.0000000e+00,  0.0000000e+00,  0.0000000e+00,  0.0000000e+00,\n",
       "         0.0000000e+00],\n",
       "       [ 0.0000000e+00,  0.0000000e+00,  0.0000000e+00,  4.5750828e+00,\n",
       "         0.0000000e+00,  0.0000000e+00,  0.0000000e+00,  0.0000000e+00,\n",
       "         0.0000000e+00]], dtype=float32)"
      ]
     },
     "execution_count": 46,
     "metadata": {},
     "output_type": "execute_result"
    }
   ],
   "source": [
    "changes"
   ]
  },
  {
   "cell_type": "code",
   "execution_count": 31,
   "id": "efbe649f-c069-4aa5-8d3c-c21f5683fc59",
   "metadata": {},
   "outputs": [
    {
     "data": {
      "text/plain": [
       "array([ 4.8789758e-02, -1.4474645e+00,  4.8690688e-02,  4.8641212e-02,\n",
       "       -2.0452075e+00,  4.8747979e-02,  6.2107574e-07,  5.1127851e-01,\n",
       "        4.8798051e-02,  4.9146764e-02, -6.5984204e-07,  4.8557300e-02,\n",
       "        1.1026859e-06,  6.6356733e-07,  6.2107574e-07, -7.9348683e-07,\n",
       "        4.8871033e-02,  4.8906617e-02,  4.8969321e-02,  4.8925020e-02,\n",
       "        4.8970200e-02,  4.9011942e-02,  7.4505806e-09, -3.5910544e-01,\n",
       "        4.8878923e-02,  4.8697993e-02,  4.9004041e-02,  6.6356733e-07,\n",
       "       -1.3048725e-01,  4.8806466e-02, -5.8639318e-01,  4.8669394e-02,\n",
       "        4.8958298e-02, -2.1392800e-01,  4.8947018e-02,  4.8753366e-02,\n",
       "        4.8795663e-02,  4.8698887e-02,  6.2107574e-07,  7.7486038e-07,\n",
       "        4.8665628e-02,  4.8876349e-02,  4.8816800e-02,  4.8640445e-02,\n",
       "        4.5750828e+00], dtype=float32)"
      ]
     },
     "execution_count": 31,
     "metadata": {},
     "output_type": "execute_result"
    }
   ],
   "source": [
    "changes = data[\"weights_after_projection\"][0][0] - data[\"weights_before_projection\"][0][0]\n",
    "changes[:, 3]"
   ]
  },
  {
   "cell_type": "code",
   "execution_count": 32,
   "id": "c0520321-b8be-45ee-ab9c-ee870f4fa3b2",
   "metadata": {},
   "outputs": [
    {
     "data": {
      "text/plain": [
       "(array([ 2.,  0.,  4., 38.,  0.,  0.,  0.,  0.,  0.,  1.]),\n",
       " array([-2.0452075 , -1.38317847, -0.72114944, -0.05912042,  0.60290861,\n",
       "         1.26493764,  1.92696667,  2.5889957 ,  3.25102472,  3.91305375,\n",
       "         4.57508278]),\n",
       " <BarContainer object of 10 artists>)"
      ]
     },
     "execution_count": 32,
     "metadata": {},
     "output_type": "execute_result"
    },
    {
     "data": {
      "image/png": "[encoded data removed]",
      "text/plain": [
       "<Figure size 640x480 with 1 Axes>"
      ]
     },
     "metadata": {},
     "output_type": "display_data"
    }
   ],
   "source": [
    "plt.hist(changes[:, 3])"
   ]
  },
  {
   "cell_type": "code",
   "execution_count": 37,
   "id": "e68a8a87-a74f-4c6c-b47d-9f06c9149db2",
   "metadata": {},
   "outputs": [
    {
     "data": {
      "text/plain": [
       "11.187189"
      ]
     },
     "execution_count": 37,
     "metadata": {},
     "output_type": "execute_result"
    }
   ],
   "source": [
    "np.sum(np.abs(changes))"
   ]
  },
  {
   "cell_type": "code",
   "execution_count": 38,
   "id": "c990bdb9-e8b9-4870-8c68-7a8f208460ec",
   "metadata": {},
   "outputs": [
    {
     "data": {
      "text/plain": [
       "array([0., 0., 0., 0., 0., 0., 0., 0., 0.], dtype=float32)"
      ]
     },
     "execution_count": 38,
     "metadata": {},
     "output_type": "execute_result"
    }
   ],
   "source": [
    "data[\"weights_after_projection\"][0][1] - data[\"weights_before_projection\"][0][1]"
   ]
  },
  {
   "cell_type": "code",
   "execution_count": 39,
   "id": "05172e5b-ef57-4592-a874-1c1341bf0ffd",
   "metadata": {},
   "outputs": [
    {
     "data": {
      "text/plain": [
       "array([-2.9402971e-03,  1.1617109e-01,  5.3254496e-02,  5.9836769e+01,\n",
       "        2.4146110e-02, -5.7893205e-03,  7.8395464e-02,  4.3823343e-02,\n",
       "        1.3033397e-03], dtype=float32)"
      ]
     },
     "execution_count": 39,
     "metadata": {},
     "output_type": "execute_result"
    }
   ],
   "source": [
    "data[\"weights_before_projection\"][0][1]"
   ]
  },
  {
   "cell_type": "code",
   "execution_count": 40,
   "id": "fdef0515-830b-4444-9083-9613d511e28a",
   "metadata": {},
   "outputs": [
    {
     "data": {
      "text/plain": [
       "array([-2.9402971e-03,  1.1617109e-01,  5.3254496e-02,  5.9836769e+01,\n",
       "        2.4146110e-02, -5.7893205e-03,  7.8395464e-02,  4.3823343e-02,\n",
       "        1.3033397e-03], dtype=float32)"
      ]
     },
     "execution_count": 40,
     "metadata": {},
     "output_type": "execute_result"
    }
   ],
   "source": [
    "data[\"weights_after_projection\"][0][1]"
   ]
  },
  {
   "cell_type": "code",
   "execution_count": null,
   "id": "78bbfe71-3ced-43c3-8fc5-bcc99fc61318",
   "metadata": {},
   "outputs": [],
   "source": []
  }
 ],
 "metadata": {
  "kernelspec": {
   "display_name": "Python 3 (ipykernel)",
   "language": "python",
   "name": "python3"
  },
  "language_info": {
   "codemirror_mode": {
    "name": "ipython",
    "version": 3
   },
   "file_extension": ".py",
   "mimetype": "text/x-python",
   "name": "python",
   "nbconvert_exporter": "python",
   "pygments_lexer": "ipython3",
   "version": "3.10.9"
  }
 },
 "nbformat": 4,
 "nbformat_minor": 5
}
