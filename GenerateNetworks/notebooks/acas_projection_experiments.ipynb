{
 "cells": [
  {
   "cell_type": "markdown",
   "id": "33b4830f-0c49-4d1e-96f0-098cfcd896f4",
   "metadata": {},
   "source": [
    "# Imports"
   ]
  },
  {
   "cell_type": "code",
   "execution_count": 1,
   "id": "4b2078d2-a348-4fee-8e64-f105ac7c36fd",
   "metadata": {},
   "outputs": [],
   "source": [
    "%load_ext autoreload\n",
    "%autoreload 2"
   ]
  },
  {
   "cell_type": "code",
   "execution_count": 2,
   "id": "82055deb-6bd5-431e-8f39-ee22545c7e4f",
   "metadata": {},
   "outputs": [],
   "source": [
    "import numpy as np\n",
    "import math\n",
    "import tensorflow as tf\n",
    "import keras\n",
    "from keras.models import Sequential, load_model\n",
    "from keras.layers import Dense, Dropout, Activation\n",
    "import h5py\n",
    "from keras.optimizers import Adamax, Nadam\n",
    "import sys\n",
    "import pickle\n",
    "\n",
    "from interval import interval, inf"
   ]
  },
  {
   "cell_type": "code",
   "execution_count": 5,
   "id": "e1c66edb-23ba-498c-a755-cd91bdbbabad",
   "metadata": {},
   "outputs": [],
   "source": [
    "sys.path.append('/Users/nishant/Dropbox (University of Michigan)/research/verified-ml/SafeVerticalCAS/GenerateNetworks')"
   ]
  },
  {
   "cell_type": "code",
   "execution_count": 6,
   "id": "d6dfdb02-664b-4c73-8ec0-e01850826fe4",
   "metadata": {},
   "outputs": [],
   "source": [
    "from utils.safe_train import *"
   ]
  },
  {
   "cell_type": "markdown",
   "id": "adfdd32e-bd90-4801-8a94-29d6b7efb5e1",
   "metadata": {},
   "source": [
    "\n",
    "# Constants"
   ]
  },
  {
   "cell_type": "code",
   "execution_count": 10,
   "id": "1e736877-55b3-4a94-89a5-260bae764a9c",
   "metadata": {},
   "outputs": [],
   "source": [
    "######## OPTIONS #########\n",
    "ver = 4  # Neural network version\n",
    "hu = 45  # Number of hidden units in each hidden layer in network\n",
    "totalEpochs = 2  # Total number of training epochs\n",
    "BATCH_SIZE = 2**9\n",
    "EPOCH_TO_PROJECT = 1\n",
    "trainingDataFiles = (\n",
    "    \"../../TrainingData/VertCAS_TrainingData_v2_%02d.h5\"  # File format for training data\n",
    ")\n",
    "nnetFiles = \"../../networks/ProjectionVertCAS_pra%02d_v%d_45HU_%03d.nnet\"  # File format for .nnet files\n",
    "COC_INTERVAL = [\n",
    "    interval[-1000, -900],\n",
    "    interval[50, 52],\n",
    "    interval[-1, 1],\n",
    "    interval[20, 22],\n",
    "]\n",
    "DES_INTERVAL = [\n",
    "    interval[100, 110],\n",
    "    interval[0, 0.5],\n",
    "    interval[0, 0.5],\n",
    "    interval[20, 21],\n",
    "]\n",
    "\n",
    "# COC high, SDES2500 low\n",
    "desired_interval = [\n",
    "    interval[7000, 15000],  # COC\n",
    "    None,  # DNC\n",
    "    None,  # DND\n",
    "    None,  # DES1500\n",
    "    None,  # CL1500\n",
    "    None,  # SDES1500\n",
    "    None,  # SCL1500\n",
    "    interval[-2000, 6000],  # SDES2500\n",
    "    None,  # SCL2500\n",
    "]\n",
    "# TODO make this dynamically set\n",
    "INTERVAL_WIDTH = 2\n",
    "advisories = {\n",
    "    \"COC\": 0,\n",
    "    \"DNC\": 1,\n",
    "    \"DND\": 2,\n",
    "    \"DES1500\": 3,\n",
    "    \"CL1500\": 4,\n",
    "    \"SDES1500\": 5,\n",
    "    \"SCL1500\": 6,\n",
    "    \"SDES2500\": 7,\n",
    "    \"SCL2500\": 8,\n",
    "}\n",
    "##########################"
   ]
  },
  {
   "cell_type": "code",
   "execution_count": 11,
   "id": "b881f3bc-2631-4b72-9d37-03cc37e7ffa4",
   "metadata": {},
   "outputs": [],
   "source": [
    "pra = 1\n",
    "\n",
    "# ADVISORY INDICES\n",
    "COC=0\n",
    "DNC=1\n",
    "DND=2\n",
    "DES1500 = 3\n",
    "CL1500 = 4\n",
    "SDES1500=5\n",
    "SCL1500=6\n",
    "SDES2500=7\n",
    "SCL2500=8\n",
    "\n",
    "advisories = {\n",
    "    \"COC\": 0,\n",
    "    \"DNC\": 1,\n",
    "    \"DND\": 2,\n",
    "    \"DES1500\": 3,\n",
    "    \"CL1500\": 4,\n",
    "    \"SDES1500\": 5,\n",
    "    \"SCL1500\": 6,\n",
    "    \"SDES2500\": 7,\n",
    "    \"SCL2500\": 8,\n",
    "}"
   ]
  },
  {
   "cell_type": "code",
   "execution_count": 12,
   "id": "d7a355cf-0032-4741-81a9-90d174bf7e4a",
   "metadata": {},
   "outputs": [
    {
     "name": "stdout",
     "output_type": "stream",
     "text": [
      "Loading Data for VertCAS, pra 01, Network Version 4\n",
      "min inputs: [-8000.  -100.  -100.     0.]\n",
      "max inputs: [8000.  100.  100.   40.]\n",
      "Setting up model with 9 outputs and 4053465 training examples\n"
     ]
    }
   ],
   "source": [
    "print(\"Loading Data for VertCAS, pra %02d, Network Version %d\" % (pra, ver))\n",
    "f = h5py.File(trainingDataFiles % pra, \"r\")\n",
    "X_train = np.array(f[\"X\"])\n",
    "Q = np.array(f[\"y\"])\n",
    "means = np.array(f[\"means\"])\n",
    "ranges = np.array(f[\"ranges\"])\n",
    "min_inputs = np.array(f[\"min_inputs\"])\n",
    "max_inputs = np.array(f[\"max_inputs\"])\n",
    "print(f\"min inputs: {min_inputs}\")\n",
    "print(f\"max inputs: {max_inputs}\")\n",
    "\n",
    "N, numOut = Q.shape\n",
    "print(f\"Setting up model with {numOut} outputs and {N} training examples\")\n",
    "num_batches = N / BATCH_SIZE"
   ]
  },
  {
   "cell_type": "markdown",
   "id": "e9076277-d488-4232-92e1-58ac288af62a",
   "metadata": {},
   "source": [
    "# Train"
   ]
  },
  {
   "cell_type": "code",
   "execution_count": 13,
   "id": "71aeefc8-1280-431a-ba33-b423253dc606",
   "metadata": {},
   "outputs": [],
   "source": [
    "desired_interval = [\n",
    "    None,  # COC\n",
    "    None,  # DNC\n",
    "    None,  # DND\n",
    "    interval[1, 10],  # DES1500\n",
    "    None,  # CL1500\n",
    "    None,  # SDES1500\n",
    "    None,  # SCL1500\n",
    "    None,  # SDES2500\n",
    "    None,  # SCL2500\n",
    "]"
   ]
  },
  {
   "cell_type": "code",
   "execution_count": 14,
   "id": "b8dafbd6-cf13-40e8-885c-94a5a9a1e7d4",
   "metadata": {},
   "outputs": [
    {
     "name": "stdout",
     "output_type": "stream",
     "text": [
      "Metal device set to: Apple M1 Pro\n"
     ]
    },
    {
     "name": "stderr",
     "output_type": "stream",
     "text": [
      "2023-08-08 12:31:21.841197: I tensorflow/core/common_runtime/pluggable_device/pluggable_device_factory.cc:306] Could not identify NUMA node of platform GPU ID 0, defaulting to 0. Your kernel may not have been built with NUMA support.\n",
      "2023-08-08 12:31:21.841605: I tensorflow/core/common_runtime/pluggable_device/pluggable_device_factory.cc:272] Created TensorFlow device (/job:localhost/replica:0/task:0/device:GPU:0 with 0 MB memory) -> physical PluggableDevice (device: 0, name: METAL, pci bus id: <undefined>)\n"
     ]
    }
   ],
   "source": [
    "# Asymmetric loss function\n",
    "lossFactor = 40.0\n",
    "\n",
    "# NOTE(nskh): from HorizontalCAS which was updated to use TF\n",
    "def asymMSE(y_true, y_pred):\n",
    "    d = y_true - y_pred\n",
    "    maxes = tf.argmax(y_true, axis=1)\n",
    "    maxes_onehot = tf.one_hot(maxes, numOut)\n",
    "    others_onehot = maxes_onehot - 1\n",
    "    d_opt = d * maxes_onehot\n",
    "    d_sub = d * others_onehot\n",
    "    a = lossFactor * (numOut - 1) * (tf.square(d_opt) + tf.abs(d_opt))\n",
    "    b = tf.square(d_opt)\n",
    "    c = lossFactor * (tf.square(d_sub) + tf.abs(d_sub))\n",
    "    d = tf.square(d_sub)\n",
    "    loss = tf.where(d_sub > 0, c, d) + tf.where(d_opt > 0, a, b)\n",
    "    return tf.reduce_mean(loss)\n",
    "\n",
    "# Define model architecture\n",
    "model = Sequential()\n",
    "model.add(Dense(hu, activation=\"relu\", input_dim=4))\n",
    "model.add(Dense(hu, activation=\"relu\"))\n",
    "model.add(Dense(hu, activation=\"relu\"))\n",
    "model.add(Dense(hu, activation=\"relu\"))\n",
    "model.add(Dense(hu, activation=\"relu\"))\n",
    "model.add(Dense(hu, activation=\"relu\"))\n",
    "\n",
    "# model.add(Dense(numOut, init=\"uniform\"))\n",
    "model.add(Dense(numOut))\n",
    "opt = Nadam(learning_rate=0.0003)\n",
    "model.compile(loss=asymMSE, optimizer=opt, metrics=[\"accuracy\"])"
   ]
  },
  {
   "cell_type": "code",
   "execution_count": 15,
   "id": "ed638085-885b-48b3-8f4d-0874467ed587",
   "metadata": {},
   "outputs": [
    {
     "name": "stdout",
     "output_type": "stream",
     "text": [
      "on epoch 0\n",
      " 25/304 [=>............................] - ETA: 0s 006 and accuracy 0.9167900085449219"
     ]
    },
    {
     "name": "stderr",
     "output_type": "stream",
     "text": [
      "2023-08-08 12:36:35.069159: W tensorflow/core/platform/profile_utils/cpu_utils.cc:128] Failed to get CPU frequency: 0 Hz\n",
      "2023-08-08 12:36:35.133559: I tensorflow/core/grappler/optimizers/custom_graph_optimizer_registry.cc:114] Plugin optimizer for device_type GPU is enabled.\n"
     ]
    },
    {
     "name": "stdout",
     "output_type": "stream",
     "text": [
      "304/304 [==============================] - 1s 2ms/step\n"
     ]
    },
    {
     "data": {
      "image/png": "[encoded data removed]",
      "text/plain": [
       "<Figure size 640x480 with 1 Axes>"
      ]
     },
     "metadata": {},
     "output_type": "display_data"
    },
    {
     "data": {
      "image/png": "[encoded data removed]",
      "text/plain": [
       "<Figure size 640x480 with 1 Axes>"
      ]
     },
     "metadata": {},
     "output_type": "display_data"
    },
    {
     "name": "stdout",
     "output_type": "stream",
     "text": [
      "safe region test FAILED, interval was [interval([-11.559544278173476, 9.249029137825534]), interval([-16.38818927047695, 9.37519020026806]), interval([-16.054337727878735, 10.329363672190773]), interval([-12.389039422369336, 13.187096362485955]), interval([-13.1752363131888, 18.068495329394864]), interval([-15.271079260494085, 7.864124036792093]), interval([-12.656802075879492, 8.520392586381346]), interval([-13.935622275628662, 11.393979550963587]), interval([-12.754257471319775, 8.247333967128368])]\n",
      "\n",
      "Projecting weights at epoch 0.\n",
      "After projecting, output interval is [interval([-11.559544278173476, 9.249029137825534]), interval([-16.38818927047695, 9.37519020026806]), interval([-16.054337727878735, 10.329363672190773]), interval([-inf, inf]), interval([-13.1752363131888, 18.068495329394864]), interval([-15.271079260494085, 7.864124036792093]), interval([-12.656802075879492, 8.520392586381346]), interval([-13.935622275628662, 11.393979550963587]), interval([-12.754257471319775, 8.247333967128368])]\n"
     ]
    },
    {
     "name": "stderr",
     "output_type": "stream",
     "text": [
      "/Users/nishant/miniforge3/envs/mlp/lib/python3.10/site-packages/cvxpy/problems/problem.py:1387: UserWarning: Solution may be inaccurate. Try another solver, adjusting the solver settings, or solve with verbose=True for more information.\n",
      "  warnings.warn(\n"
     ]
    },
    {
     "name": "stdout",
     "output_type": "stream",
     "text": [
      "304/304 [==============================] - 1s 2ms/step\n"
     ]
    },
    {
     "data": {
      "image/png": "[encoded data removed]",
      "text/plain": [
       "<Figure size 640x480 with 1 Axes>"
      ]
     },
     "metadata": {},
     "output_type": "display_data"
    },
    {
     "data": {
      "image/png": "[encoded data removed]",
      "text/plain": [
       "<Figure size 640x480 with 1 Axes>"
      ]
     },
     "metadata": {},
     "output_type": "display_data"
    }
   ],
   "source": [
    "epoch_losses = []\n",
    "epoch_accuracies = []\n",
    "weights_before_projection = []\n",
    "weights_after_projection = []\n",
    "for epoch in range(1):\n",
    "    # if epoch % 5 == 0:\n",
    "    print(f\"on epoch {epoch}\")\n",
    "\n",
    "    rng = np.random.default_rng()\n",
    "\n",
    "    train_indices = np.arange(X_train.shape[0])\n",
    "\n",
    "    rng.shuffle(train_indices)  # in-place\n",
    "\n",
    "    x_shuffled = X_train[train_indices, :]\n",
    "    y_shuffled = Q[train_indices, :]\n",
    "\n",
    "    x_batched = np.split(\n",
    "        x_shuffled, np.arange(BATCH_SIZE, len(x_shuffled), BATCH_SIZE)\n",
    "    )\n",
    "    y_batched = np.split(\n",
    "        y_shuffled, np.arange(BATCH_SIZE, len(y_shuffled), BATCH_SIZE)\n",
    "    )\n",
    "\n",
    "    dataset_batched = list(zip(x_batched, y_batched))\n",
    "    batch_losses = []\n",
    "    batch_accuracy_list = []\n",
    "    epoch_accuracy = keras.metrics.CategoricalAccuracy()\n",
    "    for step, (x_batch_train, y_batch_train) in enumerate(dataset_batched):\n",
    "        with tf.GradientTape() as tape:\n",
    "            y_pred = model(x_batch_train, training=True)  # Forward pass\n",
    "            loss = asymMSE(y_batch_train, y_pred)\n",
    "            epoch_accuracy.update_state(y_batch_train, y_pred)\n",
    "\n",
    "            # accumulate data\n",
    "            batch_losses.append(loss.numpy())\n",
    "            batch_accuracy_list.append(epoch_accuracy.result())\n",
    "        if step % int(num_batches / 500) == 0:\n",
    "            print(\n",
    "                f\"{np.round(step / num_batches * 100, 1)}% through this epoch with loss\",\n",
    "                f\"{np.round(loss.numpy(), 5)} and accuracy {np.round(epoch_accuracy.result(), 5)}\\r\",\n",
    "                end=\"\",\n",
    "            )\n",
    "        # Compute gradients\n",
    "        trainable_vars = model.trainable_variables\n",
    "        gradients = tape.gradient(loss, trainable_vars)\n",
    "        # Update weights\n",
    "        opt.apply_gradients(zip(gradients, trainable_vars))\n",
    "\n",
    "    epoch_accuracies.append(batch_accuracy_list)\n",
    "    epoch_losses.append(batch_losses)\n",
    "\n",
    "    weights_before_projection.append([w.numpy() for w in model.layers[-1].weights])\n",
    "    plot_policy(model, savefig=False, filename=f\"images/fomlas-epoch{epoch}-pre-projection.pdf\", \n",
    "                zoom=True, intervals=DES_INTERVAL, intervalcolor=\"C3\", title=\"Pre-projection\")   \n",
    "    model.save(\"models/aug-08-standard-model-epoch-01.keras\")\n",
    "\n",
    "    # Parameters:\n",
    "    # - h (ft): Altitude of intruder relative to ownship, [-8000, 8000]\n",
    "    # - vO (ft/s): ownship vertical climb rate, [-100, 100]\n",
    "    # - vI (ft/s): intruder vertical climb rate, [-100, 100]\n",
    "    # - τ (sec): time to loss of horizontal separation\n",
    "    output_interval, penultimate_interval = propagate_interval(\n",
    "        normalize_interval(\n",
    "            DES_INTERVAL\n",
    "        ),  # MAKE SURE to normalize interval for reasonable results\n",
    "        model,\n",
    "        graph=False,\n",
    "    )\n",
    "    if not check_max_score(output_interval, advisories[\"DES1500\"]):\n",
    "        print(f\"safe region test FAILED, interval was {output_interval}\")\n",
    "        if epoch % EPOCH_TO_PROJECT == 0:\n",
    "            print(f\"\\nProjecting weights at epoch {epoch}.\")\n",
    "            intervals_to_project = []\n",
    "            # go through all intervals, find max upper bound\n",
    "            max_upper_bound = None\n",
    "            for i, advisory_interval in enumerate(output_interval):\n",
    "                if i == advisories[\"DES1500\"]:\n",
    "                    continue\n",
    "                else:\n",
    "                    if max_upper_bound is None:\n",
    "                        max_upper_bound = advisory_interval[0].sup\n",
    "                    else:\n",
    "                        max_upper_bound = max(\n",
    "                            advisory_interval[0].sup, max_upper_bound\n",
    "                        )\n",
    "\n",
    "            intervals_to_project = [advisories[\"DES1500\"]]\n",
    "\n",
    "            weights_tf = model.layers[-1].weights\n",
    "            weights_np = weights_tf[0].numpy()\n",
    "            biases_np = weights_tf[1].numpy()\n",
    "\n",
    "            for idx in intervals_to_project:\n",
    "                # weights_to_project = np.hstack([weights_np[:, idx], biases_np[idx]])\n",
    "                weights_to_project = weights_np[:, idx]\n",
    "                proj = project_weights(\n",
    "                    interval[max_upper_bound, max_upper_bound + INTERVAL_WIDTH],\n",
    "                    penultimate_interval,\n",
    "                    weights_to_project,\n",
    "                )\n",
    "                weights_np[:, idx] = proj\n",
    "                # weights_np[:, idx] = proj[:-1]\n",
    "                # biases_np[idx] = proj[-1]\n",
    "\n",
    "            model.layers[-1].set_weights([weights_np, biases_np])\n",
    "            output_interval, _ = propagate_interval(\n",
    "                normalize_interval(DES_INTERVAL),\n",
    "                model,\n",
    "                graph=False,\n",
    "            )\n",
    "            print(f\"After projecting, output interval is {output_interval}\")\n",
    "            weights_after_projection.append(\n",
    "                [w.numpy() for w in model.layers[-1].weights]\n",
    "            )\n",
    "            model.save(\"models/aug-08-post-projection-model-epoch-01.keras\")\n",
    "#     if not check_intervals(output_interval, desired_interval):\n",
    "#         print(f\"safe region test FAILED, interval was {output_interval}\")\n",
    "#         if epoch % EPOCH_TO_PROJECT == 0:\n",
    "#             print(f\"\\nProjecting weights at epoch {epoch}.\")\n",
    "#             intervals_to_project = []\n",
    "#             assert type(output_interval) == type(desired_interval)\n",
    "#             if type(output_interval) is list:\n",
    "#                 assert len(output_interval) == len(desired_interval)\n",
    "#                 for i in range(len(output_interval)):\n",
    "#                     if (\n",
    "#                         desired_interval[i] is not None\n",
    "#                         and output_interval[i] not in desired_interval[i]\n",
    "#                     ):\n",
    "#                         intervals_to_project.append(i)\n",
    "#             else:\n",
    "#                 intervals_to_project.append(0)\n",
    "\n",
    "#             weights_tf = model.layers[-1].weights\n",
    "#             weights_np = weights_tf[0].numpy()\n",
    "#             biases_np = weights_tf[1].numpy()\n",
    "\n",
    "#             for idx in intervals_to_project:\n",
    "#                 weights_to_project = np.hstack([weights_np[:, idx], biases_np[idx]])\n",
    "#                 proj = project_weights(\n",
    "#                     desired_interval[idx], penultimate_interval, weights_to_project\n",
    "#                 )\n",
    "#                 weights_np[:, idx] = proj[:-1]\n",
    "#                 biases_np[idx] = proj[-1]\n",
    "\n",
    "#             model.layers[-1].set_weights([weights_np, biases_np])\n",
    "#             output_interval, _ = propagate_interval(\n",
    "#                 COC_INTERVAL,\n",
    "#                 model,\n",
    "#                 graph=False,\n",
    "#             )\n",
    "#             print(f\"After projecting, output interval is {output_interval}\")\n",
    "#             weights_after_projection.append(\n",
    "#                 [w.numpy() for w in model.layers[-1].weights]\n",
    "#             )\n",
    "\n",
    "    else:\n",
    "        print(f\"safe region test passed, interval was {output_interval}\")\n",
    "\n",
    "    # Logging outputs\n",
    "    with open(\"projection_acas_aug08_coc.pickle\", \"wb\") as f:\n",
    "        data = {\n",
    "            \"accuracies\": epoch_accuracies,\n",
    "            \"losses\": epoch_losses,\n",
    "            \"weights_before_projection\": weights_before_projection,\n",
    "            \"weights_after_projection\": weights_after_projection,\n",
    "        }\n",
    "        pickle.dump(data, f, pickle.HIGHEST_PROTOCOL)\n",
    "        \n",
    "    plot_policy(model, savefig=False, filename=f\"images/fomlas-epoch{epoch}-post-projection.pdf\", \n",
    "                zoom=True, intervals=DES_INTERVAL, intervalcolor=\"C3\", title=\"Post-projection\")"
   ]
  },
  {
   "cell_type": "code",
   "execution_count": 14,
   "id": "5d4389c1-d6b3-412d-9ca8-c2c929d862db",
   "metadata": {},
   "outputs": [
    {
     "data": {
      "text/plain": [
       "[interval([0.0, inf]),\n",
       " interval([0.0, inf]),\n",
       " interval([0.0, inf]),\n",
       " interval([0.0, inf]),\n",
       " interval([0.0, inf]),\n",
       " interval([0.0, inf]),\n",
       " interval([0.0, inf]),\n",
       " interval([0.0, inf]),\n",
       " interval([0.0, inf]),\n",
       " interval([0.0, inf]),\n",
       " interval([0.0, inf]),\n",
       " interval([0.0, inf]),\n",
       " interval([0.0, inf]),\n",
       " interval([0.0, inf]),\n",
       " interval([0.0, inf]),\n",
       " interval([0.0, inf]),\n",
       " interval([0.0, inf]),\n",
       " interval([0.0, inf]),\n",
       " interval([0.0, inf]),\n",
       " interval([0.0, inf]),\n",
       " interval([0.0, inf]),\n",
       " interval([0.0, inf]),\n",
       " interval([0.0, inf]),\n",
       " interval([0.0, inf]),\n",
       " interval([0.0, inf]),\n",
       " interval([0.0, inf]),\n",
       " interval([0.0, inf]),\n",
       " interval([0.0, inf]),\n",
       " interval([0.0, inf]),\n",
       " interval([0.0, inf]),\n",
       " interval([0.0, inf]),\n",
       " interval([0.0, inf]),\n",
       " interval([0.0, inf]),\n",
       " interval([0.0, inf]),\n",
       " interval([0.0, inf]),\n",
       " interval([0.0, inf]),\n",
       " interval([0.0, inf]),\n",
       " interval([0.0, inf]),\n",
       " interval([0.0, inf]),\n",
       " interval([0.0, inf]),\n",
       " interval([0.0, inf]),\n",
       " interval([0.0, inf]),\n",
       " interval([0.0, inf]),\n",
       " interval([0.0, inf]),\n",
       " interval([0.0, inf])]"
      ]
     },
     "execution_count": 14,
     "metadata": {},
     "output_type": "execute_result"
    }
   ],
   "source": [
    "penultimate_interval"
   ]
  },
  {
   "cell_type": "code",
   "execution_count": 11,
   "id": "d58bea50-83e2-4571-99cc-b41af4b71017",
   "metadata": {},
   "outputs": [],
   "source": [
    "import matplotlib.pyplot as plt"
   ]
  },
  {
   "cell_type": "code",
   "execution_count": 12,
   "id": "b75c3135-dcee-4f7a-aff7-d2081a712694",
   "metadata": {},
   "outputs": [
    {
     "data": {
      "image/png": "[encoded data removed]",
      "text/plain": [
       "<Figure size 640x480 with 1 Axes>"
      ]
     },
     "metadata": {},
     "output_type": "display_data"
    }
   ],
   "source": [
    "plt.figure()\n",
    "plt.plot(batch_losses)\n",
    "plt.show()"
   ]
  },
  {
   "cell_type": "code",
   "execution_count": 13,
   "id": "81e7cfc2-4e60-48bc-b407-351e756bfd5a",
   "metadata": {},
   "outputs": [
    {
     "data": {
      "text/plain": [
       "{'COC': 0,\n",
       " 'DNC': 1,\n",
       " 'DND': 2,\n",
       " 'DES1500': 3,\n",
       " 'CL1500': 4,\n",
       " 'SDES1500': 5,\n",
       " 'SCL1500': 6,\n",
       " 'SDES2500': 7,\n",
       " 'SCL2500': 8}"
      ]
     },
     "execution_count": 13,
     "metadata": {},
     "output_type": "execute_result"
    }
   ],
   "source": [
    "advisories"
   ]
  },
  {
   "cell_type": "code",
   "execution_count": 76,
   "id": "453d0654-7892-4461-aa31-01242a71255e",
   "metadata": {},
   "outputs": [],
   "source": [
    "# COC high, SDES2500 low\n",
    "desired_interval = [interval[7000, 15000],  # COC\n",
    "                    None,           # DNC\n",
    "                    None,           # DND\n",
    "                    None,           # DES1500\n",
    "                    None,           # CL1500\n",
    "                    None,           # SDES1500\n",
    "                    None,           # SCL1500\n",
    "                    interval[-2000, 6000],  # SDES2500\n",
    "                    None,           # SCL2500\n",
    "                   ]"
   ]
  },
  {
   "cell_type": "code",
   "execution_count": 13,
   "id": "2f787205-3385-4b7d-9563-218fff94c469",
   "metadata": {},
   "outputs": [],
   "source": [
    "def check_intervals(output_interval, goal_interval):\n",
    "    assert type(output_interval) == type(goal_interval)\n",
    "    if type(output_interval) is list:\n",
    "        assert len(output_interval) == len(goal_interval)\n",
    "        for i in range(len(output_interval)):\n",
    "            if goal_interval[i] is not None and output_interval[i] not in goal_interval[i]:\n",
    "                return False\n",
    "        return True\n",
    "    else:\n",
    "        return output_interval in goal_interval"
   ]
  },
  {
   "cell_type": "code",
   "execution_count": 14,
   "id": "0fd6139f-fd97-4ba1-8dd3-d0eda61293f0",
   "metadata": {},
   "outputs": [
    {
     "data": {
      "text/plain": [
       "[interval([-2260.4474587077575, 6254.7313829800505]),\n",
       " interval([-6016.414571449502, 6390.889435382497]),\n",
       " interval([-9953.235220686383, 6650.544893240611]),\n",
       " interval([-7094.378883646252, 4794.872261623323]),\n",
       " interval([-12704.856161526073, 6596.152293679708]),\n",
       " interval([-5798.244003059197, 2880.27408345843]),\n",
       " interval([-9798.605758997091, 1318.8253900765633]),\n",
       " interval([-6407.489985129032, 4301.543306242515]),\n",
       " interval([-9265.462345058428, 1938.5843370979335])]"
      ]
     },
     "execution_count": 14,
     "metadata": {},
     "output_type": "execute_result"
    }
   ],
   "source": [
    "output_interval"
   ]
  },
  {
   "cell_type": "code",
   "execution_count": 15,
   "id": "dc769d05-0b33-43c5-81b6-1648f9da319d",
   "metadata": {},
   "outputs": [
    {
     "data": {
      "text/plain": [
       "[[7000, 15000], None, None, None, None, None, None, [-2000, 6000], None]"
      ]
     },
     "execution_count": 15,
     "metadata": {},
     "output_type": "execute_result"
    }
   ],
   "source": [
    "desired_interval"
   ]
  },
  {
   "cell_type": "code",
   "execution_count": 16,
   "id": "f9b2f229-9c67-4b79-b7c4-17947bc10fc0",
   "metadata": {},
   "outputs": [
    {
     "data": {
      "text/plain": [
       "False"
      ]
     },
     "execution_count": 16,
     "metadata": {},
     "output_type": "execute_result"
    }
   ],
   "source": [
    "check_intervals(output_interval, desired_interval)"
   ]
  },
  {
   "cell_type": "code",
   "execution_count": 18,
   "id": "32682358-48df-4f1e-9f0d-407c6e742a83",
   "metadata": {},
   "outputs": [
    {
     "data": {
      "text/plain": [
       "True"
      ]
     },
     "execution_count": 18,
     "metadata": {},
     "output_type": "execute_result"
    }
   ],
   "source": [
    "# passes for all None, as expected\n",
    "check_intervals(output_interval, [None] * len(output_interval)) "
   ]
  },
  {
   "cell_type": "markdown",
   "id": "82a49506-5b70-482a-88af-1d1175a14b8e",
   "metadata": {},
   "source": [
    "## Multi-output Projection Approach\n",
    "\n",
    "- copy the existing weights into a matrix to modify as projection occurs\n",
    "- copy the existing biases into vector to modify as projection occures\n",
    "- for each goal interval that is 1) specified and 2) violated\n",
    "  - extract the weights corresponding to that interval (row index), like `weights[:, COC]`\n",
    "  - add the bias term (single scalar after indexing `biases[COC]`)\n",
    "  - project **only** those weights\n",
    "  - write projected weights (all but last elements—shapes will work out) in the copied weight matrix\n",
    "  - write projected bias (last element, is scalar) in the copied bias vector\n",
    "- write the new projected weights/biases to the layer"
   ]
  },
  {
   "cell_type": "code",
   "execution_count": 22,
   "id": "e7f7111a-6cb2-4cb9-a7fa-38cd2ea00e9b",
   "metadata": {},
   "outputs": [
    {
     "name": "stdout",
     "output_type": "stream",
     "text": [
      "safe region test FAILED, interval was [interval([-5584.508180793874, 7994.710975043832]), interval([-7902.970751832629, 5613.479000542001]), interval([-11146.146172941055, 9002.217790166424]), interval([-9510.611064770206, 7458.622574573421]), interval([-11563.672071942157, 6270.477143083172]), interval([-6596.104813362566, 6522.46237709049]), interval([-11858.945758035074, 5426.811983882955]), interval([-6846.167681722877, 7358.995740508499]), interval([-9959.762061751766, 4454.861052006466])]\n"
     ]
    }
   ],
   "source": [
    "if not check_intervals(output_interval, desired_interval):\n",
    "    print(f\"safe region test FAILED, interval was {output_interval}\")"
   ]
  },
  {
   "cell_type": "code",
   "execution_count": 23,
   "id": "3616bcc5-455a-410b-a03e-c9b90352dee3",
   "metadata": {},
   "outputs": [
    {
     "name": "stdout",
     "output_type": "stream",
     "text": [
      "\n",
      "Projecting weights at epoch 0.\n"
     ]
    }
   ],
   "source": [
    "if epoch % EPOCH_TO_PROJECT == 0:\n",
    "    print(f\"\\nProjecting weights at epoch {epoch}.\")\n",
    "    weights = model.layers[-1].weights\n",
    "    \n",
    "    intervals_to_project = []\n",
    "    assert type(output_interval) == type(desired_interval)\n",
    "    if type(output_interval) is list:\n",
    "        assert len(output_interval) == len(desired_interval)\n",
    "        for i in range(len(output_interval)):\n",
    "            if desired_interval[i] is not None and output_interval[i] not in desired_interval[i]:\n",
    "                intervals_to_project.append(i)\n",
    "    else:\n",
    "        intervals_to_project.append(0)"
   ]
  },
  {
   "cell_type": "code",
   "execution_count": 24,
   "id": "773191dd-bc0e-465f-8d4a-9d807075cbd5",
   "metadata": {},
   "outputs": [
    {
     "data": {
      "text/plain": [
       "[0, 7]"
      ]
     },
     "execution_count": 24,
     "metadata": {},
     "output_type": "execute_result"
    }
   ],
   "source": [
    "intervals_to_project"
   ]
  },
  {
   "cell_type": "code",
   "execution_count": 41,
   "id": "6fa87c06-118b-488a-93b7-fcab3ca3c08c",
   "metadata": {},
   "outputs": [
    {
     "data": {
      "text/plain": [
       "[<tf.Variable 'dense_13/kernel:0' shape=(45, 9) dtype=float32, numpy=\n",
       " array([[ 0.03942439,  0.33321533,  0.4482844 ,  0.21958579,  0.9443816 ,\n",
       "          0.3140624 ,  0.25886098,  0.09848318,  0.40925547],\n",
       "        [-0.6124311 ,  0.26229328,  0.2642309 ,  0.10484258,  0.12010924,\n",
       "         -0.1739827 ,  0.20271666,  0.07693958, -0.11393648],\n",
       "        [-0.18324462, -0.39377138,  0.2667933 ,  0.250268  ,  0.35068864,\n",
       "          0.10769755, -0.23915434,  0.27487418, -0.05766522],\n",
       "        [ 0.37017465, -0.14836311, -0.04202354,  0.10501212, -0.10738994,\n",
       "         -0.16520362, -0.14229111,  0.00308613,  0.188874  ],\n",
       "        [-0.06335454, -0.4276046 ,  0.23788382, -0.45187384, -0.3388332 ,\n",
       "         -0.32573277, -0.30852467, -0.16509883,  0.02480486],\n",
       "        [-0.3488834 , -0.00445438, -0.21839443,  0.2414549 , -0.26131445,\n",
       "         -0.03585581, -0.34045488,  0.03856819, -0.01146971],\n",
       "        [ 0.3392895 , -0.31380722, -0.13589667, -0.08578171,  0.00874358,\n",
       "         -0.25384882,  0.27856746, -0.00850692,  0.25557774],\n",
       "        [ 0.1650918 , -0.22562674,  0.3861197 ,  0.10781264,  0.06496987,\n",
       "          0.1000014 ,  0.27736598,  0.17529978, -0.2884641 ],\n",
       "        [ 0.3710678 , -0.11933456,  0.04425591,  0.04069988, -0.31181103,\n",
       "          0.19524634, -0.33648622,  0.20034891, -0.0527195 ],\n",
       "        [-0.00829957,  0.20012872,  0.10017549,  0.21348926,  0.23061176,\n",
       "         -0.03238827,  0.3181213 ,  0.19163598, -0.04981706],\n",
       "        [-0.1246558 ,  0.05277604,  0.26130426,  0.28939724,  0.19153365,\n",
       "          0.05920491, -0.06397963,  0.31327233,  0.04647889],\n",
       "        [-0.308134  ,  0.02509625, -0.7846806 , -0.0999865 , -0.4582062 ,\n",
       "          0.25611335, -0.3761046 ,  0.4515588 , -0.41407916],\n",
       "        [ 0.07442454,  0.28323945, -0.28172728,  0.02072434, -0.0570527 ,\n",
       "         -0.23371992,  0.0535688 , -0.1245755 , -0.23788552],\n",
       "        [ 0.03110414, -0.13282588,  0.00816067,  0.08130513,  0.07336316,\n",
       "          0.2105774 ,  0.28802052, -0.03022388,  0.14345723],\n",
       "        [-0.33364585, -0.1331857 ,  0.03356659, -0.14760607,  0.00403854,\n",
       "          0.0255818 ,  0.4635301 ,  0.09295411,  0.2003622 ],\n",
       "        [-0.34130403, -0.15948358, -0.39661595,  0.22199091, -0.28065905,\n",
       "         -0.18885191, -0.41671184, -0.0315096 , -0.06658786],\n",
       "        [ 0.07751751, -0.14112562, -0.24575323, -0.3164032 , -0.06664445,\n",
       "          0.02428093,  0.01885905, -0.21070488, -0.32137722],\n",
       "        [-0.06251903,  0.09884614, -0.24570853,  0.26762083,  0.12682423,\n",
       "         -0.08692027, -0.2005021 , -0.25765285,  0.23591146],\n",
       "        [ 0.14351563, -0.4811087 ,  0.42660993, -0.26505223,  0.09674022,\n",
       "          0.48643142,  0.5215134 ,  0.47021732,  0.5120744 ],\n",
       "        [-0.10729069,  0.19082418, -0.25267756,  0.18575105, -0.3847574 ,\n",
       "         -0.2679672 ,  0.31784123, -0.05160411,  0.13442655],\n",
       "        [ 0.07971735,  0.16913089,  0.01632323, -0.7984933 , -0.08220499,\n",
       "          0.17617555,  0.16234216,  0.05052869,  0.17053166],\n",
       "        [ 0.11098543, -0.16572818,  0.05044436, -0.27069268, -0.01965269,\n",
       "         -0.1720864 , -0.10806346,  0.19602552,  0.11193457],\n",
       "        [-0.40912476,  0.05539713, -0.24901526, -0.01880779,  0.27179652,\n",
       "          0.18508375, -0.07181531,  0.18728337,  0.20775847],\n",
       "        [ 0.11649306,  0.10310754,  0.03727772, -0.01135618,  0.26031968,\n",
       "         -0.09693435,  0.09997382,  0.1955187 ,  0.16600098],\n",
       "        [-0.16919449,  0.31404668, -0.17102882,  0.3332153 , -0.06921187,\n",
       "          0.2728722 ,  0.4220794 ,  0.43264735,  0.38221997],\n",
       "        [ 0.09237438, -0.3818668 , -0.05601678,  0.39250743, -0.01728423,\n",
       "          0.361762  ,  0.00467299,  0.32438952, -0.09288464],\n",
       "        [-0.13308978,  0.3284482 , -0.13121574,  0.22241548,  0.06056285,\n",
       "          0.15680537,  0.10487127,  0.17374972, -0.2711978 ],\n",
       "        [-0.17952855,  0.22228153,  0.28682885, -0.19273564,  0.20837338,\n",
       "         -0.05460706, -0.23121707,  0.23413056,  0.2650695 ],\n",
       "        [ 0.04569219, -0.14925863, -0.32126552,  0.17684844, -0.6723807 ,\n",
       "         -0.17147705, -0.00473083,  0.23784404, -0.3308695 ],\n",
       "        [-0.10015909, -0.27416313,  0.24548621, -0.14228295, -0.23123033,\n",
       "         -0.1206788 , -0.11233355, -0.21354468, -0.00315993],\n",
       "        [-0.13179371,  0.16135211, -0.19542807, -0.16862798,  0.18592772,\n",
       "          0.21628226,  0.13058652, -0.19095807,  0.16584055],\n",
       "        [-0.01709867,  0.3927854 ,  0.12845242,  0.47471234,  0.0278394 ,\n",
       "          0.4935293 ,  0.11825889,  0.5488006 , -0.03565465],\n",
       "        [-0.01063925, -0.20759635,  0.536389  ,  0.16773127,  0.01684356,\n",
       "          0.12921247,  0.33831558,  0.49471846,  0.31022668],\n",
       "        [-0.32481274,  0.3128377 ,  0.20996818, -0.12654392, -0.30711207,\n",
       "          0.0032486 ,  0.32395914, -0.04412341,  0.0060195 ],\n",
       "        [ 0.18692982,  0.08545358,  0.24070787, -0.1938383 ,  0.11842514,\n",
       "         -0.19124085, -0.17554742, -0.17498662, -0.02685617],\n",
       "        [-0.14854527,  0.07383785, -0.08943444, -0.01612368,  0.12627631,\n",
       "          0.27444372, -0.37010825,  0.13230087, -0.24514367],\n",
       "        [-0.08550899, -0.25260052, -0.36311138,  0.32928783, -0.14728796,\n",
       "         -0.19929019,  0.15226305,  0.1589322 ,  0.01462778],\n",
       "        [ 0.04151714,  0.3165515 ,  0.6672845 ,  0.19555677,  0.32856262,\n",
       "          0.12053692,  0.45151854,  0.09478302, -0.16479075],\n",
       "        [ 0.28354126,  0.43011883, -0.2798269 ,  0.25666955,  0.34073994,\n",
       "          0.245131  , -0.10137063,  0.31791875,  0.33064902],\n",
       "        [-0.12024345, -0.11153289,  0.35544506,  0.7958435 , -0.01721735,\n",
       "         -0.06738853, -0.04862046,  0.14135383,  0.0936601 ],\n",
       "        [-0.09336283, -0.3878065 , -0.37495297, -0.0445263 ,  0.04566733,\n",
       "         -0.3777389 ,  0.10685413, -0.26594368, -0.27720675],\n",
       "        [-0.14308341,  0.14922544,  0.04611727, -0.04041411, -0.08051871,\n",
       "          0.07337706,  0.01584006, -0.36417606, -0.15790154],\n",
       "        [-0.07447216, -0.33152723,  0.14227396, -0.2936358 ,  0.21220785,\n",
       "         -0.35559803,  0.11387643, -0.08990493,  0.2212165 ],\n",
       "        [ 0.11878908, -0.31781685, -0.29527023,  0.14461283,  0.05261417,\n",
       "          0.306054  ,  0.30093017, -0.09598985,  0.25482488],\n",
       "        [ 0.22825216, -0.02518577, -0.16284463, -0.30370805, -0.11878832,\n",
       "          0.14574933,  0.14883268,  0.29264644, -0.11254788]],\n",
       "       dtype=float32)>,\n",
       " <tf.Variable 'dense_13/bias:0' shape=(9,) dtype=float32, numpy=\n",
       " array([ 0.01702375, -0.01381799,  0.00414154,  0.05387181,  0.0431052 ,\n",
       "        -0.11384217, -0.0549253 , -0.07289924, -0.07280885], dtype=float32)>]"
      ]
     },
     "execution_count": 41,
     "metadata": {},
     "output_type": "execute_result"
    }
   ],
   "source": [
    "weights_tf = model.layers[-1].weights\n",
    "weights_tf"
   ]
  },
  {
   "cell_type": "code",
   "execution_count": 42,
   "id": "9ef732bc-b0c4-4c17-b1c0-adce908306b4",
   "metadata": {},
   "outputs": [],
   "source": [
    "weights_np = weights[0].numpy()\n",
    "biases_np = weights[1].numpy()"
   ]
  },
  {
   "cell_type": "code",
   "execution_count": 43,
   "id": "43253709-c436-4b7e-bfc8-c9aaace794d1",
   "metadata": {},
   "outputs": [],
   "source": [
    "# penultimate_interval"
   ]
  },
  {
   "cell_type": "markdown",
   "id": "7f78848c-fa06-496f-8730-867c66813b88",
   "metadata": {},
   "source": [
    "### Long approach"
   ]
  },
  {
   "cell_type": "code",
   "execution_count": 44,
   "id": "8cd2a890-f6db-4f5f-b458-baa3a12850c4",
   "metadata": {},
   "outputs": [
    {
     "name": "stdout",
     "output_type": "stream",
     "text": [
      "[ 0.03942439 -0.6124311  -0.18324462  0.37017465 -0.06335454 -0.3488834\n",
      "  0.3392895   0.1650918   0.3710678  -0.00829957 -0.1246558  -0.308134\n",
      "  0.07442454  0.03110414 -0.33364585 -0.34130403  0.07751751 -0.06251903\n",
      "  0.14351563 -0.10729069  0.07971735  0.11098543 -0.40912476  0.11649306\n",
      " -0.16919449  0.09237438 -0.13308978 -0.17952855  0.04569219 -0.10015909\n",
      " -0.13179371 -0.01709867 -0.01063925 -0.32481274  0.18692982 -0.14854527\n",
      " -0.08550899  0.04151714  0.28354126 -0.12024345 -0.09336283 -0.14308341\n",
      " -0.07447216  0.11878908  0.22825216  0.01702375]\n",
      "(46,)\n",
      "solving took 0.017178773880004883 seconds\n",
      "optimization status: optimal\n",
      "interval after projection was interval([7000.000000251744, 14999.999999651764])\n",
      "[ 0.09848318  0.07693958  0.27487418  0.00308613 -0.16509883  0.03856819\n",
      " -0.00850692  0.17529978  0.20034891  0.19163598  0.31327233  0.4515588\n",
      " -0.1245755  -0.03022388  0.09295411 -0.0315096  -0.21070488 -0.25765285\n",
      "  0.47021732 -0.05160411  0.05052869  0.19602552  0.18728337  0.1955187\n",
      "  0.43264735  0.32438952  0.17374972  0.23413056  0.23784404 -0.21354468\n",
      " -0.19095807  0.5488006   0.49471846 -0.04412341 -0.17498662  0.13230087\n",
      "  0.1589322   0.09478302  0.31791875  0.14135383 -0.26594368 -0.36417606\n",
      " -0.08990493 -0.09598985  0.29264644 -0.07289924]\n",
      "(46,)\n",
      "solving took 0.016524076461791992 seconds\n",
      "optimization status: optimal\n",
      "interval after projection was interval([7000.000000054946, 14999.999999927679])\n"
     ]
    }
   ],
   "source": [
    "for idx in intervals_to_project:\n",
    "    weights_to_project = np.hstack([weights_np[:, idx], biases_np[idx]])\n",
    "    print(weights_to_project)\n",
    "    print(weights_to_project.shape)\n",
    "    lowers = []\n",
    "    uppers = []\n",
    "    for i, ivl in enumerate(penultimate_interval):\n",
    "        if weights_to_project[i] < 0:\n",
    "            # swap order if negative\n",
    "            lowers.append(ivl[0][1])\n",
    "            uppers.append(ivl[0][0])\n",
    "        else:\n",
    "            lowers.append(ivl[0][0])\n",
    "            uppers.append(ivl[0][1])\n",
    "\n",
    "    interval_combinations = [lowers, uppers]\n",
    "    constraint_vectors = [np.hstack([elem, 1]) for elem in interval_combinations]\n",
    "    x = cp.Variable(weights_to_project.shape)\n",
    "    constraints = []\n",
    "    for constraint_vector in constraint_vectors:\n",
    "        constraints.append(constraint_vector @ x >= desired_interval[0][0])\n",
    "        constraints.append(constraint_vector @ x <= desired_interval[0][1])\n",
    "\n",
    "    for i in range(len(weights_to_project)-1):\n",
    "        constraint_row = np.zeros(weights_to_project.shape)\n",
    "        np.put(constraint_row,i,1)\n",
    "        if weights_to_project[i] >= 0:\n",
    "            # enforce weight stays positive\n",
    "            constraints.append(constraint_row @ x >= 0)\n",
    "        else:\n",
    "            # enforce weight stays negative\n",
    "            constraints.append(constraint_row @ x <= 0)    \n",
    "\n",
    "    obj = cp.Minimize(cp.norm(x - weights_to_project))\n",
    "    prob = cp.Problem(obj, constraints)\n",
    "    t1 = time.time()\n",
    "    prob.solve()  # Returns the optimal value.\n",
    "    print(f\"solving took {time.time() - t1} seconds\")\n",
    "    print(f\"optimization status: {prob.status}\")\n",
    "    proj = x.value\n",
    "    # signs_proj = [\"+\" if weight >= 0 else \"-\" for weight in proj]\n",
    "    # print(proj)\n",
    "    # print(signs_proj)\n",
    "    # print(coc_weights)\n",
    "    # print(signs_orig)\n",
    "\n",
    "    proj_out = 0\n",
    "    for i, weight in enumerate(proj[:-1]):\n",
    "        proj_out += penultimate_interval[i] * weight\n",
    "    proj_out += proj[-1]\n",
    "    print(f\"interval after projection was {proj_out}\")\n",
    "\n",
    "    # sign_change_indices = []\n",
    "    # for i in range(len(signs_proj)):\n",
    "    #     if signs_proj[i] != signs_orig[i]:\n",
    "    #         sign_change_indices.append(i)\n",
    "    # print(f\"{len(sign_change_indices)} indices changed sign during projection: {sign_change_indices}\")\n",
    "\n",
    "    # print(f\"weights that flipped were originally {coc_weights[sign_change_indices]}\")"
   ]
  },
  {
   "cell_type": "markdown",
   "id": "19dcb909-acf3-45d0-af56-813e7c506156",
   "metadata": {},
   "source": [
    "### With function"
   ]
  },
  {
   "cell_type": "code",
   "execution_count": 113,
   "id": "1d96d135-7e2d-482d-9094-b325ca3b7cb8",
   "metadata": {},
   "outputs": [
    {
     "name": "stdout",
     "output_type": "stream",
     "text": [
      "interval after projection was interval([7000.000000012397, 14999.999999948317])\n",
      "interval after projection was interval([-1999.9999998197545, 5999.999999823131])\n"
     ]
    }
   ],
   "source": [
    "for idx in intervals_to_project:\n",
    "    weights_to_project = np.hstack([weights_np[:, idx], biases_np[idx]])\n",
    "    proj = project_weights(desired_interval[idx], \n",
    "                           penultimate_interval, \n",
    "                           weights_to_project)\n",
    "\n",
    "    proj_out = 0\n",
    "    for i, weight in enumerate(proj[:-1]):\n",
    "        proj_out += penultimate_interval[i] * weight\n",
    "    proj_out += proj[-1]\n",
    "    print(f\"interval after projection was {proj_out}\")\n",
    "    weights_np[:, idx] = proj[:-1]\n",
    "    biases_np[idx] = proj[-1]"
   ]
  },
  {
   "cell_type": "code",
   "execution_count": 104,
   "id": "3b3c6883-4598-4a10-bc96-53607d4997d7",
   "metadata": {},
   "outputs": [
    {
     "data": {
      "text/plain": [
       "-0.07289923727510303"
      ]
     },
     "execution_count": 104,
     "metadata": {},
     "output_type": "execute_result"
    }
   ],
   "source": [
    "proj[-1]"
   ]
  },
  {
   "cell_type": "code",
   "execution_count": 102,
   "id": "21ee3c91-5ac0-4247-8110-a0d952b1b759",
   "metadata": {},
   "outputs": [
    {
     "data": {
      "text/plain": [
       "array([ 0.01702375, -0.01381799,  0.00414154,  0.05387181,  0.0431052 ,\n",
       "       -0.11384217, -0.0549253 , -0.07289924, -0.07280885], dtype=float32)"
      ]
     },
     "execution_count": 102,
     "metadata": {},
     "output_type": "execute_result"
    }
   ],
   "source": [
    "biases_np"
   ]
  },
  {
   "cell_type": "code",
   "execution_count": 108,
   "id": "950a7bd1-db83-4244-96f3-042f08da202e",
   "metadata": {},
   "outputs": [
    {
     "data": {
      "text/plain": [
       "array([-3.50475312e-10,  4.45788145e-09,  1.19789600e-09,  4.36248780e-10,\n",
       "        3.65834236e-09,  3.03976060e-09, -1.80912015e-10,  2.72487641e-09,\n",
       "        3.16867828e-09])"
      ]
     },
     "execution_count": 108,
     "metadata": {},
     "output_type": "execute_result"
    }
   ],
   "source": [
    "biases_np - np.array([ 0.01702375, -0.01381799,  0.00414154,  0.05387181,  0.0431052 ,\n",
    "        -0.11384217, -0.0549253 , -0.07289924, -0.07280885])"
   ]
  },
  {
   "cell_type": "code",
   "execution_count": 114,
   "id": "eef392f3-bc7a-4521-b2c7-0925e4a9e362",
   "metadata": {},
   "outputs": [],
   "source": []
  },
  {
   "cell_type": "code",
   "execution_count": null,
   "id": "54e21b5e-7112-468d-81ee-71669c73463d",
   "metadata": {},
   "outputs": [],
   "source": []
  },
  {
   "cell_type": "code",
   "execution_count": null,
   "id": "0bef77a3-80fd-4611-9af7-79911840de4d",
   "metadata": {},
   "outputs": [],
   "source": [
    "# if epoch % EPOCH_TO_PROJECT == 0:\n",
    "#     print(f\"\\nProjecting weights at epoch {epoch}.\")\n",
    "#     weights = model.layers[-1].weights\n",
    "#     print(\n",
    "#         f\"Old weights: {np.squeeze(np.array([weight.numpy() for weight in weights]))}\"\n",
    "#     )\n",
    "#     projected_weights = project_weights(\n",
    "#         desired_interval,\n",
    "#         penultimate_interval,\n",
    "#         np.squeeze(np.array(weights)),\n",
    "#     )\n",
    "#     print(\n",
    "#         f\"Projected weights: {projected_weights} yield new interval: \"\n",
    "#         f\"{penultimate_interval * projected_weights[0] + projected_weights[1]}\"\n",
    "#     )\n",
    "#     proj_weight, proj_bias = projected_weights\n",
    "#     model.layers[-1].set_weights(\n",
    "#         [np.array([[proj_weight]]), np.array([proj_bias])]\n",
    "#     )\n",
    "#     # NOTE: assume positive weights\n",
    "#     # TODO: handle both signs of weights\n",
    "\n",
    "#     # print(optimizer.get_weights())\n",
    "#     # optimizer.set_weights(last_safe_weights)\n",
    "# else:\n",
    "#     print(f\"safe region test passed, interval was {output_interval}\")"
   ]
  },
  {
   "cell_type": "markdown",
   "id": "1148a4ca-319e-44a0-ae27-6eae8913b938",
   "metadata": {},
   "source": [
    "# Testing sign-aware projection\n",
    "\n",
    "Without this, there's exponential behavior in ordering the interval upper/lower bounds when generating constraints, which leads to overflow and crashes."
   ]
  },
  {
   "cell_type": "code",
   "execution_count": 9,
   "id": "4a2c2056-38b4-413d-8162-94799545b27e",
   "metadata": {},
   "outputs": [],
   "source": [
    "output_interval = [interval([-2260.4474587077575, 6254.7313829800505]),\n",
    " interval([-6016.414571449502, 6390.889435382497]),\n",
    " interval([-9953.235220686383, 6650.544893240611]),\n",
    " interval([-7094.378883646252, 4794.872261623323]),\n",
    " interval([-12704.856161526073, 6596.152293679708]),\n",
    " interval([-5798.244003059197, 2880.27408345843]),\n",
    " interval([-9798.605758997091, 1318.8253900765633]),\n",
    " interval([-6407.489985129032, 4301.543306242515]),\n",
    " interval([-9265.462345058428, 1938.5843370979335])]"
   ]
  },
  {
   "cell_type": "code",
   "execution_count": 6,
   "id": "01f1891a-5f90-4e97-8905-d3fded13025a",
   "metadata": {},
   "outputs": [],
   "source": [
    "penultimate_interval = [interval([0.0]),\n",
    " interval([0.0, 819.5987759636605]),\n",
    " interval([1793.8983103436944, 5135.115473013564]),\n",
    " interval([0.0, 1266.6192015630404]),\n",
    " interval([0.0, 619.6017242371151]),\n",
    " interval([0.0, 415.47149718984383]),\n",
    " interval([0.0]),\n",
    " interval([3075.4781304744565, 5922.017075416204]),\n",
    " interval([0.0]),\n",
    " interval([2137.2280533522735, 6631.173178877855]),\n",
    " interval([0.0, 1917.1150893599386]),\n",
    " interval([4101.028183273791, 7081.891725089374]),\n",
    " interval([0.0]),\n",
    " interval([0.0, 1656.6367083129612]),\n",
    " interval([0.0, 1574.770634945266]),\n",
    " interval([0.0]),\n",
    " interval([583.9612652168341, 3669.2950529701707]),\n",
    " interval([6433.8031595782995, 9827.780209452081]),\n",
    " interval([0.0]),\n",
    " interval([0.0, 2498.04643175089]),\n",
    " interval([0.0]),\n",
    " interval([0.0, 303.3991584563141]),\n",
    " interval([0.0, 2435.9732251930036]),\n",
    " interval([0.0, 678.1315665107659]),\n",
    " interval([0.0]),\n",
    " interval([0.0]),\n",
    " interval([0.0, 1853.624011731252]),\n",
    " interval([0.0]),\n",
    " interval([0.0, 1032.33090416972]),\n",
    " interval([0.0, 2013.1012942958077]),\n",
    " interval([0.0, 759.1690409388566]),\n",
    " interval([0.0]),\n",
    " interval([0.0, 2467.5971716121953]),\n",
    " interval([0.0]),\n",
    " interval([0.0]),\n",
    " interval([1984.2866849450206, 5191.768463778712]),\n",
    " interval([1041.2901222791538, 4408.43752449753]),\n",
    " interval([0.0, 1106.2138337778647]),\n",
    " interval([3452.5723961302288, 7176.104780478628]),\n",
    " interval([0.0]),\n",
    " interval([0.0]),\n",
    " interval([0.0]),\n",
    " interval([0.0, 1975.5321958608674]),\n",
    " interval([0.0, 3249.1000602527665]),\n",
    " interval([826.0656894685214, 3859.086128004272])]\n"
   ]
  },
  {
   "cell_type": "code",
   "execution_count": 83,
   "id": "802ea141-6065-4611-aa6d-9c4a94bc52ad",
   "metadata": {},
   "outputs": [
    {
     "data": {
      "text/plain": [
       "29"
      ]
     },
     "execution_count": 83,
     "metadata": {},
     "output_type": "execute_result"
    }
   ],
   "source": [
    "total = 0\n",
    "for ivl in penultimate_interval:\n",
    "    if ivl[0].inf != ivl[0].sup:\n",
    "        total += 1\n",
    "total"
   ]
  },
  {
   "cell_type": "code",
   "execution_count": 7,
   "id": "c0d0a51e-901d-45c9-95cf-8a1aa6826b70",
   "metadata": {
    "scrolled": true,
    "tags": []
   },
   "outputs": [
    {
     "ename": "NameError",
     "evalue": "name 'model' is not defined",
     "output_type": "error",
     "traceback": [
      "\u001b[0;31m---------------------------------------------------------------------------\u001b[0m",
      "\u001b[0;31mNameError\u001b[0m                                 Traceback (most recent call last)",
      "Cell \u001b[0;32mIn[7], line 1\u001b[0m\n\u001b[0;32m----> 1\u001b[0m weights_tf \u001b[38;5;241m=\u001b[39m \u001b[43mmodel\u001b[49m\u001b[38;5;241m.\u001b[39mlayers[\u001b[38;5;241m-\u001b[39m\u001b[38;5;241m1\u001b[39m]\u001b[38;5;241m.\u001b[39mweights\n\u001b[1;32m      2\u001b[0m weights_tf\n",
      "\u001b[0;31mNameError\u001b[0m: name 'model' is not defined"
     ]
    }
   ],
   "source": [
    "weights_tf = model.layers[-1].weights\n",
    "weights_tf"
   ]
  },
  {
   "cell_type": "code",
   "execution_count": 8,
   "id": "2a7805b3-547d-41c3-adc1-11e080f46c00",
   "metadata": {},
   "outputs": [],
   "source": [
    "biases = np.array([ 0.02029374,  0.02516603, -0.00994892,  0.0222788 ,  0.03571415,\n",
    "        -0.03154399, -0.04627901, -0.06161216, -0.03665822], dtype=np.float32)"
   ]
  },
  {
   "cell_type": "code",
   "execution_count": 9,
   "id": "8fcb59ec-ad6c-49ad-b8e7-4f7f7c96d939",
   "metadata": {},
   "outputs": [],
   "source": [
    "# weights = weights_tf[0].numpy()\n",
    "# biases = weights_tf[1].numpy()"
   ]
  },
  {
   "cell_type": "code",
   "execution_count": 10,
   "id": "a102757a-3083-45b3-ba04-a6ff41069718",
   "metadata": {
    "scrolled": true,
    "tags": []
   },
   "outputs": [
    {
     "ename": "NameError",
     "evalue": "name 'weights' is not defined",
     "output_type": "error",
     "traceback": [
      "\u001b[0;31m---------------------------------------------------------------------------\u001b[0m",
      "\u001b[0;31mNameError\u001b[0m                                 Traceback (most recent call last)",
      "Cell \u001b[0;32mIn[10], line 1\u001b[0m\n\u001b[0;32m----> 1\u001b[0m \u001b[43mweights\u001b[49m\n",
      "\u001b[0;31mNameError\u001b[0m: name 'weights' is not defined"
     ]
    }
   ],
   "source": [
    "weights"
   ]
  },
  {
   "cell_type": "code",
   "execution_count": 11,
   "id": "e7513bea-5ddd-4e71-8606-8241aee4fc8a",
   "metadata": {},
   "outputs": [],
   "source": [
    "weights = np.array([[-2.18333185e-01, -6.22537732e-01,  2.21074551e-01,\n",
    "         2.81378120e-01, -3.42588812e-01, -1.35613531e-01,\n",
    "         2.26456091e-01, -4.89725322e-02,  1.55175269e-01],\n",
    "       [-7.80020282e-02,  1.84624806e-01, -2.06005573e-01,\n",
    "        -2.80708075e-01, -1.92308322e-01, -2.32667681e-02,\n",
    "        -1.32379875e-01, -1.13545403e-01,  4.20658849e-02],\n",
    "       [ 3.25242668e-01,  2.08206803e-01, -2.44340464e-01,\n",
    "         4.69880290e-02, -8.35797489e-02, -9.36886370e-02,\n",
    "        -2.88362384e-01,  8.73668715e-02, -2.19115749e-01],\n",
    "       [ 6.59989938e-02, -2.75809139e-01, -2.87649482e-01,\n",
    "        -1.17637869e-02,  1.89444676e-01,  1.53859794e-01,\n",
    "        -3.66265863e-01, -1.88385010e-01, -2.47587577e-01],\n",
    "       [-2.26398073e-02, -7.94138312e-02,  3.55981328e-02,\n",
    "         1.64122730e-02,  1.10089600e-01, -3.57257545e-01,\n",
    "         1.00172698e-01, -2.59886473e-01, -7.50088990e-02],\n",
    "       [ 1.22164980e-01,  1.84817791e-01,  3.35091770e-01,\n",
    "         1.59232736e-01,  9.40671504e-01,  1.83394477e-01,\n",
    "         6.33978188e-01,  2.69225627e-01,  4.43191305e-02],\n",
    "       [ 1.23874284e-01, -7.60963321e-01,  2.16447443e-01,\n",
    "         9.79461614e-03, -1.79705516e-01,  2.44781569e-01,\n",
    "        -4.57653433e-01,  1.20109119e-01, -4.07250971e-01],\n",
    "       [ 1.95406318e-01, -3.75177860e-02, -9.90792662e-02,\n",
    "         1.56109244e-01, -2.43605152e-02, -4.01885323e-02,\n",
    "        -2.19734907e-01,  1.31267577e-01,  1.70661449e-01],\n",
    "       [-1.63188547e-01,  1.13966316e-01, -1.95072338e-01,\n",
    "         2.22682804e-01,  2.02822894e-01, -1.28788367e-01,\n",
    "         2.41370812e-01, -1.23383794e-02,  3.32103252e-01],\n",
    "       [ 2.06917614e-01, -2.44279459e-01,  2.33837232e-01,\n",
    "        -8.22154507e-02,  5.45158029e-01,  5.91765717e-02,\n",
    "        -1.32632509e-01,  5.79342712e-03, -1.58340812e-01],\n",
    "       [-1.94173846e-02, -8.92617553e-02,  3.14952023e-02,\n",
    "         1.58400118e-01, -9.32605118e-02, -2.49547705e-01,\n",
    "        -7.41416961e-02, -1.82480961e-01, -3.51565748e-01],\n",
    "       [-1.81181714e-01,  1.24213204e-01,  3.26778442e-01,\n",
    "         2.83223599e-01,  3.09085399e-01,  8.23983049e-04,\n",
    "         9.04635042e-02, -1.17769040e-01, -2.02945471e-01],\n",
    "       [-1.44330308e-01, -1.18324183e-01,  3.28021377e-01,\n",
    "         2.71635950e-01, -6.09208345e-02,  2.97052830e-01,\n",
    "        -3.01023751e-01,  2.73538560e-01, -3.04044578e-02],\n",
    "       [ 2.59534210e-01, -1.09424151e-01, -3.38585585e-01,\n",
    "         1.82545438e-01, -2.25749075e-01,  9.22391489e-02,\n",
    "        -3.10919583e-01, -6.68276940e-03, -3.21906447e-01],\n",
    "       [ 5.17473137e-03, -3.13345611e-01, -3.19618702e-01,\n",
    "         9.60708261e-02, -1.36055395e-01, -1.99087515e-01,\n",
    "        -2.31793806e-01, -2.40505308e-01,  1.27362564e-01],\n",
    "       [ 3.31301123e-01,  2.14412868e-01,  2.41997942e-01,\n",
    "        -2.97525108e-01,  2.83577353e-01, -1.20311894e-01,\n",
    "        -2.16134906e-01, -7.20312670e-02, -1.80560634e-01],\n",
    "       [ 1.00366406e-01,  8.68945345e-02,  5.08864224e-01,\n",
    "        -8.82767588e-02,  2.21465349e-01,  1.27713546e-01,\n",
    "         1.66512132e-01,  2.80042440e-01,  2.09720016e-01],\n",
    "       [-8.25255141e-02,  2.08994180e-01, -1.06837042e-01,\n",
    "        -3.48510087e-01,  1.65712997e-01,  5.54096960e-02,\n",
    "        -2.23641351e-01, -1.34909645e-01,  1.42787054e-01],\n",
    "       [ 5.75565696e-02, -1.30275607e-01,  1.53723851e-01,\n",
    "         6.93859011e-02,  1.21206596e-01, -4.80810642e-01,\n",
    "         1.81184098e-01, -1.33630246e-01, -4.38138805e-02],\n",
    "       [ 2.08370045e-01, -1.14298493e-01, -3.69961977e-01,\n",
    "         2.42887437e-01, -2.56165117e-01, -1.58821285e-01,\n",
    "        -1.33631811e-01, -2.66872495e-01, -1.93805426e-01],\n",
    "       [ 2.31464937e-01, -2.00037897e-01, -9.73619148e-02,\n",
    "        -1.38476733e-02, -1.08140670e-01,  1.65265948e-01,\n",
    "        -3.24441403e-01,  6.50982857e-02, -4.67101522e-02],\n",
    "       [-1.90033093e-01,  1.23496808e-01,  1.61776051e-01,\n",
    "         2.52557814e-01, -9.94549915e-02, -2.37577006e-01,\n",
    "        -4.21294183e-01, -3.26920003e-01, -3.99972737e-01],\n",
    "       [ 6.46226406e-02,  4.30513531e-01,  6.03858411e-01,\n",
    "         2.00238988e-01, -5.85108757e-01,  2.63956100e-01,\n",
    "        -2.39661992e-01,  3.70001256e-01,  1.52438518e-03],\n",
    "       [-9.31944400e-02, -8.26838836e-02, -6.73755169e-01,\n",
    "         2.83440262e-01,  2.62795925e-01,  3.88941281e-02,\n",
    "         7.57192895e-02,  2.93633670e-01,  3.45981792e-02],\n",
    "       [ 6.81845471e-02,  1.09168386e+00,  1.05029099e-01,\n",
    "        -2.54411012e-01,  1.64576210e-02, -1.89687952e-01,\n",
    "         3.78965408e-01, -8.45094249e-02,  5.14775932e-01],\n",
    "       [-4.61942375e-01,  3.31163555e-01,  2.42191777e-01,\n",
    "         6.87528670e-01,  8.14082503e-01,  5.10007143e-01,\n",
    "         1.49687365e-01,  7.52033234e-01, -1.11784734e-01],\n",
    "       [ 2.26745844e-01, -1.09356120e-01,  2.09188864e-01,\n",
    "        -4.04216275e-02,  1.08391261e-02,  4.20173764e-01,\n",
    "        -9.14842784e-02,  1.93628147e-01,  1.43444613e-01],\n",
    "       [-1.15132309e-01, -4.05952066e-01, -2.71949738e-01,\n",
    "        -8.71486962e-01, -1.87376700e-02, -6.23992383e-01,\n",
    "        -2.22074598e-01, -4.42703187e-01, -2.80767620e-01],\n",
    "       [ 1.46180779e-01, -2.49077275e-01,  3.21082503e-01,\n",
    "        -2.36125201e-01, -2.65160471e-01, -8.94395337e-02,\n",
    "         2.09774688e-01,  7.95840845e-02,  1.56208560e-01],\n",
    "       [-1.69284314e-01,  1.83424041e-01, -2.43965670e-01,\n",
    "        -1.93748966e-01, -1.10006414e-01, -1.56479195e-01,\n",
    "        -5.34699522e-02,  1.55114755e-01,  7.76661485e-02],\n",
    "       [ 1.22987730e-02,  4.65242833e-01,  7.47196138e-01,\n",
    "         1.30903170e-01, -4.23293173e-01, -1.56462565e-01,\n",
    "        -2.46845603e-01, -1.62104413e-01, -3.49277705e-01],\n",
    "       [ 1.70015275e-01, -5.05107418e-02,  3.04429293e-01,\n",
    "        -1.24148719e-01,  2.32333273e-01, -3.97730395e-02,\n",
    "         1.49569184e-01, -2.15683296e-01, -2.29605168e-01],\n",
    "       [ 6.79151639e-02,  4.13440436e-01,  1.61887348e-01,\n",
    "         4.98310849e-02, -2.39159569e-01,  8.79221335e-02,\n",
    "         1.40931889e-01,  1.85430586e-01,  1.25922292e-01],\n",
    "       [-1.32595026e+00, -4.14898098e-01, -2.27178901e-01,\n",
    "        -6.88801527e-01, -2.12719336e-01, -1.09122984e-01,\n",
    "        -4.35671955e-01, -1.99768826e-01, -5.75941026e-01],\n",
    "       [ 2.47517675e-01, -2.27498859e-01, -3.69096309e-01,\n",
    "         3.40145111e-01,  1.33959860e-01,  2.69096255e-01,\n",
    "        -2.35959262e-01,  3.04200709e-01,  1.87855437e-01],\n",
    "       [ 9.53822136e-02, -4.02931094e-01, -3.78945678e-01,\n",
    "         1.03416838e-01,  1.60253108e-01, -2.01285541e-01,\n",
    "        -1.38552025e-01, -2.54651874e-01, -6.18772097e-02],\n",
    "       [-2.67294586e-01,  1.70651451e-01, -2.25227758e-01,\n",
    "         2.27904201e-01,  1.86727703e-01, -1.42123610e-01,\n",
    "         2.36901984e-01,  4.01180573e-02, -1.36436522e-01],\n",
    "       [-2.75177270e-01,  8.00679401e-02, -2.73740649e-01,\n",
    "        -1.17558278e-01, -2.55102605e-01,  6.63628057e-02,\n",
    "        -2.14794636e-01, -1.42564565e-01, -2.25268364e-01],\n",
    "       [ 1.31988842e-02, -2.76278943e-01, -4.28179093e-02,\n",
    "        -1.94231257e-01, -1.03825450e+00, -5.81424162e-02,\n",
    "         4.70544677e-03,  1.94466725e-01, -4.12654847e-01],\n",
    "       [-6.15995750e-02,  2.74473399e-01,  3.35875452e-01,\n",
    "        -1.70225635e-01,  2.97078907e-01,  2.29435071e-01,\n",
    "        -6.08222634e-02,  1.99780628e-01,  9.35441554e-02],\n",
    "       [ 2.63991468e-02,  3.80530924e-01,  2.08077267e-01,\n",
    "         1.90854684e-01,  2.13240102e-01, -2.90596008e-01,\n",
    "         9.32675898e-02, -6.29713535e-01,  6.19140118e-02],\n",
    "       [-2.98447967e-01, -3.95439714e-01,  2.90056288e-01,\n",
    "        -3.05374473e-01,  2.33175918e-01, -1.55882984e-01,\n",
    "        -2.72583991e-01, -8.54920894e-02, -2.77933031e-02],\n",
    "       [ 1.88610494e-01, -2.88837016e-01,  1.01828352e-01,\n",
    "        -7.75025308e-01, -2.17118904e-01,  1.60104305e-01,\n",
    "        -3.91527802e-01,  9.97925363e-03, -3.67626190e-01],\n",
    "       [ 8.74033049e-02,  8.59348699e-02, -4.55133140e-01,\n",
    "         3.10212314e-01, -5.70085764e-01, -4.71005231e-01,\n",
    "         1.44063056e-01, -4.30299133e-01,  1.43832803e-01],\n",
    "       [-6.95287669e-03,  7.33533874e-02, -1.76221326e-01,\n",
    "        -2.48765975e-01, -4.74544019e-01,  7.75902998e-03,\n",
    "         1.99589327e-01, -1.80854067e-01,  9.49213728e-02]], dtype=np.float32)"
   ]
  },
  {
   "cell_type": "code",
   "execution_count": 12,
   "id": "aa7c77bf-fdb6-474e-a3ef-f68e6bfc0db2",
   "metadata": {},
   "outputs": [
    {
     "data": {
      "text/plain": [
       "(45, 9)"
      ]
     },
     "execution_count": 12,
     "metadata": {},
     "output_type": "execute_result"
    }
   ],
   "source": [
    "weights.shape"
   ]
  },
  {
   "cell_type": "code",
   "execution_count": 13,
   "id": "7d0026d9-b03f-401a-be0e-0b10363e0aac",
   "metadata": {},
   "outputs": [
    {
     "data": {
      "text/plain": [
       "(9,)"
      ]
     },
     "execution_count": 13,
     "metadata": {},
     "output_type": "execute_result"
    }
   ],
   "source": [
    "biases.shape"
   ]
  },
  {
   "cell_type": "code",
   "execution_count": 14,
   "id": "7f69ee8f-030c-40d9-a267-2f5e6c8869d4",
   "metadata": {},
   "outputs": [],
   "source": [
    "COC = 0"
   ]
  },
  {
   "cell_type": "code",
   "execution_count": 15,
   "id": "12580732-fddc-4ec4-a0c6-338bef61d841",
   "metadata": {},
   "outputs": [
    {
     "data": {
      "text/plain": [
       "array([-0.21833318, -0.07800203,  0.32524267,  0.06599899, -0.02263981,\n",
       "        0.12216498,  0.12387428,  0.19540632, -0.16318855,  0.20691761,\n",
       "       -0.01941738, -0.18118171, -0.14433031,  0.2595342 ,  0.00517473,\n",
       "        0.33130112,  0.10036641, -0.08252551,  0.05755657,  0.20837004,\n",
       "        0.23146494, -0.1900331 ,  0.06462264, -0.09319444,  0.06818455,\n",
       "       -0.46194237,  0.22674584, -0.11513231,  0.14618078, -0.16928431,\n",
       "        0.01229877,  0.17001528,  0.06791516, -1.3259503 ,  0.24751768,\n",
       "        0.09538221, -0.2672946 , -0.27517727,  0.01319888, -0.06159957,\n",
       "        0.02639915, -0.29844797,  0.1886105 ,  0.0874033 , -0.00695288],\n",
       "      dtype=float32)"
      ]
     },
     "execution_count": 15,
     "metadata": {},
     "output_type": "execute_result"
    }
   ],
   "source": [
    "weights[:, COC]"
   ]
  },
  {
   "cell_type": "code",
   "execution_count": 16,
   "id": "32307bc0-34df-4de7-b7b7-c412128be658",
   "metadata": {},
   "outputs": [
    {
     "data": {
      "text/plain": [
       "0.02029374"
      ]
     },
     "execution_count": 16,
     "metadata": {},
     "output_type": "execute_result"
    }
   ],
   "source": [
    "biases[COC]"
   ]
  },
  {
   "cell_type": "code",
   "execution_count": 17,
   "id": "01480726-44cb-403c-ac4c-cb9742dec683",
   "metadata": {},
   "outputs": [
    {
     "data": {
      "text/plain": [
       "(46,)"
      ]
     },
     "execution_count": 17,
     "metadata": {},
     "output_type": "execute_result"
    }
   ],
   "source": [
    "coc_weights = np.hstack([weights[:, COC], biases[COC]])\n",
    "coc_weights.shape"
   ]
  },
  {
   "cell_type": "code",
   "execution_count": 34,
   "id": "d83d67db-5a0e-417f-ac42-cfdfebedfb72",
   "metadata": {},
   "outputs": [
    {
     "data": {
      "text/plain": [
       "array([-0.21833318, -0.07800203,  0.32524267,  0.06599899, -0.02263981,\n",
       "        0.12216498,  0.12387428,  0.19540632, -0.16318855,  0.20691761,\n",
       "       -0.01941738, -0.18118171, -0.14433031,  0.2595342 ,  0.00517473,\n",
       "        0.33130112,  0.10036641, -0.08252551,  0.05755657,  0.20837004,\n",
       "        0.23146494, -0.1900331 ,  0.06462264, -0.09319444,  0.06818455,\n",
       "       -0.46194237,  0.22674584, -0.11513231,  0.14618078, -0.16928431,\n",
       "        0.01229877,  0.17001528,  0.06791516, -1.3259503 ,  0.24751768,\n",
       "        0.09538221, -0.2672946 , -0.27517727,  0.01319888, -0.06159957,\n",
       "        0.02639915, -0.29844797,  0.1886105 ,  0.0874033 , -0.00695288,\n",
       "        0.02029374], dtype=float32)"
      ]
     },
     "execution_count": 34,
     "metadata": {},
     "output_type": "execute_result"
    }
   ],
   "source": [
    "coc_weights"
   ]
  },
  {
   "cell_type": "code",
   "execution_count": 18,
   "id": "b7e23719-d4ef-45c8-b47e-1313cb11f3f4",
   "metadata": {},
   "outputs": [
    {
     "data": {
      "text/plain": [
       "[interval([0.0]),\n",
       " interval([0.0, 819.5987759636605]),\n",
       " interval([1793.8983103436944, 5135.115473013564]),\n",
       " interval([0.0, 1266.6192015630404]),\n",
       " interval([0.0, 619.6017242371151]),\n",
       " interval([0.0, 415.47149718984383]),\n",
       " interval([0.0]),\n",
       " interval([3075.4781304744565, 5922.017075416204]),\n",
       " interval([0.0]),\n",
       " interval([2137.2280533522735, 6631.173178877855]),\n",
       " interval([0.0, 1917.1150893599386]),\n",
       " interval([4101.028183273791, 7081.891725089374]),\n",
       " interval([0.0]),\n",
       " interval([0.0, 1656.6367083129612]),\n",
       " interval([0.0, 1574.770634945266]),\n",
       " interval([0.0]),\n",
       " interval([583.9612652168341, 3669.2950529701707]),\n",
       " interval([6433.8031595782995, 9827.780209452081]),\n",
       " interval([0.0]),\n",
       " interval([0.0, 2498.04643175089]),\n",
       " interval([0.0]),\n",
       " interval([0.0, 303.3991584563141]),\n",
       " interval([0.0, 2435.9732251930036]),\n",
       " interval([0.0, 678.1315665107659]),\n",
       " interval([0.0]),\n",
       " interval([0.0]),\n",
       " interval([0.0, 1853.624011731252]),\n",
       " interval([0.0]),\n",
       " interval([0.0, 1032.33090416972]),\n",
       " interval([0.0, 2013.1012942958077]),\n",
       " interval([0.0, 759.1690409388566]),\n",
       " interval([0.0]),\n",
       " interval([0.0, 2467.5971716121953]),\n",
       " interval([0.0]),\n",
       " interval([0.0]),\n",
       " interval([1984.2866849450206, 5191.768463778712]),\n",
       " interval([1041.2901222791538, 4408.43752449753]),\n",
       " interval([0.0, 1106.2138337778647]),\n",
       " interval([3452.5723961302288, 7176.104780478628]),\n",
       " interval([0.0]),\n",
       " interval([0.0]),\n",
       " interval([0.0]),\n",
       " interval([0.0, 1975.5321958608674]),\n",
       " interval([0.0, 3249.1000602527665]),\n",
       " interval([826.0656894685214, 3859.086128004272])]"
      ]
     },
     "execution_count": 18,
     "metadata": {},
     "output_type": "execute_result"
    }
   ],
   "source": [
    "penultimate_interval"
   ]
  },
  {
   "cell_type": "code",
   "execution_count": null,
   "id": "70e732c6-66b4-45da-a64a-e06c4db63ef1",
   "metadata": {},
   "outputs": [],
   "source": []
  },
  {
   "cell_type": "code",
   "execution_count": 33,
   "id": "1dd8ce03-02b9-4702-9741-33129f6c9826",
   "metadata": {},
   "outputs": [
    {
     "data": {
      "text/plain": [
       "45"
      ]
     },
     "execution_count": 33,
     "metadata": {},
     "output_type": "execute_result"
    }
   ],
   "source": [
    "len(penultimate_interval)"
   ]
  },
  {
   "cell_type": "code",
   "execution_count": 19,
   "id": "e8ab0ad3-3048-419e-9c96-ea9169b9e38e",
   "metadata": {},
   "outputs": [],
   "source": [
    "goal_interval = interval[7000, 10000]"
   ]
  },
  {
   "cell_type": "code",
   "execution_count": 20,
   "id": "f7dead74-dba2-4bf6-a93f-8ab2d9cd173b",
   "metadata": {},
   "outputs": [],
   "source": [
    "# proj = project_weights(goal_interval, penultimate_interval, coc_weights, verbose=False)\n",
    "# proj"
   ]
  },
  {
   "cell_type": "code",
   "execution_count": 21,
   "id": "055650fe-8512-4b0f-9c4c-972ea842631c",
   "metadata": {},
   "outputs": [],
   "source": [
    "import itertools"
   ]
  },
  {
   "cell_type": "code",
   "execution_count": null,
   "id": "24735f1b-2b6c-492c-bd39-600758abab53",
   "metadata": {},
   "outputs": [],
   "source": [
    "# elems = []\n",
    "# for elem in penultimate_interval:\n",
    "#     if elem[0][0] == elem[0][1]:\n",
    "#         elems.append((elem[0][0],))\n",
    "#     else:\n",
    "#         elems.append(elem[0])\n",
    "# interval_combinations = itertools.product(*elems)"
   ]
  },
  {
   "cell_type": "code",
   "execution_count": 85,
   "id": "6e80d6b5-4fea-49f0-91d3-f626b1f6cfb1",
   "metadata": {},
   "outputs": [
    {
     "ename": "KeyboardInterrupt",
     "evalue": "",
     "output_type": "error",
     "traceback": [
      "\u001b[0;31m---------------------------------------------------------------------------\u001b[0m",
      "\u001b[0;31mKeyboardInterrupt\u001b[0m                         Traceback (most recent call last)",
      "Cell \u001b[0;32mIn[85], line 1\u001b[0m\n\u001b[0;32m----> 1\u001b[0m constraint_vectors \u001b[38;5;241m=\u001b[39m [np\u001b[38;5;241m.\u001b[39mhstack([elem, \u001b[38;5;241m1\u001b[39m]) \u001b[38;5;28;01mfor\u001b[39;00m elem \u001b[38;5;129;01min\u001b[39;00m interval_combinations]\n",
      "Cell \u001b[0;32mIn[85], line 1\u001b[0m, in \u001b[0;36m<listcomp>\u001b[0;34m(.0)\u001b[0m\n\u001b[0;32m----> 1\u001b[0m constraint_vectors \u001b[38;5;241m=\u001b[39m [\u001b[43mnp\u001b[49m\u001b[38;5;241;43m.\u001b[39;49m\u001b[43mhstack\u001b[49m\u001b[43m(\u001b[49m\u001b[43m[\u001b[49m\u001b[43melem\u001b[49m\u001b[43m,\u001b[49m\u001b[43m \u001b[49m\u001b[38;5;241;43m1\u001b[39;49m\u001b[43m]\u001b[49m\u001b[43m)\u001b[49m \u001b[38;5;28;01mfor\u001b[39;00m elem \u001b[38;5;129;01min\u001b[39;00m interval_combinations]\n",
      "File \u001b[0;32m<__array_function__ internals>:180\u001b[0m, in \u001b[0;36mhstack\u001b[0;34m(*args, **kwargs)\u001b[0m\n",
      "File \u001b[0;32m~/miniforge3/envs/mlp/lib/python3.10/site-packages/numpy/core/shape_base.py:338\u001b[0m, in \u001b[0;36mhstack\u001b[0;34m(tup)\u001b[0m\n\u001b[1;32m    334\u001b[0m \u001b[38;5;28;01mif\u001b[39;00m \u001b[38;5;129;01mnot\u001b[39;00m overrides\u001b[38;5;241m.\u001b[39mARRAY_FUNCTION_ENABLED:\n\u001b[1;32m    335\u001b[0m     \u001b[38;5;66;03m# raise warning if necessary\u001b[39;00m\n\u001b[1;32m    336\u001b[0m     _arrays_for_stack_dispatcher(tup, stacklevel\u001b[38;5;241m=\u001b[39m\u001b[38;5;241m2\u001b[39m)\n\u001b[0;32m--> 338\u001b[0m arrs \u001b[38;5;241m=\u001b[39m \u001b[43matleast_1d\u001b[49m\u001b[43m(\u001b[49m\u001b[38;5;241;43m*\u001b[39;49m\u001b[43mtup\u001b[49m\u001b[43m)\u001b[49m\n\u001b[1;32m    339\u001b[0m \u001b[38;5;28;01mif\u001b[39;00m \u001b[38;5;129;01mnot\u001b[39;00m \u001b[38;5;28misinstance\u001b[39m(arrs, \u001b[38;5;28mlist\u001b[39m):\n\u001b[1;32m    340\u001b[0m     arrs \u001b[38;5;241m=\u001b[39m [arrs]\n",
      "File \u001b[0;32m<__array_function__ internals>:180\u001b[0m, in \u001b[0;36matleast_1d\u001b[0;34m(*args, **kwargs)\u001b[0m\n",
      "File \u001b[0;32m~/miniforge3/envs/mlp/lib/python3.10/site-packages/numpy/core/shape_base.py:65\u001b[0m, in \u001b[0;36matleast_1d\u001b[0;34m(*arys)\u001b[0m\n\u001b[1;32m     63\u001b[0m res \u001b[38;5;241m=\u001b[39m []\n\u001b[1;32m     64\u001b[0m \u001b[38;5;28;01mfor\u001b[39;00m ary \u001b[38;5;129;01min\u001b[39;00m arys:\n\u001b[0;32m---> 65\u001b[0m     ary \u001b[38;5;241m=\u001b[39m \u001b[43masanyarray\u001b[49m\u001b[43m(\u001b[49m\u001b[43mary\u001b[49m\u001b[43m)\u001b[49m\n\u001b[1;32m     66\u001b[0m     \u001b[38;5;28;01mif\u001b[39;00m ary\u001b[38;5;241m.\u001b[39mndim \u001b[38;5;241m==\u001b[39m \u001b[38;5;241m0\u001b[39m:\n\u001b[1;32m     67\u001b[0m         result \u001b[38;5;241m=\u001b[39m ary\u001b[38;5;241m.\u001b[39mreshape(\u001b[38;5;241m1\u001b[39m)\n",
      "\u001b[0;31mKeyboardInterrupt\u001b[0m: "
     ]
    }
   ],
   "source": [
    "# constraint_vectors = [np.hstack([elem, 1]) for elem in interval_combinations]"
   ]
  },
  {
   "cell_type": "code",
   "execution_count": 23,
   "id": "3f2aeb99-425e-4a06-b0f5-b44997700d53",
   "metadata": {},
   "outputs": [],
   "source": [
    "x = cp.Variable(coc_weights.shape)"
   ]
  },
  {
   "cell_type": "markdown",
   "id": "e226f66f-5615-4fb4-ba0b-e0058aa7ce60",
   "metadata": {},
   "source": [
    "## Sign-aware constraints"
   ]
  },
  {
   "cell_type": "code",
   "execution_count": 122,
   "id": "ce7cc263-05ef-4321-9b91-92d15e6f7be5",
   "metadata": {},
   "outputs": [],
   "source": [
    "import time"
   ]
  },
  {
   "cell_type": "code",
   "execution_count": 124,
   "id": "06660bfc-ad4c-4b99-8272-a209b7f08cca",
   "metadata": {},
   "outputs": [
    {
     "name": "stdout",
     "output_type": "stream",
     "text": [
      "solving took 0.019882917404174805 seconds\n",
      "optimization status: optimal\n",
      "interval after projection was interval([6999.999822849806, 10000.000167928847])\n"
     ]
    }
   ],
   "source": [
    "lowers = []\n",
    "uppers = []\n",
    "signs_orig = []\n",
    "# for i, ivl in enumerate(penultimate_interval):\n",
    "#     if coc_weights[i] < 0:\n",
    "#         # swap order if negative\n",
    "#         lowers.append(ivl[0][1])\n",
    "#         uppers.append(ivl[0][0])\n",
    "#         signs_orig.append(\"-\")\n",
    "#     else:\n",
    "#         lowers.append(ivl[0][0])\n",
    "#         uppers.append(ivl[0][1])\n",
    "#         signs_orig.append(\"+\")\n",
    "        \n",
    "for i, ivl in enumerate(penultimate_interval):\n",
    "    signs_orig.append(\"-\" if coc_weights[i] < 0 else \"+\")\n",
    "    if coc_weights[i] < 0:\n",
    "        # swap order if negative\n",
    "        lowers.append(ivl[0][1])\n",
    "        uppers.append(ivl[0][0])\n",
    "#     elif np.abs(coc_weights[i]) <= 0.1:\n",
    "#         # do both, if very small\n",
    "#         lowers.append(ivl[0][1])\n",
    "#         uppers.append(ivl[0][0])\n",
    "        \n",
    "#         # # also add positive weights? causes bug \n",
    "#         # lowers.append(ivl[0][0])\n",
    "#         # uppers.append(ivl[0][1])\n",
    "    else:\n",
    "        lowers.append(ivl[0][0])\n",
    "        uppers.append(ivl[0][1])\n",
    "        \n",
    "# also account for bias\n",
    "signs_orig.append(\"+\" if coc_weights[i] > 0 else \"-\")\n",
    "\n",
    "interval_combinations = [lowers, uppers]\n",
    "constraint_vectors = [np.hstack([elem, 1]) for elem in interval_combinations]\n",
    "x = cp.Variable(coc_weights.shape)\n",
    "constraints = []\n",
    "for constraint_vector in constraint_vectors:\n",
    "    constraints.append(constraint_vector @ x >= goal_interval[0][0])\n",
    "    constraints.append(constraint_vector @ x <= goal_interval[0][1])\n",
    "    \n",
    "for i in range(len(coc_weights)-1):\n",
    "    constraint_row = np.zeros(coc_weights.shape)\n",
    "    np.put(constraint_row,i,1)\n",
    "    if coc_weights[i] >= 0:\n",
    "        # enforce weight stays positive\n",
    "        constraints.append(constraint_row @ x >= 0)\n",
    "    else:\n",
    "        # enforce weight stays negative\n",
    "        constraints.append(constraint_row @ x <= 0)    \n",
    "\n",
    "obj = cp.Minimize(cp.norm(x - coc_weights))\n",
    "prob = cp.Problem(obj, constraints)\n",
    "t1 = time.time()\n",
    "prob.solve()  # Returns the optimal value.\n",
    "print(f\"solving took {time.time() - t1} seconds\")\n",
    "print(f\"optimization status: {prob.status}\")\n",
    "proj = x.value\n",
    "# signs_proj = [\"+\" if weight >= 0 else \"-\" for weight in proj]\n",
    "# print(proj)\n",
    "# print(signs_proj)\n",
    "# print(coc_weights)\n",
    "# print(signs_orig)\n",
    "\n",
    "proj_out = 0\n",
    "for i, weight in enumerate(proj[:-1]):\n",
    "    proj_out += penultimate_interval[i] * weight\n",
    "proj_out += proj[-1]\n",
    "print(f\"interval after projection was {proj_out}\")\n",
    "\n",
    "# sign_change_indices = []\n",
    "# for i in range(len(signs_proj)):\n",
    "#     if signs_proj[i] != signs_orig[i]:\n",
    "#         sign_change_indices.append(i)\n",
    "# print(f\"{len(sign_change_indices)} indices changed sign during projection: {sign_change_indices}\")\n",
    "\n",
    "# print(f\"weights that flipped were originally {coc_weights[sign_change_indices]}\")"
   ]
  },
  {
   "cell_type": "code",
   "execution_count": 97,
   "id": "17c7e34e-e88f-4b35-941b-a6573c8f9c35",
   "metadata": {},
   "outputs": [
    {
     "data": {
      "text/plain": [
       "[array([0.00000000e+00, 8.19598776e+02, 1.79389831e+03, 0.00000000e+00,\n",
       "        6.19601724e+02, 0.00000000e+00, 0.00000000e+00, 3.07547813e+03,\n",
       "        0.00000000e+00, 2.13722805e+03, 1.91711509e+03, 7.08189173e+03,\n",
       "        0.00000000e+00, 0.00000000e+00, 0.00000000e+00, 0.00000000e+00,\n",
       "        5.83961265e+02, 9.82778021e+03, 0.00000000e+00, 0.00000000e+00,\n",
       "        0.00000000e+00, 3.03399158e+02, 0.00000000e+00, 6.78131567e+02,\n",
       "        0.00000000e+00, 0.00000000e+00, 0.00000000e+00, 0.00000000e+00,\n",
       "        0.00000000e+00, 2.01310129e+03, 0.00000000e+00, 0.00000000e+00,\n",
       "        0.00000000e+00, 0.00000000e+00, 0.00000000e+00, 1.98428668e+03,\n",
       "        4.40843752e+03, 1.10621383e+03, 3.45257240e+03, 0.00000000e+00,\n",
       "        0.00000000e+00, 0.00000000e+00, 0.00000000e+00, 0.00000000e+00,\n",
       "        3.85908613e+03, 1.00000000e+00]),\n",
       " array([0.00000000e+00, 0.00000000e+00, 5.13511547e+03, 1.26661920e+03,\n",
       "        0.00000000e+00, 4.15471497e+02, 0.00000000e+00, 5.92201708e+03,\n",
       "        0.00000000e+00, 6.63117318e+03, 0.00000000e+00, 4.10102818e+03,\n",
       "        0.00000000e+00, 1.65663671e+03, 1.57477063e+03, 0.00000000e+00,\n",
       "        3.66929505e+03, 6.43380316e+03, 0.00000000e+00, 2.49804643e+03,\n",
       "        0.00000000e+00, 0.00000000e+00, 2.43597323e+03, 0.00000000e+00,\n",
       "        0.00000000e+00, 0.00000000e+00, 1.85362401e+03, 0.00000000e+00,\n",
       "        1.03233090e+03, 0.00000000e+00, 7.59169041e+02, 0.00000000e+00,\n",
       "        2.46759717e+03, 0.00000000e+00, 0.00000000e+00, 5.19176846e+03,\n",
       "        1.04129012e+03, 0.00000000e+00, 7.17610478e+03, 0.00000000e+00,\n",
       "        0.00000000e+00, 0.00000000e+00, 1.97553220e+03, 3.24910006e+03,\n",
       "        8.26065689e+02, 1.00000000e+00])]"
      ]
     },
     "execution_count": 97,
     "metadata": {},
     "output_type": "execute_result"
    }
   ],
   "source": [
    "constraint_vectors"
   ]
  },
  {
   "cell_type": "markdown",
   "id": "f12cb681-9c21-41ed-99b4-a5f43f7924c2",
   "metadata": {},
   "source": [
    "## Naive constraints"
   ]
  },
  {
   "cell_type": "code",
   "execution_count": 81,
   "id": "c7838694-8748-4312-b339-25d896c9ff8e",
   "metadata": {},
   "outputs": [
    {
     "name": "stdout",
     "output_type": "stream",
     "text": [
      "[-0.21833318 -0.13494041  0.33457364 -0.0219944  -0.06568421  0.0933017\n",
      "  0.12387428  0.41159628 -0.16318855  0.18237886 -0.15260114  0.16371246\n",
      " -0.14433031  0.14444571 -0.10422615  0.33130112 -0.0353757   0.54763847\n",
      "  0.05755657  0.03482813  0.23146494 -0.21111056 -0.10460665 -0.14030495\n",
      "  0.06818455 -0.46194237  0.09797248 -0.11513231  0.07446358 -0.30913603\n",
      " -0.04044152  0.17001528 -0.10351107 -1.32595026  0.24751768  0.13963089\n",
      " -0.36105777 -0.35202693  0.2192195  -0.06159957  0.02639915 -0.29844797\n",
      "  0.05136812 -0.13831427 -0.10647408  0.02042834]\n",
      "interval after projection was interval([2555.0649269658534, 14444.93505999159])\n",
      "10 indices changed sign during projection: [3, 11, 14, 16, 17, 22, 30, 32, 43, 45]\n",
      "weights that flipped were originally [ 0.06599899 -0.18118171  0.00517473  0.10036641 -0.08252551  0.06462264\n",
      "  0.01229877  0.06791516  0.0874033   0.02029374]\n"
     ]
    }
   ],
   "source": [
    "interval_combinations = [[ivl[0][0] for ivl in penultimate_interval], [ivl[0][1] for ivl in penultimate_interval]]\n",
    "signs_proj = [\"+\" if weight > 0 else \"-\" for weight in coc_weights]\n",
    "constraint_vectors = [np.hstack([elem, 1]) for elem in interval_combinations]\n",
    "constraints = []\n",
    "for constraint_vector in constraint_vectors:\n",
    "    constraints.append(constraint_vector @ x >= goal_interval[0][0])\n",
    "    constraints.append(constraint_vector @ x <= goal_interval[0][1])\n",
    "\n",
    "    obj = cp.Minimize(cp.norm(x - coc_weights))\n",
    "prob = cp.Problem(obj, constraints)\n",
    "prob.solve()  # Returns the optimal value.\n",
    "proj = x.value\n",
    "signs_proj = [\"+\" if weight > 0 else \"-\" for weight in proj]\n",
    "print(proj)\n",
    "\n",
    "proj_out = 0\n",
    "for i, weight in enumerate(proj[:-1]):\n",
    "    proj_out += penultimate_interval[i] * weight\n",
    "proj_out += proj[-1]\n",
    "print(f\"interval after projection was {proj_out}\")\n",
    "# NOTE: symmetric miss of target interval, interestingly\n",
    "\n",
    "sign_change_indices = []\n",
    "for i in range(len(signs_proj)):\n",
    "    if signs_proj[i] != signs_orig[i]:\n",
    "        sign_change_indices.append(i)\n",
    "print(f\"{len(sign_change_indices)} indices changed sign during projection: {sign_change_indices}\")\n",
    "\n",
    "print(f\"weights that flipped were originally {coc_weights[sign_change_indices]}\")"
   ]
  },
  {
   "cell_type": "code",
   "execution_count": 39,
   "id": "ef4a5494-3fd0-406d-822e-0d8e811425a2",
   "metadata": {},
   "outputs": [
    {
     "data": {
      "text/plain": [
       "array([-0.21833318, -0.02956112,  0.31523378,  0.03737823,  0.01398063,\n",
       "        0.11277691,  0.12387428,  0.24336192, -0.16318855,  0.18339542,\n",
       "        0.09389024,  0.14471314, -0.14433031,  0.22210054, -0.03040907,\n",
       "        0.33130112,  0.05196832,  0.35294831,  0.05755657,  0.15192373,\n",
       "        0.23146494, -0.17210123,  0.00957894, -0.0531147 ,  0.06818455,\n",
       "       -0.46194237,  0.18486102, -0.11513231,  0.12285404, -0.05030359,\n",
       "       -0.00485555,  0.17001528,  0.01215689, -1.32595026,  0.24751768,\n",
       "        0.09534575, -0.03027102, -0.2097965 ,  0.05510437, -0.06159957,\n",
       "        0.02639915, -0.29844797,  0.14397101,  0.01398604,  0.20246552,\n",
       "        0.02033025])"
      ]
     },
     "execution_count": 39,
     "metadata": {},
     "output_type": "execute_result"
    }
   ],
   "source": [
    "obj = cp.Minimize(cp.norm(x - coc_weights))\n",
    "prob = cp.Problem(obj, constraints)\n",
    "prob.solve()  # Returns the optimal value.\n",
    "proj = x.value\n",
    "proj"
   ]
  },
  {
   "cell_type": "code",
   "execution_count": 40,
   "id": "743a6d22-a581-4b51-a5ec-53062fd28ae8",
   "metadata": {},
   "outputs": [
    {
     "data": {
      "text/plain": [
       "interval([4516.41503769356, 12483.584950029457])"
      ]
     },
     "execution_count": 40,
     "metadata": {},
     "output_type": "execute_result"
    }
   ],
   "source": [
    "proj_out = 0\n",
    "for i, weight in enumerate(proj[:-1]):\n",
    "    proj_out += penultimate_interval[i] * weight\n",
    "proj_out += proj[-1]\n",
    "proj_out"
   ]
  },
  {
   "cell_type": "code",
   "execution_count": 136,
   "id": "5c5ca14a-c767-40ee-a8bf-f638aa49c6c7",
   "metadata": {},
   "outputs": [
    {
     "data": {
      "text/plain": [
       "[<tf.Variable 'dense_83/kernel:0' shape=(45, 9) dtype=float32, numpy=\n",
       " array([[ 0.00422892, -0.15710346,  0.23971225, -0.13131413,  0.35837886,\n",
       "         -0.14717586,  0.10678783, -0.2663291 ,  0.24668585],\n",
       "        [-0.11593584, -0.37023816,  0.03146407, -0.10833623, -0.12017773,\n",
       "          0.07737403, -0.3632916 , -0.31420395,  0.22324516],\n",
       "        [ 0.06871384,  0.19593057,  0.25877306, -0.20269291, -0.01824424,\n",
       "         -0.33642057,  0.30706915,  0.0481679 ,  0.16935904],\n",
       "        [ 0.02855018, -0.08853767,  0.25514653, -0.21292835,  0.2523117 ,\n",
       "         -0.02722644,  0.31569824, -0.272637  ,  0.09999812],\n",
       "        [ 0.19627279, -0.09319795, -0.13616027, -0.01536147,  0.11151192,\n",
       "         -0.08303221,  0.0830605 ,  0.2948048 ,  0.2861638 ],\n",
       "        [-0.20854576, -0.29841587, -0.0759877 ,  0.10527194,  0.25385317,\n",
       "         -0.16472074,  0.19027181,  0.27187297, -0.07764949],\n",
       "        [ 0.31672275,  0.0388626 ,  0.08670305, -0.11716978,  0.06842747,\n",
       "         -0.1034797 ,  0.02696845,  0.2747744 ,  0.22926167],\n",
       "        [ 0.23173939, -0.05282857, -0.14780347, -0.3553143 , -0.30888435,\n",
       "          0.21548617, -0.05189874,  0.07967862,  0.17948745],\n",
       "        [-0.2813955 ,  0.09743679, -0.12949538, -0.15135169,  0.13497853,\n",
       "          0.2653939 , -0.16148272, -0.22133404,  0.13291572],\n",
       "        [-0.2944842 , -0.1290956 ,  0.2558933 , -0.27592266, -0.27306348,\n",
       "         -0.02543137,  0.06879845,  0.2536165 ,  0.18964662],\n",
       "        [ 0.28526407,  0.30660546,  0.3811974 , -0.31300405,  0.07174373,\n",
       "          0.07583597,  0.12307688,  0.003656  ,  0.09240567],\n",
       "        [-0.09687134, -0.28228614, -0.3373348 ,  0.06609003, -0.27552506,\n",
       "          0.06072079, -0.05947798,  0.08986913, -0.25189114],\n",
       "        [ 0.25095204,  0.19120856,  0.16686861,  0.2985689 , -0.00984236,\n",
       "          0.02182067,  0.03372847, -0.12264695, -0.35056633],\n",
       "        [-0.02792726, -0.02218373, -0.09380348, -0.10363723,  0.12307525,\n",
       "          0.12982191,  0.22329147,  0.3067777 , -0.27659774],\n",
       "        [ 0.03456093,  0.22707932,  0.1921774 , -0.3084603 ,  0.16048977,\n",
       "         -0.2614768 , -0.05853937, -0.01843336,  0.14710997],\n",
       "        [-0.30489528,  0.27726862, -0.22416449, -0.07639787, -0.18060896,\n",
       "         -0.17811328, -0.05781921, -0.00691153, -0.04277581],\n",
       "        [ 0.02602259, -0.05651666,  0.3270845 ,  0.25873277,  0.08558769,\n",
       "         -0.1851433 ,  0.14604922, -0.232253  , -0.13915274],\n",
       "        [-0.14267492,  0.12174595,  0.247223  ,  0.13047642, -0.0698578 ,\n",
       "          0.11393702, -0.0157207 , -0.06618866, -0.16050144],\n",
       "        [ 0.13450177,  0.09239162,  0.10865812,  0.30214196, -0.03514287,\n",
       "         -0.13997237,  0.22012882, -0.17991792, -0.33582568],\n",
       "        [ 0.23705636,  0.13612726,  0.04019482,  0.39707845, -0.20000991,\n",
       "          0.03148107, -0.04186476, -0.25825188,  0.23692578],\n",
       "        [-0.01855839,  0.22966696,  0.30893937, -0.30646348, -0.07308792,\n",
       "          0.28400597, -0.24737762, -0.01859913, -0.27559853],\n",
       "        [ 0.18124488, -0.03643793, -0.31312868, -0.20552878,  0.13255627,\n",
       "         -0.04994783, -0.12808447, -0.1213427 , -0.01452857],\n",
       "        [-0.23089132,  0.00450481, -0.19182599,  0.01558448,  0.08890113,\n",
       "         -0.0411299 ,  0.17594828, -0.0084617 ,  0.08602623],\n",
       "        [ 0.14980672, -0.24930705, -0.07873248, -0.3611857 , -0.21321356,\n",
       "          0.23267795, -0.02669205, -0.32263365, -0.30303037],\n",
       "        [-0.11104022, -0.09278788, -0.36340347, -0.09821274,  0.16027622,\n",
       "         -0.377573  , -0.15660349, -0.0317102 , -0.10879694],\n",
       "        [-0.17448567,  0.3281346 ,  0.0677422 ,  0.3035342 ,  0.02914659,\n",
       "          0.2566105 , -0.09088691, -0.27494812, -0.10684191],\n",
       "        [ 0.15480128,  0.13654704,  0.29456127,  0.34440038,  0.15214133,\n",
       "         -0.3083442 ,  0.21486683, -0.24649617, -0.36790705],\n",
       "        [-0.11127847,  0.32892537, -0.15281828,  0.3012862 , -0.03621136,\n",
       "          0.15212579,  0.00778016,  0.21151578, -0.207645  ],\n",
       "        [ 0.09056932, -0.5130375 , -0.00319645,  0.25393018,  0.20079158,\n",
       "         -0.31836292,  0.27831954,  0.04916366, -0.09334455],\n",
       "        [ 0.15034115,  0.06865397,  0.1696892 , -0.10367508, -0.32333028,\n",
       "         -0.2023172 , -0.12839843, -0.04598289, -0.06680924],\n",
       "        [ 0.2185874 , -0.10972752,  0.05345421,  0.28043967,  0.05726201,\n",
       "          0.09244192,  0.1020215 , -0.25153217, -0.29318136],\n",
       "        [ 0.17298032, -0.14375804, -0.19593793, -0.03004755,  0.19176267,\n",
       "         -0.12639256,  0.25847992,  0.00869508,  0.2753968 ],\n",
       "        [-0.13366559, -0.06500754,  0.26545715, -0.28915027,  0.18990993,\n",
       "         -0.2731015 ,  0.3032683 ,  0.19389126, -0.19691186],\n",
       "        [ 0.14720938,  0.256677  ,  0.17539608,  0.06007056,  0.1378379 ,\n",
       "          0.29809907, -0.07613354, -0.07780433, -0.23891628],\n",
       "        [ 0.14548936, -0.01855423, -0.01694836,  0.18634166,  0.40957513,\n",
       "          0.15517639, -0.17787454,  0.07987063, -0.03314055],\n",
       "        [ 0.20212358,  0.02275337,  0.01859382,  0.0456547 ,  0.27219993,\n",
       "          0.14580128,  0.31073377, -0.22662057,  0.15634565],\n",
       "        [ 0.03147896, -0.08954205, -0.2686662 ,  0.20227006, -0.13953765,\n",
       "          0.03909396,  0.02241889, -0.27488184, -0.09910865],\n",
       "        [-0.01509488,  0.28621873, -0.10787394,  0.03625211,  0.34151155,\n",
       "          0.28061074, -0.05037075, -0.3191083 , -0.11872678],\n",
       "        [-0.28685004,  0.2575868 , -0.44329605,  0.15311028,  0.09491252,\n",
       "          0.21317048,  0.12289958, -0.06075396,  0.28922617],\n",
       "        [ 0.2373412 ,  0.03972462,  0.29246476, -0.04512582, -0.01435657,\n",
       "         -0.33202213, -0.01524396, -0.09236407, -0.0371085 ],\n",
       "        [-0.13669777,  0.11979261,  0.27902082, -0.02235445,  0.19142738,\n",
       "          0.21861294,  0.2165586 ,  0.26351646,  0.0229083 ],\n",
       "        [ 0.09800512,  0.18759458,  0.15139082, -0.24021336,  0.22233947,\n",
       "         -0.00167912, -0.34695682,  0.27420396, -0.17274074],\n",
       "        [ 0.32037526, -0.06650934,  0.01154982, -0.05037057, -0.28980643,\n",
       "          0.270712  ,  0.00999924,  0.05334545, -0.3344463 ],\n",
       "        [ 0.07558377,  0.07938927, -0.03100354,  0.06840591,  0.3776281 ,\n",
       "          0.16427843, -0.28120074,  0.06607316, -0.06369378],\n",
       "        [-0.22214738,  0.31961992, -0.1288897 ,  0.00561182, -0.2713694 ,\n",
       "          0.31393337, -0.2101779 ,  0.2695494 ,  0.27353224]],\n",
       "       dtype=float32)>,\n",
       " <tf.Variable 'dense_83/bias:0' shape=(9,) dtype=float32, numpy=\n",
       " array([ 0.00471662, -0.02906514, -0.00935943,  0.03542114,  0.03023321,\n",
       "        -0.02425693, -0.02401792, -0.01005135, -0.0212905 ], dtype=float32)>]"
      ]
     },
     "execution_count": 136,
     "metadata": {},
     "output_type": "execute_result"
    }
   ],
   "source": []
  }
 ],
 "metadata": {
  "kernelspec": {
   "display_name": "Python 3 (ipykernel)",
   "language": "python",
   "name": "python3"
  },
  "language_info": {
   "codemirror_mode": {
    "name": "ipython",
    "version": 3
   },
   "file_extension": ".py",
   "mimetype": "text/x-python",
   "name": "python",
   "nbconvert_exporter": "python",
   "pygments_lexer": "ipython3",
   "version": "3.10.9"
  }
 },
 "nbformat": 4,
 "nbformat_minor": 5
}
